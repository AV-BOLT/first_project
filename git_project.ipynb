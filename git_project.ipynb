{
 "cells": [
  {
   "cell_type": "markdown",
   "metadata": {
    "toc": true
   },
   "source": [
    "<h1>Содержание<span class=\"tocSkip\"></span></h1>\n",
    "<div class=\"toc\"><ul class=\"toc-item\"><li><span><a href=\"#Подготовка-данных\" data-toc-modified-id=\"Подготовка-данных-1\"><span class=\"toc-item-num\">1&nbsp;&nbsp;</span>Подготовка данных</a></span></li><li><span><a href=\"#Исследование-задачи\" data-toc-modified-id=\"Исследование-задачи-2\"><span class=\"toc-item-num\">2&nbsp;&nbsp;</span>Исследование задачи</a></span><ul class=\"toc-item\"><li><span><a href=\"#Разделим-выборки\" data-toc-modified-id=\"Разделим-выборки-2.1\"><span class=\"toc-item-num\">2.1&nbsp;&nbsp;</span>Разделим выборки</a></span></li><li><span><a href=\"#Масштабируем-данные\" data-toc-modified-id=\"Масштабируем-данные-2.2\"><span class=\"toc-item-num\">2.2&nbsp;&nbsp;</span>Масштабируем данные</a></span></li><li><span><a href=\"#Перекодируем-категориальные-значения-в-числовой-формат\" data-toc-modified-id=\"Перекодируем-категориальные-значения-в-числовой-формат-2.3\"><span class=\"toc-item-num\">2.3&nbsp;&nbsp;</span>Перекодируем категориальные значения в числовой формат</a></span><ul class=\"toc-item\"><li><span><a href=\"#LogisticRegression-(row-data)\" data-toc-modified-id=\"LogisticRegression-(row-data)-2.3.1\"><span class=\"toc-item-num\">2.3.1&nbsp;&nbsp;</span>LogisticRegression (row data)</a></span></li><li><span><a href=\"#DecisionTree-(row-data)\" data-toc-modified-id=\"DecisionTree-(row-data)-2.3.2\"><span class=\"toc-item-num\">2.3.2&nbsp;&nbsp;</span>DecisionTree (row data)</a></span></li><li><span><a href=\"#RandomForest-(row-data)\" data-toc-modified-id=\"RandomForest-(row-data)-2.3.3\"><span class=\"toc-item-num\">2.3.3&nbsp;&nbsp;</span>RandomForest (row data)</a></span></li></ul></li></ul></li><li><span><a href=\"#Борьба-с-дисбалансом\" data-toc-modified-id=\"Борьба-с-дисбалансом-3\"><span class=\"toc-item-num\">3&nbsp;&nbsp;</span>Борьба с дисбалансом</a></span><ul class=\"toc-item\"><li><span><a href=\"#class_weight='balanced'\" data-toc-modified-id=\"class_weight='balanced'-3.1\"><span class=\"toc-item-num\">3.1&nbsp;&nbsp;</span>class_weight='balanced'</a></span><ul class=\"toc-item\"><li><ul class=\"toc-item\"><li><span><a href=\"#LogisticRegression-(class_weight='balanced')\" data-toc-modified-id=\"LogisticRegression-(class_weight='balanced')-3.1.0.1\"><span class=\"toc-item-num\">3.1.0.1&nbsp;&nbsp;</span>LogisticRegression (class_weight='balanced')</a></span></li><li><span><a href=\"#Decision-Tree-Classifier-(class_weight='balanced')\" data-toc-modified-id=\"Decision-Tree-Classifier-(class_weight='balanced')-3.1.0.2\"><span class=\"toc-item-num\">3.1.0.2&nbsp;&nbsp;</span>Decision Tree Classifier (class_weight='balanced')</a></span></li><li><span><a href=\"#Random-Forest--(balanced)\" data-toc-modified-id=\"Random-Forest--(balanced)-3.1.0.3\"><span class=\"toc-item-num\">3.1.0.3&nbsp;&nbsp;</span>Random Forest  (balanced)</a></span></li></ul></li></ul></li><li><span><a href=\"#Threshold-и-class_weight-=-'balanced'\" data-toc-modified-id=\"Threshold-и-class_weight-=-'balanced'-3.2\"><span class=\"toc-item-num\">3.2&nbsp;&nbsp;</span>Threshold и class_weight = 'balanced'</a></span><ul class=\"toc-item\"><li><span><a href=\"#LogisticRegression(threshold+class_weight-=-'balanced')\" data-toc-modified-id=\"LogisticRegression(threshold+class_weight-=-'balanced')-3.2.1\"><span class=\"toc-item-num\">3.2.1&nbsp;&nbsp;</span>LogisticRegression(threshold+class_weight = 'balanced')</a></span></li><li><span><a href=\"#DecisionTreeClassifier-(threshold+class_weight-=-'balanced')\" data-toc-modified-id=\"DecisionTreeClassifier-(threshold+class_weight-=-'balanced')-3.2.2\"><span class=\"toc-item-num\">3.2.2&nbsp;&nbsp;</span>DecisionTreeClassifier (threshold+class_weight = 'balanced')</a></span></li><li><span><a href=\"#Random-Forest--(threshold+class_weight-=-'balanced')\" data-toc-modified-id=\"Random-Forest--(threshold+class_weight-=-'balanced')-3.2.3\"><span class=\"toc-item-num\">3.2.3&nbsp;&nbsp;</span>Random Forest  (threshold+class_weight = 'balanced')</a></span></li></ul></li><li><span><a href=\"#Upsampling\" data-toc-modified-id=\"Upsampling-3.3\"><span class=\"toc-item-num\">3.3&nbsp;&nbsp;</span>Upsampling</a></span><ul class=\"toc-item\"><li><span><a href=\"#LogisticRegression(Upsampling)\" data-toc-modified-id=\"LogisticRegression(Upsampling)-3.3.1\"><span class=\"toc-item-num\">3.3.1&nbsp;&nbsp;</span>LogisticRegression(Upsampling)</a></span></li><li><span><a href=\"#DecisionTree-(upsampling)\" data-toc-modified-id=\"DecisionTree-(upsampling)-3.3.2\"><span class=\"toc-item-num\">3.3.2&nbsp;&nbsp;</span>DecisionTree (upsampling)</a></span></li><li><span><a href=\"#RandomForest-(upsampling)\" data-toc-modified-id=\"RandomForest-(upsampling)-3.3.3\"><span class=\"toc-item-num\">3.3.3&nbsp;&nbsp;</span>RandomForest (upsampling)</a></span></li></ul></li></ul></li><li><span><a href=\"#Выбор-модели\" data-toc-modified-id=\"Выбор-модели-4\"><span class=\"toc-item-num\">4&nbsp;&nbsp;</span>Выбор модели</a></span></li><li><span><a href=\"#Тестирование-модели\" data-toc-modified-id=\"Тестирование-модели-5\"><span class=\"toc-item-num\">5&nbsp;&nbsp;</span>Тестирование модели</a></span></li></ul></div>"
   ]
  },
  {
   "cell_type": "markdown",
   "metadata": {},
   "source": [
    "# Отток клиентов"
   ]
  },
  {
   "cell_type": "markdown",
   "metadata": {},
   "source": [
    "Из «Бета-Банка» стали уходить клиенты. Каждый месяц. Немного, но заметно. Банковские маркетологи посчитали: сохранять текущих клиентов дешевле, чем привлекать новых.\n",
    "\n",
    "Нужно спрогнозировать, уйдёт клиент из банка в ближайшее время или нет. Вам предоставлены исторические данные о поведении клиентов и расторжении договоров с банком. \n",
    "\n",
    "Постройте модель с предельно большим значением *F1*-меры. Чтобы сдать проект успешно, нужно довести метрику до 0.59. Проверьте *F1*-меру на тестовой выборке самостоятельно.\n",
    "\n",
    "Дополнительно измеряйте *AUC-ROC*, сравнивайте её значение с *F1*-мерой.\n",
    "\n",
    "Источник данных: [https://www.kaggle.com/barelydedicated/bank-customer-churn-modeling](https://www.kaggle.com/barelydedicated/bank-customer-churn-modeling)"
   ]
  },
  {
   "cell_type": "markdown",
   "metadata": {},
   "source": [
    "## Подготовка данных"
   ]
  },
  {
   "cell_type": "code",
   "execution_count": 1,
   "metadata": {},
   "outputs": [],
   "source": [
    "import pandas as pd\n",
    "import matplotlib.pylab as plt\n",
    "import numpy as np\n",
    "from sklearn.model_selection import train_test_split\n",
    "from sklearn.utils import shuffle\n",
    "\n",
    "# Модели\n",
    "from sklearn.tree import DecisionTreeClassifier \n",
    "from sklearn.linear_model import LogisticRegression\n",
    "from sklearn.ensemble import RandomForestClassifier\n",
    "\n",
    "# Метрики\n",
    "from sklearn.metrics import r2_score\n",
    "from sklearn.metrics import precision_score, recall_score, f1_score\n",
    "from sklearn.metrics import roc_curve \n",
    "from sklearn.metrics import roc_auc_score\n",
    "\n",
    "# Структуры данных\n",
    "from sklearn.preprocessing import OrdinalEncoder\n",
    "from sklearn.preprocessing import StandardScaler\n",
    "from sklearn. preprocessing import OneHotEncoder"
   ]
  },
  {
   "cell_type": "code",
   "execution_count": 2,
   "metadata": {},
   "outputs": [],
   "source": [
    "data = pd.read_csv ('/datasets/Churn.csv')"
   ]
  },
  {
   "cell_type": "code",
   "execution_count": 3,
   "metadata": {
    "scrolled": true
   },
   "outputs": [
    {
     "name": "stdout",
     "output_type": "stream",
     "text": [
      "<class 'pandas.core.frame.DataFrame'>\n",
      "RangeIndex: 10000 entries, 0 to 9999\n",
      "Data columns (total 14 columns):\n",
      " #   Column           Non-Null Count  Dtype  \n",
      "---  ------           --------------  -----  \n",
      " 0   RowNumber        10000 non-null  int64  \n",
      " 1   CustomerId       10000 non-null  int64  \n",
      " 2   Surname          10000 non-null  object \n",
      " 3   CreditScore      10000 non-null  int64  \n",
      " 4   Geography        10000 non-null  object \n",
      " 5   Gender           10000 non-null  object \n",
      " 6   Age              10000 non-null  int64  \n",
      " 7   Tenure           9091 non-null   float64\n",
      " 8   Balance          10000 non-null  float64\n",
      " 9   NumOfProducts    10000 non-null  int64  \n",
      " 10  HasCrCard        10000 non-null  int64  \n",
      " 11  IsActiveMember   10000 non-null  int64  \n",
      " 12  EstimatedSalary  10000 non-null  float64\n",
      " 13  Exited           10000 non-null  int64  \n",
      "dtypes: float64(3), int64(8), object(3)\n",
      "memory usage: 1.1+ MB\n"
     ]
    }
   ],
   "source": [
    "# изучим данные\n",
    "data.info()"
   ]
  },
  {
   "cell_type": "code",
   "execution_count": 4,
   "metadata": {},
   "outputs": [
    {
     "data": {
      "text/html": [
       "<div>\n",
       "<style scoped>\n",
       "    .dataframe tbody tr th:only-of-type {\n",
       "        vertical-align: middle;\n",
       "    }\n",
       "\n",
       "    .dataframe tbody tr th {\n",
       "        vertical-align: top;\n",
       "    }\n",
       "\n",
       "    .dataframe thead th {\n",
       "        text-align: right;\n",
       "    }\n",
       "</style>\n",
       "<table border=\"1\" class=\"dataframe\">\n",
       "  <thead>\n",
       "    <tr style=\"text-align: right;\">\n",
       "      <th></th>\n",
       "      <th>0</th>\n",
       "    </tr>\n",
       "  </thead>\n",
       "  <tbody>\n",
       "    <tr>\n",
       "      <th>Tenure</th>\n",
       "      <td>9.09</td>\n",
       "    </tr>\n",
       "  </tbody>\n",
       "</table>\n",
       "</div>"
      ],
      "text/plain": [
       "           0\n",
       "Tenure  9.09"
      ]
     },
     "execution_count": 4,
     "metadata": {},
     "output_type": "execute_result"
    }
   ],
   "source": [
    "#Посмотрим на данные с пропущенными значениями\n",
    "(data[['Tenure']].isna().mean()*100).to_frame()"
   ]
  },
  {
   "cell_type": "markdown",
   "metadata": {},
   "source": [
    "Пропуски составляют 9% от всего объема данных.\n",
    "Учитывая, что срок жизни клиента может быть одним из ключевых признаков,  попробуем найти оптимальный способ заполнения"
   ]
  },
  {
   "cell_type": "code",
   "execution_count": 5,
   "metadata": {
    "scrolled": true
   },
   "outputs": [
    {
     "data": {
      "text/html": [
       "<div>\n",
       "<style scoped>\n",
       "    .dataframe tbody tr th:only-of-type {\n",
       "        vertical-align: middle;\n",
       "    }\n",
       "\n",
       "    .dataframe tbody tr th {\n",
       "        vertical-align: top;\n",
       "    }\n",
       "\n",
       "    .dataframe thead th {\n",
       "        text-align: right;\n",
       "    }\n",
       "</style>\n",
       "<table border=\"1\" class=\"dataframe\">\n",
       "  <thead>\n",
       "    <tr style=\"text-align: right;\">\n",
       "      <th></th>\n",
       "      <th>RowNumber</th>\n",
       "      <th>CustomerId</th>\n",
       "      <th>Surname</th>\n",
       "      <th>CreditScore</th>\n",
       "      <th>Geography</th>\n",
       "      <th>Gender</th>\n",
       "      <th>Age</th>\n",
       "      <th>Tenure</th>\n",
       "      <th>Balance</th>\n",
       "      <th>NumOfProducts</th>\n",
       "      <th>HasCrCard</th>\n",
       "      <th>IsActiveMember</th>\n",
       "      <th>EstimatedSalary</th>\n",
       "      <th>Exited</th>\n",
       "    </tr>\n",
       "  </thead>\n",
       "  <tbody>\n",
       "    <tr>\n",
       "      <th>30</th>\n",
       "      <td>31</td>\n",
       "      <td>15589475</td>\n",
       "      <td>Azikiwe</td>\n",
       "      <td>591</td>\n",
       "      <td>Spain</td>\n",
       "      <td>Female</td>\n",
       "      <td>39</td>\n",
       "      <td>NaN</td>\n",
       "      <td>0.00</td>\n",
       "      <td>3</td>\n",
       "      <td>1</td>\n",
       "      <td>0</td>\n",
       "      <td>140469.38</td>\n",
       "      <td>1</td>\n",
       "    </tr>\n",
       "    <tr>\n",
       "      <th>48</th>\n",
       "      <td>49</td>\n",
       "      <td>15766205</td>\n",
       "      <td>Yin</td>\n",
       "      <td>550</td>\n",
       "      <td>Germany</td>\n",
       "      <td>Male</td>\n",
       "      <td>38</td>\n",
       "      <td>NaN</td>\n",
       "      <td>103391.38</td>\n",
       "      <td>1</td>\n",
       "      <td>0</td>\n",
       "      <td>1</td>\n",
       "      <td>90878.13</td>\n",
       "      <td>0</td>\n",
       "    </tr>\n",
       "    <tr>\n",
       "      <th>51</th>\n",
       "      <td>52</td>\n",
       "      <td>15768193</td>\n",
       "      <td>Trevisani</td>\n",
       "      <td>585</td>\n",
       "      <td>Germany</td>\n",
       "      <td>Male</td>\n",
       "      <td>36</td>\n",
       "      <td>NaN</td>\n",
       "      <td>146050.97</td>\n",
       "      <td>2</td>\n",
       "      <td>0</td>\n",
       "      <td>0</td>\n",
       "      <td>86424.57</td>\n",
       "      <td>0</td>\n",
       "    </tr>\n",
       "    <tr>\n",
       "      <th>53</th>\n",
       "      <td>54</td>\n",
       "      <td>15702298</td>\n",
       "      <td>Parkhill</td>\n",
       "      <td>655</td>\n",
       "      <td>Germany</td>\n",
       "      <td>Male</td>\n",
       "      <td>41</td>\n",
       "      <td>NaN</td>\n",
       "      <td>125561.97</td>\n",
       "      <td>1</td>\n",
       "      <td>0</td>\n",
       "      <td>0</td>\n",
       "      <td>164040.94</td>\n",
       "      <td>1</td>\n",
       "    </tr>\n",
       "    <tr>\n",
       "      <th>60</th>\n",
       "      <td>61</td>\n",
       "      <td>15651280</td>\n",
       "      <td>Hunter</td>\n",
       "      <td>742</td>\n",
       "      <td>Germany</td>\n",
       "      <td>Male</td>\n",
       "      <td>35</td>\n",
       "      <td>NaN</td>\n",
       "      <td>136857.00</td>\n",
       "      <td>1</td>\n",
       "      <td>0</td>\n",
       "      <td>0</td>\n",
       "      <td>84509.57</td>\n",
       "      <td>0</td>\n",
       "    </tr>\n",
       "    <tr>\n",
       "      <th>82</th>\n",
       "      <td>83</td>\n",
       "      <td>15641732</td>\n",
       "      <td>Mills</td>\n",
       "      <td>543</td>\n",
       "      <td>France</td>\n",
       "      <td>Female</td>\n",
       "      <td>36</td>\n",
       "      <td>NaN</td>\n",
       "      <td>0.00</td>\n",
       "      <td>2</td>\n",
       "      <td>0</td>\n",
       "      <td>0</td>\n",
       "      <td>26019.59</td>\n",
       "      <td>0</td>\n",
       "    </tr>\n",
       "    <tr>\n",
       "      <th>85</th>\n",
       "      <td>86</td>\n",
       "      <td>15805254</td>\n",
       "      <td>Ndukaku</td>\n",
       "      <td>652</td>\n",
       "      <td>Spain</td>\n",
       "      <td>Female</td>\n",
       "      <td>75</td>\n",
       "      <td>NaN</td>\n",
       "      <td>0.00</td>\n",
       "      <td>2</td>\n",
       "      <td>1</td>\n",
       "      <td>1</td>\n",
       "      <td>114675.75</td>\n",
       "      <td>0</td>\n",
       "    </tr>\n",
       "    <tr>\n",
       "      <th>94</th>\n",
       "      <td>95</td>\n",
       "      <td>15676966</td>\n",
       "      <td>Capon</td>\n",
       "      <td>730</td>\n",
       "      <td>Spain</td>\n",
       "      <td>Male</td>\n",
       "      <td>42</td>\n",
       "      <td>NaN</td>\n",
       "      <td>0.00</td>\n",
       "      <td>2</td>\n",
       "      <td>0</td>\n",
       "      <td>1</td>\n",
       "      <td>85982.47</td>\n",
       "      <td>0</td>\n",
       "    </tr>\n",
       "    <tr>\n",
       "      <th>99</th>\n",
       "      <td>100</td>\n",
       "      <td>15633059</td>\n",
       "      <td>Fanucci</td>\n",
       "      <td>413</td>\n",
       "      <td>France</td>\n",
       "      <td>Male</td>\n",
       "      <td>34</td>\n",
       "      <td>NaN</td>\n",
       "      <td>0.00</td>\n",
       "      <td>2</td>\n",
       "      <td>0</td>\n",
       "      <td>0</td>\n",
       "      <td>6534.18</td>\n",
       "      <td>0</td>\n",
       "    </tr>\n",
       "    <tr>\n",
       "      <th>111</th>\n",
       "      <td>112</td>\n",
       "      <td>15665790</td>\n",
       "      <td>Rowntree</td>\n",
       "      <td>538</td>\n",
       "      <td>Germany</td>\n",
       "      <td>Male</td>\n",
       "      <td>39</td>\n",
       "      <td>NaN</td>\n",
       "      <td>108055.10</td>\n",
       "      <td>2</td>\n",
       "      <td>1</td>\n",
       "      <td>0</td>\n",
       "      <td>27231.26</td>\n",
       "      <td>0</td>\n",
       "    </tr>\n",
       "  </tbody>\n",
       "</table>\n",
       "</div>"
      ],
      "text/plain": [
       "     RowNumber  CustomerId    Surname  CreditScore Geography  Gender  Age  \\\n",
       "30          31    15589475    Azikiwe          591     Spain  Female   39   \n",
       "48          49    15766205        Yin          550   Germany    Male   38   \n",
       "51          52    15768193  Trevisani          585   Germany    Male   36   \n",
       "53          54    15702298   Parkhill          655   Germany    Male   41   \n",
       "60          61    15651280     Hunter          742   Germany    Male   35   \n",
       "82          83    15641732      Mills          543    France  Female   36   \n",
       "85          86    15805254    Ndukaku          652     Spain  Female   75   \n",
       "94          95    15676966      Capon          730     Spain    Male   42   \n",
       "99         100    15633059    Fanucci          413    France    Male   34   \n",
       "111        112    15665790   Rowntree          538   Germany    Male   39   \n",
       "\n",
       "     Tenure    Balance  NumOfProducts  HasCrCard  IsActiveMember  \\\n",
       "30      NaN       0.00              3          1               0   \n",
       "48      NaN  103391.38              1          0               1   \n",
       "51      NaN  146050.97              2          0               0   \n",
       "53      NaN  125561.97              1          0               0   \n",
       "60      NaN  136857.00              1          0               0   \n",
       "82      NaN       0.00              2          0               0   \n",
       "85      NaN       0.00              2          1               1   \n",
       "94      NaN       0.00              2          0               1   \n",
       "99      NaN       0.00              2          0               0   \n",
       "111     NaN  108055.10              2          1               0   \n",
       "\n",
       "     EstimatedSalary  Exited  \n",
       "30         140469.38       1  \n",
       "48          90878.13       0  \n",
       "51          86424.57       0  \n",
       "53         164040.94       1  \n",
       "60          84509.57       0  \n",
       "82          26019.59       0  \n",
       "85         114675.75       0  \n",
       "94          85982.47       0  \n",
       "99           6534.18       0  \n",
       "111         27231.26       0  "
      ]
     },
     "execution_count": 5,
     "metadata": {},
     "output_type": "execute_result"
    }
   ],
   "source": [
    "# посмотрим данные с пропусками в признаке Tenure\n",
    "data.loc[data['Tenure'].isna()].head(10)"
   ]
  },
  {
   "cell_type": "code",
   "execution_count": 6,
   "metadata": {},
   "outputs": [
    {
     "data": {
      "text/html": [
       "<div>\n",
       "<style scoped>\n",
       "    .dataframe tbody tr th:only-of-type {\n",
       "        vertical-align: middle;\n",
       "    }\n",
       "\n",
       "    .dataframe tbody tr th {\n",
       "        vertical-align: top;\n",
       "    }\n",
       "\n",
       "    .dataframe thead th {\n",
       "        text-align: right;\n",
       "    }\n",
       "</style>\n",
       "<table border=\"1\" class=\"dataframe\">\n",
       "  <thead>\n",
       "    <tr style=\"text-align: right;\">\n",
       "      <th></th>\n",
       "      <th>Geography</th>\n",
       "    </tr>\n",
       "  </thead>\n",
       "  <tbody>\n",
       "    <tr>\n",
       "      <th>France</th>\n",
       "      <td>51.05</td>\n",
       "    </tr>\n",
       "    <tr>\n",
       "      <th>Spain</th>\n",
       "      <td>25.19</td>\n",
       "    </tr>\n",
       "    <tr>\n",
       "      <th>Germany</th>\n",
       "      <td>23.76</td>\n",
       "    </tr>\n",
       "  </tbody>\n",
       "</table>\n",
       "</div>"
      ],
      "text/plain": [
       "         Geography\n",
       "France       51.05\n",
       "Spain        25.19\n",
       "Germany      23.76"
      ]
     },
     "execution_count": 6,
     "metadata": {},
     "output_type": "execute_result"
    }
   ],
   "source": [
    "# Проверим, какие данные содержатся в признаке Geography, возможно это связано с появлением пропусков\n",
    "round((data.loc[data['Tenure'].isna(), 'Geography'].value_counts(normalize = True)*100), 2).to_frame()"
   ]
  },
  {
   "cell_type": "markdown",
   "metadata": {},
   "source": [
    "Логичной замены предположить не получается, возможно это техническая ошибка, так как:\n",
    "   - пропуски имеются среди  всех категорий географический наименований, имеющихся в данных "
   ]
  },
  {
   "cell_type": "code",
   "execution_count": 7,
   "metadata": {},
   "outputs": [
    {
     "data": {
      "text/html": [
       "<div>\n",
       "<style scoped>\n",
       "    .dataframe tbody tr th:only-of-type {\n",
       "        vertical-align: middle;\n",
       "    }\n",
       "\n",
       "    .dataframe tbody tr th {\n",
       "        vertical-align: top;\n",
       "    }\n",
       "\n",
       "    .dataframe thead th {\n",
       "        text-align: right;\n",
       "    }\n",
       "</style>\n",
       "<table border=\"1\" class=\"dataframe\">\n",
       "  <thead>\n",
       "    <tr style=\"text-align: right;\">\n",
       "      <th></th>\n",
       "      <th>Tenure</th>\n",
       "    </tr>\n",
       "  </thead>\n",
       "  <tbody>\n",
       "    <tr>\n",
       "      <th>count</th>\n",
       "      <td>9091.00</td>\n",
       "    </tr>\n",
       "    <tr>\n",
       "      <th>mean</th>\n",
       "      <td>5.00</td>\n",
       "    </tr>\n",
       "    <tr>\n",
       "      <th>std</th>\n",
       "      <td>2.89</td>\n",
       "    </tr>\n",
       "    <tr>\n",
       "      <th>min</th>\n",
       "      <td>0.00</td>\n",
       "    </tr>\n",
       "    <tr>\n",
       "      <th>25%</th>\n",
       "      <td>2.00</td>\n",
       "    </tr>\n",
       "    <tr>\n",
       "      <th>50%</th>\n",
       "      <td>5.00</td>\n",
       "    </tr>\n",
       "    <tr>\n",
       "      <th>75%</th>\n",
       "      <td>7.00</td>\n",
       "    </tr>\n",
       "    <tr>\n",
       "      <th>max</th>\n",
       "      <td>10.00</td>\n",
       "    </tr>\n",
       "  </tbody>\n",
       "</table>\n",
       "</div>"
      ],
      "text/plain": [
       "        Tenure\n",
       "count  9091.00\n",
       "mean      5.00\n",
       "std       2.89\n",
       "min       0.00\n",
       "25%       2.00\n",
       "50%       5.00\n",
       "75%       7.00\n",
       "max      10.00"
      ]
     },
     "execution_count": 7,
     "metadata": {},
     "output_type": "execute_result"
    }
   ],
   "source": [
    "#Оценим характеристики распределения(mean, std, median)\n",
    "data['Tenure'].describe().to_frame().round(2)"
   ]
  },
  {
   "cell_type": "code",
   "execution_count": 8,
   "metadata": {
    "scrolled": true
   },
   "outputs": [
    {
     "data": {
      "text/html": [
       "<div>\n",
       "<style scoped>\n",
       "    .dataframe tbody tr th:only-of-type {\n",
       "        vertical-align: middle;\n",
       "    }\n",
       "\n",
       "    .dataframe tbody tr th {\n",
       "        vertical-align: top;\n",
       "    }\n",
       "\n",
       "    .dataframe thead th {\n",
       "        text-align: right;\n",
       "    }\n",
       "</style>\n",
       "<table border=\"1\" class=\"dataframe\">\n",
       "  <thead>\n",
       "    <tr style=\"text-align: right;\">\n",
       "      <th></th>\n",
       "      <th>Exited</th>\n",
       "    </tr>\n",
       "  </thead>\n",
       "  <tbody>\n",
       "    <tr>\n",
       "      <th>0</th>\n",
       "      <td>0.79868</td>\n",
       "    </tr>\n",
       "    <tr>\n",
       "      <th>1</th>\n",
       "      <td>0.20132</td>\n",
       "    </tr>\n",
       "  </tbody>\n",
       "</table>\n",
       "</div>"
      ],
      "text/plain": [
       "    Exited\n",
       "0  0.79868\n",
       "1  0.20132"
      ]
     },
     "execution_count": 8,
     "metadata": {},
     "output_type": "execute_result"
    }
   ],
   "source": [
    "#Оценим дисбаланс классов\n",
    "(data.query('Tenure.isna()')['Exited'].value_counts(normalize = True)).to_frame()"
   ]
  },
  {
   "cell_type": "code",
   "execution_count": 9,
   "metadata": {
    "scrolled": false
   },
   "outputs": [
    {
     "data": {
      "image/png": "[encoded data removed]",
      "text/plain": [
       "<Figure size 648x288 with 1 Axes>"
      ]
     },
     "metadata": {
      "needs_background": "light"
     },
     "output_type": "display_data"
    }
   ],
   "source": [
    "#посмотрим детальнее, какие значения включает в себя этот признак\n",
    "(data['Tenure'].value_counts().plot(\n",
    "    kind = 'barh', figsize = (9,4), rot = -15, legend = False, fontsize = 16, \n",
    "    xticks=[i for i in range(len(data.query('Tenure.notna()').loc[data['Tenure']==0,'Tenure']), 1100, 118)])\n",
    ".set_title('Распределение значений в признаке Tenure' + \"\\n\", fontsize = 22, color = 'Black'))\n",
    "plt.show()"
   ]
  },
  {
   "cell_type": "markdown",
   "metadata": {},
   "source": [
    "Видим, что во всех категориях примерно равное число значений, кроме новых пользователей и пользователей со стажем более 10. \n",
    "Если мы заполним все пропуски средним у нас получится пик на значении 5 лет, что может исказить результаты. \n",
    "- Учитывая несбалансированность классов, удалю пропуски у объектов с целевым признаком равным 0. \n",
    "- Пропуски в признаке Tenure дл объектов с целевым признаком == 1 заполню средним значением признака Tenure.\n",
    "Это поможет избежать пика в значениях 726"
   ]
  },
  {
   "cell_type": "code",
   "execution_count": 10,
   "metadata": {},
   "outputs": [
    {
     "data": {
      "text/plain": [
       "9274"
      ]
     },
     "execution_count": 10,
     "metadata": {},
     "output_type": "execute_result"
    }
   ],
   "source": [
    "# ДФ с пропусками только для объектов с целевым признаком == 1. \n",
    "df = data.loc[(data['Tenure'].isna()) & (data['Exited']==1) | (data['Tenure'].notna())]\n",
    "df.shape[0]"
   ]
  },
  {
   "cell_type": "code",
   "execution_count": 11,
   "metadata": {},
   "outputs": [
    {
     "name": "stderr",
     "output_type": "stream",
     "text": [
      "/opt/conda/lib/python3.9/site-packages/pandas/core/indexing.py:1676: SettingWithCopyWarning: \n",
      "A value is trying to be set on a copy of a slice from a DataFrame.\n",
      "Try using .loc[row_indexer,col_indexer] = value instead\n",
      "\n",
      "See the caveats in the documentation: https://pandas.pydata.org/pandas-docs/stable/user_guide/indexing.html#returning-a-view-versus-a-copy\n",
      "  self._setitem_single_column(ilocs[0], value, pi)\n"
     ]
    },
    {
     "data": {
      "text/plain": [
       "RowNumber          0\n",
       "CustomerId         0\n",
       "Surname            0\n",
       "CreditScore        0\n",
       "Geography          0\n",
       "Gender             0\n",
       "Age                0\n",
       "Tenure             0\n",
       "Balance            0\n",
       "NumOfProducts      0\n",
       "HasCrCard          0\n",
       "IsActiveMember     0\n",
       "EstimatedSalary    0\n",
       "Exited             0\n",
       "dtype: int64"
      ]
     },
     "execution_count": 11,
     "metadata": {},
     "output_type": "execute_result"
    }
   ],
   "source": [
    "# Заполняем оставшиеся пропуски средним значением Tenure\n",
    "df.loc[df['Tenure'].isna(), 'Tenure'] = df.loc[df['Tenure'].isna(), 'Tenure'].fillna(\n",
    "    round(df['Tenure'].mean(),2)).copy()\n",
    "# Проверяем\n",
    "df.isna().sum()"
   ]
  },
  {
   "cell_type": "code",
   "execution_count": 12,
   "metadata": {
    "scrolled": true
   },
   "outputs": [
    {
     "data": {
      "image/png": "[encoded data removed]",
      "text/plain": [
       "<Figure size 648x288 with 1 Axes>"
      ]
     },
     "metadata": {
      "needs_background": "light"
     },
     "output_type": "display_data"
    }
   ],
   "source": [
    "# Посмотрим распределение значений в признаке Tenure после заполнения\n",
    "(df['Tenure'].value_counts().plot( \n",
    "    kind = 'barh', figsize = (9,4), rot = -15, legend = False, fontsize = 16, \n",
    "    xticks=[i for i in range(len(df.query('Tenure.notna()').loc[df['Tenure']==0,'Tenure']), 1100, 118)])\n",
    ".set_title('Распределение значений в признаке Tenure' + \"\\n\", fontsize = 22, color = 'Black'))\n",
    "plt.show()"
   ]
  },
  {
   "cell_type": "code",
   "execution_count": 13,
   "metadata": {},
   "outputs": [
    {
     "data": {
      "text/html": [
       "<div>\n",
       "<style scoped>\n",
       "    .dataframe tbody tr th:only-of-type {\n",
       "        vertical-align: middle;\n",
       "    }\n",
       "\n",
       "    .dataframe tbody tr th {\n",
       "        vertical-align: top;\n",
       "    }\n",
       "\n",
       "    .dataframe thead th {\n",
       "        text-align: right;\n",
       "    }\n",
       "</style>\n",
       "<table border=\"1\" class=\"dataframe\">\n",
       "  <thead>\n",
       "    <tr style=\"text-align: right;\">\n",
       "      <th></th>\n",
       "      <th>Tenure</th>\n",
       "    </tr>\n",
       "  </thead>\n",
       "  <tbody>\n",
       "    <tr>\n",
       "      <th>count</th>\n",
       "      <td>9274.00</td>\n",
       "    </tr>\n",
       "    <tr>\n",
       "      <th>mean</th>\n",
       "      <td>5.00</td>\n",
       "    </tr>\n",
       "    <tr>\n",
       "      <th>std</th>\n",
       "      <td>2.87</td>\n",
       "    </tr>\n",
       "    <tr>\n",
       "      <th>min</th>\n",
       "      <td>0.00</td>\n",
       "    </tr>\n",
       "    <tr>\n",
       "      <th>25%</th>\n",
       "      <td>3.00</td>\n",
       "    </tr>\n",
       "    <tr>\n",
       "      <th>50%</th>\n",
       "      <td>5.00</td>\n",
       "    </tr>\n",
       "    <tr>\n",
       "      <th>75%</th>\n",
       "      <td>7.00</td>\n",
       "    </tr>\n",
       "    <tr>\n",
       "      <th>max</th>\n",
       "      <td>10.00</td>\n",
       "    </tr>\n",
       "  </tbody>\n",
       "</table>\n",
       "</div>"
      ],
      "text/plain": [
       "        Tenure\n",
       "count  9274.00\n",
       "mean      5.00\n",
       "std       2.87\n",
       "min       0.00\n",
       "25%       3.00\n",
       "50%       5.00\n",
       "75%       7.00\n",
       "max      10.00"
      ]
     },
     "execution_count": 13,
     "metadata": {},
     "output_type": "execute_result"
    }
   ],
   "source": [
    "#Оценим характеристики распределения(mean, std, median) после заполнения пропусков\n",
    "df['Tenure'].describe().to_frame().round(2)"
   ]
  },
  {
   "cell_type": "markdown",
   "metadata": {},
   "source": [
    "Видим, что заполнение пропусков средним значением не изменило параметры выборки!"
   ]
  },
  {
   "cell_type": "code",
   "execution_count": 14,
   "metadata": {},
   "outputs": [
    {
     "data": {
      "text/plain": [
       "0"
      ]
     },
     "execution_count": 14,
     "metadata": {},
     "output_type": "execute_result"
    }
   ],
   "source": [
    "# проверим явные дубликаты\n",
    "df.duplicated().sum()"
   ]
  },
  {
   "cell_type": "markdown",
   "metadata": {},
   "source": [
    "Вывод:\n",
    "- В исходных данных имелось 909 пропусков признаке Tenure. \n",
    "726 пропусков для объектов, которые принадлежат к многочисленному классу (целевой признак = 0) и 202 соответственно к редкому классу (целевой признак = 1). \n",
    "Пропуски в многочисленном классе удалены, а для положительного класса заменены средним значеним. \n",
    "- Дубликаты в исходных данных отсутсвуют"
   ]
  },
  {
   "cell_type": "markdown",
   "metadata": {},
   "source": [
    "## Исследование задачи"
   ]
  },
  {
   "cell_type": "code",
   "execution_count": 15,
   "metadata": {},
   "outputs": [
    {
     "data": {
      "text/plain": [
       "Index(['RowNumber', 'CustomerId', 'Surname', 'CreditScore', 'Geography',\n",
       "       'Gender', 'Age', 'Tenure', 'Balance', 'NumOfProducts', 'HasCrCard',\n",
       "       'IsActiveMember', 'EstimatedSalary', 'Exited'],\n",
       "      dtype='object')"
      ]
     },
     "execution_count": 15,
     "metadata": {},
     "output_type": "execute_result"
    }
   ],
   "source": [
    "# Проанализируем имеющиеся признаки\n",
    "df.columns"
   ]
  },
  {
   "cell_type": "code",
   "execution_count": 16,
   "metadata": {
    "scrolled": true
   },
   "outputs": [
    {
     "data": {
      "text/html": [
       "<div>\n",
       "<style scoped>\n",
       "    .dataframe tbody tr th:only-of-type {\n",
       "        vertical-align: middle;\n",
       "    }\n",
       "\n",
       "    .dataframe tbody tr th {\n",
       "        vertical-align: top;\n",
       "    }\n",
       "\n",
       "    .dataframe thead th {\n",
       "        text-align: right;\n",
       "    }\n",
       "</style>\n",
       "<table border=\"1\" class=\"dataframe\">\n",
       "  <thead>\n",
       "    <tr style=\"text-align: right;\">\n",
       "      <th></th>\n",
       "      <th>CreditScore</th>\n",
       "      <th>Geography</th>\n",
       "      <th>Gender</th>\n",
       "      <th>Age</th>\n",
       "      <th>Tenure</th>\n",
       "      <th>Balance</th>\n",
       "      <th>NumOfProducts</th>\n",
       "      <th>HasCrCard</th>\n",
       "      <th>IsActiveMember</th>\n",
       "      <th>EstimatedSalary</th>\n",
       "      <th>Exited</th>\n",
       "    </tr>\n",
       "  </thead>\n",
       "  <tbody>\n",
       "    <tr>\n",
       "      <th>0</th>\n",
       "      <td>619</td>\n",
       "      <td>France</td>\n",
       "      <td>Female</td>\n",
       "      <td>42</td>\n",
       "      <td>2.0</td>\n",
       "      <td>0.00</td>\n",
       "      <td>1</td>\n",
       "      <td>1</td>\n",
       "      <td>1</td>\n",
       "      <td>101348.88</td>\n",
       "      <td>1</td>\n",
       "    </tr>\n",
       "    <tr>\n",
       "      <th>1</th>\n",
       "      <td>608</td>\n",
       "      <td>Spain</td>\n",
       "      <td>Female</td>\n",
       "      <td>41</td>\n",
       "      <td>1.0</td>\n",
       "      <td>83807.86</td>\n",
       "      <td>1</td>\n",
       "      <td>0</td>\n",
       "      <td>1</td>\n",
       "      <td>112542.58</td>\n",
       "      <td>0</td>\n",
       "    </tr>\n",
       "    <tr>\n",
       "      <th>2</th>\n",
       "      <td>502</td>\n",
       "      <td>France</td>\n",
       "      <td>Female</td>\n",
       "      <td>42</td>\n",
       "      <td>8.0</td>\n",
       "      <td>159660.80</td>\n",
       "      <td>3</td>\n",
       "      <td>1</td>\n",
       "      <td>0</td>\n",
       "      <td>113931.57</td>\n",
       "      <td>1</td>\n",
       "    </tr>\n",
       "    <tr>\n",
       "      <th>3</th>\n",
       "      <td>699</td>\n",
       "      <td>France</td>\n",
       "      <td>Female</td>\n",
       "      <td>39</td>\n",
       "      <td>1.0</td>\n",
       "      <td>0.00</td>\n",
       "      <td>2</td>\n",
       "      <td>0</td>\n",
       "      <td>0</td>\n",
       "      <td>93826.63</td>\n",
       "      <td>0</td>\n",
       "    </tr>\n",
       "    <tr>\n",
       "      <th>4</th>\n",
       "      <td>850</td>\n",
       "      <td>Spain</td>\n",
       "      <td>Female</td>\n",
       "      <td>43</td>\n",
       "      <td>2.0</td>\n",
       "      <td>125510.82</td>\n",
       "      <td>1</td>\n",
       "      <td>1</td>\n",
       "      <td>1</td>\n",
       "      <td>79084.10</td>\n",
       "      <td>0</td>\n",
       "    </tr>\n",
       "  </tbody>\n",
       "</table>\n",
       "</div>"
      ],
      "text/plain": [
       "   CreditScore Geography  Gender  Age  Tenure    Balance  NumOfProducts  \\\n",
       "0          619    France  Female   42     2.0       0.00              1   \n",
       "1          608     Spain  Female   41     1.0   83807.86              1   \n",
       "2          502    France  Female   42     8.0  159660.80              3   \n",
       "3          699    France  Female   39     1.0       0.00              2   \n",
       "4          850     Spain  Female   43     2.0  125510.82              1   \n",
       "\n",
       "   HasCrCard  IsActiveMember  EstimatedSalary  Exited  \n",
       "0          1               1        101348.88       1  \n",
       "1          0               1        112542.58       0  \n",
       "2          1               0        113931.57       1  \n",
       "3          0               0         93826.63       0  \n",
       "4          1               1         79084.10       0  "
      ]
     },
     "execution_count": 16,
     "metadata": {},
     "output_type": "execute_result"
    }
   ],
   "source": [
    "# Избавимся от лишних признаков\n",
    "df = df.drop(['RowNumber', 'CustomerId', 'Surname'], axis =1)\n",
    "df.head()"
   ]
  },
  {
   "cell_type": "markdown",
   "metadata": {},
   "source": [
    "<div class=\"alert alert-success\">\n",
    "<h2>Комментарий ревьюера<a class=\"tocSkip\"></a></h2>\n",
    "    \n",
    "**Отлично!** ✔️: согласен, эти признаки для моделей неинформативны</div>"
   ]
  },
  {
   "cell_type": "code",
   "execution_count": 17,
   "metadata": {},
   "outputs": [],
   "source": [
    "# Списки, в которые записываются результаты работы моделей на валидационной выборке для итогового сравнения\n",
    "f1_scores = [] \n",
    "roc_auc_scores = []\n",
    "models = []\n",
    "disb_combat_meth = []"
   ]
  },
  {
   "cell_type": "code",
   "execution_count": 18,
   "metadata": {},
   "outputs": [],
   "source": [
    "# сохраним значение random_state в переменную\n",
    "RANDOM_STATE = 12345"
   ]
  },
  {
   "cell_type": "markdown",
   "metadata": {},
   "source": [
    "### Разделим выборки\n"
   ]
  },
  {
   "cell_type": "code",
   "execution_count": 19,
   "metadata": {},
   "outputs": [
    {
     "name": "stdout",
     "output_type": "stream",
     "text": [
      "\n",
      "Training ohe sample: 5564. \n",
      "Validation ohe sample: 3710.\n",
      "\n"
     ]
    }
   ],
   "source": [
    "# создадим обучающую (train) и валидациооную (valid) выборку\n",
    "df_train, df_valid = train_test_split(df, test_size = 0.40, random_state = RANDOM_STATE, stratify = df['Exited']) \n",
    "print( f\"\"\"\n",
    "Training ohe sample: {df_train.shape[0]}. \n",
    "Validation ohe sample: {df_valid.shape[0]}.\n",
    "\"\"\")"
   ]
  },
  {
   "cell_type": "code",
   "execution_count": 20,
   "metadata": {},
   "outputs": [
    {
     "name": "stdout",
     "output_type": "stream",
     "text": [
      "\n",
      "Размер обучающей выборки: 5564\n",
      "\n"
     ]
    }
   ],
   "source": [
    "# признаки для обучения и целевой признак (Exited) для обучающей выборки\n",
    "features_train = df_train.drop('Exited', axis=1)\n",
    "target_train = df_train['Exited']\n",
    "print (f\"\"\"\n",
    "Размер обучающей выборки: {features_train.shape[0]}\n",
    "\"\"\")"
   ]
  },
  {
   "cell_type": "code",
   "execution_count": 21,
   "metadata": {},
   "outputs": [
    {
     "name": "stdout",
     "output_type": "stream",
     "text": [
      "\n",
      "Размер валидационной выборки: 1855. \n",
      "Размер тестовой выборки: 1855.\n",
      "\n"
     ]
    }
   ],
   "source": [
    "# из валидационной (valid) выборки выделим тестовую выборку (test)\n",
    "features = df_valid.drop('Exited', axis=1)\n",
    "target = df_valid['Exited']\n",
    "\n",
    "features_valid, features_test, target_valid, target_test = train_test_split(\n",
    "    features, target, test_size = 0.50, random_state = RANDOM_STATE, stratify = target) \n",
    "\n",
    "print( f\"\"\"\n",
    "Размер валидационной выборки: {features_valid.shape[0]}. \n",
    "Размер тестовой выборки: {features_test.shape[0]}.\n",
    "\"\"\")"
   ]
  },
  {
   "cell_type": "markdown",
   "metadata": {},
   "source": [
    "### Масштабируем данные"
   ]
  },
  {
   "cell_type": "code",
   "execution_count": 22,
   "metadata": {},
   "outputs": [
    {
     "data": {
      "text/html": [
       "<div>\n",
       "<style scoped>\n",
       "    .dataframe tbody tr th:only-of-type {\n",
       "        vertical-align: middle;\n",
       "    }\n",
       "\n",
       "    .dataframe tbody tr th {\n",
       "        vertical-align: top;\n",
       "    }\n",
       "\n",
       "    .dataframe thead th {\n",
       "        text-align: right;\n",
       "    }\n",
       "</style>\n",
       "<table border=\"1\" class=\"dataframe\">\n",
       "  <thead>\n",
       "    <tr style=\"text-align: right;\">\n",
       "      <th></th>\n",
       "      <th>CreditScore</th>\n",
       "      <th>Age</th>\n",
       "      <th>Tenure</th>\n",
       "      <th>Balance</th>\n",
       "      <th>NumOfProducts</th>\n",
       "      <th>EstimatedSalary</th>\n",
       "    </tr>\n",
       "  </thead>\n",
       "  <tbody>\n",
       "    <tr>\n",
       "      <th>1930</th>\n",
       "      <td>536</td>\n",
       "      <td>23</td>\n",
       "      <td>6.0</td>\n",
       "      <td>92366.72</td>\n",
       "      <td>2</td>\n",
       "      <td>120661.71</td>\n",
       "    </tr>\n",
       "    <tr>\n",
       "      <th>3157</th>\n",
       "      <td>574</td>\n",
       "      <td>34</td>\n",
       "      <td>5.0</td>\n",
       "      <td>0.00</td>\n",
       "      <td>2</td>\n",
       "      <td>28269.86</td>\n",
       "    </tr>\n",
       "    <tr>\n",
       "      <th>6974</th>\n",
       "      <td>662</td>\n",
       "      <td>44</td>\n",
       "      <td>8.0</td>\n",
       "      <td>0.00</td>\n",
       "      <td>2</td>\n",
       "      <td>175314.87</td>\n",
       "    </tr>\n",
       "    <tr>\n",
       "      <th>167</th>\n",
       "      <td>615</td>\n",
       "      <td>41</td>\n",
       "      <td>9.0</td>\n",
       "      <td>109013.23</td>\n",
       "      <td>1</td>\n",
       "      <td>196499.96</td>\n",
       "    </tr>\n",
       "    <tr>\n",
       "      <th>878</th>\n",
       "      <td>574</td>\n",
       "      <td>33</td>\n",
       "      <td>3.0</td>\n",
       "      <td>134348.57</td>\n",
       "      <td>1</td>\n",
       "      <td>63163.99</td>\n",
       "    </tr>\n",
       "  </tbody>\n",
       "</table>\n",
       "</div>"
      ],
      "text/plain": [
       "      CreditScore  Age  Tenure    Balance  NumOfProducts  EstimatedSalary\n",
       "1930          536   23     6.0   92366.72              2        120661.71\n",
       "3157          574   34     5.0       0.00              2         28269.86\n",
       "6974          662   44     8.0       0.00              2        175314.87\n",
       "167           615   41     9.0  109013.23              1        196499.96\n",
       "878           574   33     3.0  134348.57              1         63163.99"
      ]
     },
     "execution_count": 22,
     "metadata": {},
     "output_type": "execute_result"
    }
   ],
   "source": [
    "# создадим список с числовыми признаками которые необходимо масштабировать\n",
    "numeric = ['CreditScore', 'Age', 'Tenure', 'Balance', 'NumOfProducts', 'EstimatedSalary']\n",
    "features_train[numeric].head()"
   ]
  },
  {
   "cell_type": "code",
   "execution_count": 23,
   "metadata": {},
   "outputs": [],
   "source": [
    "# масштабируем числовые признаки\n",
    "scaler = StandardScaler()"
   ]
  },
  {
   "cell_type": "code",
   "execution_count": 24,
   "metadata": {},
   "outputs": [
    {
     "name": "stdout",
     "output_type": "stream",
     "text": [
      "      CreditScore Geography  Gender       Age    Tenure   Balance  \\\n",
      "1930    -1.182855   Germany    Male -1.542300  0.347759  0.246473   \n",
      "3157    -0.788466     Spain    Male -0.486263 -0.003663 -1.231930   \n",
      "6974     0.124855    France    Male  0.473771  1.050605 -1.231930   \n",
      "167     -0.362942     Spain  Female  0.185761  1.402027  0.512914   \n",
      "878     -0.788466    France  Female -0.582266 -0.706509  0.918426   \n",
      "\n",
      "      NumOfProducts  HasCrCard  IsActiveMember  EstimatedSalary  \n",
      "1930        0.78918          1               0         0.355687  \n",
      "3157        0.78918          0               0        -1.252828  \n",
      "6974        0.78918          1               1         1.307183  \n",
      "167        -0.90684          1               0         1.676009  \n",
      "878        -0.90684          1               0        -0.645332  \n"
     ]
    },
    {
     "name": "stderr",
     "output_type": "stream",
     "text": [
      "/tmp/ipykernel_152/3085696351.py:4: SettingWithCopyWarning: \n",
      "A value is trying to be set on a copy of a slice from a DataFrame.\n",
      "Try using .loc[row_indexer,col_indexer] = value instead\n",
      "\n",
      "See the caveats in the documentation: https://pandas.pydata.org/pandas-docs/stable/user_guide/indexing.html#returning-a-view-versus-a-copy\n",
      "  features_valid[numeric] = scaler.transform(features_valid[numeric])\n",
      "/opt/conda/lib/python3.9/site-packages/pandas/core/indexing.py:1738: SettingWithCopyWarning: \n",
      "A value is trying to be set on a copy of a slice from a DataFrame.\n",
      "Try using .loc[row_indexer,col_indexer] = value instead\n",
      "\n",
      "See the caveats in the documentation: https://pandas.pydata.org/pandas-docs/stable/user_guide/indexing.html#returning-a-view-versus-a-copy\n",
      "  self._setitem_single_column(loc, value[:, i].tolist(), pi)\n",
      "/tmp/ipykernel_152/3085696351.py:5: SettingWithCopyWarning: \n",
      "A value is trying to be set on a copy of a slice from a DataFrame.\n",
      "Try using .loc[row_indexer,col_indexer] = value instead\n",
      "\n",
      "See the caveats in the documentation: https://pandas.pydata.org/pandas-docs/stable/user_guide/indexing.html#returning-a-view-versus-a-copy\n",
      "  features_test[numeric] = scaler.transform(features_test[numeric])\n",
      "/opt/conda/lib/python3.9/site-packages/pandas/core/indexing.py:1738: SettingWithCopyWarning: \n",
      "A value is trying to be set on a copy of a slice from a DataFrame.\n",
      "Try using .loc[row_indexer,col_indexer] = value instead\n",
      "\n",
      "See the caveats in the documentation: https://pandas.pydata.org/pandas-docs/stable/user_guide/indexing.html#returning-a-view-versus-a-copy\n",
      "  self._setitem_single_column(loc, value[:, i].tolist(), pi)\n"
     ]
    }
   ],
   "source": [
    "# обучаем и масштабируем обучающую выборку\n",
    "features_train[numeric] = scaler.fit_transform(features_train[numeric]) \n",
    "# масштабируем валидационную и тестовую выборки\n",
    "features_valid[numeric] = scaler.transform(features_valid[numeric]) \n",
    "features_test[numeric] = scaler.transform(features_test[numeric]) \n",
    "pd.options.mode.chained_assignment = None\n",
    "\n",
    "print(features_train.head())"
   ]
  },
  {
   "cell_type": "markdown",
   "metadata": {},
   "source": [
    "###  Перекодируем категориальные значения в числовой формат"
   ]
  },
  {
   "cell_type": "code",
   "execution_count": 25,
   "metadata": {
    "scrolled": true
   },
   "outputs": [
    {
     "data": {
      "text/plain": [
       "CreditScore          int64\n",
       "Geography           object\n",
       "Gender              object\n",
       "Age                  int64\n",
       "Tenure             float64\n",
       "Balance            float64\n",
       "NumOfProducts        int64\n",
       "HasCrCard            int64\n",
       "IsActiveMember       int64\n",
       "EstimatedSalary    float64\n",
       "Exited               int64\n",
       "dtype: object"
      ]
     },
     "execution_count": 25,
     "metadata": {},
     "output_type": "execute_result"
    }
   ],
   "source": [
    "# Оценим типы данных, содержащихся в признаках\n",
    "df.dtypes"
   ]
  },
  {
   "cell_type": "code",
   "execution_count": 26,
   "metadata": {
    "scrolled": true
   },
   "outputs": [
    {
     "data": {
      "text/plain": [
       "['Geography', 'Gender']"
      ]
     },
     "execution_count": 26,
     "metadata": {},
     "output_type": "execute_result"
    }
   ],
   "source": [
    "# Категориальыне признаки которые необходимо перекодировать в числовой формат\n",
    "df.select_dtypes(include=['object']).columns.tolist()\n"
   ]
  },
  {
   "cell_type": "code",
   "execution_count": 27,
   "metadata": {},
   "outputs": [],
   "source": [
    "def enc_ohe (features_train, features_valid, features_test):\n",
    "    enc = OneHotEncoder(sparse=False)\n",
    "    #категориальные признаки которые нужно перекодировать\n",
    "    columns_to_encode = df.select_dtypes(include=['object']).columns.tolist()\n",
    "    for column in columns_to_encode:\n",
    "        #Обучаем и трансформируем на обучающей выборке\n",
    "        col_enc = pd.DataFrame(enc.fit_transform(features_train[[column]]), columns = enc.categories_[0])\n",
    "        #добавляем  перекодированные данные в существующий дф\n",
    "        features_train = pd.concat([features_train.reset_index(drop=True), col_enc], axis=1).drop(column, axis=1)\n",
    "        #повторяем для выборки  \n",
    "        features_valid =  pd.concat(\n",
    "        [features_valid.reset_index(drop=True), \n",
    "         pd.DataFrame(enc.transform(features_valid[[column]]),\n",
    "         columns = enc.categories_[0])], axis=1).drop(column, axis=1)\n",
    "        features_test =  pd.concat(\n",
    "        [features_test.reset_index(drop=True), \n",
    "         pd.DataFrame(enc.transform(features_test[[column]]),\n",
    "         columns = enc.categories_[0])], axis=1).drop(column, axis=1)\n",
    "    return features_train, features_valid, features_test"
   ]
  },
  {
   "cell_type": "code",
   "execution_count": 28,
   "metadata": {},
   "outputs": [],
   "source": [
    "features_train, features_valid, features_test = enc_ohe (features_train, features_valid, features_test)"
   ]
  },
  {
   "cell_type": "code",
   "execution_count": 29,
   "metadata": {
    "scrolled": true
   },
   "outputs": [
    {
     "data": {
      "text/html": [
       "<div>\n",
       "<style scoped>\n",
       "    .dataframe tbody tr th:only-of-type {\n",
       "        vertical-align: middle;\n",
       "    }\n",
       "\n",
       "    .dataframe tbody tr th {\n",
       "        vertical-align: top;\n",
       "    }\n",
       "\n",
       "    .dataframe thead th {\n",
       "        text-align: right;\n",
       "    }\n",
       "</style>\n",
       "<table border=\"1\" class=\"dataframe\">\n",
       "  <thead>\n",
       "    <tr style=\"text-align: right;\">\n",
       "      <th></th>\n",
       "      <th>CreditScore</th>\n",
       "      <th>Age</th>\n",
       "      <th>Tenure</th>\n",
       "      <th>Balance</th>\n",
       "      <th>NumOfProducts</th>\n",
       "      <th>HasCrCard</th>\n",
       "      <th>IsActiveMember</th>\n",
       "      <th>EstimatedSalary</th>\n",
       "      <th>France</th>\n",
       "      <th>Germany</th>\n",
       "      <th>Spain</th>\n",
       "      <th>Female</th>\n",
       "      <th>Male</th>\n",
       "    </tr>\n",
       "  </thead>\n",
       "  <tbody>\n",
       "    <tr>\n",
       "      <th>0</th>\n",
       "      <td>-1.182855</td>\n",
       "      <td>-1.542300</td>\n",
       "      <td>0.347759</td>\n",
       "      <td>0.246473</td>\n",
       "      <td>0.78918</td>\n",
       "      <td>1</td>\n",
       "      <td>0</td>\n",
       "      <td>0.355687</td>\n",
       "      <td>0.0</td>\n",
       "      <td>1.0</td>\n",
       "      <td>0.0</td>\n",
       "      <td>0.0</td>\n",
       "      <td>1.0</td>\n",
       "    </tr>\n",
       "    <tr>\n",
       "      <th>1</th>\n",
       "      <td>-0.788466</td>\n",
       "      <td>-0.486263</td>\n",
       "      <td>-0.003663</td>\n",
       "      <td>-1.231930</td>\n",
       "      <td>0.78918</td>\n",
       "      <td>0</td>\n",
       "      <td>0</td>\n",
       "      <td>-1.252828</td>\n",
       "      <td>0.0</td>\n",
       "      <td>0.0</td>\n",
       "      <td>1.0</td>\n",
       "      <td>0.0</td>\n",
       "      <td>1.0</td>\n",
       "    </tr>\n",
       "    <tr>\n",
       "      <th>2</th>\n",
       "      <td>0.124855</td>\n",
       "      <td>0.473771</td>\n",
       "      <td>1.050605</td>\n",
       "      <td>-1.231930</td>\n",
       "      <td>0.78918</td>\n",
       "      <td>1</td>\n",
       "      <td>1</td>\n",
       "      <td>1.307183</td>\n",
       "      <td>1.0</td>\n",
       "      <td>0.0</td>\n",
       "      <td>0.0</td>\n",
       "      <td>0.0</td>\n",
       "      <td>1.0</td>\n",
       "    </tr>\n",
       "    <tr>\n",
       "      <th>3</th>\n",
       "      <td>-0.362942</td>\n",
       "      <td>0.185761</td>\n",
       "      <td>1.402027</td>\n",
       "      <td>0.512914</td>\n",
       "      <td>-0.90684</td>\n",
       "      <td>1</td>\n",
       "      <td>0</td>\n",
       "      <td>1.676009</td>\n",
       "      <td>0.0</td>\n",
       "      <td>0.0</td>\n",
       "      <td>1.0</td>\n",
       "      <td>1.0</td>\n",
       "      <td>0.0</td>\n",
       "    </tr>\n",
       "    <tr>\n",
       "      <th>4</th>\n",
       "      <td>-0.788466</td>\n",
       "      <td>-0.582266</td>\n",
       "      <td>-0.706509</td>\n",
       "      <td>0.918426</td>\n",
       "      <td>-0.90684</td>\n",
       "      <td>1</td>\n",
       "      <td>0</td>\n",
       "      <td>-0.645332</td>\n",
       "      <td>1.0</td>\n",
       "      <td>0.0</td>\n",
       "      <td>0.0</td>\n",
       "      <td>1.0</td>\n",
       "      <td>0.0</td>\n",
       "    </tr>\n",
       "  </tbody>\n",
       "</table>\n",
       "</div>"
      ],
      "text/plain": [
       "   CreditScore       Age    Tenure   Balance  NumOfProducts  HasCrCard  \\\n",
       "0    -1.182855 -1.542300  0.347759  0.246473        0.78918          1   \n",
       "1    -0.788466 -0.486263 -0.003663 -1.231930        0.78918          0   \n",
       "2     0.124855  0.473771  1.050605 -1.231930        0.78918          1   \n",
       "3    -0.362942  0.185761  1.402027  0.512914       -0.90684          1   \n",
       "4    -0.788466 -0.582266 -0.706509  0.918426       -0.90684          1   \n",
       "\n",
       "   IsActiveMember  EstimatedSalary  France  Germany  Spain  Female  Male  \n",
       "0               0         0.355687     0.0      1.0    0.0     0.0   1.0  \n",
       "1               0        -1.252828     0.0      0.0    1.0     0.0   1.0  \n",
       "2               1         1.307183     1.0      0.0    0.0     0.0   1.0  \n",
       "3               0         1.676009     0.0      0.0    1.0     1.0   0.0  \n",
       "4               0        -0.645332     1.0      0.0    0.0     1.0   0.0  "
      ]
     },
     "execution_count": 29,
     "metadata": {},
     "output_type": "execute_result"
    }
   ],
   "source": [
    "features_train.head()"
   ]
  },
  {
   "cell_type": "code",
   "execution_count": 30,
   "metadata": {
    "scrolled": true
   },
   "outputs": [
    {
     "data": {
      "text/html": [
       "<div>\n",
       "<style scoped>\n",
       "    .dataframe tbody tr th:only-of-type {\n",
       "        vertical-align: middle;\n",
       "    }\n",
       "\n",
       "    .dataframe tbody tr th {\n",
       "        vertical-align: top;\n",
       "    }\n",
       "\n",
       "    .dataframe thead th {\n",
       "        text-align: right;\n",
       "    }\n",
       "</style>\n",
       "<table border=\"1\" class=\"dataframe\">\n",
       "  <thead>\n",
       "    <tr style=\"text-align: right;\">\n",
       "      <th></th>\n",
       "      <th>CreditScore</th>\n",
       "      <th>Age</th>\n",
       "      <th>Tenure</th>\n",
       "      <th>Balance</th>\n",
       "      <th>NumOfProducts</th>\n",
       "      <th>HasCrCard</th>\n",
       "      <th>IsActiveMember</th>\n",
       "      <th>EstimatedSalary</th>\n",
       "      <th>France</th>\n",
       "      <th>Germany</th>\n",
       "      <th>Spain</th>\n",
       "      <th>Female</th>\n",
       "      <th>Male</th>\n",
       "    </tr>\n",
       "  </thead>\n",
       "  <tbody>\n",
       "    <tr>\n",
       "      <th>0</th>\n",
       "      <td>1.951499</td>\n",
       "      <td>0.185761</td>\n",
       "      <td>-0.003663</td>\n",
       "      <td>-1.231930</td>\n",
       "      <td>0.78918</td>\n",
       "      <td>1</td>\n",
       "      <td>0</td>\n",
       "      <td>-0.329354</td>\n",
       "      <td>0.0</td>\n",
       "      <td>0.0</td>\n",
       "      <td>1.0</td>\n",
       "      <td>1.0</td>\n",
       "      <td>0.0</td>\n",
       "    </tr>\n",
       "    <tr>\n",
       "      <th>1</th>\n",
       "      <td>-0.425213</td>\n",
       "      <td>-0.198253</td>\n",
       "      <td>-0.003663</td>\n",
       "      <td>0.837824</td>\n",
       "      <td>-0.90684</td>\n",
       "      <td>1</td>\n",
       "      <td>1</td>\n",
       "      <td>-1.278526</td>\n",
       "      <td>0.0</td>\n",
       "      <td>0.0</td>\n",
       "      <td>1.0</td>\n",
       "      <td>0.0</td>\n",
       "      <td>1.0</td>\n",
       "    </tr>\n",
       "    <tr>\n",
       "      <th>2</th>\n",
       "      <td>0.311671</td>\n",
       "      <td>-0.486263</td>\n",
       "      <td>0.347759</td>\n",
       "      <td>1.111674</td>\n",
       "      <td>-0.90684</td>\n",
       "      <td>1</td>\n",
       "      <td>0</td>\n",
       "      <td>-0.576059</td>\n",
       "      <td>0.0</td>\n",
       "      <td>1.0</td>\n",
       "      <td>0.0</td>\n",
       "      <td>0.0</td>\n",
       "      <td>1.0</td>\n",
       "    </tr>\n",
       "    <tr>\n",
       "      <th>3</th>\n",
       "      <td>1.162721</td>\n",
       "      <td>-0.390260</td>\n",
       "      <td>1.402027</td>\n",
       "      <td>0.735653</td>\n",
       "      <td>0.78918</td>\n",
       "      <td>0</td>\n",
       "      <td>0</td>\n",
       "      <td>0.863360</td>\n",
       "      <td>0.0</td>\n",
       "      <td>0.0</td>\n",
       "      <td>1.0</td>\n",
       "      <td>0.0</td>\n",
       "      <td>1.0</td>\n",
       "    </tr>\n",
       "    <tr>\n",
       "      <th>4</th>\n",
       "      <td>1.204236</td>\n",
       "      <td>0.569774</td>\n",
       "      <td>0.347759</td>\n",
       "      <td>-1.231930</td>\n",
       "      <td>0.78918</td>\n",
       "      <td>0</td>\n",
       "      <td>0</td>\n",
       "      <td>0.817445</td>\n",
       "      <td>1.0</td>\n",
       "      <td>0.0</td>\n",
       "      <td>0.0</td>\n",
       "      <td>1.0</td>\n",
       "      <td>0.0</td>\n",
       "    </tr>\n",
       "  </tbody>\n",
       "</table>\n",
       "</div>"
      ],
      "text/plain": [
       "   CreditScore       Age    Tenure   Balance  NumOfProducts  HasCrCard  \\\n",
       "0     1.951499  0.185761 -0.003663 -1.231930        0.78918          1   \n",
       "1    -0.425213 -0.198253 -0.003663  0.837824       -0.90684          1   \n",
       "2     0.311671 -0.486263  0.347759  1.111674       -0.90684          1   \n",
       "3     1.162721 -0.390260  1.402027  0.735653        0.78918          0   \n",
       "4     1.204236  0.569774  0.347759 -1.231930        0.78918          0   \n",
       "\n",
       "   IsActiveMember  EstimatedSalary  France  Germany  Spain  Female  Male  \n",
       "0               0        -0.329354     0.0      0.0    1.0     1.0   0.0  \n",
       "1               1        -1.278526     0.0      0.0    1.0     0.0   1.0  \n",
       "2               0        -0.576059     0.0      1.0    0.0     0.0   1.0  \n",
       "3               0         0.863360     0.0      0.0    1.0     0.0   1.0  \n",
       "4               0         0.817445     1.0      0.0    0.0     1.0   0.0  "
      ]
     },
     "execution_count": 30,
     "metadata": {},
     "output_type": "execute_result"
    }
   ],
   "source": [
    "features_valid.head()"
   ]
  },
  {
   "cell_type": "code",
   "execution_count": 31,
   "metadata": {},
   "outputs": [
    {
     "data": {
      "text/html": [
       "<div>\n",
       "<style scoped>\n",
       "    .dataframe tbody tr th:only-of-type {\n",
       "        vertical-align: middle;\n",
       "    }\n",
       "\n",
       "    .dataframe tbody tr th {\n",
       "        vertical-align: top;\n",
       "    }\n",
       "\n",
       "    .dataframe thead th {\n",
       "        text-align: right;\n",
       "    }\n",
       "</style>\n",
       "<table border=\"1\" class=\"dataframe\">\n",
       "  <thead>\n",
       "    <tr style=\"text-align: right;\">\n",
       "      <th></th>\n",
       "      <th>CreditScore</th>\n",
       "      <th>Age</th>\n",
       "      <th>Tenure</th>\n",
       "      <th>Balance</th>\n",
       "      <th>NumOfProducts</th>\n",
       "      <th>HasCrCard</th>\n",
       "      <th>IsActiveMember</th>\n",
       "      <th>EstimatedSalary</th>\n",
       "      <th>France</th>\n",
       "      <th>Germany</th>\n",
       "      <th>Spain</th>\n",
       "      <th>Female</th>\n",
       "      <th>Male</th>\n",
       "    </tr>\n",
       "  </thead>\n",
       "  <tbody>\n",
       "    <tr>\n",
       "      <th>0</th>\n",
       "      <td>-0.321427</td>\n",
       "      <td>-1.062283</td>\n",
       "      <td>-0.706509</td>\n",
       "      <td>-1.231930</td>\n",
       "      <td>0.78918</td>\n",
       "      <td>1</td>\n",
       "      <td>0</td>\n",
       "      <td>-0.815422</td>\n",
       "      <td>1.0</td>\n",
       "      <td>0.0</td>\n",
       "      <td>0.0</td>\n",
       "      <td>1.0</td>\n",
       "      <td>0.0</td>\n",
       "    </tr>\n",
       "    <tr>\n",
       "      <th>1</th>\n",
       "      <td>0.467351</td>\n",
       "      <td>-0.774273</td>\n",
       "      <td>-0.003663</td>\n",
       "      <td>0.466112</td>\n",
       "      <td>-0.90684</td>\n",
       "      <td>0</td>\n",
       "      <td>0</td>\n",
       "      <td>-0.012076</td>\n",
       "      <td>1.0</td>\n",
       "      <td>0.0</td>\n",
       "      <td>0.0</td>\n",
       "      <td>1.0</td>\n",
       "      <td>0.0</td>\n",
       "    </tr>\n",
       "    <tr>\n",
       "      <th>2</th>\n",
       "      <td>-0.975282</td>\n",
       "      <td>-0.486263</td>\n",
       "      <td>1.050605</td>\n",
       "      <td>1.389132</td>\n",
       "      <td>-0.90684</td>\n",
       "      <td>1</td>\n",
       "      <td>1</td>\n",
       "      <td>0.065613</td>\n",
       "      <td>1.0</td>\n",
       "      <td>0.0</td>\n",
       "      <td>0.0</td>\n",
       "      <td>0.0</td>\n",
       "      <td>1.0</td>\n",
       "    </tr>\n",
       "    <tr>\n",
       "      <th>3</th>\n",
       "      <td>-1.130962</td>\n",
       "      <td>-0.678270</td>\n",
       "      <td>1.050605</td>\n",
       "      <td>-1.231930</td>\n",
       "      <td>0.78918</td>\n",
       "      <td>0</td>\n",
       "      <td>0</td>\n",
       "      <td>-1.033130</td>\n",
       "      <td>1.0</td>\n",
       "      <td>0.0</td>\n",
       "      <td>0.0</td>\n",
       "      <td>0.0</td>\n",
       "      <td>1.0</td>\n",
       "    </tr>\n",
       "    <tr>\n",
       "      <th>4</th>\n",
       "      <td>-0.601651</td>\n",
       "      <td>-1.158286</td>\n",
       "      <td>-0.355086</td>\n",
       "      <td>-1.231930</td>\n",
       "      <td>0.78918</td>\n",
       "      <td>1</td>\n",
       "      <td>1</td>\n",
       "      <td>1.450889</td>\n",
       "      <td>1.0</td>\n",
       "      <td>0.0</td>\n",
       "      <td>0.0</td>\n",
       "      <td>1.0</td>\n",
       "      <td>0.0</td>\n",
       "    </tr>\n",
       "  </tbody>\n",
       "</table>\n",
       "</div>"
      ],
      "text/plain": [
       "   CreditScore       Age    Tenure   Balance  NumOfProducts  HasCrCard  \\\n",
       "0    -0.321427 -1.062283 -0.706509 -1.231930        0.78918          1   \n",
       "1     0.467351 -0.774273 -0.003663  0.466112       -0.90684          0   \n",
       "2    -0.975282 -0.486263  1.050605  1.389132       -0.90684          1   \n",
       "3    -1.130962 -0.678270  1.050605 -1.231930        0.78918          0   \n",
       "4    -0.601651 -1.158286 -0.355086 -1.231930        0.78918          1   \n",
       "\n",
       "   IsActiveMember  EstimatedSalary  France  Germany  Spain  Female  Male  \n",
       "0               0        -0.815422     1.0      0.0    0.0     1.0   0.0  \n",
       "1               0        -0.012076     1.0      0.0    0.0     1.0   0.0  \n",
       "2               1         0.065613     1.0      0.0    0.0     0.0   1.0  \n",
       "3               0        -1.033130     1.0      0.0    0.0     0.0   1.0  \n",
       "4               1         1.450889     1.0      0.0    0.0     1.0   0.0  "
      ]
     },
     "execution_count": 31,
     "metadata": {},
     "output_type": "execute_result"
    }
   ],
   "source": [
    "features_test.head()"
   ]
  },
  {
   "cell_type": "markdown",
   "metadata": {},
   "source": []
  },
  {
   "cell_type": "markdown",
   "metadata": {},
   "source": [
    "####  LogisticRegression (row data)"
   ]
  },
  {
   "cell_type": "code",
   "execution_count": 32,
   "metadata": {},
   "outputs": [
    {
     "name": "stdout",
     "output_type": "stream",
     "text": [
      "\n",
      "f1_score = 0.33\n",
      "roc_auc_score =0.76\n",
      "\n"
     ]
    }
   ],
   "source": [
    "# LogisticRegression\n",
    "model = LogisticRegression(random_state = RANDOM_STATE, solver='liblinear')\n",
    "model.fit(features_train, target_train)\n",
    "predicted_valid = model.predict(features_valid)\n",
    "first_class_pred_proba = model.predict_proba(features_valid)[:, 1]\n",
    "f1_result = f1_score (target_valid, predicted_valid)\n",
    "roc_auc = roc_auc_score(target_valid, first_class_pred_proba)\n",
    "print(f\"\"\"\n",
    "f1_score = {round(f1_result,2)}\n",
    "roc_auc_score ={round(roc_auc,2)}\n",
    "\"\"\")"
   ]
  },
  {
   "cell_type": "code",
   "execution_count": 33,
   "metadata": {},
   "outputs": [],
   "source": [
    "# заполняем список результата работы каждой модели\n",
    "f1_scores.append(round(f1_result,2))  \n",
    "roc_auc_scores.append(round(roc_auc,2)) \n",
    "models.append(type(model).__name__)\n",
    "disb_combat_meth.append('None')"
   ]
  },
  {
   "cell_type": "markdown",
   "metadata": {},
   "source": [
    "#### DecisionTree (row data)"
   ]
  },
  {
   "cell_type": "code",
   "execution_count": 34,
   "metadata": {},
   "outputs": [
    {
     "name": "stdout",
     "output_type": "stream",
     "text": [
      "\n",
      "        max_depth = 5\n",
      "        best_f1_score : 0.54\n",
      "        best_roc_auc_score 0.81\n",
      "               \n",
      "\n",
      "        max_depth = 7\n",
      "        best_f1_score : 0.58\n",
      "        best_roc_auc_score 0.83\n",
      "               \n"
     ]
    }
   ],
   "source": [
    "best_depth = None\n",
    "best_f1_score = 0\n",
    "best_roc_auc_score = 0\n",
    "\n",
    "for depth in range(5,30):# подбираем глубину дерева\n",
    "    model = DecisionTreeClassifier(random_state = RANDOM_STATE, max_depth = depth) \n",
    "    model.fit(features_train, target_train) # обучаем модель\n",
    "    predicted_valid = model.predict(features_valid)\n",
    "    first_class_pred_proba = model.predict_proba(features_valid)[:, 1]\n",
    "\n",
    "    roc_auc = roc_auc_score(target_valid, first_class_pred_proba)\n",
    "    f1_result = f1_score (target_valid, predicted_valid) \n",
    "    \n",
    "    if f1_result > best_f1_score:\n",
    "        best_model = model\n",
    "        best_depth = depth\n",
    "        best_f1_score = round(f1_result,2) #  наилучшее значение f1 меры на валидационной выборке\n",
    "        best_roc_auc_score = round(roc_auc,2)\n",
    "        print (f\"\"\"\n",
    "        max_depth = {best_depth}\n",
    "        best_f1_score : {round(best_f1_score,2)}\n",
    "        best_roc_auc_score {round(best_roc_auc_score,2)}\n",
    "               \"\"\")"
   ]
  },
  {
   "cell_type": "code",
   "execution_count": 35,
   "metadata": {},
   "outputs": [],
   "source": [
    "# заполняем список результата работы каждой модели\n",
    "f1_scores.append(best_f1_score)  \n",
    "roc_auc_scores.append(best_roc_auc_score) \n",
    "models.append(type(model).__name__)\n",
    "disb_combat_meth.append('None')"
   ]
  },
  {
   "cell_type": "markdown",
   "metadata": {},
   "source": [
    "#### RandomForest (row data)"
   ]
  },
  {
   "cell_type": "code",
   "execution_count": 36,
   "metadata": {
    "scrolled": true
   },
   "outputs": [
    {
     "name": "stdout",
     "output_type": "stream",
     "text": [
      "\n",
      "        n_estimators: 3\n",
      "        best_f1_score : 0.53\n",
      "        best_roc_auc_score 0.75\n",
      "               \n",
      "\n",
      "        n_estimators: 7\n",
      "        best_f1_score : 0.53\n",
      "        best_roc_auc_score 0.79\n",
      "               \n",
      "\n",
      "        n_estimators: 9\n",
      "        best_f1_score : 0.55\n",
      "        best_roc_auc_score 0.8\n",
      "               \n",
      "\n",
      "        n_estimators: 11\n",
      "        best_f1_score : 0.55\n",
      "        best_roc_auc_score 0.81\n",
      "               \n",
      "\n",
      "        n_estimators: 12\n",
      "        best_f1_score : 0.55\n",
      "        best_roc_auc_score 0.81\n",
      "               \n",
      "\n",
      "        n_estimators: 13\n",
      "        best_f1_score : 0.57\n",
      "        best_roc_auc_score 0.81\n",
      "               \n",
      "\n",
      "        n_estimators: 25\n",
      "        best_f1_score : 0.57\n",
      "        best_roc_auc_score 0.83\n",
      "               \n",
      "\n",
      "        n_estimators: 27\n",
      "        best_f1_score : 0.57\n",
      "        best_roc_auc_score 0.83\n",
      "               \n"
     ]
    }
   ],
   "source": [
    "best_n_estimators = None\n",
    "best_f1_score = 0.5\n",
    "best_roc_auc_score = 0\n",
    "\n",
    "for est in range(1,30):\n",
    "    model = RandomForestClassifier (random_state=RANDOM_STATE, n_estimators = est) # подбираем количество деревьев\n",
    "    model.fit(features_train, target_train) # обучаем модель\n",
    "    first_class_pred_proba = model.predict_proba(features_valid)[:, 1]\n",
    "    predicted_valid = model.predict(features_valid)\n",
    "   \n",
    "    roc_auc = roc_auc_score(target_valid, first_class_pred_proba)\n",
    "    f1_result = f1_score (target_valid, predicted_valid) \n",
    "    \n",
    "    if f1_result > round(best_f1_score,2):\n",
    "        best_n_estimators = est\n",
    "        best_f1_score = round(f1_result,2) #  наилучшее значение f1 меры на валидационной выборке\n",
    "        best_roc_auc_score = round(roc_auc,2)\n",
    "        \n",
    "        print (f\"\"\"\n",
    "        n_estimators: {est}\n",
    "        best_f1_score : {round(best_f1_score,2)}\n",
    "        best_roc_auc_score {round(best_roc_auc_score,2)}\n",
    "               \"\"\")"
   ]
  },
  {
   "cell_type": "code",
   "execution_count": 37,
   "metadata": {},
   "outputs": [],
   "source": [
    "# заполняем список результата работы каждой модели\n",
    "f1_scores.append(best_f1_score)  \n",
    "roc_auc_scores.append(best_roc_auc_score) \n",
    "models.append(type(model).__name__)\n",
    "disb_combat_meth.append('None')"
   ]
  },
  {
   "cell_type": "code",
   "execution_count": 38,
   "metadata": {},
   "outputs": [
    {
     "data": {
      "text/plain": [
       "[0.33, 0.58, 0.57]"
      ]
     },
     "execution_count": 38,
     "metadata": {},
     "output_type": "execute_result"
    }
   ],
   "source": [
    "f1_scores"
   ]
  },
  {
   "cell_type": "code",
   "execution_count": 39,
   "metadata": {
    "scrolled": true
   },
   "outputs": [
    {
     "data": {
      "text/html": [
       "<div>\n",
       "<style scoped>\n",
       "    .dataframe tbody tr th:only-of-type {\n",
       "        vertical-align: middle;\n",
       "    }\n",
       "\n",
       "    .dataframe tbody tr th {\n",
       "        vertical-align: top;\n",
       "    }\n",
       "\n",
       "    .dataframe thead th {\n",
       "        text-align: right;\n",
       "    }\n",
       "</style>\n",
       "<table border=\"1\" class=\"dataframe\">\n",
       "  <thead>\n",
       "    <tr style=\"text-align: right;\">\n",
       "      <th></th>\n",
       "      <th>model</th>\n",
       "      <th>best_f1_score</th>\n",
       "      <th>best_roc_auc_score</th>\n",
       "      <th>disb_combat_meth</th>\n",
       "    </tr>\n",
       "  </thead>\n",
       "  <tbody>\n",
       "    <tr>\n",
       "      <th>0</th>\n",
       "      <td>LogisticRegression</td>\n",
       "      <td>0.33</td>\n",
       "      <td>0.76</td>\n",
       "      <td>None</td>\n",
       "    </tr>\n",
       "    <tr>\n",
       "      <th>1</th>\n",
       "      <td>DecisionTreeClassifier</td>\n",
       "      <td>0.58</td>\n",
       "      <td>0.83</td>\n",
       "      <td>None</td>\n",
       "    </tr>\n",
       "    <tr>\n",
       "      <th>2</th>\n",
       "      <td>RandomForestClassifier</td>\n",
       "      <td>0.57</td>\n",
       "      <td>0.83</td>\n",
       "      <td>None</td>\n",
       "    </tr>\n",
       "  </tbody>\n",
       "</table>\n",
       "</div>"
      ],
      "text/plain": [
       "                    model  best_f1_score  best_roc_auc_score disb_combat_meth\n",
       "0      LogisticRegression           0.33                0.76             None\n",
       "1  DecisionTreeClassifier           0.58                0.83             None\n",
       "2  RandomForestClassifier           0.57                0.83             None"
      ]
     },
     "execution_count": 39,
     "metadata": {},
     "output_type": "execute_result"
    }
   ],
   "source": [
    "best_results = pd.DataFrame({'model': models, 'best_f1_score':f1_scores, 'best_roc_auc_score': roc_auc_scores, 'disb_combat_meth': disb_combat_meth})\n",
    "best_results"
   ]
  },
  {
   "cell_type": "markdown",
   "metadata": {},
   "source": [
    "Вывод:\n",
    "На данном этапе на несбалансированной выборке не удалось достичь требуемых параметров F1 меры, следовательно нужно тестировать модели на сбалансированной выборке. "
   ]
  },
  {
   "cell_type": "markdown",
   "metadata": {},
   "source": []
  },
  {
   "cell_type": "markdown",
   "metadata": {},
   "source": [
    "## Борьба с дисбалансом"
   ]
  },
  {
   "cell_type": "code",
   "execution_count": 40,
   "metadata": {
    "scrolled": true
   },
   "outputs": [
    {
     "data": {
      "text/html": [
       "<div>\n",
       "<style scoped>\n",
       "    .dataframe tbody tr th:only-of-type {\n",
       "        vertical-align: middle;\n",
       "    }\n",
       "\n",
       "    .dataframe tbody tr th {\n",
       "        vertical-align: top;\n",
       "    }\n",
       "\n",
       "    .dataframe thead th {\n",
       "        text-align: right;\n",
       "    }\n",
       "</style>\n",
       "<table border=\"1\" class=\"dataframe\">\n",
       "  <thead>\n",
       "    <tr style=\"text-align: right;\">\n",
       "      <th></th>\n",
       "      <th>CreditScore</th>\n",
       "      <th>Age</th>\n",
       "      <th>Tenure</th>\n",
       "      <th>Balance</th>\n",
       "      <th>NumOfProducts</th>\n",
       "      <th>HasCrCard</th>\n",
       "      <th>IsActiveMember</th>\n",
       "      <th>EstimatedSalary</th>\n",
       "      <th>France</th>\n",
       "      <th>Germany</th>\n",
       "      <th>Spain</th>\n",
       "      <th>Female</th>\n",
       "      <th>Male</th>\n",
       "    </tr>\n",
       "  </thead>\n",
       "  <tbody>\n",
       "    <tr>\n",
       "      <th>0</th>\n",
       "      <td>-1.182855</td>\n",
       "      <td>-1.542300</td>\n",
       "      <td>0.347759</td>\n",
       "      <td>0.246473</td>\n",
       "      <td>0.78918</td>\n",
       "      <td>1</td>\n",
       "      <td>0</td>\n",
       "      <td>0.355687</td>\n",
       "      <td>0.0</td>\n",
       "      <td>1.0</td>\n",
       "      <td>0.0</td>\n",
       "      <td>0.0</td>\n",
       "      <td>1.0</td>\n",
       "    </tr>\n",
       "    <tr>\n",
       "      <th>1</th>\n",
       "      <td>-0.788466</td>\n",
       "      <td>-0.486263</td>\n",
       "      <td>-0.003663</td>\n",
       "      <td>-1.231930</td>\n",
       "      <td>0.78918</td>\n",
       "      <td>0</td>\n",
       "      <td>0</td>\n",
       "      <td>-1.252828</td>\n",
       "      <td>0.0</td>\n",
       "      <td>0.0</td>\n",
       "      <td>1.0</td>\n",
       "      <td>0.0</td>\n",
       "      <td>1.0</td>\n",
       "    </tr>\n",
       "    <tr>\n",
       "      <th>2</th>\n",
       "      <td>0.124855</td>\n",
       "      <td>0.473771</td>\n",
       "      <td>1.050605</td>\n",
       "      <td>-1.231930</td>\n",
       "      <td>0.78918</td>\n",
       "      <td>1</td>\n",
       "      <td>1</td>\n",
       "      <td>1.307183</td>\n",
       "      <td>1.0</td>\n",
       "      <td>0.0</td>\n",
       "      <td>0.0</td>\n",
       "      <td>0.0</td>\n",
       "      <td>1.0</td>\n",
       "    </tr>\n",
       "    <tr>\n",
       "      <th>3</th>\n",
       "      <td>-0.362942</td>\n",
       "      <td>0.185761</td>\n",
       "      <td>1.402027</td>\n",
       "      <td>0.512914</td>\n",
       "      <td>-0.90684</td>\n",
       "      <td>1</td>\n",
       "      <td>0</td>\n",
       "      <td>1.676009</td>\n",
       "      <td>0.0</td>\n",
       "      <td>0.0</td>\n",
       "      <td>1.0</td>\n",
       "      <td>1.0</td>\n",
       "      <td>0.0</td>\n",
       "    </tr>\n",
       "    <tr>\n",
       "      <th>4</th>\n",
       "      <td>-0.788466</td>\n",
       "      <td>-0.582266</td>\n",
       "      <td>-0.706509</td>\n",
       "      <td>0.918426</td>\n",
       "      <td>-0.90684</td>\n",
       "      <td>1</td>\n",
       "      <td>0</td>\n",
       "      <td>-0.645332</td>\n",
       "      <td>1.0</td>\n",
       "      <td>0.0</td>\n",
       "      <td>0.0</td>\n",
       "      <td>1.0</td>\n",
       "      <td>0.0</td>\n",
       "    </tr>\n",
       "  </tbody>\n",
       "</table>\n",
       "</div>"
      ],
      "text/plain": [
       "   CreditScore       Age    Tenure   Balance  NumOfProducts  HasCrCard  \\\n",
       "0    -1.182855 -1.542300  0.347759  0.246473        0.78918          1   \n",
       "1    -0.788466 -0.486263 -0.003663 -1.231930        0.78918          0   \n",
       "2     0.124855  0.473771  1.050605 -1.231930        0.78918          1   \n",
       "3    -0.362942  0.185761  1.402027  0.512914       -0.90684          1   \n",
       "4    -0.788466 -0.582266 -0.706509  0.918426       -0.90684          1   \n",
       "\n",
       "   IsActiveMember  EstimatedSalary  France  Germany  Spain  Female  Male  \n",
       "0               0         0.355687     0.0      1.0    0.0     0.0   1.0  \n",
       "1               0        -1.252828     0.0      0.0    1.0     0.0   1.0  \n",
       "2               1         1.307183     1.0      0.0    0.0     0.0   1.0  \n",
       "3               0         1.676009     0.0      0.0    1.0     1.0   0.0  \n",
       "4               0        -0.645332     1.0      0.0    0.0     1.0   0.0  "
      ]
     },
     "execution_count": 40,
     "metadata": {},
     "output_type": "execute_result"
    }
   ],
   "source": [
    "# Создадим дф для обучения тестовой выборки прежде чем выборки будут сбалансированы\n",
    "target_train_test = pd.concat([target_train, target_valid])\n",
    "target_train_test.head()\n",
    "\n",
    "features_train_test = pd.concat([features_train,features_valid])\n",
    "features_train_test.head()"
   ]
  },
  {
   "cell_type": "code",
   "execution_count": 41,
   "metadata": {},
   "outputs": [
    {
     "data": {
      "text/html": [
       "<div>\n",
       "<style scoped>\n",
       "    .dataframe tbody tr th:only-of-type {\n",
       "        vertical-align: middle;\n",
       "    }\n",
       "\n",
       "    .dataframe tbody tr th {\n",
       "        vertical-align: top;\n",
       "    }\n",
       "\n",
       "    .dataframe thead th {\n",
       "        text-align: right;\n",
       "    }\n",
       "</style>\n",
       "<table border=\"1\" class=\"dataframe\">\n",
       "  <thead>\n",
       "    <tr style=\"text-align: right;\">\n",
       "      <th></th>\n",
       "      <th>Exited</th>\n",
       "    </tr>\n",
       "  </thead>\n",
       "  <tbody>\n",
       "    <tr>\n",
       "      <th>0</th>\n",
       "      <td>0.780374</td>\n",
       "    </tr>\n",
       "    <tr>\n",
       "      <th>1</th>\n",
       "      <td>0.219626</td>\n",
       "    </tr>\n",
       "  </tbody>\n",
       "</table>\n",
       "</div>"
      ],
      "text/plain": [
       "     Exited\n",
       "0  0.780374\n",
       "1  0.219626"
      ]
     },
     "execution_count": 41,
     "metadata": {},
     "output_type": "execute_result"
    }
   ],
   "source": [
    "# оценим дисбаланс \n",
    "df_train['Exited'].value_counts(normalize = True).to_frame()"
   ]
  },
  {
   "cell_type": "markdown",
   "metadata": {},
   "source": [
    "Выборка несбалансированна: отрицательных признаков почти в 4 раза больше чем положительных \n",
    "Я буду бороться с дисбалансом несколькими способами, а именно:\n",
    "\n",
    "1. Установкой параметра class_weight = 'balanced'\n",
    "2. Методом upsampling в связи с тем, что у меня не большая выборка, для использования downsamplinga, и мы делим ее на обучающую, валидационную и тестовую\n",
    "3. Через подбор значения threshold + установкой параметра class_weight = 'balanced'\n",
    "\n",
    "Оптимальные гиперпараметры для DecisionTree и RandomForest буду подбирать в циклах, чтобы на тест отправить модель с лучшими параметрами\n",
    "По достижении результата F1 меры => 0.61 цель будет считаться достигнутой и я протестирую модель на тестовой выборке"
   ]
  },
  {
   "cell_type": "markdown",
   "metadata": {},
   "source": [
    "### class_weight='balanced'"
   ]
  },
  {
   "cell_type": "markdown",
   "metadata": {},
   "source": [
    "##### LogisticRegression (class_weight='balanced')"
   ]
  },
  {
   "cell_type": "code",
   "execution_count": 42,
   "metadata": {
    "scrolled": true
   },
   "outputs": [
    {
     "name": "stdout",
     "output_type": "stream",
     "text": [
      "\n",
      "f1_score = 0.51\n",
      "roc_auc_score =0.76\n",
      "\n"
     ]
    }
   ],
   "source": [
    "# LogisticRegression\n",
    "model = LogisticRegression(random_state = RANDOM_STATE, solver='liblinear', class_weight=\"balanced\")\n",
    "model.fit(features_train, target_train)\n",
    "predicted_valid = model.predict(features_valid)\n",
    "first_class_pred_proba = model.predict_proba(features_valid)[:, 1]\n",
    "\n",
    "f1_result = f1_score (target_valid, predicted_valid)\n",
    "roc_auc = roc_auc_score(target_valid, first_class_pred_proba)\n",
    "print(f\"\"\"\n",
    "f1_score = {round(f1_result,2)}\n",
    "roc_auc_score ={round(roc_auc,2)}\n",
    "\"\"\")"
   ]
  },
  {
   "cell_type": "code",
   "execution_count": 43,
   "metadata": {},
   "outputs": [],
   "source": [
    "# заполняем список результата работы каждой модели\n",
    "f1_scores.append(f1_result)  \n",
    "roc_auc_scores.append(roc_auc) \n",
    "models.append(type(model).__name__)\n",
    "disb_combat_meth.append('class_weight = balanced')"
   ]
  },
  {
   "cell_type": "markdown",
   "metadata": {},
   "source": [
    "##### Decision Tree Classifier (class_weight='balanced')"
   ]
  },
  {
   "cell_type": "code",
   "execution_count": 44,
   "metadata": {
    "scrolled": false
   },
   "outputs": [
    {
     "name": "stdout",
     "output_type": "stream",
     "text": [
      "\n",
      "        max_depth = 5\n",
      "        best_f1_score : 0.58\n",
      "        best_roc_auc_score 0.82\n",
      "               \n"
     ]
    }
   ],
   "source": [
    "best_depth = None\n",
    "best_f1_score = 0.5\n",
    "best_roc_auc_score = 0\n",
    "\n",
    "for depth in range(5,30):# подбираем глубину дерева\n",
    "    model = DecisionTreeClassifier(random_state = RANDOM_STATE, max_depth = depth, class_weight='balanced') \n",
    "    model.fit(features_train, target_train) # обучаем модель\n",
    "    predicted_valid = model.predict(features_valid)\n",
    "    first_class_pred_proba = model.predict_proba(features_valid)[:, 1]\n",
    "    \n",
    "    f1_result = f1_score (target_valid, predicted_valid) \n",
    "    roc_auc = roc_auc_score(target_valid, first_class_pred_proba)\n",
    "    \n",
    "    if f1_result > best_f1_score:\n",
    "        best_model = model\n",
    "        best_depth = depth\n",
    "        best_f1_score = round(f1_result,2) #  наилучшее значение f1 меры на валидационной выборке\n",
    "        best_roc_auc_score = round(roc_auc,2)\n",
    "        print (f\"\"\"\n",
    "        max_depth = {best_depth}\n",
    "        best_f1_score : {round(best_f1_score,2)}\n",
    "        best_roc_auc_score {round(best_roc_auc_score,2)}\n",
    "               \"\"\")"
   ]
  },
  {
   "cell_type": "code",
   "execution_count": 45,
   "metadata": {},
   "outputs": [],
   "source": [
    "# заполняем список результата работы каждой модели\n",
    "f1_scores.append(best_f1_score)  \n",
    "roc_auc_scores.append(best_roc_auc_score) \n",
    "models.append(type(model).__name__)\n",
    "disb_combat_meth.append('class_weight = balanced')"
   ]
  },
  {
   "cell_type": "markdown",
   "metadata": {},
   "source": [
    "##### Random Forest  (balanced)"
   ]
  },
  {
   "cell_type": "code",
   "execution_count": 46,
   "metadata": {},
   "outputs": [
    {
     "name": "stdout",
     "output_type": "stream",
     "text": [
      "\n",
      "        n_estimators: 3\n",
      "        best_f1_score : 0.5\n",
      "        best_roc_auc_score 0.73\n",
      "               \n",
      "\n",
      "        n_estimators: 5\n",
      "        best_f1_score : 0.51\n",
      "        best_roc_auc_score 0.78\n",
      "               \n",
      "\n",
      "        n_estimators: 7\n",
      "        best_f1_score : 0.54\n",
      "        best_roc_auc_score 0.8\n",
      "               \n",
      "\n",
      "        n_estimators: 9\n",
      "        best_f1_score : 0.56\n",
      "        best_roc_auc_score 0.81\n",
      "               \n",
      "\n",
      "        n_estimators: 11\n",
      "        best_f1_score : 0.56\n",
      "        best_roc_auc_score 0.82\n",
      "               \n",
      "\n",
      "        n_estimators: 13\n",
      "        best_f1_score : 0.56\n",
      "        best_roc_auc_score 0.82\n",
      "               \n",
      "\n",
      "        n_estimators: 15\n",
      "        best_f1_score : 0.56\n",
      "        best_roc_auc_score 0.82\n",
      "               \n",
      "\n",
      "        n_estimators: 21\n",
      "        best_f1_score : 0.57\n",
      "        best_roc_auc_score 0.82\n",
      "               \n",
      "\n",
      "        n_estimators: 23\n",
      "        best_f1_score : 0.57\n",
      "        best_roc_auc_score 0.83\n",
      "               \n",
      "\n",
      "        n_estimators: 29\n",
      "        best_f1_score : 0.57\n",
      "        best_roc_auc_score 0.83\n",
      "               \n"
     ]
    }
   ],
   "source": [
    "best_n_estimators = None\n",
    "best_f1_score = 0.5\n",
    "best_roc_auc_score = 0\n",
    "# подбираем количество деревьев\n",
    "for est in range(1,30):\n",
    "    model = RandomForestClassifier (random_state=RANDOM_STATE, n_estimators = est, class_weight='balanced') \n",
    "    model.fit(features_train, target_train) # обучаем модель\n",
    "    predicted_valid = model.predict(features_valid)\n",
    "    first_class_pred_proba = model.predict_proba(features_valid)[:, 1]\n",
    "    \n",
    "    f1_result = f1_score (target_valid, predicted_valid) \n",
    "    roc_auc = roc_auc_score(target_valid, first_class_pred_proba)\n",
    "    \n",
    "    if f1_result > best_f1_score:\n",
    "        best_n_estimators = est\n",
    "        best_f1_score = round(f1_result,2) #  наилучшее значение f1 меры на валидационной выборке\n",
    "        best_roc_auc_score = round(roc_auc,2)\n",
    "        \n",
    "        print (f\"\"\"\n",
    "        n_estimators: {est}\n",
    "        best_f1_score : {round(best_f1_score,2)}\n",
    "        best_roc_auc_score {round(best_roc_auc_score,2)}\n",
    "               \"\"\")"
   ]
  },
  {
   "cell_type": "code",
   "execution_count": 47,
   "metadata": {},
   "outputs": [],
   "source": [
    "# заполняем список результата работы каждой модели\n",
    "f1_scores.append(best_f1_score)  \n",
    "roc_auc_scores.append(best_roc_auc_score) \n",
    "models.append(type(model).__name__)\n",
    "disb_combat_meth.append('class_weight = balanced')"
   ]
  },
  {
   "cell_type": "code",
   "execution_count": 48,
   "metadata": {},
   "outputs": [
    {
     "data": {
      "text/html": [
       "<div>\n",
       "<style scoped>\n",
       "    .dataframe tbody tr th:only-of-type {\n",
       "        vertical-align: middle;\n",
       "    }\n",
       "\n",
       "    .dataframe tbody tr th {\n",
       "        vertical-align: top;\n",
       "    }\n",
       "\n",
       "    .dataframe thead th {\n",
       "        text-align: right;\n",
       "    }\n",
       "</style>\n",
       "<table border=\"1\" class=\"dataframe\">\n",
       "  <thead>\n",
       "    <tr style=\"text-align: right;\">\n",
       "      <th></th>\n",
       "      <th>model</th>\n",
       "      <th>best_f1_score</th>\n",
       "      <th>best_roc_auc_score</th>\n",
       "      <th>disb_combat_meth</th>\n",
       "    </tr>\n",
       "  </thead>\n",
       "  <tbody>\n",
       "    <tr>\n",
       "      <th>0</th>\n",
       "      <td>LogisticRegression</td>\n",
       "      <td>0.330000</td>\n",
       "      <td>0.76000</td>\n",
       "      <td>None</td>\n",
       "    </tr>\n",
       "    <tr>\n",
       "      <th>1</th>\n",
       "      <td>DecisionTreeClassifier</td>\n",
       "      <td>0.580000</td>\n",
       "      <td>0.83000</td>\n",
       "      <td>None</td>\n",
       "    </tr>\n",
       "    <tr>\n",
       "      <th>2</th>\n",
       "      <td>RandomForestClassifier</td>\n",
       "      <td>0.570000</td>\n",
       "      <td>0.83000</td>\n",
       "      <td>None</td>\n",
       "    </tr>\n",
       "    <tr>\n",
       "      <th>3</th>\n",
       "      <td>LogisticRegression</td>\n",
       "      <td>0.508724</td>\n",
       "      <td>0.75861</td>\n",
       "      <td>class_weight = balanced</td>\n",
       "    </tr>\n",
       "    <tr>\n",
       "      <th>4</th>\n",
       "      <td>DecisionTreeClassifier</td>\n",
       "      <td>0.580000</td>\n",
       "      <td>0.82000</td>\n",
       "      <td>class_weight = balanced</td>\n",
       "    </tr>\n",
       "    <tr>\n",
       "      <th>5</th>\n",
       "      <td>RandomForestClassifier</td>\n",
       "      <td>0.570000</td>\n",
       "      <td>0.83000</td>\n",
       "      <td>class_weight = balanced</td>\n",
       "    </tr>\n",
       "  </tbody>\n",
       "</table>\n",
       "</div>"
      ],
      "text/plain": [
       "                    model  best_f1_score  best_roc_auc_score  \\\n",
       "0      LogisticRegression       0.330000             0.76000   \n",
       "1  DecisionTreeClassifier       0.580000             0.83000   \n",
       "2  RandomForestClassifier       0.570000             0.83000   \n",
       "3      LogisticRegression       0.508724             0.75861   \n",
       "4  DecisionTreeClassifier       0.580000             0.82000   \n",
       "5  RandomForestClassifier       0.570000             0.83000   \n",
       "\n",
       "          disb_combat_meth  \n",
       "0                     None  \n",
       "1                     None  \n",
       "2                     None  \n",
       "3  class_weight = balanced  \n",
       "4  class_weight = balanced  \n",
       "5  class_weight = balanced  "
      ]
     },
     "execution_count": 48,
     "metadata": {},
     "output_type": "execute_result"
    }
   ],
   "source": [
    "best_results = pd.DataFrame({'model': models, 'best_f1_score':f1_scores, 'best_roc_auc_score': roc_auc_scores, 'disb_combat_meth': disb_combat_meth})\n",
    "best_results"
   ]
  },
  {
   "cell_type": "markdown",
   "metadata": {},
   "source": [
    "Вывод:\n",
    "На данном этапе на несбалансированной выборке не удалось достичь требуемых параметров F1 меры, следовательно нужно тестировать модели на сбалансированной выборке"
   ]
  },
  {
   "cell_type": "markdown",
   "metadata": {},
   "source": [
    "### Threshold и class_weight = 'balanced'"
   ]
  },
  {
   "cell_type": "markdown",
   "metadata": {},
   "source": [
    "#### LogisticRegression(threshold+class_weight = 'balanced')"
   ]
  },
  {
   "cell_type": "code",
   "execution_count": 49,
   "metadata": {},
   "outputs": [
    {
     "name": "stdout",
     "output_type": "stream",
     "text": [
      "\n",
      "        threshold = 0.5\n",
      "        f1_score= 0.51\n",
      "        Roc_auc =0.76\n",
      "          \n"
     ]
    }
   ],
   "source": [
    "# LogisticRegression\n",
    "model = LogisticRegression(random_state = RANDOM_STATE, solver='liblinear', class_weight = 'balanced')\n",
    "model.fit(features_train, target_train)\n",
    "\n",
    "# выбираем порог\n",
    "best_f1_score = 0.5\n",
    "best_roc_auc_score = 0\n",
    "for threshold in np.arange(0, 1, 0.1):\n",
    "    # вероятность первого класса\n",
    "    probabilities_one_valid = model.predict_proba(features_valid)[:,1] \n",
    "    predicted_valid = probabilities_one_valid >= threshold\n",
    "    f1_result = f1_score (target_valid, predicted_valid)\n",
    "    roc_auc = roc_auc_score(target_valid, probabilities_one_valid)\n",
    "    if (f1_result >= best_f1_score) & (roc_auc >=best_roc_auc_score):\n",
    "        best_f1_score = f1_result\n",
    "        best_roc_auc_score = roc_auc\n",
    "\n",
    "        print(f\"\"\"\n",
    "        threshold = {round(threshold,2)}\n",
    "        f1_score= {round(best_f1_score,2)}\n",
    "        Roc_auc ={round(best_roc_auc_score,2)}\n",
    "          \"\"\")"
   ]
  },
  {
   "cell_type": "code",
   "execution_count": 50,
   "metadata": {},
   "outputs": [],
   "source": [
    "# заполняем список результата работы каждой модели\n",
    "f1_scores.append(best_f1_score)  \n",
    "roc_auc_scores.append(best_roc_auc_score) \n",
    "models.append(type(model).__name__)\n",
    "disb_combat_meth.append('threshold + class_weight = balanced')"
   ]
  },
  {
   "cell_type": "markdown",
   "metadata": {},
   "source": [
    "#### DecisionTreeClassifier (threshold+class_weight = 'balanced')"
   ]
  },
  {
   "cell_type": "code",
   "execution_count": 51,
   "metadata": {},
   "outputs": [
    {
     "name": "stdout",
     "output_type": "stream",
     "text": [
      "\n",
      "               max_depth = 5\n",
      "               threshold = 0.3\n",
      "               best_f1_score = 0.51\n",
      "               roc_auc = 0.82\n",
      "               \n",
      "\n",
      "               max_depth = 5\n",
      "               threshold = 0.4\n",
      "               best_f1_score = 0.56\n",
      "               roc_auc = 0.82\n",
      "               \n",
      "\n",
      "               max_depth = 5\n",
      "               threshold = 0.5\n",
      "               best_f1_score = 0.58\n",
      "               roc_auc = 0.82\n",
      "               \n",
      "\n",
      "               max_depth = 5\n",
      "               threshold = 0.6\n",
      "               best_f1_score = 0.59\n",
      "               roc_auc = 0.82\n",
      "               \n"
     ]
    }
   ],
   "source": [
    "best_model = None\n",
    "best_f1_score = 0.5\n",
    "best_roc_auc_score = 0\n",
    "best_depth = 0\n",
    "best_threshold = 0\n",
    "for depth in range(5,30):\n",
    "    for threshold in np.arange(0, 1.1, 0.1):\n",
    "        model = DecisionTreeClassifier(random_state = RANDOM_STATE, max_depth = depth , class_weight = 'balanced') # подбираем глубину дерева\n",
    "        model.fit(features_train, target_train) # обучаем модель\n",
    "        probabilities_one_valid = model.predict_proba(features_valid)[:,1] \n",
    "        predicted_valid = probabilities_one_valid >= threshold\n",
    "        result_f1 = f1_score (target_valid, predicted_valid)  \n",
    "        roc_auc = roc_auc_score(target_valid, probabilities_one_valid)\n",
    "        if result_f1 > best_f1_score:\n",
    "            best_model = model\n",
    "            best_f1_score = round(result_f1,2) #  наилучшее значение f1 меры на валидационной выборке\n",
    "            best_roc_auc_score = round(roc_auc,2)\n",
    "            best_depth = depth\n",
    "            best_threshold = threshold\n",
    "            print (f\"\"\"\n",
    "               max_depth = {best_depth}\n",
    "               threshold = {round(best_threshold,2)}\n",
    "               best_f1_score = {round(best_f1_score,2)}\n",
    "               roc_auc = {round(best_roc_auc_score,2)}\n",
    "               \"\"\")"
   ]
  },
  {
   "cell_type": "code",
   "execution_count": 52,
   "metadata": {},
   "outputs": [],
   "source": [
    "# заполняем список результата работы каждой модели\n",
    "f1_scores.append(best_f1_score)  \n",
    "roc_auc_scores.append(best_roc_auc_score) \n",
    "models.append(type(model).__name__)\n",
    "disb_combat_meth.append('threshold + class_weight = balanced')"
   ]
  },
  {
   "cell_type": "markdown",
   "metadata": {},
   "source": [
    "####  Random Forest  (threshold+class_weight = 'balanced')"
   ]
  },
  {
   "cell_type": "code",
   "execution_count": 53,
   "metadata": {},
   "outputs": [
    {
     "name": "stdout",
     "output_type": "stream",
     "text": [
      "\n",
      "               n_estimators = 5\n",
      "               best_threshold = 0.3\n",
      "               f1_score = 0.55\n",
      "               roc_auc 0.78\n",
      "               \n",
      "\n",
      "               n_estimators = 6\n",
      "               best_threshold = 0.4\n",
      "               f1_score = 0.56\n",
      "               roc_auc 0.79\n",
      "               \n",
      "\n",
      "               n_estimators = 8\n",
      "               best_threshold = 0.4\n",
      "               f1_score = 0.57\n",
      "               roc_auc 0.81\n",
      "               \n",
      "\n",
      "               n_estimators = 9\n",
      "               best_threshold = 0.4\n",
      "               f1_score = 0.58\n",
      "               roc_auc 0.81\n",
      "               \n",
      "\n",
      "               n_estimators = 12\n",
      "               best_threshold = 0.4\n",
      "               f1_score = 0.59\n",
      "               roc_auc 0.82\n",
      "               \n",
      "\n",
      "               n_estimators = 15\n",
      "               best_threshold = 0.4\n",
      "               f1_score = 0.6\n",
      "               roc_auc 0.82\n",
      "               \n",
      "\n",
      "               n_estimators = 22\n",
      "               best_threshold = 0.4\n",
      "               f1_score = 0.61\n",
      "               roc_auc 0.83\n",
      "               \n",
      "\n",
      "               n_estimators = 29\n",
      "               best_threshold = 0.4\n",
      "               f1_score = 0.62\n",
      "               roc_auc 0.83\n",
      "               \n",
      "\n",
      "               n_estimators = 37\n",
      "               best_threshold = 0.4\n",
      "               f1_score = 0.63\n",
      "               roc_auc 0.84\n",
      "               \n"
     ]
    }
   ],
   "source": [
    "best_model = None\n",
    "best_f1_score = 0.5\n",
    "best_roc_auc_score = 0\n",
    "n_estimators = 0\n",
    "best_threshold = 0\n",
    "for est in range(5,40):\n",
    "    for threshold in np.arange(0, 1.1, 0.1):\n",
    "        model = RandomForestClassifier (random_state=RANDOM_STATE, n_estimators = est,class_weight='balanced') # подбираем количество деревьев\n",
    "        model.fit(features_train, target_train) # обучаем модель\n",
    "        probabilities_one_valid = model.predict_proba(features_valid)[:,1] \n",
    "        predicted_valid = probabilities_one_valid >= threshold\n",
    "        result_f1 = f1_score (target_valid, predicted_valid)  # качество модели\n",
    "        roc_auc = roc_auc_score(target_valid, probabilities_one_valid)\n",
    "        if round(result_f1,2) > best_f1_score:\n",
    "            best_model = model\n",
    "            best_f1_score = round(result_f1,2) #  наилучшее значение f1 меры на валидационной выборке\n",
    "            best_roc_auc_score = roc_auc\n",
    "            n_estimators = est\n",
    "            best_threshold = threshold\n",
    "            print (f\"\"\"\n",
    "               n_estimators = {est}\n",
    "               best_threshold = {round(threshold,2)}\n",
    "               f1_score = {round(best_f1_score,2)}\n",
    "               roc_auc {round(best_roc_auc_score,2)}\n",
    "               \"\"\")"
   ]
  },
  {
   "cell_type": "code",
   "execution_count": 54,
   "metadata": {},
   "outputs": [],
   "source": [
    "# заполняем список результата работы каждой модели\n",
    "f1_scores.append(best_f1_score)  \n",
    "roc_auc_scores.append(best_roc_auc_score) \n",
    "models.append(type(model).__name__)\n",
    "disb_combat_meth.append('threshold + class_weight = balanced')"
   ]
  },
  {
   "cell_type": "code",
   "execution_count": 55,
   "metadata": {},
   "outputs": [
    {
     "data": {
      "text/html": [
       "<div>\n",
       "<style scoped>\n",
       "    .dataframe tbody tr th:only-of-type {\n",
       "        vertical-align: middle;\n",
       "    }\n",
       "\n",
       "    .dataframe tbody tr th {\n",
       "        vertical-align: top;\n",
       "    }\n",
       "\n",
       "    .dataframe thead th {\n",
       "        text-align: right;\n",
       "    }\n",
       "</style>\n",
       "<table border=\"1\" class=\"dataframe\">\n",
       "  <thead>\n",
       "    <tr style=\"text-align: right;\">\n",
       "      <th></th>\n",
       "      <th>model</th>\n",
       "      <th>best_f1_score</th>\n",
       "      <th>best_roc_auc_score</th>\n",
       "      <th>disb_combat_meth</th>\n",
       "    </tr>\n",
       "  </thead>\n",
       "  <tbody>\n",
       "    <tr>\n",
       "      <th>0</th>\n",
       "      <td>LogisticRegression</td>\n",
       "      <td>0.330000</td>\n",
       "      <td>0.760000</td>\n",
       "      <td>None</td>\n",
       "    </tr>\n",
       "    <tr>\n",
       "      <th>1</th>\n",
       "      <td>DecisionTreeClassifier</td>\n",
       "      <td>0.580000</td>\n",
       "      <td>0.830000</td>\n",
       "      <td>None</td>\n",
       "    </tr>\n",
       "    <tr>\n",
       "      <th>2</th>\n",
       "      <td>RandomForestClassifier</td>\n",
       "      <td>0.570000</td>\n",
       "      <td>0.830000</td>\n",
       "      <td>None</td>\n",
       "    </tr>\n",
       "    <tr>\n",
       "      <th>3</th>\n",
       "      <td>LogisticRegression</td>\n",
       "      <td>0.508724</td>\n",
       "      <td>0.758610</td>\n",
       "      <td>class_weight = balanced</td>\n",
       "    </tr>\n",
       "    <tr>\n",
       "      <th>4</th>\n",
       "      <td>DecisionTreeClassifier</td>\n",
       "      <td>0.580000</td>\n",
       "      <td>0.820000</td>\n",
       "      <td>class_weight = balanced</td>\n",
       "    </tr>\n",
       "    <tr>\n",
       "      <th>5</th>\n",
       "      <td>RandomForestClassifier</td>\n",
       "      <td>0.570000</td>\n",
       "      <td>0.830000</td>\n",
       "      <td>class_weight = balanced</td>\n",
       "    </tr>\n",
       "    <tr>\n",
       "      <th>6</th>\n",
       "      <td>LogisticRegression</td>\n",
       "      <td>0.508724</td>\n",
       "      <td>0.758610</td>\n",
       "      <td>threshold + class_weight = balanced</td>\n",
       "    </tr>\n",
       "    <tr>\n",
       "      <th>7</th>\n",
       "      <td>DecisionTreeClassifier</td>\n",
       "      <td>0.590000</td>\n",
       "      <td>0.820000</td>\n",
       "      <td>threshold + class_weight = balanced</td>\n",
       "    </tr>\n",
       "    <tr>\n",
       "      <th>8</th>\n",
       "      <td>RandomForestClassifier</td>\n",
       "      <td>0.630000</td>\n",
       "      <td>0.837309</td>\n",
       "      <td>threshold + class_weight = balanced</td>\n",
       "    </tr>\n",
       "  </tbody>\n",
       "</table>\n",
       "</div>"
      ],
      "text/plain": [
       "                    model  best_f1_score  best_roc_auc_score  \\\n",
       "0      LogisticRegression       0.330000            0.760000   \n",
       "1  DecisionTreeClassifier       0.580000            0.830000   \n",
       "2  RandomForestClassifier       0.570000            0.830000   \n",
       "3      LogisticRegression       0.508724            0.758610   \n",
       "4  DecisionTreeClassifier       0.580000            0.820000   \n",
       "5  RandomForestClassifier       0.570000            0.830000   \n",
       "6      LogisticRegression       0.508724            0.758610   \n",
       "7  DecisionTreeClassifier       0.590000            0.820000   \n",
       "8  RandomForestClassifier       0.630000            0.837309   \n",
       "\n",
       "                      disb_combat_meth  \n",
       "0                                 None  \n",
       "1                                 None  \n",
       "2                                 None  \n",
       "3              class_weight = balanced  \n",
       "4              class_weight = balanced  \n",
       "5              class_weight = balanced  \n",
       "6  threshold + class_weight = balanced  \n",
       "7  threshold + class_weight = balanced  \n",
       "8  threshold + class_weight = balanced  "
      ]
     },
     "execution_count": 55,
     "metadata": {},
     "output_type": "execute_result"
    }
   ],
   "source": [
    "best_results = pd.DataFrame({'model': models, 'best_f1_score':f1_scores, 'best_roc_auc_score': roc_auc_scores, 'disb_combat_meth': disb_combat_meth})\n",
    "best_results"
   ]
  },
  {
   "cell_type": "markdown",
   "metadata": {},
   "source": [
    "### Upsampling"
   ]
  },
  {
   "cell_type": "code",
   "execution_count": 56,
   "metadata": {},
   "outputs": [
    {
     "name": "stdout",
     "output_type": "stream",
     "text": [
      "   CreditScore       Age    Tenure   Balance  NumOfProducts  HasCrCard  \\\n",
      "0    -1.182855 -1.542300  0.347759  0.246473        0.78918          1   \n",
      "1    -0.788466 -0.486263 -0.003663 -1.231930        0.78918          0   \n",
      "2     0.124855  0.473771  1.050605 -1.231930        0.78918          1   \n",
      "3    -0.362942  0.185761  1.402027  0.512914       -0.90684          1   \n",
      "4    -0.788466 -0.582266 -0.706509  0.918426       -0.90684          1   \n",
      "\n",
      "   IsActiveMember  EstimatedSalary  France  Germany  Spain  Female  Male  \\\n",
      "0               0         0.355687     0.0      1.0    0.0     0.0   1.0   \n",
      "1               0        -1.252828     0.0      0.0    1.0     0.0   1.0   \n",
      "2               1         1.307183     1.0      0.0    0.0     0.0   1.0   \n",
      "3               0         1.676009     0.0      0.0    1.0     1.0   0.0   \n",
      "4               0        -0.645332     1.0      0.0    0.0     1.0   0.0   \n",
      "\n",
      "   Exited  \n",
      "0       0  \n",
      "1       0  \n",
      "2       0  \n",
      "3       0  \n",
      "4       0  \n",
      "CreditScore        0\n",
      "Age                0\n",
      "Tenure             0\n",
      "Balance            0\n",
      "NumOfProducts      0\n",
      "HasCrCard          0\n",
      "IsActiveMember     0\n",
      "EstimatedSalary    0\n",
      "France             0\n",
      "Germany            0\n",
      "Spain              0\n",
      "Female             0\n",
      "Male               0\n",
      "Exited             0\n",
      "dtype: int64\n"
     ]
    },
    {
     "data": {
      "text/html": [
       "<div>\n",
       "<style scoped>\n",
       "    .dataframe tbody tr th:only-of-type {\n",
       "        vertical-align: middle;\n",
       "    }\n",
       "\n",
       "    .dataframe tbody tr th {\n",
       "        vertical-align: top;\n",
       "    }\n",
       "\n",
       "    .dataframe thead th {\n",
       "        text-align: right;\n",
       "    }\n",
       "</style>\n",
       "<table border=\"1\" class=\"dataframe\">\n",
       "  <thead>\n",
       "    <tr style=\"text-align: right;\">\n",
       "      <th></th>\n",
       "      <th>CreditScore</th>\n",
       "      <th>Age</th>\n",
       "      <th>Tenure</th>\n",
       "      <th>Balance</th>\n",
       "      <th>NumOfProducts</th>\n",
       "      <th>HasCrCard</th>\n",
       "      <th>IsActiveMember</th>\n",
       "      <th>EstimatedSalary</th>\n",
       "      <th>France</th>\n",
       "      <th>Germany</th>\n",
       "      <th>Spain</th>\n",
       "      <th>Female</th>\n",
       "      <th>Male</th>\n",
       "    </tr>\n",
       "  </thead>\n",
       "  <tbody>\n",
       "    <tr>\n",
       "      <th>0</th>\n",
       "      <td>-1.182855</td>\n",
       "      <td>-1.542300</td>\n",
       "      <td>0.347759</td>\n",
       "      <td>0.246473</td>\n",
       "      <td>0.78918</td>\n",
       "      <td>1</td>\n",
       "      <td>0</td>\n",
       "      <td>0.355687</td>\n",
       "      <td>0.0</td>\n",
       "      <td>1.0</td>\n",
       "      <td>0.0</td>\n",
       "      <td>0.0</td>\n",
       "      <td>1.0</td>\n",
       "    </tr>\n",
       "    <tr>\n",
       "      <th>1</th>\n",
       "      <td>-0.788466</td>\n",
       "      <td>-0.486263</td>\n",
       "      <td>-0.003663</td>\n",
       "      <td>-1.231930</td>\n",
       "      <td>0.78918</td>\n",
       "      <td>0</td>\n",
       "      <td>0</td>\n",
       "      <td>-1.252828</td>\n",
       "      <td>0.0</td>\n",
       "      <td>0.0</td>\n",
       "      <td>1.0</td>\n",
       "      <td>0.0</td>\n",
       "      <td>1.0</td>\n",
       "    </tr>\n",
       "    <tr>\n",
       "      <th>2</th>\n",
       "      <td>0.124855</td>\n",
       "      <td>0.473771</td>\n",
       "      <td>1.050605</td>\n",
       "      <td>-1.231930</td>\n",
       "      <td>0.78918</td>\n",
       "      <td>1</td>\n",
       "      <td>1</td>\n",
       "      <td>1.307183</td>\n",
       "      <td>1.0</td>\n",
       "      <td>0.0</td>\n",
       "      <td>0.0</td>\n",
       "      <td>0.0</td>\n",
       "      <td>1.0</td>\n",
       "    </tr>\n",
       "    <tr>\n",
       "      <th>3</th>\n",
       "      <td>-0.362942</td>\n",
       "      <td>0.185761</td>\n",
       "      <td>1.402027</td>\n",
       "      <td>0.512914</td>\n",
       "      <td>-0.90684</td>\n",
       "      <td>1</td>\n",
       "      <td>0</td>\n",
       "      <td>1.676009</td>\n",
       "      <td>0.0</td>\n",
       "      <td>0.0</td>\n",
       "      <td>1.0</td>\n",
       "      <td>1.0</td>\n",
       "      <td>0.0</td>\n",
       "    </tr>\n",
       "    <tr>\n",
       "      <th>4</th>\n",
       "      <td>-0.788466</td>\n",
       "      <td>-0.582266</td>\n",
       "      <td>-0.706509</td>\n",
       "      <td>0.918426</td>\n",
       "      <td>-0.90684</td>\n",
       "      <td>1</td>\n",
       "      <td>0</td>\n",
       "      <td>-0.645332</td>\n",
       "      <td>1.0</td>\n",
       "      <td>0.0</td>\n",
       "      <td>0.0</td>\n",
       "      <td>1.0</td>\n",
       "      <td>0.0</td>\n",
       "    </tr>\n",
       "    <tr>\n",
       "      <th>...</th>\n",
       "      <td>...</td>\n",
       "      <td>...</td>\n",
       "      <td>...</td>\n",
       "      <td>...</td>\n",
       "      <td>...</td>\n",
       "      <td>...</td>\n",
       "      <td>...</td>\n",
       "      <td>...</td>\n",
       "      <td>...</td>\n",
       "      <td>...</td>\n",
       "      <td>...</td>\n",
       "      <td>...</td>\n",
       "      <td>...</td>\n",
       "    </tr>\n",
       "    <tr>\n",
       "      <th>5557</th>\n",
       "      <td>0.425836</td>\n",
       "      <td>-0.870276</td>\n",
       "      <td>1.402027</td>\n",
       "      <td>-1.231930</td>\n",
       "      <td>0.78918</td>\n",
       "      <td>0</td>\n",
       "      <td>1</td>\n",
       "      <td>-1.554135</td>\n",
       "      <td>0.0</td>\n",
       "      <td>0.0</td>\n",
       "      <td>1.0</td>\n",
       "      <td>0.0</td>\n",
       "      <td>1.0</td>\n",
       "    </tr>\n",
       "    <tr>\n",
       "      <th>5558</th>\n",
       "      <td>0.353186</td>\n",
       "      <td>-0.486263</td>\n",
       "      <td>0.347759</td>\n",
       "      <td>-1.231930</td>\n",
       "      <td>0.78918</td>\n",
       "      <td>1</td>\n",
       "      <td>1</td>\n",
       "      <td>0.534424</td>\n",
       "      <td>1.0</td>\n",
       "      <td>0.0</td>\n",
       "      <td>0.0</td>\n",
       "      <td>1.0</td>\n",
       "      <td>0.0</td>\n",
       "    </tr>\n",
       "    <tr>\n",
       "      <th>5561</th>\n",
       "      <td>0.373943</td>\n",
       "      <td>-0.294256</td>\n",
       "      <td>-0.003663</td>\n",
       "      <td>-1.231930</td>\n",
       "      <td>0.78918</td>\n",
       "      <td>1</td>\n",
       "      <td>1</td>\n",
       "      <td>0.918324</td>\n",
       "      <td>0.0</td>\n",
       "      <td>0.0</td>\n",
       "      <td>1.0</td>\n",
       "      <td>1.0</td>\n",
       "      <td>0.0</td>\n",
       "    </tr>\n",
       "    <tr>\n",
       "      <th>5562</th>\n",
       "      <td>-0.082718</td>\n",
       "      <td>-0.294256</td>\n",
       "      <td>0.347759</td>\n",
       "      <td>-1.231930</td>\n",
       "      <td>0.78918</td>\n",
       "      <td>1</td>\n",
       "      <td>1</td>\n",
       "      <td>-0.039916</td>\n",
       "      <td>0.0</td>\n",
       "      <td>0.0</td>\n",
       "      <td>1.0</td>\n",
       "      <td>1.0</td>\n",
       "      <td>0.0</td>\n",
       "    </tr>\n",
       "    <tr>\n",
       "      <th>5563</th>\n",
       "      <td>1.494838</td>\n",
       "      <td>-0.198253</td>\n",
       "      <td>1.402027</td>\n",
       "      <td>-1.231930</td>\n",
       "      <td>0.78918</td>\n",
       "      <td>1</td>\n",
       "      <td>0</td>\n",
       "      <td>-0.560984</td>\n",
       "      <td>0.0</td>\n",
       "      <td>0.0</td>\n",
       "      <td>1.0</td>\n",
       "      <td>1.0</td>\n",
       "      <td>0.0</td>\n",
       "    </tr>\n",
       "  </tbody>\n",
       "</table>\n",
       "<p>4342 rows × 13 columns</p>\n",
       "</div>"
      ],
      "text/plain": [
       "      CreditScore       Age    Tenure   Balance  NumOfProducts  HasCrCard  \\\n",
       "0       -1.182855 -1.542300  0.347759  0.246473        0.78918          1   \n",
       "1       -0.788466 -0.486263 -0.003663 -1.231930        0.78918          0   \n",
       "2        0.124855  0.473771  1.050605 -1.231930        0.78918          1   \n",
       "3       -0.362942  0.185761  1.402027  0.512914       -0.90684          1   \n",
       "4       -0.788466 -0.582266 -0.706509  0.918426       -0.90684          1   \n",
       "...           ...       ...       ...       ...            ...        ...   \n",
       "5557     0.425836 -0.870276  1.402027 -1.231930        0.78918          0   \n",
       "5558     0.353186 -0.486263  0.347759 -1.231930        0.78918          1   \n",
       "5561     0.373943 -0.294256 -0.003663 -1.231930        0.78918          1   \n",
       "5562    -0.082718 -0.294256  0.347759 -1.231930        0.78918          1   \n",
       "5563     1.494838 -0.198253  1.402027 -1.231930        0.78918          1   \n",
       "\n",
       "      IsActiveMember  EstimatedSalary  France  Germany  Spain  Female  Male  \n",
       "0                  0         0.355687     0.0      1.0    0.0     0.0   1.0  \n",
       "1                  0        -1.252828     0.0      0.0    1.0     0.0   1.0  \n",
       "2                  1         1.307183     1.0      0.0    0.0     0.0   1.0  \n",
       "3                  0         1.676009     0.0      0.0    1.0     1.0   0.0  \n",
       "4                  0        -0.645332     1.0      0.0    0.0     1.0   0.0  \n",
       "...              ...              ...     ...      ...    ...     ...   ...  \n",
       "5557               1        -1.554135     0.0      0.0    1.0     0.0   1.0  \n",
       "5558               1         0.534424     1.0      0.0    0.0     1.0   0.0  \n",
       "5561               1         0.918324     0.0      0.0    1.0     1.0   0.0  \n",
       "5562               1        -0.039916     0.0      0.0    1.0     1.0   0.0  \n",
       "5563               0        -0.560984     0.0      0.0    1.0     1.0   0.0  \n",
       "\n",
       "[4342 rows x 13 columns]"
      ]
     },
     "execution_count": 56,
     "metadata": {},
     "output_type": "execute_result"
    }
   ],
   "source": [
    "df_scaled = pd.concat([features_train.reset_index(drop = True), target_train.reset_index(drop = True)], axis =1)\n",
    "print (df_scaled.head())\n",
    "print(df_scaled.isna().sum())\n",
    "target = df_scaled['Exited']\n",
    "features = df_scaled.drop(['Exited'], axis = 1)\n",
    "features[target == 0]"
   ]
  },
  {
   "cell_type": "code",
   "execution_count": 57,
   "metadata": {
    "scrolled": true
   },
   "outputs": [
    {
     "name": "stdout",
     "output_type": "stream",
     "text": [
      "\n",
      "Баланс классов в обучающей выборки после upsampling : \n",
      "     Exited\n",
      "0  0.542208\n",
      "1  0.457792\n",
      "\n"
     ]
    }
   ],
   "source": [
    "# увеличиваем обучающую выборку методом upsampling \n",
    "\n",
    "features_zeros = features[target == 0]\n",
    "features_ones = features[target == 1]\n",
    "target_zeros = target[target == 0]\n",
    "target_ones = target[target == 1]\n",
    "\n",
    "features_upsampled = pd.concat([features_zeros] + [features_ones] * 3)\n",
    "target_upsampled = pd.concat([target_zeros] + [target_ones] * 3)\n",
    "    \n",
    "features_train, target_train = shuffle(features_upsampled, target_upsampled, random_state=RANDOM_STATE)\n",
    "\n",
    "print (f\"\"\"\n",
    "Баланс классов в обучающей выборки после upsampling : \n",
    "{target_train.value_counts(normalize = True).to_frame()}\n",
    "\"\"\")"
   ]
  },
  {
   "cell_type": "markdown",
   "metadata": {},
   "source": [
    "####  LogisticRegression(Upsampling)"
   ]
  },
  {
   "cell_type": "code",
   "execution_count": 58,
   "metadata": {},
   "outputs": [
    {
     "name": "stdout",
     "output_type": "stream",
     "text": [
      "\n",
      "f1_score = 0.52\n",
      "roc_auc_score =0.76\n",
      "\n"
     ]
    }
   ],
   "source": [
    "# LogisticRegression\n",
    "model = LogisticRegression(random_state = RANDOM_STATE, solver='liblinear')\n",
    "model.fit(features_train, target_train)\n",
    "predicted_valid = model.predict(features_valid)\n",
    "first_class_pred_proba =  model.predict_proba(features_valid)[:,1]\n",
    "f1_result = f1_score (target_valid, predicted_valid)\n",
    "roc_auc = roc_auc_score(target_valid, first_class_pred_proba)\n",
    "print(f\"\"\"\n",
    "f1_score = {round(f1_result,2)}\n",
    "roc_auc_score ={round(roc_auc,2)}\n",
    "\"\"\")"
   ]
  },
  {
   "cell_type": "code",
   "execution_count": 59,
   "metadata": {},
   "outputs": [],
   "source": [
    "# заполняем список результата работы каждой модели\n",
    "f1_scores.append(f1_result)  \n",
    "roc_auc_scores.append(roc_auc) \n",
    "models.append(type(model).__name__)\n",
    "disb_combat_meth.append('upsampling')"
   ]
  },
  {
   "cell_type": "markdown",
   "metadata": {},
   "source": [
    "####  DecisionTree (upsampling)"
   ]
  },
  {
   "cell_type": "code",
   "execution_count": 60,
   "metadata": {},
   "outputs": [
    {
     "name": "stdout",
     "output_type": "stream",
     "text": [
      "\n",
      "        max_depth = 5\n",
      "        best_f1_score : 0.52\n",
      "        best_roc_auc_score 0.82\n",
      "               \n"
     ]
    }
   ],
   "source": [
    "best_depth = None\n",
    "best_f1_score = 0.5\n",
    "best_roc_auc_score = 0\n",
    "\n",
    "for depth in range(5,30):# подбираем глубину дерева\n",
    "    model = DecisionTreeClassifier(random_state = RANDOM_STATE, max_depth = depth) \n",
    "    model.fit(features_train, target_train) # обучаем модель\n",
    "    predicted_valid = model.predict(features_valid)\n",
    "    first_class_pred_proba =  model.predict_proba(features_valid)[:,1]\n",
    "   \n",
    "    result_f1 = f1_score (target_valid, predicted_valid)  # качество модели\n",
    "    roc_auc = roc_auc_score(target_valid, first_class_pred_proba)\n",
    "    \n",
    "    if f1_result > best_f1_score:\n",
    "        best_model = model\n",
    "        best_depth = depth\n",
    "        best_f1_score = round(f1_result,2) #  наилучшее значение f1 меры на валидационной выборке\n",
    "        best_roc_auc_score = round(roc_auc,2)\n",
    "        print (f\"\"\"\n",
    "        max_depth = {best_depth}\n",
    "        best_f1_score : {round(best_f1_score,2)}\n",
    "        best_roc_auc_score {round(best_roc_auc_score,2)}\n",
    "               \"\"\")"
   ]
  },
  {
   "cell_type": "code",
   "execution_count": 61,
   "metadata": {},
   "outputs": [],
   "source": [
    "# заполняем список результата работы каждой модели\n",
    "f1_scores.append(best_f1_score)  \n",
    "roc_auc_scores.append(best_roc_auc_score) \n",
    "models.append(type(model).__name__)\n",
    "disb_combat_meth.append('upsampling')"
   ]
  },
  {
   "cell_type": "markdown",
   "metadata": {},
   "source": [
    "####  RandomForest (upsampling)"
   ]
  },
  {
   "cell_type": "code",
   "execution_count": 62,
   "metadata": {},
   "outputs": [
    {
     "name": "stdout",
     "output_type": "stream",
     "text": [
      "\n",
      "        n_estimators: 5\n",
      "        best_f1_score : 0.57\n",
      "        best_roc_auc_score 0.8\n",
      "               \n",
      "\n",
      "        n_estimators: 7\n",
      "        best_f1_score : 0.58\n",
      "        best_roc_auc_score 0.82\n",
      "               \n",
      "\n",
      "        n_estimators: 9\n",
      "        best_f1_score : 0.59\n",
      "        best_roc_auc_score 0.82\n",
      "               \n",
      "\n",
      "        n_estimators: 15\n",
      "        best_f1_score : 0.59\n",
      "        best_roc_auc_score 0.83\n",
      "               \n",
      "\n",
      "        n_estimators: 17\n",
      "        best_f1_score : 0.59\n",
      "        best_roc_auc_score 0.84\n",
      "               \n",
      "\n",
      "        n_estimators: 19\n",
      "        best_f1_score : 0.6\n",
      "        best_roc_auc_score 0.84\n",
      "               \n",
      "\n",
      "        n_estimators: 25\n",
      "        best_f1_score : 0.6\n",
      "        best_roc_auc_score 0.84\n",
      "               \n",
      "\n",
      "        n_estimators: 26\n",
      "        best_f1_score : 0.6\n",
      "        best_roc_auc_score 0.84\n",
      "               \n",
      "\n",
      "        n_estimators: 27\n",
      "        best_f1_score : 0.61\n",
      "        best_roc_auc_score 0.84\n",
      "               \n"
     ]
    }
   ],
   "source": [
    "best_n_estimators = None\n",
    "best_f1_score = 0.5\n",
    "best_roc_auc_score = 0\n",
    "\n",
    "for est in range(5,30):\n",
    "    model = RandomForestClassifier (random_state=RANDOM_STATE, n_estimators = est) # подбираем количество деревьев\n",
    "    model.fit(features_train, target_train) # обучаем модель\n",
    "    predicted_valid = model.predict(features_valid)\n",
    "    first_class_pred_proba =  model.predict_proba(features_valid)[:,1]\n",
    "    \n",
    "    result_f1 = f1_score (target_valid, predicted_valid)  # качество модели\n",
    "    roc_auc = roc_auc_score(target_valid, first_class_pred_proba)\n",
    "    \n",
    "    if result_f1 > best_f1_score:\n",
    "        best_n_estimators = est\n",
    "        best_f1_score = round(result_f1,2) #  наилучшее значение f1 меры на валидационной выборке\n",
    "        best_roc_auc_score = round(roc_auc,2)\n",
    "        \n",
    "        print (f\"\"\"\n",
    "        n_estimators: {est}\n",
    "        best_f1_score : {round(best_f1_score,2)}\n",
    "        best_roc_auc_score {round(best_roc_auc_score,2)}\n",
    "               \"\"\")"
   ]
  },
  {
   "cell_type": "code",
   "execution_count": 63,
   "metadata": {},
   "outputs": [],
   "source": [
    "# заполняем список результата работы каждой модели\n",
    "f1_scores.append(best_f1_score)  \n",
    "roc_auc_scores.append(best_roc_auc_score) \n",
    "models.append(type(model).__name__)\n",
    "disb_combat_meth.append('upsampling')"
   ]
  },
  {
   "cell_type": "code",
   "execution_count": 64,
   "metadata": {},
   "outputs": [
    {
     "data": {
      "text/html": [
       "<div>\n",
       "<style scoped>\n",
       "    .dataframe tbody tr th:only-of-type {\n",
       "        vertical-align: middle;\n",
       "    }\n",
       "\n",
       "    .dataframe tbody tr th {\n",
       "        vertical-align: top;\n",
       "    }\n",
       "\n",
       "    .dataframe thead th {\n",
       "        text-align: right;\n",
       "    }\n",
       "</style>\n",
       "<table border=\"1\" class=\"dataframe\">\n",
       "  <thead>\n",
       "    <tr style=\"text-align: right;\">\n",
       "      <th></th>\n",
       "      <th>model</th>\n",
       "      <th>best_f1_score</th>\n",
       "      <th>best_roc_auc_score</th>\n",
       "      <th>disb_combat_meth</th>\n",
       "    </tr>\n",
       "  </thead>\n",
       "  <tbody>\n",
       "    <tr>\n",
       "      <th>0</th>\n",
       "      <td>LogisticRegression</td>\n",
       "      <td>0.330000</td>\n",
       "      <td>0.760000</td>\n",
       "      <td>None</td>\n",
       "    </tr>\n",
       "    <tr>\n",
       "      <th>1</th>\n",
       "      <td>DecisionTreeClassifier</td>\n",
       "      <td>0.580000</td>\n",
       "      <td>0.830000</td>\n",
       "      <td>None</td>\n",
       "    </tr>\n",
       "    <tr>\n",
       "      <th>2</th>\n",
       "      <td>RandomForestClassifier</td>\n",
       "      <td>0.570000</td>\n",
       "      <td>0.830000</td>\n",
       "      <td>None</td>\n",
       "    </tr>\n",
       "    <tr>\n",
       "      <th>3</th>\n",
       "      <td>LogisticRegression</td>\n",
       "      <td>0.508724</td>\n",
       "      <td>0.758610</td>\n",
       "      <td>class_weight = balanced</td>\n",
       "    </tr>\n",
       "    <tr>\n",
       "      <th>4</th>\n",
       "      <td>DecisionTreeClassifier</td>\n",
       "      <td>0.580000</td>\n",
       "      <td>0.820000</td>\n",
       "      <td>class_weight = balanced</td>\n",
       "    </tr>\n",
       "    <tr>\n",
       "      <th>5</th>\n",
       "      <td>RandomForestClassifier</td>\n",
       "      <td>0.570000</td>\n",
       "      <td>0.830000</td>\n",
       "      <td>class_weight = balanced</td>\n",
       "    </tr>\n",
       "    <tr>\n",
       "      <th>6</th>\n",
       "      <td>LogisticRegression</td>\n",
       "      <td>0.508724</td>\n",
       "      <td>0.758610</td>\n",
       "      <td>threshold + class_weight = balanced</td>\n",
       "    </tr>\n",
       "    <tr>\n",
       "      <th>7</th>\n",
       "      <td>DecisionTreeClassifier</td>\n",
       "      <td>0.590000</td>\n",
       "      <td>0.820000</td>\n",
       "      <td>threshold + class_weight = balanced</td>\n",
       "    </tr>\n",
       "    <tr>\n",
       "      <th>8</th>\n",
       "      <td>RandomForestClassifier</td>\n",
       "      <td>0.630000</td>\n",
       "      <td>0.837309</td>\n",
       "      <td>threshold + class_weight = balanced</td>\n",
       "    </tr>\n",
       "    <tr>\n",
       "      <th>9</th>\n",
       "      <td>LogisticRegression</td>\n",
       "      <td>0.518445</td>\n",
       "      <td>0.758461</td>\n",
       "      <td>upsampling</td>\n",
       "    </tr>\n",
       "    <tr>\n",
       "      <th>10</th>\n",
       "      <td>DecisionTreeClassifier</td>\n",
       "      <td>0.520000</td>\n",
       "      <td>0.820000</td>\n",
       "      <td>upsampling</td>\n",
       "    </tr>\n",
       "    <tr>\n",
       "      <th>11</th>\n",
       "      <td>RandomForestClassifier</td>\n",
       "      <td>0.610000</td>\n",
       "      <td>0.840000</td>\n",
       "      <td>upsampling</td>\n",
       "    </tr>\n",
       "  </tbody>\n",
       "</table>\n",
       "</div>"
      ],
      "text/plain": [
       "                     model  best_f1_score  best_roc_auc_score  \\\n",
       "0       LogisticRegression       0.330000            0.760000   \n",
       "1   DecisionTreeClassifier       0.580000            0.830000   \n",
       "2   RandomForestClassifier       0.570000            0.830000   \n",
       "3       LogisticRegression       0.508724            0.758610   \n",
       "4   DecisionTreeClassifier       0.580000            0.820000   \n",
       "5   RandomForestClassifier       0.570000            0.830000   \n",
       "6       LogisticRegression       0.508724            0.758610   \n",
       "7   DecisionTreeClassifier       0.590000            0.820000   \n",
       "8   RandomForestClassifier       0.630000            0.837309   \n",
       "9       LogisticRegression       0.518445            0.758461   \n",
       "10  DecisionTreeClassifier       0.520000            0.820000   \n",
       "11  RandomForestClassifier       0.610000            0.840000   \n",
       "\n",
       "                       disb_combat_meth  \n",
       "0                                  None  \n",
       "1                                  None  \n",
       "2                                  None  \n",
       "3               class_weight = balanced  \n",
       "4               class_weight = balanced  \n",
       "5               class_weight = balanced  \n",
       "6   threshold + class_weight = balanced  \n",
       "7   threshold + class_weight = balanced  \n",
       "8   threshold + class_weight = balanced  \n",
       "9                            upsampling  \n",
       "10                           upsampling  \n",
       "11                           upsampling  "
      ]
     },
     "execution_count": 64,
     "metadata": {},
     "output_type": "execute_result"
    }
   ],
   "source": [
    "best_results = pd.DataFrame({'model': models, 'best_f1_score':f1_scores, 'best_roc_auc_score': roc_auc_scores, 'disb_combat_meth': disb_combat_meth})\n",
    "best_results"
   ]
  },
  {
   "cell_type": "markdown",
   "metadata": {},
   "source": [
    "## Выбор модели"
   ]
  },
  {
   "cell_type": "markdown",
   "metadata": {},
   "source": []
  },
  {
   "cell_type": "code",
   "execution_count": 65,
   "metadata": {
    "scrolled": true
   },
   "outputs": [
    {
     "data": {
      "text/html": [
       "<div>\n",
       "<style scoped>\n",
       "    .dataframe tbody tr th:only-of-type {\n",
       "        vertical-align: middle;\n",
       "    }\n",
       "\n",
       "    .dataframe tbody tr th {\n",
       "        vertical-align: top;\n",
       "    }\n",
       "\n",
       "    .dataframe thead th {\n",
       "        text-align: right;\n",
       "    }\n",
       "</style>\n",
       "<table border=\"1\" class=\"dataframe\">\n",
       "  <thead>\n",
       "    <tr style=\"text-align: right;\">\n",
       "      <th></th>\n",
       "      <th>model</th>\n",
       "      <th>best_f1_score</th>\n",
       "      <th>best_roc_auc_score</th>\n",
       "      <th>disb_combat_meth</th>\n",
       "    </tr>\n",
       "  </thead>\n",
       "  <tbody>\n",
       "    <tr>\n",
       "      <th>0</th>\n",
       "      <td>LogisticRegression</td>\n",
       "      <td>0.330000</td>\n",
       "      <td>0.760000</td>\n",
       "      <td>None</td>\n",
       "    </tr>\n",
       "    <tr>\n",
       "      <th>1</th>\n",
       "      <td>DecisionTreeClassifier</td>\n",
       "      <td>0.580000</td>\n",
       "      <td>0.830000</td>\n",
       "      <td>None</td>\n",
       "    </tr>\n",
       "    <tr>\n",
       "      <th>2</th>\n",
       "      <td>RandomForestClassifier</td>\n",
       "      <td>0.570000</td>\n",
       "      <td>0.830000</td>\n",
       "      <td>None</td>\n",
       "    </tr>\n",
       "    <tr>\n",
       "      <th>3</th>\n",
       "      <td>LogisticRegression</td>\n",
       "      <td>0.508724</td>\n",
       "      <td>0.758610</td>\n",
       "      <td>class_weight = balanced</td>\n",
       "    </tr>\n",
       "    <tr>\n",
       "      <th>4</th>\n",
       "      <td>DecisionTreeClassifier</td>\n",
       "      <td>0.580000</td>\n",
       "      <td>0.820000</td>\n",
       "      <td>class_weight = balanced</td>\n",
       "    </tr>\n",
       "    <tr>\n",
       "      <th>5</th>\n",
       "      <td>RandomForestClassifier</td>\n",
       "      <td>0.570000</td>\n",
       "      <td>0.830000</td>\n",
       "      <td>class_weight = balanced</td>\n",
       "    </tr>\n",
       "    <tr>\n",
       "      <th>6</th>\n",
       "      <td>LogisticRegression</td>\n",
       "      <td>0.508724</td>\n",
       "      <td>0.758610</td>\n",
       "      <td>threshold + class_weight = balanced</td>\n",
       "    </tr>\n",
       "    <tr>\n",
       "      <th>7</th>\n",
       "      <td>DecisionTreeClassifier</td>\n",
       "      <td>0.590000</td>\n",
       "      <td>0.820000</td>\n",
       "      <td>threshold + class_weight = balanced</td>\n",
       "    </tr>\n",
       "    <tr>\n",
       "      <th>8</th>\n",
       "      <td>RandomForestClassifier</td>\n",
       "      <td>0.630000</td>\n",
       "      <td>0.837309</td>\n",
       "      <td>threshold + class_weight = balanced</td>\n",
       "    </tr>\n",
       "    <tr>\n",
       "      <th>9</th>\n",
       "      <td>LogisticRegression</td>\n",
       "      <td>0.518445</td>\n",
       "      <td>0.758461</td>\n",
       "      <td>upsampling</td>\n",
       "    </tr>\n",
       "    <tr>\n",
       "      <th>10</th>\n",
       "      <td>DecisionTreeClassifier</td>\n",
       "      <td>0.520000</td>\n",
       "      <td>0.820000</td>\n",
       "      <td>upsampling</td>\n",
       "    </tr>\n",
       "    <tr>\n",
       "      <th>11</th>\n",
       "      <td>RandomForestClassifier</td>\n",
       "      <td>0.610000</td>\n",
       "      <td>0.840000</td>\n",
       "      <td>upsampling</td>\n",
       "    </tr>\n",
       "  </tbody>\n",
       "</table>\n",
       "</div>"
      ],
      "text/plain": [
       "                     model  best_f1_score  best_roc_auc_score  \\\n",
       "0       LogisticRegression       0.330000            0.760000   \n",
       "1   DecisionTreeClassifier       0.580000            0.830000   \n",
       "2   RandomForestClassifier       0.570000            0.830000   \n",
       "3       LogisticRegression       0.508724            0.758610   \n",
       "4   DecisionTreeClassifier       0.580000            0.820000   \n",
       "5   RandomForestClassifier       0.570000            0.830000   \n",
       "6       LogisticRegression       0.508724            0.758610   \n",
       "7   DecisionTreeClassifier       0.590000            0.820000   \n",
       "8   RandomForestClassifier       0.630000            0.837309   \n",
       "9       LogisticRegression       0.518445            0.758461   \n",
       "10  DecisionTreeClassifier       0.520000            0.820000   \n",
       "11  RandomForestClassifier       0.610000            0.840000   \n",
       "\n",
       "                       disb_combat_meth  \n",
       "0                                  None  \n",
       "1                                  None  \n",
       "2                                  None  \n",
       "3               class_weight = balanced  \n",
       "4               class_weight = balanced  \n",
       "5               class_weight = balanced  \n",
       "6   threshold + class_weight = balanced  \n",
       "7   threshold + class_weight = balanced  \n",
       "8   threshold + class_weight = balanced  \n",
       "9                            upsampling  \n",
       "10                           upsampling  \n",
       "11                           upsampling  "
      ]
     },
     "execution_count": 65,
     "metadata": {},
     "output_type": "execute_result"
    }
   ],
   "source": [
    "best_results = pd.DataFrame({'model': models, 'best_f1_score':f1_scores, 'best_roc_auc_score': roc_auc_scores, 'disb_combat_meth': disb_combat_meth})\n",
    "best_results"
   ]
  },
  {
   "cell_type": "markdown",
   "metadata": {},
   "source": [
    "По результатам работы моделей мы наблюдаем, что требуемого параметра f1 меры удалось получить только для модели RandomForest на сбалансированной методом upsampling и threshold + class_weight = balanced выборках. \n",
    "\n",
    "Лучший результат f1 меры равный 0.63 показала модель RandomForestClassifier с гиперпараметром n_estimators = 37 и threshold = 0.4 на выборке сбалансированной методом threshold + class_weight = balanced.\n",
    "Именно эту модель мы проверим на тестовой выборке."
   ]
  },
  {
   "cell_type": "markdown",
   "metadata": {},
   "source": [
    "## Тестирование модели"
   ]
  },
  {
   "cell_type": "code",
   "execution_count": 66,
   "metadata": {},
   "outputs": [
    {
     "name": "stdout",
     "output_type": "stream",
     "text": [
      "\n",
      "Метрики модели RandomForestClassifier на тестовой выборке\n",
      "f1_score = 0.63\n",
      "roc_auc 0.86\n",
      "               \n"
     ]
    }
   ],
   "source": [
    "n_estimators = 37\n",
    "threshold = 0.4\n",
    "model = RandomForestClassifier (random_state=RANDOM_STATE, n_estimators = 37, class_weight='balanced')\n",
    "model.fit(features_train_test, target_train_test) # обучаем модель на объединенных выборках\n",
    "probabilities_one_test = model.predict_proba(features_test)[:,1] \n",
    "predicted_test = probabilities_one_test >= threshold\n",
    "first_class_pred_proba = model.predict_proba(features_test)[:,1]\n",
    "result_f1 = f1_score (target_test, predicted_test)  # качество модели\n",
    "roc_auc = roc_auc_score(target_test, first_class_pred_proba)\n",
    "    \n",
    "print (f\"\"\"\n",
    "Метрики модели RandomForestClassifier на тестовой выборке\n",
    "f1_score = {round(result_f1,2)}\n",
    "roc_auc {round(roc_auc,2)}\n",
    "               \"\"\")"
   ]
  },
  {
   "cell_type": "code",
   "execution_count": 67,
   "metadata": {},
   "outputs": [],
   "source": [
    "# заполняем список результата работы каждой модели\n",
    "f1_scores.append(result_f1)  \n",
    "roc_auc_scores.append(roc_auc) \n",
    "models.append(type(model).__name__)\n",
    "disb_combat_meth.append('TEST')"
   ]
  },
  {
   "cell_type": "code",
   "execution_count": 68,
   "metadata": {},
   "outputs": [
    {
     "data": {
      "text/html": [
       "<div>\n",
       "<style scoped>\n",
       "    .dataframe tbody tr th:only-of-type {\n",
       "        vertical-align: middle;\n",
       "    }\n",
       "\n",
       "    .dataframe tbody tr th {\n",
       "        vertical-align: top;\n",
       "    }\n",
       "\n",
       "    .dataframe thead th {\n",
       "        text-align: right;\n",
       "    }\n",
       "</style>\n",
       "<table border=\"1\" class=\"dataframe\">\n",
       "  <thead>\n",
       "    <tr style=\"text-align: right;\">\n",
       "      <th></th>\n",
       "      <th>model</th>\n",
       "      <th>best_f1_score</th>\n",
       "      <th>best_roc_auc_score</th>\n",
       "      <th>disb_combat_meth</th>\n",
       "    </tr>\n",
       "  </thead>\n",
       "  <tbody>\n",
       "    <tr>\n",
       "      <th>0</th>\n",
       "      <td>LogisticRegression</td>\n",
       "      <td>0.330000</td>\n",
       "      <td>0.760000</td>\n",
       "      <td>None</td>\n",
       "    </tr>\n",
       "    <tr>\n",
       "      <th>1</th>\n",
       "      <td>DecisionTreeClassifier</td>\n",
       "      <td>0.580000</td>\n",
       "      <td>0.830000</td>\n",
       "      <td>None</td>\n",
       "    </tr>\n",
       "    <tr>\n",
       "      <th>2</th>\n",
       "      <td>RandomForestClassifier</td>\n",
       "      <td>0.570000</td>\n",
       "      <td>0.830000</td>\n",
       "      <td>None</td>\n",
       "    </tr>\n",
       "    <tr>\n",
       "      <th>3</th>\n",
       "      <td>LogisticRegression</td>\n",
       "      <td>0.508724</td>\n",
       "      <td>0.758610</td>\n",
       "      <td>class_weight = balanced</td>\n",
       "    </tr>\n",
       "    <tr>\n",
       "      <th>4</th>\n",
       "      <td>DecisionTreeClassifier</td>\n",
       "      <td>0.580000</td>\n",
       "      <td>0.820000</td>\n",
       "      <td>class_weight = balanced</td>\n",
       "    </tr>\n",
       "    <tr>\n",
       "      <th>5</th>\n",
       "      <td>RandomForestClassifier</td>\n",
       "      <td>0.570000</td>\n",
       "      <td>0.830000</td>\n",
       "      <td>class_weight = balanced</td>\n",
       "    </tr>\n",
       "    <tr>\n",
       "      <th>6</th>\n",
       "      <td>LogisticRegression</td>\n",
       "      <td>0.508724</td>\n",
       "      <td>0.758610</td>\n",
       "      <td>threshold + class_weight = balanced</td>\n",
       "    </tr>\n",
       "    <tr>\n",
       "      <th>7</th>\n",
       "      <td>DecisionTreeClassifier</td>\n",
       "      <td>0.590000</td>\n",
       "      <td>0.820000</td>\n",
       "      <td>threshold + class_weight = balanced</td>\n",
       "    </tr>\n",
       "    <tr>\n",
       "      <th>8</th>\n",
       "      <td>RandomForestClassifier</td>\n",
       "      <td>0.630000</td>\n",
       "      <td>0.837309</td>\n",
       "      <td>threshold + class_weight = balanced</td>\n",
       "    </tr>\n",
       "    <tr>\n",
       "      <th>9</th>\n",
       "      <td>LogisticRegression</td>\n",
       "      <td>0.518445</td>\n",
       "      <td>0.758461</td>\n",
       "      <td>upsampling</td>\n",
       "    </tr>\n",
       "    <tr>\n",
       "      <th>10</th>\n",
       "      <td>DecisionTreeClassifier</td>\n",
       "      <td>0.520000</td>\n",
       "      <td>0.820000</td>\n",
       "      <td>upsampling</td>\n",
       "    </tr>\n",
       "    <tr>\n",
       "      <th>11</th>\n",
       "      <td>RandomForestClassifier</td>\n",
       "      <td>0.610000</td>\n",
       "      <td>0.840000</td>\n",
       "      <td>upsampling</td>\n",
       "    </tr>\n",
       "    <tr>\n",
       "      <th>12</th>\n",
       "      <td>RandomForestClassifier</td>\n",
       "      <td>0.625668</td>\n",
       "      <td>0.864492</td>\n",
       "      <td>TEST</td>\n",
       "    </tr>\n",
       "  </tbody>\n",
       "</table>\n",
       "</div>"
      ],
      "text/plain": [
       "                     model  best_f1_score  best_roc_auc_score  \\\n",
       "0       LogisticRegression       0.330000            0.760000   \n",
       "1   DecisionTreeClassifier       0.580000            0.830000   \n",
       "2   RandomForestClassifier       0.570000            0.830000   \n",
       "3       LogisticRegression       0.508724            0.758610   \n",
       "4   DecisionTreeClassifier       0.580000            0.820000   \n",
       "5   RandomForestClassifier       0.570000            0.830000   \n",
       "6       LogisticRegression       0.508724            0.758610   \n",
       "7   DecisionTreeClassifier       0.590000            0.820000   \n",
       "8   RandomForestClassifier       0.630000            0.837309   \n",
       "9       LogisticRegression       0.518445            0.758461   \n",
       "10  DecisionTreeClassifier       0.520000            0.820000   \n",
       "11  RandomForestClassifier       0.610000            0.840000   \n",
       "12  RandomForestClassifier       0.625668            0.864492   \n",
       "\n",
       "                       disb_combat_meth  \n",
       "0                                  None  \n",
       "1                                  None  \n",
       "2                                  None  \n",
       "3               class_weight = balanced  \n",
       "4               class_weight = balanced  \n",
       "5               class_weight = balanced  \n",
       "6   threshold + class_weight = balanced  \n",
       "7   threshold + class_weight = balanced  \n",
       "8   threshold + class_weight = balanced  \n",
       "9                            upsampling  \n",
       "10                           upsampling  \n",
       "11                           upsampling  \n",
       "12                                 TEST  "
      ]
     },
     "execution_count": 68,
     "metadata": {},
     "output_type": "execute_result"
    }
   ],
   "source": [
    "best_results = pd.DataFrame({'model': models, 'best_f1_score':f1_scores, 'best_roc_auc_score': roc_auc_scores, 'disb_combat_meth': disb_combat_meth})\n",
    "best_results"
   ]
  },
  {
   "cell_type": "markdown",
   "metadata": {},
   "source": [
    "Лучший результат  показала  на выборке сбалансированной методом threshold + class_weight = balanced.\n",
    "Именно эту модель мы проверим на тестовой выборке.\n",
    "модель RandomForestClassifier с гиперпараметром n_estimators = 37 и threshold = 0.4 на тестовой выборке показала результат f1 меры равный 0.62, что лишь немного отличаются от лучшего результата при обучении, что свидетельствует о нормальной обучаемости модели и адекватным результатом. Работу можно считать выполненной"
   ]
  }
 ],
 "metadata": {
  "ExecuteTimeLog": [
   {
    "duration": 46,
    "start_time": "2023-02-22T08:14:25.098Z"
   },
   {
    "duration": 384,
    "start_time": "2023-02-22T08:14:38.802Z"
   },
   {
    "duration": 76,
    "start_time": "2023-02-22T08:14:39.188Z"
   },
   {
    "duration": 19,
    "start_time": "2023-02-22T08:14:49.638Z"
   },
   {
    "duration": 27,
    "start_time": "2023-02-22T08:16:04.902Z"
   },
   {
    "duration": 7,
    "start_time": "2023-02-22T08:16:09.938Z"
   },
   {
    "duration": 5,
    "start_time": "2023-02-22T08:16:15.068Z"
   },
   {
    "duration": 20,
    "start_time": "2023-02-22T08:20:14.809Z"
   },
   {
    "duration": 9,
    "start_time": "2023-02-22T08:20:31.433Z"
   },
   {
    "duration": 13,
    "start_time": "2023-02-22T08:24:06.728Z"
   },
   {
    "duration": 7,
    "start_time": "2023-02-22T08:25:14.456Z"
   },
   {
    "duration": 4,
    "start_time": "2023-02-22T08:28:01.751Z"
   },
   {
    "duration": 6,
    "start_time": "2023-02-22T08:28:36.950Z"
   },
   {
    "duration": 5,
    "start_time": "2023-02-22T08:29:26.756Z"
   },
   {
    "duration": 12,
    "start_time": "2023-02-22T08:29:39.985Z"
   },
   {
    "duration": 5,
    "start_time": "2023-02-22T08:30:54.473Z"
   },
   {
    "duration": 12,
    "start_time": "2023-02-22T08:30:56.684Z"
   },
   {
    "duration": 3,
    "start_time": "2023-02-22T08:31:05.394Z"
   },
   {
    "duration": 4,
    "start_time": "2023-02-22T08:31:23.621Z"
   },
   {
    "duration": 4,
    "start_time": "2023-02-22T08:31:36.748Z"
   },
   {
    "duration": 388,
    "start_time": "2023-02-24T06:57:54.820Z"
   },
   {
    "duration": 83,
    "start_time": "2023-02-24T06:57:55.210Z"
   },
   {
    "duration": 13,
    "start_time": "2023-02-24T06:57:55.294Z"
   },
   {
    "duration": 9,
    "start_time": "2023-02-24T06:57:55.308Z"
   },
   {
    "duration": 9,
    "start_time": "2023-02-24T06:57:55.318Z"
   },
   {
    "duration": 6,
    "start_time": "2023-02-24T06:57:55.328Z"
   },
   {
    "duration": 7,
    "start_time": "2023-02-24T06:57:55.336Z"
   },
   {
    "duration": 15,
    "start_time": "2023-02-24T06:57:55.345Z"
   },
   {
    "duration": 6,
    "start_time": "2023-02-24T06:57:55.361Z"
   },
   {
    "duration": 5,
    "start_time": "2023-02-24T06:57:55.368Z"
   },
   {
    "duration": 11,
    "start_time": "2023-02-24T06:58:19.314Z"
   },
   {
    "duration": 20,
    "start_time": "2023-02-24T06:58:23.871Z"
   },
   {
    "duration": 18,
    "start_time": "2023-02-24T06:58:40.431Z"
   },
   {
    "duration": 57,
    "start_time": "2023-02-24T06:58:55.523Z"
   },
   {
    "duration": 16,
    "start_time": "2023-02-24T06:59:04.734Z"
   },
   {
    "duration": 8,
    "start_time": "2023-02-24T07:00:43.387Z"
   },
   {
    "duration": 716,
    "start_time": "2023-02-24T07:01:30.197Z"
   },
   {
    "duration": 6,
    "start_time": "2023-02-24T07:01:34.177Z"
   },
   {
    "duration": 7,
    "start_time": "2023-02-24T07:01:46.529Z"
   },
   {
    "duration": 22,
    "start_time": "2023-02-24T07:01:55.830Z"
   },
   {
    "duration": 326,
    "start_time": "2023-02-24T07:03:20.166Z"
   },
   {
    "duration": 7,
    "start_time": "2023-02-24T07:03:34.041Z"
   },
   {
    "duration": 11,
    "start_time": "2023-02-24T07:03:51.487Z"
   },
   {
    "duration": 61,
    "start_time": "2023-02-24T07:04:15.015Z"
   },
   {
    "duration": 347,
    "start_time": "2023-02-24T07:04:24.012Z"
   },
   {
    "duration": 41,
    "start_time": "2023-02-24T07:04:30.832Z"
   },
   {
    "duration": 11,
    "start_time": "2023-02-24T07:04:45.590Z"
   },
   {
    "duration": 10,
    "start_time": "2023-02-24T07:04:48.862Z"
   },
   {
    "duration": 20,
    "start_time": "2023-02-24T07:04:57.986Z"
   },
   {
    "duration": 10,
    "start_time": "2023-02-24T07:05:22.315Z"
   },
   {
    "duration": 7,
    "start_time": "2023-02-24T07:05:33.056Z"
   },
   {
    "duration": 43,
    "start_time": "2023-02-24T07:05:58.065Z"
   },
   {
    "duration": 7,
    "start_time": "2023-02-24T07:06:26.465Z"
   },
   {
    "duration": 13,
    "start_time": "2023-02-24T07:07:04.341Z"
   },
   {
    "duration": 664,
    "start_time": "2023-02-24T07:07:13.630Z"
   },
   {
    "duration": 4,
    "start_time": "2023-02-24T07:07:29.781Z"
   },
   {
    "duration": 8,
    "start_time": "2023-02-24T07:07:37.037Z"
   },
   {
    "duration": 359,
    "start_time": "2023-02-24T07:07:47.380Z"
   },
   {
    "duration": 640,
    "start_time": "2023-02-24T07:08:19.599Z"
   },
   {
    "duration": 9,
    "start_time": "2023-02-24T07:08:31.280Z"
   },
   {
    "duration": 13,
    "start_time": "2023-02-24T07:09:39.088Z"
   },
   {
    "duration": 18,
    "start_time": "2023-02-24T07:10:23.468Z"
   },
   {
    "duration": 11,
    "start_time": "2023-02-24T07:10:49.971Z"
   },
   {
    "duration": 45,
    "start_time": "2023-02-24T07:11:26.340Z"
   },
   {
    "duration": 44,
    "start_time": "2023-02-24T07:11:31.877Z"
   },
   {
    "duration": 54,
    "start_time": "2023-02-24T07:11:37.896Z"
   },
   {
    "duration": 14,
    "start_time": "2023-02-24T07:11:46.447Z"
   },
   {
    "duration": 22,
    "start_time": "2023-02-24T07:11:50.683Z"
   },
   {
    "duration": 43,
    "start_time": "2023-02-24T07:12:04.797Z"
   },
   {
    "duration": 9,
    "start_time": "2023-02-24T07:12:09.715Z"
   },
   {
    "duration": 12,
    "start_time": "2023-02-24T07:12:27.998Z"
   },
   {
    "duration": 25,
    "start_time": "2023-02-24T07:13:15.914Z"
   },
   {
    "duration": 5,
    "start_time": "2023-02-24T07:14:30.389Z"
   },
   {
    "duration": 7,
    "start_time": "2023-02-24T07:14:41.566Z"
   },
   {
    "duration": 8,
    "start_time": "2023-02-24T07:14:56.863Z"
   },
   {
    "duration": 9,
    "start_time": "2023-02-24T07:15:01.047Z"
   },
   {
    "duration": 7,
    "start_time": "2023-02-24T07:15:10.381Z"
   },
   {
    "duration": 7,
    "start_time": "2023-02-24T07:15:15.081Z"
   },
   {
    "duration": 7,
    "start_time": "2023-02-24T07:15:26.847Z"
   },
   {
    "duration": 12,
    "start_time": "2023-02-24T07:17:50.597Z"
   },
   {
    "duration": 12,
    "start_time": "2023-02-24T07:18:03.760Z"
   },
   {
    "duration": 21,
    "start_time": "2023-02-24T07:20:59.912Z"
   },
   {
    "duration": 19,
    "start_time": "2023-02-24T07:21:14.983Z"
   },
   {
    "duration": 6,
    "start_time": "2023-02-24T07:25:16.070Z"
   },
   {
    "duration": 7,
    "start_time": "2023-02-24T07:25:54.380Z"
   },
   {
    "duration": 7,
    "start_time": "2023-02-24T07:26:28.513Z"
   },
   {
    "duration": 6,
    "start_time": "2023-02-24T07:26:34.305Z"
   },
   {
    "duration": 14,
    "start_time": "2023-02-24T07:26:42.653Z"
   },
   {
    "duration": 4,
    "start_time": "2023-02-24T07:27:41.429Z"
   },
   {
    "duration": 6,
    "start_time": "2023-02-24T07:27:56.696Z"
   },
   {
    "duration": 8,
    "start_time": "2023-02-24T07:29:02.749Z"
   },
   {
    "duration": 8,
    "start_time": "2023-02-24T07:29:09.215Z"
   },
   {
    "duration": 599,
    "start_time": "2023-02-24T07:29:22.382Z"
   },
   {
    "duration": 53,
    "start_time": "2023-02-24T07:30:51.670Z"
   },
   {
    "duration": 600,
    "start_time": "2023-02-24T07:33:22.772Z"
   },
   {
    "duration": 36,
    "start_time": "2023-02-24T07:33:23.373Z"
   },
   {
    "duration": 14,
    "start_time": "2023-02-24T07:33:24.090Z"
   },
   {
    "duration": 21,
    "start_time": "2023-02-24T07:33:25.096Z"
   },
   {
    "duration": 584,
    "start_time": "2023-02-24T07:34:56.970Z"
   },
   {
    "duration": 35,
    "start_time": "2023-02-24T07:34:57.556Z"
   },
   {
    "duration": 12,
    "start_time": "2023-02-24T07:34:57.592Z"
   },
   {
    "duration": 19,
    "start_time": "2023-02-24T07:34:57.605Z"
   },
   {
    "duration": 6,
    "start_time": "2023-02-24T07:35:04.779Z"
   },
   {
    "duration": 195,
    "start_time": "2023-02-24T07:35:08.812Z"
   },
   {
    "duration": 191,
    "start_time": "2023-02-24T07:35:26.053Z"
   },
   {
    "duration": 154,
    "start_time": "2023-02-24T07:35:34.462Z"
   },
   {
    "duration": 155,
    "start_time": "2023-02-24T07:35:52.770Z"
   },
   {
    "duration": 280,
    "start_time": "2023-02-24T07:37:18.277Z"
   },
   {
    "duration": 732,
    "start_time": "2023-02-25T08:07:19.349Z"
   },
   {
    "duration": 166,
    "start_time": "2023-02-25T08:07:20.084Z"
   },
   {
    "duration": 14,
    "start_time": "2023-02-25T08:07:20.251Z"
   },
   {
    "duration": 23,
    "start_time": "2023-02-25T08:07:20.267Z"
   },
   {
    "duration": 202,
    "start_time": "2023-02-25T08:07:31.021Z"
   },
   {
    "duration": 200,
    "start_time": "2023-02-25T08:07:42.185Z"
   },
   {
    "duration": 153,
    "start_time": "2023-02-25T08:08:20.035Z"
   },
   {
    "duration": 256,
    "start_time": "2023-02-25T08:08:40.690Z"
   },
   {
    "duration": 18,
    "start_time": "2023-02-25T08:09:06.269Z"
   },
   {
    "duration": 297,
    "start_time": "2023-02-25T08:09:28.253Z"
   },
   {
    "duration": 188,
    "start_time": "2023-02-25T08:09:42.534Z"
   },
   {
    "duration": 145,
    "start_time": "2023-02-25T08:09:47.493Z"
   },
   {
    "duration": 140,
    "start_time": "2023-02-25T08:09:58.069Z"
   },
   {
    "duration": 159,
    "start_time": "2023-02-25T08:10:04.184Z"
   },
   {
    "duration": 258,
    "start_time": "2023-02-25T08:10:56.221Z"
   },
   {
    "duration": 180,
    "start_time": "2023-02-25T08:11:58.146Z"
   },
   {
    "duration": 10,
    "start_time": "2023-02-25T08:12:27.549Z"
   },
   {
    "duration": 6,
    "start_time": "2023-02-25T08:12:31.817Z"
   },
   {
    "duration": 5,
    "start_time": "2023-02-25T08:12:42.085Z"
   },
   {
    "duration": 19,
    "start_time": "2023-02-25T08:13:08.703Z"
   },
   {
    "duration": 21,
    "start_time": "2023-02-25T08:13:12.001Z"
   },
   {
    "duration": 9,
    "start_time": "2023-02-25T08:13:29.338Z"
   },
   {
    "duration": 81,
    "start_time": "2023-02-25T08:13:50.767Z"
   },
   {
    "duration": 12,
    "start_time": "2023-02-25T08:14:15.553Z"
   },
   {
    "duration": 10,
    "start_time": "2023-02-25T08:14:25.651Z"
   },
   {
    "duration": 147,
    "start_time": "2023-02-25T08:17:51.251Z"
   },
   {
    "duration": 126,
    "start_time": "2023-02-25T08:18:46.876Z"
   },
   {
    "duration": 826,
    "start_time": "2023-02-25T08:19:22.168Z"
   },
   {
    "duration": 161,
    "start_time": "2023-02-25T08:19:37.561Z"
   },
   {
    "duration": 73,
    "start_time": "2023-02-25T08:20:44.492Z"
   },
   {
    "duration": 180,
    "start_time": "2023-02-25T08:20:56.193Z"
   },
   {
    "duration": 6,
    "start_time": "2023-02-25T08:25:08.425Z"
   },
   {
    "duration": 183,
    "start_time": "2023-02-25T09:04:54.261Z"
   },
   {
    "duration": 102,
    "start_time": "2023-02-25T09:06:09.105Z"
   },
   {
    "duration": 160,
    "start_time": "2023-02-25T09:06:27.289Z"
   },
   {
    "duration": 10,
    "start_time": "2023-02-25T09:10:15.371Z"
   },
   {
    "duration": 6,
    "start_time": "2023-02-25T09:14:49.362Z"
   },
   {
    "duration": 37,
    "start_time": "2023-02-25T09:15:17.804Z"
   },
   {
    "duration": 12,
    "start_time": "2023-02-25T09:15:26.517Z"
   },
   {
    "duration": 26,
    "start_time": "2023-02-25T09:15:43.903Z"
   },
   {
    "duration": 8,
    "start_time": "2023-02-25T09:16:23.222Z"
   },
   {
    "duration": 4,
    "start_time": "2023-02-25T09:16:36.662Z"
   },
   {
    "duration": 25,
    "start_time": "2023-02-25T09:16:53.319Z"
   },
   {
    "duration": 10,
    "start_time": "2023-02-25T09:17:25.724Z"
   },
   {
    "duration": 8,
    "start_time": "2023-02-25T09:17:57.605Z"
   },
   {
    "duration": 569,
    "start_time": "2023-02-25T09:19:10.554Z"
   },
   {
    "duration": 38,
    "start_time": "2023-02-25T09:19:11.125Z"
   },
   {
    "duration": 13,
    "start_time": "2023-02-25T09:19:11.165Z"
   },
   {
    "duration": 26,
    "start_time": "2023-02-25T09:19:11.288Z"
   },
   {
    "duration": 6,
    "start_time": "2023-02-25T09:19:11.723Z"
   },
   {
    "duration": 166,
    "start_time": "2023-02-25T09:19:12.374Z"
   },
   {
    "duration": 13,
    "start_time": "2023-02-25T09:19:16.991Z"
   },
   {
    "duration": 36,
    "start_time": "2023-02-25T09:19:31.172Z"
   },
   {
    "duration": 22,
    "start_time": "2023-02-25T09:20:01.932Z"
   },
   {
    "duration": 4,
    "start_time": "2023-02-25T09:20:57.740Z"
   },
   {
    "duration": 4,
    "start_time": "2023-02-25T09:21:06.655Z"
   },
   {
    "duration": 8,
    "start_time": "2023-02-25T09:22:29.097Z"
   },
   {
    "duration": 22,
    "start_time": "2023-02-25T09:22:50.148Z"
   },
   {
    "duration": 21,
    "start_time": "2023-02-25T09:23:29.474Z"
   },
   {
    "duration": 21,
    "start_time": "2023-02-25T09:24:07.129Z"
   },
   {
    "duration": 21,
    "start_time": "2023-02-25T09:24:50.175Z"
   },
   {
    "duration": 23,
    "start_time": "2023-02-25T09:25:06.108Z"
   },
   {
    "duration": 1169,
    "start_time": "2023-02-25T09:26:17.071Z"
   },
   {
    "duration": 15,
    "start_time": "2023-02-25T09:26:50.607Z"
   },
   {
    "duration": 1125,
    "start_time": "2023-02-25T09:27:02.706Z"
   },
   {
    "duration": 1261,
    "start_time": "2023-02-25T09:27:14.688Z"
   },
   {
    "duration": 72,
    "start_time": "2023-02-25T09:27:29.307Z"
   },
   {
    "duration": 22,
    "start_time": "2023-02-25T09:27:48.781Z"
   },
   {
    "duration": 73,
    "start_time": "2023-02-25T09:28:06.481Z"
   },
   {
    "duration": 19,
    "start_time": "2023-02-25T09:28:14.571Z"
   },
   {
    "duration": 23,
    "start_time": "2023-02-25T09:28:25.806Z"
   },
   {
    "duration": 24,
    "start_time": "2023-02-25T09:29:06.770Z"
   },
   {
    "duration": 14,
    "start_time": "2023-02-25T09:30:12.124Z"
   },
   {
    "duration": 15,
    "start_time": "2023-02-25T09:30:25.016Z"
   },
   {
    "duration": 5,
    "start_time": "2023-02-25T09:33:46.822Z"
   },
   {
    "duration": 4,
    "start_time": "2023-02-25T09:34:01.574Z"
   },
   {
    "duration": 23,
    "start_time": "2023-02-25T09:35:29.675Z"
   },
   {
    "duration": 9,
    "start_time": "2023-02-25T09:39:14.627Z"
   },
   {
    "duration": 665,
    "start_time": "2023-02-25T09:39:34.293Z"
   },
   {
    "duration": 40,
    "start_time": "2023-02-25T09:39:34.960Z"
   },
   {
    "duration": 14,
    "start_time": "2023-02-25T09:39:35.002Z"
   },
   {
    "duration": 11,
    "start_time": "2023-02-25T09:39:41.288Z"
   },
   {
    "duration": 28,
    "start_time": "2023-02-25T09:40:09.175Z"
   },
   {
    "duration": 47,
    "start_time": "2023-02-25T09:40:38.813Z"
   },
   {
    "duration": 643,
    "start_time": "2023-02-25T09:40:46.571Z"
   },
   {
    "duration": 42,
    "start_time": "2023-02-25T09:40:47.216Z"
   },
   {
    "duration": 15,
    "start_time": "2023-02-25T09:40:47.260Z"
   },
   {
    "duration": 37,
    "start_time": "2023-02-25T09:40:47.277Z"
   },
   {
    "duration": 12,
    "start_time": "2023-02-25T09:40:53.339Z"
   },
   {
    "duration": 8,
    "start_time": "2023-02-25T09:40:53.776Z"
   },
   {
    "duration": 3,
    "start_time": "2023-02-25T09:40:58.705Z"
   },
   {
    "duration": 13,
    "start_time": "2023-02-25T09:41:03.978Z"
   },
   {
    "duration": 10,
    "start_time": "2023-02-25T09:41:13.522Z"
   },
   {
    "duration": 674,
    "start_time": "2023-02-25T09:41:25.674Z"
   },
   {
    "duration": 45,
    "start_time": "2023-02-25T09:41:26.804Z"
   },
   {
    "duration": 12,
    "start_time": "2023-02-25T09:41:27.706Z"
   },
   {
    "duration": 73,
    "start_time": "2023-02-25T09:41:34.377Z"
   },
   {
    "duration": 30,
    "start_time": "2023-02-25T09:41:56.483Z"
   },
   {
    "duration": 10,
    "start_time": "2023-02-25T09:42:10.176Z"
   },
   {
    "duration": 28,
    "start_time": "2023-02-25T09:42:26.124Z"
   },
   {
    "duration": 72,
    "start_time": "2023-02-25T09:43:27.016Z"
   },
   {
    "duration": 9,
    "start_time": "2023-02-25T09:43:35.475Z"
   },
   {
    "duration": 67,
    "start_time": "2023-02-25T09:44:01.677Z"
   },
   {
    "duration": 72,
    "start_time": "2023-02-25T09:44:10.277Z"
   },
   {
    "duration": 10,
    "start_time": "2023-02-25T09:44:16.138Z"
   },
   {
    "duration": 6,
    "start_time": "2023-02-25T09:44:32.405Z"
   },
   {
    "duration": 103,
    "start_time": "2023-02-25T09:46:12.509Z"
   },
   {
    "duration": 273,
    "start_time": "2023-02-25T09:46:18.879Z"
   },
   {
    "duration": 88,
    "start_time": "2023-02-25T09:46:36.904Z"
   },
   {
    "duration": 4,
    "start_time": "2023-02-25T09:46:44.507Z"
   },
   {
    "duration": 14,
    "start_time": "2023-02-25T09:46:50.490Z"
   },
   {
    "duration": 10,
    "start_time": "2023-02-25T09:47:18.673Z"
   },
   {
    "duration": 9,
    "start_time": "2023-02-25T09:47:32.874Z"
   },
   {
    "duration": 9,
    "start_time": "2023-02-25T09:47:42.823Z"
   },
   {
    "duration": 7,
    "start_time": "2023-02-25T09:48:30.705Z"
   },
   {
    "duration": 22,
    "start_time": "2023-02-25T09:48:44.074Z"
   },
   {
    "duration": 25,
    "start_time": "2023-02-25T09:48:56.406Z"
   },
   {
    "duration": 9,
    "start_time": "2023-02-25T09:48:58.803Z"
   },
   {
    "duration": 14,
    "start_time": "2023-02-25T09:48:59.390Z"
   },
   {
    "duration": 5,
    "start_time": "2023-02-25T09:51:29.737Z"
   },
   {
    "duration": 19,
    "start_time": "2023-02-25T09:51:34.675Z"
   },
   {
    "duration": 21,
    "start_time": "2023-02-25T09:51:49.589Z"
   },
   {
    "duration": 9,
    "start_time": "2023-02-25T09:52:04.006Z"
   },
   {
    "duration": 16,
    "start_time": "2023-02-25T09:52:10.422Z"
   },
   {
    "duration": 7,
    "start_time": "2023-02-25T09:52:16.502Z"
   },
   {
    "duration": 149,
    "start_time": "2023-02-25T09:52:43.400Z"
   },
   {
    "duration": 9,
    "start_time": "2023-02-25T09:52:57.293Z"
   },
   {
    "duration": 12,
    "start_time": "2023-02-25T09:53:37.990Z"
   },
   {
    "duration": 22,
    "start_time": "2023-02-25T09:53:42.716Z"
   },
   {
    "duration": 19,
    "start_time": "2023-02-25T09:53:59.538Z"
   },
   {
    "duration": 22,
    "start_time": "2023-02-25T09:54:05.106Z"
   },
   {
    "duration": 20,
    "start_time": "2023-02-25T09:54:20.528Z"
   },
   {
    "duration": 6,
    "start_time": "2023-02-25T09:54:38.823Z"
   },
   {
    "duration": 6,
    "start_time": "2023-02-25T10:00:54.625Z"
   },
   {
    "duration": 5,
    "start_time": "2023-02-25T10:01:06.675Z"
   },
   {
    "duration": 179,
    "start_time": "2023-02-25T10:01:25.582Z"
   },
   {
    "duration": 7,
    "start_time": "2023-02-25T10:02:05.274Z"
   },
   {
    "duration": 6,
    "start_time": "2023-02-25T10:02:27.224Z"
   },
   {
    "duration": 11,
    "start_time": "2023-02-25T10:03:19.641Z"
   },
   {
    "duration": 15,
    "start_time": "2023-02-25T10:05:49.869Z"
   },
   {
    "duration": 4,
    "start_time": "2023-02-25T10:06:01.223Z"
   },
   {
    "duration": 25,
    "start_time": "2023-02-25T10:06:36.714Z"
   },
   {
    "duration": 7,
    "start_time": "2023-02-25T10:06:47.225Z"
   },
   {
    "duration": 10,
    "start_time": "2023-02-25T10:06:58.318Z"
   },
   {
    "duration": 5,
    "start_time": "2023-02-25T10:07:08.530Z"
   },
   {
    "duration": 10,
    "start_time": "2023-02-25T10:07:26.993Z"
   },
   {
    "duration": 8,
    "start_time": "2023-02-25T10:07:29.124Z"
   },
   {
    "duration": 8,
    "start_time": "2023-02-25T10:08:43.474Z"
   },
   {
    "duration": 5,
    "start_time": "2023-02-25T10:08:53.625Z"
   },
   {
    "duration": 4,
    "start_time": "2023-02-25T10:09:29.864Z"
   },
   {
    "duration": 8,
    "start_time": "2023-02-25T10:09:31.529Z"
   },
   {
    "duration": 8,
    "start_time": "2023-02-25T10:09:47.051Z"
   },
   {
    "duration": 83,
    "start_time": "2023-02-25T10:10:08.738Z"
   },
   {
    "duration": 7,
    "start_time": "2023-02-25T10:10:18.239Z"
   },
   {
    "duration": 611,
    "start_time": "2023-02-25T10:10:57.465Z"
   },
   {
    "duration": 45,
    "start_time": "2023-02-25T10:10:58.078Z"
   },
   {
    "duration": 12,
    "start_time": "2023-02-25T10:10:58.124Z"
   },
   {
    "duration": 20,
    "start_time": "2023-02-25T10:10:58.138Z"
   },
   {
    "duration": 8,
    "start_time": "2023-02-25T10:10:58.159Z"
   },
   {
    "duration": 20,
    "start_time": "2023-02-25T10:10:58.168Z"
   },
   {
    "duration": 10,
    "start_time": "2023-02-25T10:10:58.189Z"
   },
   {
    "duration": 183,
    "start_time": "2023-02-25T10:10:58.200Z"
   },
   {
    "duration": 19,
    "start_time": "2023-02-25T10:10:58.385Z"
   },
   {
    "duration": 25,
    "start_time": "2023-02-25T10:10:58.406Z"
   },
   {
    "duration": 10,
    "start_time": "2023-02-25T10:10:58.432Z"
   },
   {
    "duration": 15,
    "start_time": "2023-02-25T10:10:58.444Z"
   },
   {
    "duration": 3,
    "start_time": "2023-02-25T10:11:03.437Z"
   },
   {
    "duration": 5,
    "start_time": "2023-02-25T10:11:06.257Z"
   },
   {
    "duration": 9,
    "start_time": "2023-02-25T10:11:15.597Z"
   },
   {
    "duration": 5,
    "start_time": "2023-02-25T10:11:23.329Z"
   },
   {
    "duration": 7,
    "start_time": "2023-02-25T10:11:30.925Z"
   },
   {
    "duration": 9,
    "start_time": "2023-02-25T10:11:38.035Z"
   },
   {
    "duration": 711,
    "start_time": "2023-02-25T10:12:56.210Z"
   },
   {
    "duration": 41,
    "start_time": "2023-02-25T10:12:56.923Z"
   },
   {
    "duration": 12,
    "start_time": "2023-02-25T10:12:56.966Z"
   },
   {
    "duration": 38,
    "start_time": "2023-02-25T10:12:56.980Z"
   },
   {
    "duration": 10,
    "start_time": "2023-02-25T10:12:57.023Z"
   },
   {
    "duration": 18,
    "start_time": "2023-02-25T10:12:57.034Z"
   },
   {
    "duration": 13,
    "start_time": "2023-02-25T10:12:57.053Z"
   },
   {
    "duration": 186,
    "start_time": "2023-02-25T10:12:57.067Z"
   },
   {
    "duration": 9,
    "start_time": "2023-02-25T10:12:57.255Z"
   },
   {
    "duration": 44,
    "start_time": "2023-02-25T10:12:57.266Z"
   },
   {
    "duration": 9,
    "start_time": "2023-02-25T10:12:57.312Z"
   },
   {
    "duration": 7,
    "start_time": "2023-02-25T10:12:57.323Z"
   },
   {
    "duration": 5,
    "start_time": "2023-02-25T10:12:59.467Z"
   },
   {
    "duration": 6,
    "start_time": "2023-02-25T10:13:03.209Z"
   },
   {
    "duration": 12,
    "start_time": "2023-02-25T10:13:11.784Z"
   },
   {
    "duration": 6,
    "start_time": "2023-02-25T10:13:18.476Z"
   },
   {
    "duration": 9,
    "start_time": "2023-02-25T10:13:22.913Z"
   },
   {
    "duration": 7,
    "start_time": "2023-02-25T10:13:26.270Z"
   },
   {
    "duration": 5,
    "start_time": "2023-02-25T10:13:42.227Z"
   },
   {
    "duration": 6,
    "start_time": "2023-02-25T10:13:42.829Z"
   },
   {
    "duration": 72,
    "start_time": "2023-02-25T10:13:54.767Z"
   },
   {
    "duration": 717,
    "start_time": "2023-02-25T10:13:58.378Z"
   },
   {
    "duration": 53,
    "start_time": "2023-02-25T10:13:59.101Z"
   },
   {
    "duration": 15,
    "start_time": "2023-02-25T10:13:59.156Z"
   },
   {
    "duration": 35,
    "start_time": "2023-02-25T10:13:59.173Z"
   },
   {
    "duration": 11,
    "start_time": "2023-02-25T10:13:59.211Z"
   },
   {
    "duration": 15,
    "start_time": "2023-02-25T10:13:59.224Z"
   },
   {
    "duration": 9,
    "start_time": "2023-02-25T10:13:59.240Z"
   },
   {
    "duration": 189,
    "start_time": "2023-02-25T10:13:59.250Z"
   },
   {
    "duration": 9,
    "start_time": "2023-02-25T10:13:59.441Z"
   },
   {
    "duration": 49,
    "start_time": "2023-02-25T10:13:59.452Z"
   },
   {
    "duration": 13,
    "start_time": "2023-02-25T10:13:59.506Z"
   },
   {
    "duration": 8,
    "start_time": "2023-02-25T10:13:59.520Z"
   },
   {
    "duration": 20,
    "start_time": "2023-02-25T10:13:59.530Z"
   },
   {
    "duration": 16,
    "start_time": "2023-02-25T10:13:59.553Z"
   },
   {
    "duration": 16,
    "start_time": "2023-02-25T10:13:59.571Z"
   },
   {
    "duration": 40,
    "start_time": "2023-02-25T10:13:59.589Z"
   },
   {
    "duration": 9,
    "start_time": "2023-02-25T10:13:59.631Z"
   },
   {
    "duration": 29,
    "start_time": "2023-02-25T10:13:59.641Z"
   },
   {
    "duration": 5,
    "start_time": "2023-02-25T10:14:05.067Z"
   },
   {
    "duration": 5,
    "start_time": "2023-02-25T10:14:05.324Z"
   },
   {
    "duration": 55,
    "start_time": "2023-02-25T10:14:54.398Z"
   },
   {
    "duration": 605,
    "start_time": "2023-02-25T10:14:58.536Z"
   },
   {
    "duration": 40,
    "start_time": "2023-02-25T10:14:59.144Z"
   },
   {
    "duration": 22,
    "start_time": "2023-02-25T10:14:59.186Z"
   },
   {
    "duration": 43,
    "start_time": "2023-02-25T10:14:59.214Z"
   },
   {
    "duration": 10,
    "start_time": "2023-02-25T10:14:59.259Z"
   },
   {
    "duration": 12,
    "start_time": "2023-02-25T10:14:59.271Z"
   },
   {
    "duration": 25,
    "start_time": "2023-02-25T10:14:59.284Z"
   },
   {
    "duration": 183,
    "start_time": "2023-02-25T10:14:59.310Z"
   },
   {
    "duration": 11,
    "start_time": "2023-02-25T10:14:59.498Z"
   },
   {
    "duration": 38,
    "start_time": "2023-02-25T10:14:59.511Z"
   },
   {
    "duration": 10,
    "start_time": "2023-02-25T10:14:59.550Z"
   },
   {
    "duration": 5,
    "start_time": "2023-02-25T10:14:59.562Z"
   },
   {
    "duration": 6,
    "start_time": "2023-02-25T10:14:59.568Z"
   },
   {
    "duration": 4,
    "start_time": "2023-02-25T10:15:01.579Z"
   },
   {
    "duration": 5,
    "start_time": "2023-02-25T10:15:02.736Z"
   },
   {
    "duration": 58,
    "start_time": "2023-02-27T04:46:46.202Z"
   },
   {
    "duration": 804,
    "start_time": "2023-02-27T04:46:49.300Z"
   },
   {
    "duration": 192,
    "start_time": "2023-02-27T04:46:50.106Z"
   },
   {
    "duration": 14,
    "start_time": "2023-02-27T04:46:50.300Z"
   },
   {
    "duration": 39,
    "start_time": "2023-02-27T04:46:50.317Z"
   },
   {
    "duration": 9,
    "start_time": "2023-02-27T04:46:50.358Z"
   },
   {
    "duration": 14,
    "start_time": "2023-02-27T04:46:50.369Z"
   },
   {
    "duration": 7,
    "start_time": "2023-02-27T04:46:50.385Z"
   },
   {
    "duration": 198,
    "start_time": "2023-02-27T04:46:50.394Z"
   },
   {
    "duration": 9,
    "start_time": "2023-02-27T04:46:50.594Z"
   },
   {
    "duration": 41,
    "start_time": "2023-02-27T04:46:50.605Z"
   },
   {
    "duration": 54,
    "start_time": "2023-02-27T04:46:50.650Z"
   },
   {
    "duration": 10,
    "start_time": "2023-02-27T04:46:55.512Z"
   },
   {
    "duration": 4,
    "start_time": "2023-02-27T04:46:56.399Z"
   },
   {
    "duration": 4,
    "start_time": "2023-02-27T04:50:16.813Z"
   },
   {
    "duration": 6,
    "start_time": "2023-02-27T04:50:18.816Z"
   },
   {
    "duration": 4,
    "start_time": "2023-02-27T04:50:27.997Z"
   },
   {
    "duration": 4,
    "start_time": "2023-02-27T04:50:32.240Z"
   },
   {
    "duration": 5,
    "start_time": "2023-02-27T04:50:32.728Z"
   },
   {
    "duration": 6,
    "start_time": "2023-02-27T04:50:42.963Z"
   },
   {
    "duration": 4,
    "start_time": "2023-02-27T04:50:51.694Z"
   },
   {
    "duration": 7,
    "start_time": "2023-02-27T04:50:57.595Z"
   },
   {
    "duration": 6,
    "start_time": "2023-02-27T04:51:47.516Z"
   },
   {
    "duration": 74,
    "start_time": "2023-02-27T04:52:20.263Z"
   },
   {
    "duration": 635,
    "start_time": "2023-02-27T04:52:56.559Z"
   },
   {
    "duration": 41,
    "start_time": "2023-02-27T04:52:57.196Z"
   },
   {
    "duration": 12,
    "start_time": "2023-02-27T04:52:57.239Z"
   },
   {
    "duration": 23,
    "start_time": "2023-02-27T04:52:57.253Z"
   },
   {
    "duration": 9,
    "start_time": "2023-02-27T04:52:57.278Z"
   },
   {
    "duration": 22,
    "start_time": "2023-02-27T04:52:57.289Z"
   },
   {
    "duration": 28,
    "start_time": "2023-02-27T04:52:57.312Z"
   },
   {
    "duration": 199,
    "start_time": "2023-02-27T04:52:57.342Z"
   },
   {
    "duration": 10,
    "start_time": "2023-02-27T04:52:57.543Z"
   },
   {
    "duration": 30,
    "start_time": "2023-02-27T04:52:57.554Z"
   },
   {
    "duration": 10,
    "start_time": "2023-02-27T04:52:57.586Z"
   },
   {
    "duration": 6,
    "start_time": "2023-02-27T04:53:02.529Z"
   },
   {
    "duration": 11,
    "start_time": "2023-02-27T04:53:27.562Z"
   },
   {
    "duration": 22,
    "start_time": "2023-02-27T04:53:43.983Z"
   },
   {
    "duration": 10,
    "start_time": "2023-02-27T04:54:10.333Z"
   },
   {
    "duration": 12,
    "start_time": "2023-02-27T04:54:22.117Z"
   },
   {
    "duration": 11,
    "start_time": "2023-02-27T04:54:27.263Z"
   },
   {
    "duration": 648,
    "start_time": "2023-02-27T04:55:06.454Z"
   },
   {
    "duration": 42,
    "start_time": "2023-02-27T04:55:07.104Z"
   },
   {
    "duration": 14,
    "start_time": "2023-02-27T04:55:07.148Z"
   },
   {
    "duration": 24,
    "start_time": "2023-02-27T04:55:07.163Z"
   },
   {
    "duration": 10,
    "start_time": "2023-02-27T04:55:07.189Z"
   },
   {
    "duration": 42,
    "start_time": "2023-02-27T04:55:07.201Z"
   },
   {
    "duration": 10,
    "start_time": "2023-02-27T04:55:07.245Z"
   },
   {
    "duration": 198,
    "start_time": "2023-02-27T04:55:07.256Z"
   },
   {
    "duration": 10,
    "start_time": "2023-02-27T04:55:14.074Z"
   },
   {
    "duration": 24,
    "start_time": "2023-02-27T04:55:17.429Z"
   },
   {
    "duration": 23,
    "start_time": "2023-02-27T04:56:31.680Z"
   },
   {
    "duration": 76,
    "start_time": "2023-02-27T04:56:44.662Z"
   },
   {
    "duration": 99,
    "start_time": "2023-02-27T04:57:01.129Z"
   },
   {
    "duration": 88,
    "start_time": "2023-02-27T04:57:23.606Z"
   },
   {
    "duration": 23,
    "start_time": "2023-02-27T04:57:40.446Z"
   },
   {
    "duration": 18,
    "start_time": "2023-02-27T04:57:48.164Z"
   },
   {
    "duration": 6,
    "start_time": "2023-02-27T04:58:06.613Z"
   },
   {
    "duration": 19,
    "start_time": "2023-02-27T04:58:20.940Z"
   },
   {
    "duration": 76,
    "start_time": "2023-02-27T04:58:35.305Z"
   },
   {
    "duration": 68,
    "start_time": "2023-02-27T04:58:50.746Z"
   },
   {
    "duration": 94,
    "start_time": "2023-02-27T04:59:04.948Z"
   },
   {
    "duration": 57,
    "start_time": "2023-02-27T04:59:10.362Z"
   },
   {
    "duration": 21,
    "start_time": "2023-02-27T04:59:27.213Z"
   },
   {
    "duration": 18,
    "start_time": "2023-02-27T04:59:41.016Z"
   },
   {
    "duration": 7,
    "start_time": "2023-02-27T05:00:01.279Z"
   },
   {
    "duration": 5,
    "start_time": "2023-02-27T05:00:06.079Z"
   },
   {
    "duration": 5,
    "start_time": "2023-02-27T05:00:10.181Z"
   },
   {
    "duration": 19,
    "start_time": "2023-02-27T05:00:13.731Z"
   },
   {
    "duration": 5,
    "start_time": "2023-02-27T05:00:14.529Z"
   },
   {
    "duration": 84,
    "start_time": "2023-02-27T05:00:37.048Z"
   },
   {
    "duration": 8,
    "start_time": "2023-02-27T05:00:43.382Z"
   },
   {
    "duration": 19,
    "start_time": "2023-02-27T05:01:30.527Z"
   },
   {
    "duration": 7,
    "start_time": "2023-02-27T05:01:31.564Z"
   },
   {
    "duration": 6,
    "start_time": "2023-02-27T05:01:32.563Z"
   },
   {
    "duration": 21,
    "start_time": "2023-02-27T05:01:43.297Z"
   },
   {
    "duration": 23,
    "start_time": "2023-02-27T05:02:08.349Z"
   },
   {
    "duration": 692,
    "start_time": "2023-02-27T05:02:29.541Z"
   },
   {
    "duration": 43,
    "start_time": "2023-02-27T05:02:30.237Z"
   },
   {
    "duration": 14,
    "start_time": "2023-02-27T05:02:30.282Z"
   },
   {
    "duration": 77,
    "start_time": "2023-02-27T05:02:30.299Z"
   },
   {
    "duration": 17,
    "start_time": "2023-02-27T05:02:30.377Z"
   },
   {
    "duration": 50,
    "start_time": "2023-02-27T05:02:30.396Z"
   },
   {
    "duration": 18,
    "start_time": "2023-02-27T05:02:30.448Z"
   },
   {
    "duration": 207,
    "start_time": "2023-02-27T05:02:30.467Z"
   },
   {
    "duration": 14,
    "start_time": "2023-02-27T05:02:30.676Z"
   },
   {
    "duration": 69,
    "start_time": "2023-02-27T05:02:30.692Z"
   },
   {
    "duration": 50,
    "start_time": "2023-02-27T05:02:30.763Z"
   },
   {
    "duration": 9,
    "start_time": "2023-02-27T05:03:32.031Z"
   },
   {
    "duration": 21,
    "start_time": "2023-02-27T05:04:26.243Z"
   },
   {
    "duration": 22,
    "start_time": "2023-02-27T05:04:31.001Z"
   },
   {
    "duration": 23,
    "start_time": "2023-02-27T05:04:43.859Z"
   },
   {
    "duration": 23,
    "start_time": "2023-02-27T05:04:48.501Z"
   },
   {
    "duration": 25,
    "start_time": "2023-02-27T05:05:06.193Z"
   },
   {
    "duration": 23,
    "start_time": "2023-02-27T05:05:17.660Z"
   },
   {
    "duration": 18,
    "start_time": "2023-02-27T05:05:28.794Z"
   },
   {
    "duration": 10,
    "start_time": "2023-02-27T05:05:37.458Z"
   },
   {
    "duration": 10,
    "start_time": "2023-02-27T05:05:57.493Z"
   },
   {
    "duration": 26,
    "start_time": "2023-02-27T05:06:26.772Z"
   },
   {
    "duration": 5,
    "start_time": "2023-02-27T05:10:24.735Z"
   },
   {
    "duration": 9,
    "start_time": "2023-02-27T05:10:29.495Z"
   },
   {
    "duration": 5,
    "start_time": "2023-02-27T05:10:43.509Z"
   },
   {
    "duration": 120,
    "start_time": "2023-02-27T05:10:56.560Z"
   },
   {
    "duration": 122,
    "start_time": "2023-02-27T05:11:29.860Z"
   },
   {
    "duration": 4,
    "start_time": "2023-02-27T05:11:45.109Z"
   },
   {
    "duration": 6,
    "start_time": "2023-02-27T05:12:11.417Z"
   },
   {
    "duration": 5,
    "start_time": "2023-02-27T05:13:23.711Z"
   },
   {
    "duration": 5,
    "start_time": "2023-02-27T05:13:45.843Z"
   },
   {
    "duration": 702,
    "start_time": "2023-02-27T05:14:29.760Z"
   },
   {
    "duration": 45,
    "start_time": "2023-02-27T05:14:30.464Z"
   },
   {
    "duration": 20,
    "start_time": "2023-02-27T05:14:30.560Z"
   },
   {
    "duration": 37,
    "start_time": "2023-02-27T05:14:31.196Z"
   },
   {
    "duration": 13,
    "start_time": "2023-02-27T05:14:31.780Z"
   },
   {
    "duration": 16,
    "start_time": "2023-02-27T05:14:31.941Z"
   },
   {
    "duration": 7,
    "start_time": "2023-02-27T05:14:32.141Z"
   },
   {
    "duration": 209,
    "start_time": "2023-02-27T05:14:32.528Z"
   },
   {
    "duration": 5,
    "start_time": "2023-02-27T05:14:35.345Z"
   },
   {
    "duration": 9,
    "start_time": "2023-02-27T05:14:37.946Z"
   },
   {
    "duration": 110,
    "start_time": "2023-02-27T05:15:26.829Z"
   },
   {
    "duration": 5,
    "start_time": "2023-02-27T05:15:45.179Z"
   },
   {
    "duration": 80,
    "start_time": "2023-02-27T05:15:51.047Z"
   },
   {
    "duration": 81,
    "start_time": "2023-02-27T05:16:26.728Z"
   },
   {
    "duration": 7,
    "start_time": "2023-02-27T05:16:45.384Z"
   },
   {
    "duration": 23,
    "start_time": "2023-02-27T05:17:20.344Z"
   },
   {
    "duration": 11,
    "start_time": "2023-02-27T05:18:03.596Z"
   },
   {
    "duration": 4,
    "start_time": "2023-02-27T05:18:17.847Z"
   },
   {
    "duration": 4,
    "start_time": "2023-02-27T05:18:20.844Z"
   },
   {
    "duration": 11,
    "start_time": "2023-02-27T05:18:23.931Z"
   },
   {
    "duration": 11,
    "start_time": "2023-02-27T05:18:56.129Z"
   },
   {
    "duration": 5,
    "start_time": "2023-02-27T05:20:31.395Z"
   },
   {
    "duration": 7,
    "start_time": "2023-02-27T05:20:33.499Z"
   },
   {
    "duration": 9,
    "start_time": "2023-02-27T05:20:34.645Z"
   },
   {
    "duration": 10,
    "start_time": "2023-02-27T05:20:36.154Z"
   },
   {
    "duration": 4,
    "start_time": "2023-02-27T05:20:43.396Z"
   },
   {
    "duration": 5,
    "start_time": "2023-02-27T05:20:47.036Z"
   },
   {
    "duration": 5,
    "start_time": "2023-02-27T05:20:47.346Z"
   },
   {
    "duration": 1425,
    "start_time": "2023-02-27T05:21:26.012Z"
   },
   {
    "duration": 21,
    "start_time": "2023-02-27T05:21:36.963Z"
   },
   {
    "duration": 873,
    "start_time": "2023-02-27T05:22:10.186Z"
   },
   {
    "duration": 911,
    "start_time": "2023-02-27T05:22:21.680Z"
   },
   {
    "duration": 9,
    "start_time": "2023-02-27T05:22:30.617Z"
   },
   {
    "duration": 9,
    "start_time": "2023-02-27T05:23:16.735Z"
   },
   {
    "duration": 5,
    "start_time": "2023-02-27T05:23:31.037Z"
   },
   {
    "duration": 5,
    "start_time": "2023-02-27T05:23:34.395Z"
   },
   {
    "duration": 5,
    "start_time": "2023-02-27T05:23:37.023Z"
   },
   {
    "duration": 664,
    "start_time": "2023-02-27T05:23:56.313Z"
   },
   {
    "duration": 43,
    "start_time": "2023-02-27T05:23:56.979Z"
   },
   {
    "duration": 13,
    "start_time": "2023-02-27T05:23:57.024Z"
   },
   {
    "duration": 24,
    "start_time": "2023-02-27T05:23:57.038Z"
   },
   {
    "duration": 10,
    "start_time": "2023-02-27T05:23:57.065Z"
   },
   {
    "duration": 16,
    "start_time": "2023-02-27T05:23:57.077Z"
   },
   {
    "duration": 6,
    "start_time": "2023-02-27T05:23:57.095Z"
   },
   {
    "duration": 216,
    "start_time": "2023-02-27T05:23:57.103Z"
   },
   {
    "duration": 5,
    "start_time": "2023-02-27T05:23:57.321Z"
   },
   {
    "duration": 7,
    "start_time": "2023-02-27T05:23:57.338Z"
   },
   {
    "duration": 11,
    "start_time": "2023-02-27T05:23:57.347Z"
   },
   {
    "duration": 12,
    "start_time": "2023-02-27T05:23:57.360Z"
   },
   {
    "duration": 10,
    "start_time": "2023-02-27T05:24:13.643Z"
   },
   {
    "duration": 5,
    "start_time": "2023-02-27T05:24:35.801Z"
   },
   {
    "duration": 14,
    "start_time": "2023-02-27T05:24:38.034Z"
   },
   {
    "duration": 6,
    "start_time": "2023-02-27T05:24:39.594Z"
   },
   {
    "duration": 11,
    "start_time": "2023-02-27T05:24:56.864Z"
   },
   {
    "duration": 11,
    "start_time": "2023-02-27T05:25:01.399Z"
   },
   {
    "duration": 9,
    "start_time": "2023-02-27T05:25:25.255Z"
   },
   {
    "duration": 7,
    "start_time": "2023-02-27T05:25:38.242Z"
   },
   {
    "duration": 9,
    "start_time": "2023-02-27T05:25:45.522Z"
   },
   {
    "duration": 77,
    "start_time": "2023-02-27T05:27:12.182Z"
   },
   {
    "duration": 19,
    "start_time": "2023-02-27T05:27:17.301Z"
   },
   {
    "duration": 6,
    "start_time": "2023-02-27T05:27:33.898Z"
   },
   {
    "duration": 7,
    "start_time": "2023-02-27T05:27:45.914Z"
   },
   {
    "duration": 6,
    "start_time": "2023-02-27T05:28:04.513Z"
   },
   {
    "duration": 5,
    "start_time": "2023-02-27T05:28:07.213Z"
   },
   {
    "duration": 184,
    "start_time": "2023-02-27T05:28:26.684Z"
   },
   {
    "duration": 6,
    "start_time": "2023-02-27T05:29:10.062Z"
   },
   {
    "duration": 5,
    "start_time": "2023-02-27T05:29:11.130Z"
   },
   {
    "duration": 189,
    "start_time": "2023-02-27T05:29:11.938Z"
   },
   {
    "duration": 5,
    "start_time": "2023-02-27T05:29:33.865Z"
   },
   {
    "duration": 4,
    "start_time": "2023-02-27T05:29:43.671Z"
   },
   {
    "duration": 5,
    "start_time": "2023-02-27T05:29:54.531Z"
   },
   {
    "duration": 5,
    "start_time": "2023-02-27T05:30:02.874Z"
   },
   {
    "duration": 173,
    "start_time": "2023-02-27T05:30:15.060Z"
   },
   {
    "duration": 709,
    "start_time": "2023-02-27T05:30:25.293Z"
   },
   {
    "duration": 41,
    "start_time": "2023-02-27T05:30:26.004Z"
   },
   {
    "duration": 26,
    "start_time": "2023-02-27T05:30:26.047Z"
   },
   {
    "duration": 45,
    "start_time": "2023-02-27T05:30:26.075Z"
   },
   {
    "duration": 21,
    "start_time": "2023-02-27T05:30:26.123Z"
   },
   {
    "duration": 40,
    "start_time": "2023-02-27T05:30:26.146Z"
   },
   {
    "duration": 26,
    "start_time": "2023-02-27T05:30:26.188Z"
   },
   {
    "duration": 196,
    "start_time": "2023-02-27T05:30:26.215Z"
   },
   {
    "duration": 5,
    "start_time": "2023-02-27T05:30:26.414Z"
   },
   {
    "duration": 28,
    "start_time": "2023-02-27T05:30:26.421Z"
   },
   {
    "duration": 28,
    "start_time": "2023-02-27T05:30:26.451Z"
   },
   {
    "duration": 18,
    "start_time": "2023-02-27T05:30:26.481Z"
   },
   {
    "duration": 27,
    "start_time": "2023-02-27T05:30:26.501Z"
   },
   {
    "duration": 30,
    "start_time": "2023-02-27T05:30:26.531Z"
   },
   {
    "duration": 187,
    "start_time": "2023-02-27T05:30:26.563Z"
   },
   {
    "duration": 6,
    "start_time": "2023-02-27T05:35:48.545Z"
   },
   {
    "duration": 5,
    "start_time": "2023-02-27T05:35:49.526Z"
   },
   {
    "duration": 4,
    "start_time": "2023-02-27T05:35:50.470Z"
   },
   {
    "duration": 4,
    "start_time": "2023-02-27T05:35:51.679Z"
   },
   {
    "duration": 76,
    "start_time": "2023-02-27T05:50:04.969Z"
   },
   {
    "duration": 742,
    "start_time": "2023-02-27T05:50:28.278Z"
   },
   {
    "duration": 7,
    "start_time": "2023-02-27T05:50:56.976Z"
   },
   {
    "duration": 48,
    "start_time": "2023-02-27T05:51:39.195Z"
   },
   {
    "duration": 8,
    "start_time": "2023-02-27T05:51:46.722Z"
   },
   {
    "duration": 4,
    "start_time": "2023-02-27T05:52:48.629Z"
   },
   {
    "duration": 5,
    "start_time": "2023-02-27T05:52:55.964Z"
   },
   {
    "duration": 9,
    "start_time": "2023-02-27T05:53:15.486Z"
   },
   {
    "duration": 12,
    "start_time": "2023-02-27T05:54:12.663Z"
   },
   {
    "duration": 25,
    "start_time": "2023-02-27T05:55:55.415Z"
   },
   {
    "duration": 5,
    "start_time": "2023-02-27T06:05:55.881Z"
   },
   {
    "duration": 73,
    "start_time": "2023-02-27T06:10:08.716Z"
   },
   {
    "duration": 1156,
    "start_time": "2023-02-27T06:10:15.716Z"
   },
   {
    "duration": 1170,
    "start_time": "2023-02-27T06:10:47.614Z"
   },
   {
    "duration": 9,
    "start_time": "2023-02-27T06:11:25.447Z"
   },
   {
    "duration": 10,
    "start_time": "2023-02-27T06:12:54.131Z"
   },
   {
    "duration": 14,
    "start_time": "2023-02-27T06:13:11.114Z"
   },
   {
    "duration": 14,
    "start_time": "2023-02-27T06:13:21.434Z"
   },
   {
    "duration": 1307,
    "start_time": "2023-02-27T06:14:07.280Z"
   },
   {
    "duration": 16,
    "start_time": "2023-02-27T06:14:19.265Z"
   },
   {
    "duration": 15,
    "start_time": "2023-02-27T06:14:36.088Z"
   },
   {
    "duration": 20,
    "start_time": "2023-02-27T06:14:38.966Z"
   },
   {
    "duration": 20,
    "start_time": "2023-02-27T06:14:47.820Z"
   },
   {
    "duration": 1439,
    "start_time": "2023-02-27T06:14:56.717Z"
   },
   {
    "duration": 41,
    "start_time": "2023-02-27T06:14:58.158Z"
   },
   {
    "duration": 20,
    "start_time": "2023-02-27T06:14:58.201Z"
   },
   {
    "duration": 41,
    "start_time": "2023-02-27T06:14:58.224Z"
   },
   {
    "duration": 12,
    "start_time": "2023-02-27T06:14:58.269Z"
   },
   {
    "duration": 19,
    "start_time": "2023-02-27T06:14:58.283Z"
   },
   {
    "duration": 37,
    "start_time": "2023-02-27T06:14:58.304Z"
   },
   {
    "duration": 195,
    "start_time": "2023-02-27T06:14:58.343Z"
   },
   {
    "duration": 5,
    "start_time": "2023-02-27T06:14:58.540Z"
   },
   {
    "duration": 12,
    "start_time": "2023-02-27T06:14:58.547Z"
   },
   {
    "duration": 32,
    "start_time": "2023-02-27T06:14:58.561Z"
   },
   {
    "duration": 16,
    "start_time": "2023-02-27T06:14:58.595Z"
   },
   {
    "duration": 9,
    "start_time": "2023-02-27T06:14:58.613Z"
   },
   {
    "duration": 10,
    "start_time": "2023-02-27T06:14:58.625Z"
   },
   {
    "duration": 184,
    "start_time": "2023-02-27T06:14:58.637Z"
   },
   {
    "duration": 15,
    "start_time": "2023-02-27T06:14:58.824Z"
   },
   {
    "duration": 10,
    "start_time": "2023-02-27T06:14:58.841Z"
   },
   {
    "duration": 26,
    "start_time": "2023-02-27T06:14:58.853Z"
   },
   {
    "duration": 11,
    "start_time": "2023-02-27T06:14:58.882Z"
   },
   {
    "duration": 13,
    "start_time": "2023-02-27T06:14:58.895Z"
   },
   {
    "duration": 18,
    "start_time": "2023-02-27T06:14:58.909Z"
   },
   {
    "duration": 134,
    "start_time": "2023-02-27T06:14:58.929Z"
   },
   {
    "duration": 0,
    "start_time": "2023-02-27T06:14:59.065Z"
   },
   {
    "duration": 20,
    "start_time": "2023-02-27T06:15:02.654Z"
   },
   {
    "duration": 12,
    "start_time": "2023-02-27T06:15:15.653Z"
   },
   {
    "duration": 13,
    "start_time": "2023-02-27T06:15:33.237Z"
   },
   {
    "duration": 10,
    "start_time": "2023-02-27T06:15:38.057Z"
   },
   {
    "duration": 13,
    "start_time": "2023-02-27T06:16:32.754Z"
   },
   {
    "duration": 39,
    "start_time": "2023-02-27T06:16:44.621Z"
   },
   {
    "duration": 43,
    "start_time": "2023-02-27T06:17:01.336Z"
   },
   {
    "duration": 32,
    "start_time": "2023-02-27T06:18:00.720Z"
   },
   {
    "duration": 5,
    "start_time": "2023-02-27T06:18:01.936Z"
   },
   {
    "duration": 5,
    "start_time": "2023-02-27T06:18:02.588Z"
   },
   {
    "duration": 7,
    "start_time": "2023-02-27T06:18:11.771Z"
   },
   {
    "duration": 7,
    "start_time": "2023-02-27T06:18:11.992Z"
   },
   {
    "duration": 26,
    "start_time": "2023-02-27T06:18:12.186Z"
   },
   {
    "duration": 7,
    "start_time": "2023-02-27T06:18:12.668Z"
   },
   {
    "duration": 7,
    "start_time": "2023-02-27T06:18:13.004Z"
   },
   {
    "duration": 6,
    "start_time": "2023-02-27T06:18:13.204Z"
   },
   {
    "duration": 8,
    "start_time": "2023-02-27T06:18:13.420Z"
   },
   {
    "duration": 26,
    "start_time": "2023-02-27T06:18:22.472Z"
   },
   {
    "duration": 21,
    "start_time": "2023-02-27T06:18:49.355Z"
   },
   {
    "duration": 6,
    "start_time": "2023-02-27T06:19:29.500Z"
   },
   {
    "duration": 5,
    "start_time": "2023-02-27T06:19:30.788Z"
   },
   {
    "duration": 5,
    "start_time": "2023-02-27T06:19:31.504Z"
   },
   {
    "duration": 10,
    "start_time": "2023-02-27T06:19:32.254Z"
   },
   {
    "duration": 52,
    "start_time": "2023-02-27T06:19:36.288Z"
   },
   {
    "duration": 45,
    "start_time": "2023-02-27T06:23:47.604Z"
   },
   {
    "duration": 10,
    "start_time": "2023-02-27T06:24:17.294Z"
   },
   {
    "duration": 4,
    "start_time": "2023-02-27T06:24:46.607Z"
   },
   {
    "duration": 53,
    "start_time": "2023-02-27T06:24:55.688Z"
   },
   {
    "duration": 85,
    "start_time": "2023-02-27T06:26:33.755Z"
   },
   {
    "duration": 4,
    "start_time": "2023-02-27T06:27:02.887Z"
   },
   {
    "duration": 1031,
    "start_time": "2023-02-27T06:27:09.417Z"
   },
   {
    "duration": 6,
    "start_time": "2023-02-27T06:28:22.471Z"
   },
   {
    "duration": 134,
    "start_time": "2023-02-27T06:29:00.906Z"
   },
   {
    "duration": 96,
    "start_time": "2023-02-27T06:29:08.253Z"
   },
   {
    "duration": 5,
    "start_time": "2023-02-27T06:29:24.470Z"
   },
   {
    "duration": 129,
    "start_time": "2023-02-27T06:29:28.720Z"
   },
   {
    "duration": 1042,
    "start_time": "2023-02-27T06:36:14.903Z"
   },
   {
    "duration": 830,
    "start_time": "2023-02-27T06:36:28.910Z"
   },
   {
    "duration": 918,
    "start_time": "2023-02-27T06:37:03.630Z"
   },
   {
    "duration": 66,
    "start_time": "2023-02-27T06:38:11.711Z"
   },
   {
    "duration": 88,
    "start_time": "2023-02-27T06:38:38.988Z"
   },
   {
    "duration": 114,
    "start_time": "2023-02-27T06:43:15.018Z"
   },
   {
    "duration": 1134,
    "start_time": "2023-02-27T06:44:26.022Z"
   },
   {
    "duration": 76,
    "start_time": "2023-02-27T06:44:31.456Z"
   },
   {
    "duration": 460,
    "start_time": "2023-02-27T06:44:54.892Z"
   },
   {
    "duration": 1267,
    "start_time": "2023-02-27T06:46:16.072Z"
   },
   {
    "duration": 2651,
    "start_time": "2023-02-27T06:46:35.489Z"
   },
   {
    "duration": 2176,
    "start_time": "2023-02-27T06:49:30.272Z"
   },
   {
    "duration": 2338,
    "start_time": "2023-02-27T06:50:06.911Z"
   },
   {
    "duration": 95,
    "start_time": "2023-02-27T06:59:36.837Z"
   },
   {
    "duration": 50,
    "start_time": "2023-02-27T07:00:16.304Z"
   },
   {
    "duration": 101,
    "start_time": "2023-02-27T07:00:49.554Z"
   },
   {
    "duration": 120,
    "start_time": "2023-02-27T07:01:29.119Z"
   },
   {
    "duration": 1350,
    "start_time": "2023-02-27T07:01:35.887Z"
   },
   {
    "duration": 192,
    "start_time": "2023-02-27T07:02:09.651Z"
   },
   {
    "duration": 44,
    "start_time": "2023-02-27T07:02:17.702Z"
   },
   {
    "duration": 606,
    "start_time": "2023-02-27T07:02:24.847Z"
   },
   {
    "duration": 73,
    "start_time": "2023-02-27T07:03:11.989Z"
   },
   {
    "duration": 105,
    "start_time": "2023-02-27T07:03:33.145Z"
   },
   {
    "duration": 113,
    "start_time": "2023-02-27T07:03:43.821Z"
   },
   {
    "duration": 75,
    "start_time": "2023-02-27T07:03:51.254Z"
   },
   {
    "duration": 2189,
    "start_time": "2023-02-27T07:03:58.354Z"
   },
   {
    "duration": 182,
    "start_time": "2023-02-27T07:05:04.063Z"
   },
   {
    "duration": 156,
    "start_time": "2023-02-27T07:05:32.486Z"
   },
   {
    "duration": 168,
    "start_time": "2023-02-27T07:05:46.670Z"
   },
   {
    "duration": 1545,
    "start_time": "2023-02-27T08:46:43.700Z"
   },
   {
    "duration": 50,
    "start_time": "2023-02-27T08:46:45.248Z"
   },
   {
    "duration": 26,
    "start_time": "2023-02-27T08:46:46.728Z"
   },
   {
    "duration": 33,
    "start_time": "2023-02-27T08:46:48.494Z"
   },
   {
    "duration": 22,
    "start_time": "2023-02-27T08:47:11.198Z"
   },
   {
    "duration": 13,
    "start_time": "2023-02-27T08:48:56.848Z"
   },
   {
    "duration": 20,
    "start_time": "2023-02-27T08:50:40.531Z"
   },
   {
    "duration": 22,
    "start_time": "2023-02-27T08:50:46.783Z"
   },
   {
    "duration": 14,
    "start_time": "2023-02-27T08:51:57.644Z"
   },
   {
    "duration": 14,
    "start_time": "2023-02-27T08:52:13.830Z"
   },
   {
    "duration": 32,
    "start_time": "2023-02-27T08:52:23.628Z"
   },
   {
    "duration": 8,
    "start_time": "2023-02-27T08:55:07.764Z"
   },
   {
    "duration": 145,
    "start_time": "2023-02-27T08:56:06.479Z"
   },
   {
    "duration": 12,
    "start_time": "2023-02-27T08:56:12.668Z"
   },
   {
    "duration": 16,
    "start_time": "2023-02-27T08:56:32.644Z"
   },
   {
    "duration": 75,
    "start_time": "2023-02-27T08:56:49.831Z"
   },
   {
    "duration": 85,
    "start_time": "2023-02-27T08:56:58.071Z"
   },
   {
    "duration": 27,
    "start_time": "2023-02-27T08:57:24.835Z"
   },
   {
    "duration": 123,
    "start_time": "2023-02-27T08:57:47.796Z"
   },
   {
    "duration": 11,
    "start_time": "2023-02-27T08:58:07.419Z"
   },
   {
    "duration": 213,
    "start_time": "2023-02-27T08:59:36.728Z"
   },
   {
    "duration": 6,
    "start_time": "2023-02-27T09:00:07.192Z"
   },
   {
    "duration": 187,
    "start_time": "2023-02-27T09:00:57.628Z"
   },
   {
    "duration": 5,
    "start_time": "2023-02-27T09:01:10.378Z"
   },
   {
    "duration": 5,
    "start_time": "2023-02-27T09:01:43.210Z"
   },
   {
    "duration": 5,
    "start_time": "2023-02-27T09:02:01.611Z"
   },
   {
    "duration": 8,
    "start_time": "2023-02-27T09:06:45.057Z"
   },
   {
    "duration": 27,
    "start_time": "2023-02-27T09:06:55.727Z"
   },
   {
    "duration": 5,
    "start_time": "2023-02-27T09:07:19.696Z"
   },
   {
    "duration": 13,
    "start_time": "2023-02-27T09:07:29.978Z"
   },
   {
    "duration": 17,
    "start_time": "2023-02-27T09:08:24.725Z"
   },
   {
    "duration": 16,
    "start_time": "2023-02-27T09:08:43.253Z"
   },
   {
    "duration": 27,
    "start_time": "2023-02-27T09:09:13.779Z"
   },
   {
    "duration": 11,
    "start_time": "2023-02-27T09:09:38.765Z"
   },
   {
    "duration": 10,
    "start_time": "2023-02-27T09:09:48.596Z"
   },
   {
    "duration": 14,
    "start_time": "2023-02-27T09:11:09.866Z"
   },
   {
    "duration": 24,
    "start_time": "2023-02-27T09:11:26.757Z"
   },
   {
    "duration": 10,
    "start_time": "2023-02-27T09:11:34.583Z"
   },
   {
    "duration": 9,
    "start_time": "2023-02-27T09:11:54.563Z"
   },
   {
    "duration": 13,
    "start_time": "2023-02-27T09:12:05.670Z"
   },
   {
    "duration": 11,
    "start_time": "2023-02-27T09:12:23.280Z"
   },
   {
    "duration": 281,
    "start_time": "2023-02-27T09:12:35.200Z"
   },
   {
    "duration": 4,
    "start_time": "2023-02-27T09:14:40.687Z"
   },
   {
    "duration": 1558,
    "start_time": "2023-02-27T09:15:02.960Z"
   },
   {
    "duration": 78,
    "start_time": "2023-02-27T09:15:04.521Z"
   },
   {
    "duration": 21,
    "start_time": "2023-02-27T09:15:04.601Z"
   },
   {
    "duration": 21,
    "start_time": "2023-02-27T09:15:04.625Z"
   },
   {
    "duration": 39,
    "start_time": "2023-02-27T09:15:04.648Z"
   },
   {
    "duration": 12,
    "start_time": "2023-02-27T09:15:04.690Z"
   },
   {
    "duration": 9,
    "start_time": "2023-02-27T09:15:04.705Z"
   },
   {
    "duration": 50,
    "start_time": "2023-02-27T09:15:04.716Z"
   },
   {
    "duration": 245,
    "start_time": "2023-02-27T09:15:04.768Z"
   },
   {
    "duration": 28,
    "start_time": "2023-02-27T09:18:33.396Z"
   },
   {
    "duration": 5,
    "start_time": "2023-02-27T09:19:26.913Z"
   },
   {
    "duration": 9,
    "start_time": "2023-02-27T09:19:54.329Z"
   },
   {
    "duration": 18,
    "start_time": "2023-02-27T09:20:07.831Z"
   },
   {
    "duration": 4,
    "start_time": "2023-02-27T09:22:38.691Z"
   },
   {
    "duration": 7,
    "start_time": "2023-02-27T09:23:12.065Z"
   },
   {
    "duration": 29,
    "start_time": "2023-02-27T09:23:47.599Z"
   },
   {
    "duration": 33,
    "start_time": "2023-02-27T09:23:57.129Z"
   },
   {
    "duration": 19,
    "start_time": "2023-02-27T09:24:02.612Z"
   },
   {
    "duration": 15,
    "start_time": "2023-02-27T09:24:30.017Z"
   },
   {
    "duration": 169,
    "start_time": "2023-02-27T09:24:59.012Z"
   },
   {
    "duration": 195,
    "start_time": "2023-02-27T09:25:47.534Z"
   },
   {
    "duration": 196,
    "start_time": "2023-02-27T09:26:05.613Z"
   },
   {
    "duration": 10,
    "start_time": "2023-02-27T09:28:12.950Z"
   },
   {
    "duration": 6,
    "start_time": "2023-02-27T09:28:50.099Z"
   },
   {
    "duration": 192,
    "start_time": "2023-02-27T09:28:59.687Z"
   },
   {
    "duration": 19,
    "start_time": "2023-02-27T09:29:36.488Z"
   },
   {
    "duration": 19,
    "start_time": "2023-02-27T09:30:20.989Z"
   },
   {
    "duration": 21,
    "start_time": "2023-02-27T09:30:37.913Z"
   },
   {
    "duration": 5,
    "start_time": "2023-02-27T09:30:45.415Z"
   },
   {
    "duration": 2439,
    "start_time": "2023-02-27T09:30:59.896Z"
   },
   {
    "duration": 94,
    "start_time": "2023-02-27T09:31:02.338Z"
   },
   {
    "duration": 91,
    "start_time": "2023-02-27T09:31:02.435Z"
   },
   {
    "duration": 79,
    "start_time": "2023-02-27T09:31:02.532Z"
   },
   {
    "duration": 98,
    "start_time": "2023-02-27T09:31:02.616Z"
   },
   {
    "duration": 139,
    "start_time": "2023-02-27T09:31:02.718Z"
   },
   {
    "duration": 138,
    "start_time": "2023-02-27T09:31:02.860Z"
   },
   {
    "duration": 126,
    "start_time": "2023-02-27T09:31:03.001Z"
   },
   {
    "duration": 310,
    "start_time": "2023-02-27T09:31:03.129Z"
   },
   {
    "duration": 10,
    "start_time": "2023-02-27T09:31:03.443Z"
   },
   {
    "duration": 79,
    "start_time": "2023-02-27T09:31:03.455Z"
   },
   {
    "duration": 275,
    "start_time": "2023-02-27T09:31:03.537Z"
   },
   {
    "duration": 30,
    "start_time": "2023-02-27T09:31:11.867Z"
   },
   {
    "duration": 15,
    "start_time": "2023-02-27T09:31:21.551Z"
   },
   {
    "duration": 8,
    "start_time": "2023-02-27T09:31:55.229Z"
   },
   {
    "duration": 24,
    "start_time": "2023-02-27T09:32:51.198Z"
   },
   {
    "duration": 100,
    "start_time": "2023-02-27T09:38:20.573Z"
   },
   {
    "duration": 24,
    "start_time": "2023-02-27T09:38:34.558Z"
   },
   {
    "duration": 7,
    "start_time": "2023-02-27T09:41:44.285Z"
   },
   {
    "duration": 83,
    "start_time": "2023-02-27T09:46:33.358Z"
   },
   {
    "duration": 11,
    "start_time": "2023-02-27T09:46:40.748Z"
   },
   {
    "duration": 4,
    "start_time": "2023-02-27T09:47:05.622Z"
   },
   {
    "duration": 31,
    "start_time": "2023-02-27T09:47:28.375Z"
   },
   {
    "duration": 5,
    "start_time": "2023-02-27T09:48:38.482Z"
   },
   {
    "duration": 25,
    "start_time": "2023-02-27T09:51:22.316Z"
   },
   {
    "duration": 48,
    "start_time": "2023-02-27T09:51:30.084Z"
   },
   {
    "duration": 50,
    "start_time": "2023-02-27T09:52:31.023Z"
   },
   {
    "duration": 2041,
    "start_time": "2023-02-27T09:52:49.432Z"
   },
   {
    "duration": 51,
    "start_time": "2023-02-27T09:52:51.480Z"
   },
   {
    "duration": 20,
    "start_time": "2023-02-27T09:52:51.533Z"
   },
   {
    "duration": 81,
    "start_time": "2023-02-27T09:52:51.555Z"
   },
   {
    "duration": 90,
    "start_time": "2023-02-27T09:52:51.643Z"
   },
   {
    "duration": 81,
    "start_time": "2023-02-27T09:52:51.734Z"
   },
   {
    "duration": 106,
    "start_time": "2023-02-27T09:52:51.817Z"
   },
   {
    "duration": 76,
    "start_time": "2023-02-27T09:52:51.924Z"
   },
   {
    "duration": 381,
    "start_time": "2023-02-27T09:52:52.002Z"
   },
   {
    "duration": 9,
    "start_time": "2023-02-27T09:52:52.394Z"
   },
   {
    "duration": 126,
    "start_time": "2023-02-27T09:52:52.407Z"
   },
   {
    "duration": 374,
    "start_time": "2023-02-27T09:52:52.535Z"
   },
   {
    "duration": 5,
    "start_time": "2023-02-27T09:52:52.911Z"
   },
   {
    "duration": 85,
    "start_time": "2023-02-27T09:52:52.917Z"
   },
   {
    "duration": 83,
    "start_time": "2023-02-27T09:52:53.004Z"
   },
   {
    "duration": 9,
    "start_time": "2023-02-27T09:52:56.377Z"
   },
   {
    "duration": 34,
    "start_time": "2023-02-27T09:52:56.754Z"
   },
   {
    "duration": 49,
    "start_time": "2023-02-27T09:52:56.969Z"
   },
   {
    "duration": 44,
    "start_time": "2023-02-27T09:53:14.088Z"
   },
   {
    "duration": 50,
    "start_time": "2023-02-27T09:53:51.920Z"
   },
   {
    "duration": 39,
    "start_time": "2023-02-27T10:02:16.387Z"
   },
   {
    "duration": 7,
    "start_time": "2023-02-27T10:03:54.868Z"
   },
   {
    "duration": 10,
    "start_time": "2023-02-27T10:04:03.332Z"
   },
   {
    "duration": 12,
    "start_time": "2023-02-27T10:07:10.101Z"
   },
   {
    "duration": 181,
    "start_time": "2023-02-27T10:07:42.585Z"
   },
   {
    "duration": 13,
    "start_time": "2023-02-27T10:08:51.966Z"
   },
   {
    "duration": 13,
    "start_time": "2023-02-27T10:09:11.453Z"
   },
   {
    "duration": 4,
    "start_time": "2023-02-27T10:31:23.698Z"
   },
   {
    "duration": 6,
    "start_time": "2023-02-27T10:32:33.805Z"
   },
   {
    "duration": 16,
    "start_time": "2023-02-27T10:34:24.087Z"
   },
   {
    "duration": 5,
    "start_time": "2023-02-27T10:34:30.170Z"
   },
   {
    "duration": 127,
    "start_time": "2023-02-27T10:34:30.177Z"
   },
   {
    "duration": 12,
    "start_time": "2023-02-27T10:34:30.306Z"
   },
   {
    "duration": 191,
    "start_time": "2023-02-27T10:34:30.320Z"
   },
   {
    "duration": 117,
    "start_time": "2023-02-27T10:34:30.514Z"
   },
   {
    "duration": 102,
    "start_time": "2023-02-27T10:34:30.633Z"
   },
   {
    "duration": 58,
    "start_time": "2023-02-27T10:34:30.737Z"
   },
   {
    "duration": 111,
    "start_time": "2023-02-27T10:34:30.797Z"
   },
   {
    "duration": 381,
    "start_time": "2023-02-27T10:34:30.911Z"
   },
   {
    "duration": 8,
    "start_time": "2023-02-27T10:34:31.294Z"
   },
   {
    "duration": 30,
    "start_time": "2023-02-27T10:34:31.303Z"
   },
   {
    "duration": 238,
    "start_time": "2023-02-27T10:34:31.340Z"
   },
   {
    "duration": 12,
    "start_time": "2023-02-27T10:34:31.580Z"
   },
   {
    "duration": 20,
    "start_time": "2023-02-27T10:34:31.595Z"
   },
   {
    "duration": 67,
    "start_time": "2023-02-27T10:34:31.617Z"
   },
   {
    "duration": 27,
    "start_time": "2023-02-27T10:34:31.686Z"
   },
   {
    "duration": 57,
    "start_time": "2023-02-27T10:34:31.715Z"
   },
   {
    "duration": 55,
    "start_time": "2023-02-27T10:34:31.776Z"
   },
   {
    "duration": 115,
    "start_time": "2023-02-27T10:34:31.833Z"
   },
   {
    "duration": 26,
    "start_time": "2023-02-27T10:34:31.949Z"
   },
   {
    "duration": 44,
    "start_time": "2023-02-27T10:34:31.977Z"
   },
   {
    "duration": 82,
    "start_time": "2023-02-27T10:34:32.024Z"
   },
   {
    "duration": 0,
    "start_time": "2023-02-27T10:34:32.108Z"
   },
   {
    "duration": 0,
    "start_time": "2023-02-27T10:34:32.109Z"
   },
   {
    "duration": 0,
    "start_time": "2023-02-27T10:34:32.110Z"
   },
   {
    "duration": 0,
    "start_time": "2023-02-27T10:34:32.112Z"
   },
   {
    "duration": 0,
    "start_time": "2023-02-27T10:34:32.113Z"
   },
   {
    "duration": 36,
    "start_time": "2023-02-27T10:34:32.973Z"
   },
   {
    "duration": 47,
    "start_time": "2023-02-27T10:35:44.214Z"
   },
   {
    "duration": 52,
    "start_time": "2023-02-27T10:35:49.724Z"
   },
   {
    "duration": 5,
    "start_time": "2023-02-27T11:39:07.909Z"
   },
   {
    "duration": 4,
    "start_time": "2023-02-27T11:39:17.379Z"
   },
   {
    "duration": 5,
    "start_time": "2023-02-27T12:16:23.988Z"
   },
   {
    "duration": 4,
    "start_time": "2023-02-27T12:22:33.775Z"
   },
   {
    "duration": 4,
    "start_time": "2023-02-27T12:22:56.722Z"
   },
   {
    "duration": 4,
    "start_time": "2023-02-27T12:28:34.671Z"
   },
   {
    "duration": 5,
    "start_time": "2023-02-27T12:28:49.871Z"
   },
   {
    "duration": 5,
    "start_time": "2023-02-27T12:29:00.856Z"
   },
   {
    "duration": 6,
    "start_time": "2023-02-27T12:29:21.486Z"
   },
   {
    "duration": 4,
    "start_time": "2023-02-27T12:29:48.252Z"
   },
   {
    "duration": 1575,
    "start_time": "2023-02-28T04:59:15.255Z"
   },
   {
    "duration": 166,
    "start_time": "2023-02-28T04:59:16.832Z"
   },
   {
    "duration": 15,
    "start_time": "2023-02-28T04:59:17.000Z"
   },
   {
    "duration": 30,
    "start_time": "2023-02-28T04:59:17.017Z"
   },
   {
    "duration": 33,
    "start_time": "2023-02-28T04:59:17.049Z"
   },
   {
    "duration": 9,
    "start_time": "2023-02-28T04:59:17.084Z"
   },
   {
    "duration": 10,
    "start_time": "2023-02-28T04:59:17.095Z"
   },
   {
    "duration": 16,
    "start_time": "2023-02-28T04:59:17.107Z"
   },
   {
    "duration": 194,
    "start_time": "2023-02-28T04:59:17.125Z"
   },
   {
    "duration": 8,
    "start_time": "2023-02-28T04:59:17.321Z"
   },
   {
    "duration": 14,
    "start_time": "2023-02-28T04:59:17.338Z"
   },
   {
    "duration": 190,
    "start_time": "2023-02-28T04:59:17.353Z"
   },
   {
    "duration": 14,
    "start_time": "2023-02-28T04:59:17.545Z"
   },
   {
    "duration": 5,
    "start_time": "2023-02-28T04:59:17.563Z"
   },
   {
    "duration": 25,
    "start_time": "2023-02-28T04:59:17.571Z"
   },
   {
    "duration": 14,
    "start_time": "2023-02-28T04:59:17.598Z"
   },
   {
    "duration": 12,
    "start_time": "2023-02-28T04:59:17.638Z"
   },
   {
    "duration": 31,
    "start_time": "2023-02-28T04:59:17.652Z"
   },
   {
    "duration": 41,
    "start_time": "2023-02-28T04:59:17.685Z"
   },
   {
    "duration": 139,
    "start_time": "2023-02-28T04:59:17.728Z"
   },
   {
    "duration": 0,
    "start_time": "2023-02-28T04:59:17.869Z"
   },
   {
    "duration": 0,
    "start_time": "2023-02-28T04:59:17.870Z"
   },
   {
    "duration": 0,
    "start_time": "2023-02-28T04:59:17.871Z"
   },
   {
    "duration": 0,
    "start_time": "2023-02-28T04:59:17.872Z"
   },
   {
    "duration": 0,
    "start_time": "2023-02-28T04:59:17.874Z"
   },
   {
    "duration": 0,
    "start_time": "2023-02-28T04:59:17.875Z"
   },
   {
    "duration": 0,
    "start_time": "2023-02-28T04:59:17.876Z"
   },
   {
    "duration": 0,
    "start_time": "2023-02-28T04:59:17.878Z"
   },
   {
    "duration": 0,
    "start_time": "2023-02-28T04:59:17.879Z"
   },
   {
    "duration": 0,
    "start_time": "2023-02-28T04:59:17.880Z"
   },
   {
    "duration": 0,
    "start_time": "2023-02-28T04:59:17.881Z"
   },
   {
    "duration": 0,
    "start_time": "2023-02-28T04:59:17.883Z"
   },
   {
    "duration": 1,
    "start_time": "2023-02-28T04:59:17.883Z"
   },
   {
    "duration": 6,
    "start_time": "2023-02-28T05:01:52.914Z"
   },
   {
    "duration": 22,
    "start_time": "2023-02-28T05:25:37.461Z"
   },
   {
    "duration": 10,
    "start_time": "2023-02-28T05:34:10.543Z"
   },
   {
    "duration": 11,
    "start_time": "2023-02-28T05:35:42.090Z"
   },
   {
    "duration": 7,
    "start_time": "2023-02-28T05:35:45.056Z"
   },
   {
    "duration": 5,
    "start_time": "2023-02-28T05:35:45.420Z"
   },
   {
    "duration": 9,
    "start_time": "2023-02-28T05:36:08.049Z"
   },
   {
    "duration": 5,
    "start_time": "2023-02-28T05:36:32.773Z"
   },
   {
    "duration": 7,
    "start_time": "2023-02-28T05:37:34.617Z"
   },
   {
    "duration": 7,
    "start_time": "2023-02-28T05:37:54.299Z"
   },
   {
    "duration": 6,
    "start_time": "2023-02-28T05:38:39.875Z"
   },
   {
    "duration": 7,
    "start_time": "2023-02-28T05:38:58.490Z"
   },
   {
    "duration": 6,
    "start_time": "2023-02-28T05:39:05.857Z"
   },
   {
    "duration": 7,
    "start_time": "2023-02-28T05:39:08.282Z"
   },
   {
    "duration": 8,
    "start_time": "2023-02-28T05:39:19.333Z"
   },
   {
    "duration": 12,
    "start_time": "2023-02-28T05:39:36.991Z"
   },
   {
    "duration": 14,
    "start_time": "2023-02-28T05:40:03.271Z"
   },
   {
    "duration": 8,
    "start_time": "2023-02-28T05:40:41.340Z"
   },
   {
    "duration": 6,
    "start_time": "2023-02-28T05:42:24.695Z"
   },
   {
    "duration": 8,
    "start_time": "2023-02-28T05:45:39.808Z"
   },
   {
    "duration": 7,
    "start_time": "2023-02-28T05:45:52.157Z"
   },
   {
    "duration": 94,
    "start_time": "2023-02-28T05:47:12.692Z"
   },
   {
    "duration": 10,
    "start_time": "2023-02-28T05:47:20.531Z"
   },
   {
    "duration": 17,
    "start_time": "2023-02-28T05:47:28.609Z"
   },
   {
    "duration": 19,
    "start_time": "2023-02-28T05:47:35.891Z"
   },
   {
    "duration": 13,
    "start_time": "2023-02-28T05:52:00.193Z"
   },
   {
    "duration": 16,
    "start_time": "2023-02-28T05:52:13.274Z"
   },
   {
    "duration": 18,
    "start_time": "2023-02-28T05:53:29.222Z"
   },
   {
    "duration": 76,
    "start_time": "2023-02-28T05:54:00.375Z"
   },
   {
    "duration": 96,
    "start_time": "2023-02-28T05:54:32.774Z"
   },
   {
    "duration": 11,
    "start_time": "2023-02-28T05:54:46.187Z"
   },
   {
    "duration": 34,
    "start_time": "2023-02-28T05:57:42.526Z"
   },
   {
    "duration": 28,
    "start_time": "2023-02-28T05:57:54.507Z"
   },
   {
    "duration": 29,
    "start_time": "2023-02-28T05:58:07.723Z"
   },
   {
    "duration": 19,
    "start_time": "2023-02-28T05:58:36.506Z"
   },
   {
    "duration": 1457,
    "start_time": "2023-02-28T06:00:09.042Z"
   },
   {
    "duration": 50,
    "start_time": "2023-02-28T06:00:10.501Z"
   },
   {
    "duration": 14,
    "start_time": "2023-02-28T06:00:10.553Z"
   },
   {
    "duration": 13,
    "start_time": "2023-02-28T06:00:10.569Z"
   },
   {
    "duration": 17,
    "start_time": "2023-02-28T06:00:10.584Z"
   },
   {
    "duration": 10,
    "start_time": "2023-02-28T06:00:10.602Z"
   },
   {
    "duration": 34,
    "start_time": "2023-02-28T06:00:10.614Z"
   },
   {
    "duration": 14,
    "start_time": "2023-02-28T06:00:10.651Z"
   },
   {
    "duration": 193,
    "start_time": "2023-02-28T06:00:10.667Z"
   },
   {
    "duration": 8,
    "start_time": "2023-02-28T06:00:10.862Z"
   },
   {
    "duration": 13,
    "start_time": "2023-02-28T06:00:10.871Z"
   },
   {
    "duration": 202,
    "start_time": "2023-02-28T06:00:10.886Z"
   },
   {
    "duration": 12,
    "start_time": "2023-02-28T06:00:11.090Z"
   },
   {
    "duration": 16,
    "start_time": "2023-02-28T06:00:11.105Z"
   },
   {
    "duration": 60,
    "start_time": "2023-02-28T06:00:11.123Z"
   },
   {
    "duration": 17,
    "start_time": "2023-02-28T06:00:11.185Z"
   },
   {
    "duration": 9,
    "start_time": "2023-02-28T06:00:11.204Z"
   },
   {
    "duration": 51,
    "start_time": "2023-02-28T06:00:11.214Z"
   },
   {
    "duration": 6,
    "start_time": "2023-02-28T06:00:11.267Z"
   },
   {
    "duration": 17,
    "start_time": "2023-02-28T06:00:11.275Z"
   },
   {
    "duration": 6,
    "start_time": "2023-02-28T06:00:11.294Z"
   },
   {
    "duration": 16,
    "start_time": "2023-02-28T06:00:11.302Z"
   },
   {
    "duration": 34,
    "start_time": "2023-02-28T06:00:11.320Z"
   },
   {
    "duration": 13,
    "start_time": "2023-02-28T06:00:11.356Z"
   },
   {
    "duration": 9,
    "start_time": "2023-02-28T06:00:29.537Z"
   },
   {
    "duration": 5,
    "start_time": "2023-02-28T06:00:44.237Z"
   },
   {
    "duration": 92,
    "start_time": "2023-02-28T06:01:01.384Z"
   },
   {
    "duration": 15,
    "start_time": "2023-02-28T06:01:05.438Z"
   },
   {
    "duration": 23,
    "start_time": "2023-02-28T06:01:26.887Z"
   },
   {
    "duration": 8,
    "start_time": "2023-02-28T06:01:54.789Z"
   },
   {
    "duration": 10,
    "start_time": "2023-02-28T06:02:04.487Z"
   },
   {
    "duration": 6,
    "start_time": "2023-02-28T06:02:44.118Z"
   },
   {
    "duration": 5,
    "start_time": "2023-02-28T06:03:40.423Z"
   },
   {
    "duration": 5,
    "start_time": "2023-02-28T06:03:51.407Z"
   },
   {
    "duration": 8,
    "start_time": "2023-02-28T06:04:31.372Z"
   },
   {
    "duration": 88,
    "start_time": "2023-02-28T06:06:23.566Z"
   },
   {
    "duration": 122,
    "start_time": "2023-02-28T06:06:36.805Z"
   },
   {
    "duration": 7,
    "start_time": "2023-02-28T06:06:43.607Z"
   },
   {
    "duration": 6,
    "start_time": "2023-02-28T06:06:57.039Z"
   },
   {
    "duration": 7,
    "start_time": "2023-02-28T06:08:12.922Z"
   },
   {
    "duration": 6,
    "start_time": "2023-02-28T06:08:18.636Z"
   },
   {
    "duration": 6,
    "start_time": "2023-02-28T06:08:23.455Z"
   },
   {
    "duration": 6,
    "start_time": "2023-02-28T06:08:31.689Z"
   },
   {
    "duration": 12,
    "start_time": "2023-02-28T06:08:57.939Z"
   },
   {
    "duration": 15,
    "start_time": "2023-02-28T06:09:13.905Z"
   },
   {
    "duration": 1416,
    "start_time": "2023-02-28T06:09:30.196Z"
   },
   {
    "duration": 41,
    "start_time": "2023-02-28T06:09:31.615Z"
   },
   {
    "duration": 15,
    "start_time": "2023-02-28T06:09:31.658Z"
   },
   {
    "duration": 47,
    "start_time": "2023-02-28T06:09:31.675Z"
   },
   {
    "duration": 32,
    "start_time": "2023-02-28T06:09:31.725Z"
   },
   {
    "duration": 21,
    "start_time": "2023-02-28T06:09:31.759Z"
   },
   {
    "duration": 55,
    "start_time": "2023-02-28T06:09:31.782Z"
   },
   {
    "duration": 63,
    "start_time": "2023-02-28T06:09:31.839Z"
   },
   {
    "duration": 209,
    "start_time": "2023-02-28T06:09:31.903Z"
   },
   {
    "duration": 7,
    "start_time": "2023-02-28T06:09:32.115Z"
   },
   {
    "duration": 40,
    "start_time": "2023-02-28T06:09:32.124Z"
   },
   {
    "duration": 189,
    "start_time": "2023-02-28T06:09:32.166Z"
   },
   {
    "duration": 10,
    "start_time": "2023-02-28T06:09:32.357Z"
   },
   {
    "duration": 26,
    "start_time": "2023-02-28T06:09:32.369Z"
   },
   {
    "duration": 55,
    "start_time": "2023-02-28T06:09:32.397Z"
   },
   {
    "duration": 46,
    "start_time": "2023-02-28T06:09:32.455Z"
   },
   {
    "duration": 26,
    "start_time": "2023-02-28T06:09:32.503Z"
   },
   {
    "duration": 69,
    "start_time": "2023-02-28T06:09:32.531Z"
   },
   {
    "duration": 6,
    "start_time": "2023-02-28T06:09:32.602Z"
   },
   {
    "duration": 49,
    "start_time": "2023-02-28T06:09:32.610Z"
   },
   {
    "duration": 32,
    "start_time": "2023-02-28T06:09:32.661Z"
   },
   {
    "duration": 32,
    "start_time": "2023-02-28T06:09:32.695Z"
   },
   {
    "duration": 54,
    "start_time": "2023-02-28T06:09:32.729Z"
   },
   {
    "duration": 7,
    "start_time": "2023-02-28T06:09:32.785Z"
   },
   {
    "duration": 9,
    "start_time": "2023-02-28T06:09:32.794Z"
   },
   {
    "duration": 14,
    "start_time": "2023-02-28T06:09:32.804Z"
   },
   {
    "duration": 5,
    "start_time": "2023-02-28T06:10:38.595Z"
   },
   {
    "duration": 61,
    "start_time": "2023-02-28T06:10:38.602Z"
   },
   {
    "duration": 11,
    "start_time": "2023-02-28T06:10:38.665Z"
   },
   {
    "duration": 8,
    "start_time": "2023-02-28T06:10:38.677Z"
   },
   {
    "duration": 23,
    "start_time": "2023-02-28T06:10:38.687Z"
   },
   {
    "duration": 11,
    "start_time": "2023-02-28T06:10:38.711Z"
   },
   {
    "duration": 17,
    "start_time": "2023-02-28T06:10:38.724Z"
   },
   {
    "duration": 12,
    "start_time": "2023-02-28T06:10:38.743Z"
   },
   {
    "duration": 187,
    "start_time": "2023-02-28T06:10:38.757Z"
   },
   {
    "duration": 9,
    "start_time": "2023-02-28T06:10:38.946Z"
   },
   {
    "duration": 14,
    "start_time": "2023-02-28T06:10:38.957Z"
   },
   {
    "duration": 198,
    "start_time": "2023-02-28T06:10:38.973Z"
   },
   {
    "duration": 12,
    "start_time": "2023-02-28T06:10:39.173Z"
   },
   {
    "duration": 4,
    "start_time": "2023-02-28T06:10:39.189Z"
   },
   {
    "duration": 18,
    "start_time": "2023-02-28T06:10:39.195Z"
   },
   {
    "duration": 30,
    "start_time": "2023-02-28T06:10:39.215Z"
   },
   {
    "duration": 7,
    "start_time": "2023-02-28T06:10:39.247Z"
   },
   {
    "duration": 40,
    "start_time": "2023-02-28T06:10:39.256Z"
   },
   {
    "duration": 5,
    "start_time": "2023-02-28T06:10:39.298Z"
   },
   {
    "duration": 38,
    "start_time": "2023-02-28T06:10:39.305Z"
   },
   {
    "duration": 5,
    "start_time": "2023-02-28T06:10:39.344Z"
   },
   {
    "duration": 6,
    "start_time": "2023-02-28T06:10:39.351Z"
   },
   {
    "duration": 27,
    "start_time": "2023-02-28T06:10:39.358Z"
   },
   {
    "duration": 6,
    "start_time": "2023-02-28T06:10:39.387Z"
   },
   {
    "duration": 12,
    "start_time": "2023-02-28T06:10:39.395Z"
   },
   {
    "duration": 12,
    "start_time": "2023-02-28T06:10:51.676Z"
   },
   {
    "duration": 15,
    "start_time": "2023-02-28T06:10:59.299Z"
   },
   {
    "duration": 8,
    "start_time": "2023-02-28T06:11:26.839Z"
   },
   {
    "duration": 8,
    "start_time": "2023-02-28T06:12:19.284Z"
   },
   {
    "duration": 8,
    "start_time": "2023-02-28T06:12:34.076Z"
   },
   {
    "duration": 21,
    "start_time": "2023-02-28T06:13:53.544Z"
   },
   {
    "duration": 6,
    "start_time": "2023-02-28T06:14:39.799Z"
   },
   {
    "duration": 7,
    "start_time": "2023-02-28T06:14:40.997Z"
   },
   {
    "duration": 13,
    "start_time": "2023-02-28T06:14:49.185Z"
   },
   {
    "duration": 8,
    "start_time": "2023-02-28T06:15:06.975Z"
   },
   {
    "duration": 11,
    "start_time": "2023-02-28T06:15:38.528Z"
   },
   {
    "duration": 12,
    "start_time": "2023-02-28T06:21:59.708Z"
   },
   {
    "duration": 12,
    "start_time": "2023-02-28T06:23:47.259Z"
   },
   {
    "duration": 8,
    "start_time": "2023-02-28T06:24:41.191Z"
   },
   {
    "duration": 12,
    "start_time": "2023-02-28T06:24:52.993Z"
   },
   {
    "duration": 13,
    "start_time": "2023-02-28T06:26:17.963Z"
   },
   {
    "duration": 1479,
    "start_time": "2023-02-28T06:28:28.360Z"
   },
   {
    "duration": 835,
    "start_time": "2023-02-28T06:33:09.709Z"
   },
   {
    "duration": 799,
    "start_time": "2023-02-28T06:33:26.644Z"
   },
   {
    "duration": 1096,
    "start_time": "2023-02-28T06:33:44.244Z"
   },
   {
    "duration": 1016,
    "start_time": "2023-02-28T06:34:09.646Z"
   },
   {
    "duration": 844,
    "start_time": "2023-02-28T06:35:19.395Z"
   },
   {
    "duration": 687,
    "start_time": "2023-02-28T06:36:28.260Z"
   },
   {
    "duration": 734,
    "start_time": "2023-02-28T06:37:33.827Z"
   },
   {
    "duration": 36,
    "start_time": "2023-02-28T06:38:05.126Z"
   },
   {
    "duration": 89,
    "start_time": "2023-02-28T06:38:18.162Z"
   },
   {
    "duration": 58,
    "start_time": "2023-02-28T06:38:36.079Z"
   },
   {
    "duration": 329,
    "start_time": "2023-02-28T06:38:46.195Z"
   },
   {
    "duration": 83,
    "start_time": "2023-02-28T06:39:00.362Z"
   },
   {
    "duration": 40,
    "start_time": "2023-02-28T06:39:19.878Z"
   },
   {
    "duration": 1483,
    "start_time": "2023-02-28T06:39:39.209Z"
   },
   {
    "duration": 41,
    "start_time": "2023-02-28T06:39:40.694Z"
   },
   {
    "duration": 19,
    "start_time": "2023-02-28T06:39:40.737Z"
   },
   {
    "duration": 19,
    "start_time": "2023-02-28T06:39:40.759Z"
   },
   {
    "duration": 14,
    "start_time": "2023-02-28T06:39:40.780Z"
   },
   {
    "duration": 11,
    "start_time": "2023-02-28T06:39:40.796Z"
   },
   {
    "duration": 35,
    "start_time": "2023-02-28T06:39:40.809Z"
   },
   {
    "duration": 12,
    "start_time": "2023-02-28T06:39:40.846Z"
   },
   {
    "duration": 208,
    "start_time": "2023-02-28T06:39:40.860Z"
   },
   {
    "duration": 8,
    "start_time": "2023-02-28T06:39:41.070Z"
   },
   {
    "duration": 15,
    "start_time": "2023-02-28T06:39:41.080Z"
   },
   {
    "duration": 196,
    "start_time": "2023-02-28T06:39:41.097Z"
   },
   {
    "duration": 12,
    "start_time": "2023-02-28T06:39:41.295Z"
   },
   {
    "duration": 6,
    "start_time": "2023-02-28T06:39:41.310Z"
   },
   {
    "duration": 39,
    "start_time": "2023-02-28T06:39:41.317Z"
   },
   {
    "duration": 27,
    "start_time": "2023-02-28T06:39:41.358Z"
   },
   {
    "duration": 11,
    "start_time": "2023-02-28T06:39:41.387Z"
   },
   {
    "duration": 56,
    "start_time": "2023-02-28T06:39:41.399Z"
   },
   {
    "duration": 6,
    "start_time": "2023-02-28T06:39:41.457Z"
   },
   {
    "duration": 14,
    "start_time": "2023-02-28T06:39:41.465Z"
   },
   {
    "duration": 10,
    "start_time": "2023-02-28T06:39:41.480Z"
   },
   {
    "duration": 26,
    "start_time": "2023-02-28T06:39:41.492Z"
   },
   {
    "duration": 37,
    "start_time": "2023-02-28T06:39:41.520Z"
   },
   {
    "duration": 15,
    "start_time": "2023-02-28T06:39:41.559Z"
   },
   {
    "duration": 14,
    "start_time": "2023-02-28T06:39:41.576Z"
   },
   {
    "duration": 17,
    "start_time": "2023-02-28T06:39:41.592Z"
   },
   {
    "duration": 39,
    "start_time": "2023-02-28T06:39:41.611Z"
   },
   {
    "duration": 10,
    "start_time": "2023-02-28T06:39:41.652Z"
   },
   {
    "duration": 26,
    "start_time": "2023-02-28T06:39:41.664Z"
   },
   {
    "duration": 25,
    "start_time": "2023-02-28T06:39:41.692Z"
   },
   {
    "duration": 43,
    "start_time": "2023-02-28T06:39:46.059Z"
   },
   {
    "duration": 4680,
    "start_time": "2023-02-28T06:41:15.078Z"
   },
   {
    "duration": 479,
    "start_time": "2023-02-28T06:42:07.560Z"
   },
   {
    "duration": 44,
    "start_time": "2023-02-28T06:42:52.793Z"
   },
   {
    "duration": 8,
    "start_time": "2023-02-28T06:42:58.593Z"
   },
   {
    "duration": 10,
    "start_time": "2023-02-28T06:43:04.376Z"
   },
   {
    "duration": 5,
    "start_time": "2023-02-28T06:43:32.042Z"
   },
   {
    "duration": 360,
    "start_time": "2023-02-28T06:43:46.395Z"
   },
   {
    "duration": 362,
    "start_time": "2023-02-28T06:44:04.193Z"
   },
   {
    "duration": 462,
    "start_time": "2023-02-28T06:44:32.977Z"
   },
   {
    "duration": 380,
    "start_time": "2023-02-28T06:46:27.079Z"
   },
   {
    "duration": 396,
    "start_time": "2023-02-28T06:56:54.664Z"
   },
   {
    "duration": 482,
    "start_time": "2023-02-28T06:57:20.477Z"
   },
   {
    "duration": 378,
    "start_time": "2023-02-28T06:59:55.981Z"
   },
   {
    "duration": 528,
    "start_time": "2023-02-28T07:00:03.730Z"
   },
   {
    "duration": 527,
    "start_time": "2023-02-28T07:00:47.429Z"
   },
   {
    "duration": 269,
    "start_time": "2023-02-28T07:01:59.781Z"
   },
   {
    "duration": 674,
    "start_time": "2023-02-28T07:03:03.865Z"
   },
   {
    "duration": 4,
    "start_time": "2023-02-28T07:04:48.928Z"
   },
   {
    "duration": 52,
    "start_time": "2023-02-28T07:14:23.130Z"
   },
   {
    "duration": 9,
    "start_time": "2023-02-28T07:15:11.251Z"
   },
   {
    "duration": 6,
    "start_time": "2023-02-28T07:16:33.483Z"
   },
   {
    "duration": 5,
    "start_time": "2023-02-28T07:16:57.779Z"
   },
   {
    "duration": 8,
    "start_time": "2023-02-28T07:17:19.613Z"
   },
   {
    "duration": 13,
    "start_time": "2023-02-28T07:17:25.657Z"
   },
   {
    "duration": 8,
    "start_time": "2023-02-28T07:17:35.098Z"
   },
   {
    "duration": 12,
    "start_time": "2023-02-28T07:17:36.156Z"
   },
   {
    "duration": 84,
    "start_time": "2023-02-28T07:24:58.301Z"
   },
   {
    "duration": 84,
    "start_time": "2023-02-28T07:25:13.784Z"
   },
   {
    "duration": 624,
    "start_time": "2023-02-28T07:27:04.015Z"
   },
   {
    "duration": 541,
    "start_time": "2023-02-28T07:27:21.635Z"
   },
   {
    "duration": 538,
    "start_time": "2023-02-28T07:27:49.783Z"
   },
   {
    "duration": 576,
    "start_time": "2023-02-28T07:33:49.158Z"
   },
   {
    "duration": 560,
    "start_time": "2023-02-28T07:34:04.665Z"
   },
   {
    "duration": 552,
    "start_time": "2023-02-28T07:34:41.529Z"
   },
   {
    "duration": 3549,
    "start_time": "2023-02-28T07:35:51.866Z"
   },
   {
    "duration": 3342,
    "start_time": "2023-02-28T07:36:32.324Z"
   },
   {
    "duration": 3366,
    "start_time": "2023-02-28T07:36:38.483Z"
   },
   {
    "duration": 45,
    "start_time": "2023-02-28T07:36:58.683Z"
   },
   {
    "duration": 51,
    "start_time": "2023-02-28T07:37:16.717Z"
   },
   {
    "duration": 49,
    "start_time": "2023-02-28T07:37:34.826Z"
   },
   {
    "duration": 533,
    "start_time": "2023-02-28T07:37:45.718Z"
   },
   {
    "duration": 555,
    "start_time": "2023-02-28T07:37:48.899Z"
   },
   {
    "duration": 605,
    "start_time": "2023-02-28T07:37:52.703Z"
   },
   {
    "duration": 947,
    "start_time": "2023-02-28T07:38:06.283Z"
   },
   {
    "duration": 1073,
    "start_time": "2023-02-28T07:38:28.334Z"
   },
   {
    "duration": 850,
    "start_time": "2023-02-28T07:38:44.251Z"
   },
   {
    "duration": 87,
    "start_time": "2023-02-28T07:40:22.118Z"
   },
   {
    "duration": 88,
    "start_time": "2023-02-28T07:41:13.766Z"
   },
   {
    "duration": 93,
    "start_time": "2023-02-28T07:41:34.560Z"
   },
   {
    "duration": 1705,
    "start_time": "2023-02-28T07:42:01.166Z"
   },
   {
    "duration": 8648,
    "start_time": "2023-02-28T07:42:32.819Z"
   },
   {
    "duration": 8464,
    "start_time": "2023-02-28T07:44:15.040Z"
   },
   {
    "duration": 8435,
    "start_time": "2023-02-28T07:44:58.039Z"
   },
   {
    "duration": 8539,
    "start_time": "2023-02-28T07:46:22.219Z"
   },
   {
    "duration": 9111,
    "start_time": "2023-02-28T07:46:51.267Z"
   },
   {
    "duration": 9272,
    "start_time": "2023-02-28T07:47:18.720Z"
   },
   {
    "duration": 9303,
    "start_time": "2023-02-28T07:47:41.214Z"
   },
   {
    "duration": 5,
    "start_time": "2023-02-28T07:48:51.919Z"
   },
   {
    "duration": 13,
    "start_time": "2023-02-28T07:49:59.819Z"
   },
   {
    "duration": 5,
    "start_time": "2023-02-28T07:50:12.068Z"
   },
   {
    "duration": 4063,
    "start_time": "2023-02-28T07:50:27.704Z"
   },
   {
    "duration": 3942,
    "start_time": "2023-02-28T07:51:46.788Z"
   },
   {
    "duration": 63,
    "start_time": "2023-02-28T07:52:54.737Z"
   },
   {
    "duration": 62,
    "start_time": "2023-02-28T07:53:31.136Z"
   },
   {
    "duration": 1627,
    "start_time": "2023-02-28T07:53:52.587Z"
   },
   {
    "duration": 61,
    "start_time": "2023-02-28T07:53:54.216Z"
   },
   {
    "duration": 16,
    "start_time": "2023-02-28T07:53:54.280Z"
   },
   {
    "duration": 17,
    "start_time": "2023-02-28T07:53:54.298Z"
   },
   {
    "duration": 21,
    "start_time": "2023-02-28T07:53:54.318Z"
   },
   {
    "duration": 30,
    "start_time": "2023-02-28T07:53:54.341Z"
   },
   {
    "duration": 12,
    "start_time": "2023-02-28T07:53:54.372Z"
   },
   {
    "duration": 27,
    "start_time": "2023-02-28T07:53:54.386Z"
   },
   {
    "duration": 205,
    "start_time": "2023-02-28T07:53:54.415Z"
   },
   {
    "duration": 24,
    "start_time": "2023-02-28T07:53:54.623Z"
   },
   {
    "duration": 17,
    "start_time": "2023-02-28T07:53:54.655Z"
   },
   {
    "duration": 196,
    "start_time": "2023-02-28T07:53:54.674Z"
   },
   {
    "duration": 12,
    "start_time": "2023-02-28T07:53:54.872Z"
   },
   {
    "duration": 8,
    "start_time": "2023-02-28T07:53:54.887Z"
   },
   {
    "duration": 27,
    "start_time": "2023-02-28T07:53:54.897Z"
   },
   {
    "duration": 23,
    "start_time": "2023-02-28T07:53:54.927Z"
   },
   {
    "duration": 27,
    "start_time": "2023-02-28T07:53:54.956Z"
   },
   {
    "duration": 23,
    "start_time": "2023-02-28T07:53:54.985Z"
   },
   {
    "duration": 12,
    "start_time": "2023-02-28T07:53:55.010Z"
   },
   {
    "duration": 34,
    "start_time": "2023-02-28T07:53:55.024Z"
   },
   {
    "duration": 22,
    "start_time": "2023-02-28T07:53:55.060Z"
   },
   {
    "duration": 21,
    "start_time": "2023-02-28T07:53:55.084Z"
   },
   {
    "duration": 17,
    "start_time": "2023-02-28T07:53:55.108Z"
   },
   {
    "duration": 40,
    "start_time": "2023-02-28T07:53:55.127Z"
   },
   {
    "duration": 8,
    "start_time": "2023-02-28T07:53:55.169Z"
   },
   {
    "duration": 19,
    "start_time": "2023-02-28T07:53:55.179Z"
   },
   {
    "duration": 24,
    "start_time": "2023-02-28T07:53:55.200Z"
   },
   {
    "duration": 717,
    "start_time": "2023-02-28T07:53:55.226Z"
   },
   {
    "duration": 421,
    "start_time": "2023-02-28T07:53:55.945Z"
   },
   {
    "duration": 130,
    "start_time": "2023-02-28T07:53:56.446Z"
   },
   {
    "duration": 6,
    "start_time": "2023-02-28T07:53:56.579Z"
   },
   {
    "duration": 9,
    "start_time": "2023-02-28T07:53:56.586Z"
   },
   {
    "duration": 19,
    "start_time": "2023-02-28T07:53:56.598Z"
   },
   {
    "duration": 17,
    "start_time": "2023-02-28T07:53:56.640Z"
   },
   {
    "duration": 15,
    "start_time": "2023-02-28T07:53:56.659Z"
   },
   {
    "duration": 17,
    "start_time": "2023-02-28T07:53:56.676Z"
   },
   {
    "duration": 253,
    "start_time": "2023-02-28T07:54:01.537Z"
   },
   {
    "duration": 46,
    "start_time": "2023-02-28T07:55:09.439Z"
   },
   {
    "duration": 9796,
    "start_time": "2023-02-28T07:55:50.306Z"
   },
   {
    "duration": 827,
    "start_time": "2023-02-28T07:56:54.822Z"
   },
   {
    "duration": 381,
    "start_time": "2023-02-28T07:57:11.471Z"
   },
   {
    "duration": 1551,
    "start_time": "2023-02-28T07:57:41.769Z"
   },
   {
    "duration": 51,
    "start_time": "2023-02-28T07:57:43.322Z"
   },
   {
    "duration": 17,
    "start_time": "2023-02-28T07:57:43.375Z"
   },
   {
    "duration": 25,
    "start_time": "2023-02-28T07:57:43.395Z"
   },
   {
    "duration": 29,
    "start_time": "2023-02-28T07:57:43.422Z"
   },
   {
    "duration": 13,
    "start_time": "2023-02-28T07:57:43.453Z"
   },
   {
    "duration": 8,
    "start_time": "2023-02-28T07:57:43.469Z"
   },
   {
    "duration": 27,
    "start_time": "2023-02-28T07:57:43.479Z"
   },
   {
    "duration": 212,
    "start_time": "2023-02-28T07:57:43.508Z"
   },
   {
    "duration": 22,
    "start_time": "2023-02-28T07:57:43.722Z"
   },
   {
    "duration": 14,
    "start_time": "2023-02-28T07:57:43.746Z"
   },
   {
    "duration": 193,
    "start_time": "2023-02-28T07:57:43.762Z"
   },
   {
    "duration": 12,
    "start_time": "2023-02-28T07:57:43.956Z"
   },
   {
    "duration": 4,
    "start_time": "2023-02-28T07:57:43.971Z"
   },
   {
    "duration": 30,
    "start_time": "2023-02-28T07:57:43.976Z"
   },
   {
    "duration": 41,
    "start_time": "2023-02-28T07:57:44.008Z"
   },
   {
    "duration": 13,
    "start_time": "2023-02-28T07:57:44.053Z"
   },
   {
    "duration": 21,
    "start_time": "2023-02-28T07:57:44.067Z"
   },
   {
    "duration": 11,
    "start_time": "2023-02-28T07:57:44.090Z"
   },
   {
    "duration": 31,
    "start_time": "2023-02-28T07:57:44.103Z"
   },
   {
    "duration": 24,
    "start_time": "2023-02-28T07:57:44.136Z"
   },
   {
    "duration": 6,
    "start_time": "2023-02-28T07:57:44.162Z"
   },
   {
    "duration": 23,
    "start_time": "2023-02-28T07:57:44.170Z"
   },
   {
    "duration": 21,
    "start_time": "2023-02-28T07:57:44.195Z"
   },
   {
    "duration": 8,
    "start_time": "2023-02-28T07:57:44.218Z"
   },
   {
    "duration": 24,
    "start_time": "2023-02-28T07:57:44.227Z"
   },
   {
    "duration": 19,
    "start_time": "2023-02-28T07:57:44.254Z"
   },
   {
    "duration": 571,
    "start_time": "2023-02-28T07:57:44.275Z"
   },
   {
    "duration": 387,
    "start_time": "2023-02-28T07:57:50.171Z"
   },
   {
    "duration": 850,
    "start_time": "2023-02-28T07:58:39.787Z"
   },
   {
    "duration": 740,
    "start_time": "2023-02-28T07:58:50.405Z"
   },
   {
    "duration": 537,
    "start_time": "2023-02-28T07:59:01.505Z"
   },
   {
    "duration": 820,
    "start_time": "2023-02-28T08:00:11.837Z"
   },
   {
    "duration": 477,
    "start_time": "2023-02-28T08:00:26.373Z"
   },
   {
    "duration": 6,
    "start_time": "2023-02-28T08:01:13.178Z"
   },
   {
    "duration": 64,
    "start_time": "2023-02-28T08:01:13.186Z"
   },
   {
    "duration": 13,
    "start_time": "2023-02-28T08:01:13.252Z"
   },
   {
    "duration": 10,
    "start_time": "2023-02-28T08:01:13.267Z"
   },
   {
    "duration": 18,
    "start_time": "2023-02-28T08:01:13.279Z"
   },
   {
    "duration": 40,
    "start_time": "2023-02-28T08:01:13.299Z"
   },
   {
    "duration": 6,
    "start_time": "2023-02-28T08:01:13.341Z"
   },
   {
    "duration": 27,
    "start_time": "2023-02-28T08:01:13.350Z"
   },
   {
    "duration": 218,
    "start_time": "2023-02-28T08:01:13.380Z"
   },
   {
    "duration": 8,
    "start_time": "2023-02-28T08:01:13.600Z"
   },
   {
    "duration": 31,
    "start_time": "2023-02-28T08:01:13.611Z"
   },
   {
    "duration": 206,
    "start_time": "2023-02-28T08:01:13.645Z"
   },
   {
    "duration": 14,
    "start_time": "2023-02-28T08:01:13.853Z"
   },
   {
    "duration": 11,
    "start_time": "2023-02-28T08:01:13.870Z"
   },
   {
    "duration": 17,
    "start_time": "2023-02-28T08:01:13.883Z"
   },
   {
    "duration": 30,
    "start_time": "2023-02-28T08:01:13.902Z"
   },
   {
    "duration": 12,
    "start_time": "2023-02-28T08:01:13.938Z"
   },
   {
    "duration": 12,
    "start_time": "2023-02-28T08:01:13.952Z"
   },
   {
    "duration": 13,
    "start_time": "2023-02-28T08:01:13.966Z"
   },
   {
    "duration": 114,
    "start_time": "2023-02-28T08:01:13.981Z"
   },
   {
    "duration": 8,
    "start_time": "2023-02-28T08:01:14.097Z"
   },
   {
    "duration": 13,
    "start_time": "2023-02-28T08:01:14.107Z"
   },
   {
    "duration": 27,
    "start_time": "2023-02-28T08:01:14.122Z"
   },
   {
    "duration": 28,
    "start_time": "2023-02-28T08:01:14.151Z"
   },
   {
    "duration": 11,
    "start_time": "2023-02-28T08:01:14.180Z"
   },
   {
    "duration": 27,
    "start_time": "2023-02-28T08:01:14.192Z"
   },
   {
    "duration": 12,
    "start_time": "2023-02-28T08:01:14.221Z"
   },
   {
    "duration": 613,
    "start_time": "2023-02-28T08:01:14.235Z"
   },
   {
    "duration": 126,
    "start_time": "2023-02-28T08:01:14.854Z"
   },
   {
    "duration": 6,
    "start_time": "2023-02-28T08:01:14.982Z"
   },
   {
    "duration": 26,
    "start_time": "2023-02-28T08:01:14.989Z"
   },
   {
    "duration": 45,
    "start_time": "2023-02-28T08:01:15.017Z"
   },
   {
    "duration": 24,
    "start_time": "2023-02-28T08:01:15.064Z"
   },
   {
    "duration": 20,
    "start_time": "2023-02-28T08:01:15.090Z"
   },
   {
    "duration": 25,
    "start_time": "2023-02-28T08:01:15.111Z"
   },
   {
    "duration": 45,
    "start_time": "2023-02-28T08:01:15.143Z"
   },
   {
    "duration": 9430,
    "start_time": "2023-02-28T08:01:17.449Z"
   },
   {
    "duration": 9827,
    "start_time": "2023-02-28T08:02:21.826Z"
   },
   {
    "duration": 121,
    "start_time": "2023-02-28T08:05:35.256Z"
   },
   {
    "duration": 41,
    "start_time": "2023-02-28T08:06:01.025Z"
   },
   {
    "duration": 49633,
    "start_time": "2023-02-28T08:06:13.723Z"
   },
   {
    "duration": 53026,
    "start_time": "2023-02-28T08:07:18.417Z"
   },
   {
    "duration": 49085,
    "start_time": "2023-02-28T08:08:19.089Z"
   },
   {
    "duration": 9266,
    "start_time": "2023-02-28T08:09:08.825Z"
   },
   {
    "duration": 9569,
    "start_time": "2023-02-28T08:10:35.390Z"
   },
   {
    "duration": 9043,
    "start_time": "2023-02-28T08:11:26.539Z"
   },
   {
    "duration": 2,
    "start_time": "2023-02-28T09:00:30.381Z"
   },
   {
    "duration": 71,
    "start_time": "2023-02-28T09:04:41.563Z"
   },
   {
    "duration": 9,
    "start_time": "2023-02-28T09:05:15.497Z"
   },
   {
    "duration": 10,
    "start_time": "2023-02-28T09:05:21.463Z"
   },
   {
    "duration": 10,
    "start_time": "2023-02-28T09:05:24.883Z"
   },
   {
    "duration": 5,
    "start_time": "2023-02-28T09:05:27.153Z"
   },
   {
    "duration": 47,
    "start_time": "2023-02-28T09:05:27.161Z"
   },
   {
    "duration": 15,
    "start_time": "2023-02-28T09:05:27.210Z"
   },
   {
    "duration": 21,
    "start_time": "2023-02-28T09:05:27.227Z"
   },
   {
    "duration": 40,
    "start_time": "2023-02-28T09:05:27.250Z"
   },
   {
    "duration": 11,
    "start_time": "2023-02-28T09:05:27.292Z"
   },
   {
    "duration": 14,
    "start_time": "2023-02-28T09:05:27.305Z"
   },
   {
    "duration": 14,
    "start_time": "2023-02-28T09:05:27.321Z"
   },
   {
    "duration": 176,
    "start_time": "2023-02-28T09:05:27.337Z"
   },
   {
    "duration": 7,
    "start_time": "2023-02-28T09:05:27.516Z"
   },
   {
    "duration": 24,
    "start_time": "2023-02-28T09:05:27.524Z"
   },
   {
    "duration": 206,
    "start_time": "2023-02-28T09:05:27.550Z"
   },
   {
    "duration": 12,
    "start_time": "2023-02-28T09:05:27.758Z"
   },
   {
    "duration": 4,
    "start_time": "2023-02-28T09:05:27.772Z"
   },
   {
    "duration": 21,
    "start_time": "2023-02-28T09:05:27.778Z"
   },
   {
    "duration": 34,
    "start_time": "2023-02-28T09:05:27.800Z"
   },
   {
    "duration": 19,
    "start_time": "2023-02-28T09:05:27.839Z"
   },
   {
    "duration": 13,
    "start_time": "2023-02-28T09:05:27.859Z"
   },
   {
    "duration": 7,
    "start_time": "2023-02-28T09:05:27.874Z"
   },
   {
    "duration": 23,
    "start_time": "2023-02-28T09:05:27.883Z"
   },
   {
    "duration": 6,
    "start_time": "2023-02-28T09:05:27.908Z"
   },
   {
    "duration": 10,
    "start_time": "2023-02-28T09:05:27.916Z"
   },
   {
    "duration": 15,
    "start_time": "2023-02-28T09:05:27.928Z"
   },
   {
    "duration": 18,
    "start_time": "2023-02-28T09:05:27.946Z"
   },
   {
    "duration": 8,
    "start_time": "2023-02-28T09:05:27.966Z"
   },
   {
    "duration": 17,
    "start_time": "2023-02-28T09:05:27.975Z"
   },
   {
    "duration": 13,
    "start_time": "2023-02-28T09:05:27.994Z"
   },
   {
    "duration": 597,
    "start_time": "2023-02-28T09:05:28.041Z"
   },
   {
    "duration": 127,
    "start_time": "2023-02-28T09:05:28.646Z"
   },
   {
    "duration": 8,
    "start_time": "2023-02-28T09:05:28.775Z"
   },
   {
    "duration": 39,
    "start_time": "2023-02-28T09:05:28.785Z"
   },
   {
    "duration": 10,
    "start_time": "2023-02-28T09:05:28.826Z"
   },
   {
    "duration": 15,
    "start_time": "2023-02-28T09:05:28.838Z"
   },
   {
    "duration": 8,
    "start_time": "2023-02-28T09:05:28.855Z"
   },
   {
    "duration": 15,
    "start_time": "2023-02-28T09:05:28.865Z"
   },
   {
    "duration": 8804,
    "start_time": "2023-02-28T09:05:28.883Z"
   },
   {
    "duration": 571,
    "start_time": "2023-02-28T09:05:37.689Z"
   },
   {
    "duration": 47111,
    "start_time": "2023-02-28T09:05:38.262Z"
   },
   {
    "duration": 0,
    "start_time": "2023-02-28T09:06:25.559Z"
   },
   {
    "duration": 0,
    "start_time": "2023-02-28T09:06:25.560Z"
   },
   {
    "duration": 2,
    "start_time": "2023-02-28T09:08:27.531Z"
   },
   {
    "duration": 4,
    "start_time": "2023-02-28T09:08:34.895Z"
   },
   {
    "duration": 110,
    "start_time": "2023-02-28T09:14:24.951Z"
   },
   {
    "duration": 74,
    "start_time": "2023-02-28T09:14:35.295Z"
   },
   {
    "duration": 194,
    "start_time": "2023-02-28T09:14:47.647Z"
   },
   {
    "duration": 93,
    "start_time": "2023-02-28T09:16:09.456Z"
   },
   {
    "duration": 131,
    "start_time": "2023-02-28T09:16:30.313Z"
   },
   {
    "duration": 207,
    "start_time": "2023-02-28T09:16:40.832Z"
   },
   {
    "duration": 101,
    "start_time": "2023-02-28T09:16:58.646Z"
   },
   {
    "duration": 123,
    "start_time": "2023-02-28T09:17:39.221Z"
   },
   {
    "duration": 11,
    "start_time": "2023-02-28T09:19:05.082Z"
   },
   {
    "duration": 10,
    "start_time": "2023-02-28T09:19:17.080Z"
   },
   {
    "duration": 7,
    "start_time": "2023-02-28T09:19:30.466Z"
   },
   {
    "duration": 3,
    "start_time": "2023-02-28T09:29:33.810Z"
   },
   {
    "duration": 34,
    "start_time": "2023-02-28T09:29:36.936Z"
   },
   {
    "duration": 1537,
    "start_time": "2023-02-28T09:29:58.143Z"
   },
   {
    "duration": 40,
    "start_time": "2023-02-28T09:29:59.683Z"
   },
   {
    "duration": 24,
    "start_time": "2023-02-28T09:29:59.725Z"
   },
   {
    "duration": 24,
    "start_time": "2023-02-28T09:29:59.751Z"
   },
   {
    "duration": 23,
    "start_time": "2023-02-28T09:29:59.778Z"
   },
   {
    "duration": 16,
    "start_time": "2023-02-28T09:29:59.803Z"
   },
   {
    "duration": 11,
    "start_time": "2023-02-28T09:29:59.821Z"
   },
   {
    "duration": 41,
    "start_time": "2023-02-28T09:29:59.834Z"
   },
   {
    "duration": 213,
    "start_time": "2023-02-28T09:29:59.877Z"
   },
   {
    "duration": 9,
    "start_time": "2023-02-28T09:30:00.092Z"
   },
   {
    "duration": 52,
    "start_time": "2023-02-28T09:30:00.102Z"
   },
   {
    "duration": 220,
    "start_time": "2023-02-28T09:30:00.156Z"
   },
   {
    "duration": 12,
    "start_time": "2023-02-28T09:30:00.378Z"
   },
   {
    "duration": 75,
    "start_time": "2023-02-28T09:30:00.393Z"
   },
   {
    "duration": 46,
    "start_time": "2023-02-28T09:30:00.469Z"
   },
   {
    "duration": 40,
    "start_time": "2023-02-28T09:30:00.518Z"
   },
   {
    "duration": 37,
    "start_time": "2023-02-28T09:30:00.560Z"
   },
   {
    "duration": 71,
    "start_time": "2023-02-28T09:30:00.598Z"
   },
   {
    "duration": 55,
    "start_time": "2023-02-28T09:30:00.671Z"
   },
   {
    "duration": 54,
    "start_time": "2023-02-28T09:30:00.728Z"
   },
   {
    "duration": 55,
    "start_time": "2023-02-28T09:30:00.784Z"
   },
   {
    "duration": 77,
    "start_time": "2023-02-28T09:30:00.840Z"
   },
   {
    "duration": 64,
    "start_time": "2023-02-28T09:30:00.919Z"
   },
   {
    "duration": 52,
    "start_time": "2023-02-28T09:30:00.984Z"
   },
   {
    "duration": 72,
    "start_time": "2023-02-28T09:30:01.038Z"
   },
   {
    "duration": 47,
    "start_time": "2023-02-28T09:30:01.112Z"
   },
   {
    "duration": 45,
    "start_time": "2023-02-28T09:30:01.161Z"
   },
   {
    "duration": 638,
    "start_time": "2023-02-28T09:30:01.207Z"
   },
   {
    "duration": 125,
    "start_time": "2023-02-28T09:30:01.847Z"
   },
   {
    "duration": 132,
    "start_time": "2023-02-28T09:30:01.974Z"
   },
   {
    "duration": 31,
    "start_time": "2023-02-28T09:30:02.108Z"
   },
   {
    "duration": 62,
    "start_time": "2023-02-28T09:30:02.142Z"
   },
   {
    "duration": 55,
    "start_time": "2023-02-28T09:30:02.206Z"
   },
   {
    "duration": 26,
    "start_time": "2023-02-28T09:30:02.263Z"
   },
   {
    "duration": 42,
    "start_time": "2023-02-28T09:30:02.291Z"
   },
   {
    "duration": 79,
    "start_time": "2023-02-28T09:30:02.334Z"
   },
   {
    "duration": 3,
    "start_time": "2023-02-28T09:30:03.869Z"
   },
   {
    "duration": 164,
    "start_time": "2023-02-28T09:30:05.305Z"
   },
   {
    "duration": 44,
    "start_time": "2023-02-28T09:30:58.104Z"
   },
   {
    "duration": 41,
    "start_time": "2023-02-28T09:31:03.888Z"
   },
   {
    "duration": 33,
    "start_time": "2023-02-28T09:32:00.229Z"
   },
   {
    "duration": 1430,
    "start_time": "2023-02-28T09:32:15.251Z"
   },
   {
    "duration": 44,
    "start_time": "2023-02-28T09:32:16.683Z"
   },
   {
    "duration": 18,
    "start_time": "2023-02-28T09:32:16.729Z"
   },
   {
    "duration": 20,
    "start_time": "2023-02-28T09:32:16.749Z"
   },
   {
    "duration": 19,
    "start_time": "2023-02-28T09:32:16.772Z"
   },
   {
    "duration": 10,
    "start_time": "2023-02-28T09:32:16.792Z"
   },
   {
    "duration": 9,
    "start_time": "2023-02-28T09:32:16.803Z"
   },
   {
    "duration": 13,
    "start_time": "2023-02-28T09:32:16.838Z"
   },
   {
    "duration": 209,
    "start_time": "2023-02-28T09:32:16.853Z"
   },
   {
    "duration": 9,
    "start_time": "2023-02-28T09:32:17.064Z"
   },
   {
    "duration": 27,
    "start_time": "2023-02-28T09:32:17.075Z"
   },
   {
    "duration": 201,
    "start_time": "2023-02-28T09:32:17.104Z"
   },
   {
    "duration": 12,
    "start_time": "2023-02-28T09:32:17.307Z"
   },
   {
    "duration": 18,
    "start_time": "2023-02-28T09:32:17.323Z"
   },
   {
    "duration": 16,
    "start_time": "2023-02-28T09:32:17.343Z"
   },
   {
    "duration": 16,
    "start_time": "2023-02-28T09:32:17.362Z"
   },
   {
    "duration": 31,
    "start_time": "2023-02-28T09:32:17.380Z"
   },
   {
    "duration": 26,
    "start_time": "2023-02-28T09:32:17.413Z"
   },
   {
    "duration": 17,
    "start_time": "2023-02-28T09:32:17.443Z"
   },
   {
    "duration": 27,
    "start_time": "2023-02-28T09:32:17.462Z"
   },
   {
    "duration": 8,
    "start_time": "2023-02-28T09:32:17.491Z"
   },
   {
    "duration": 9,
    "start_time": "2023-02-28T09:32:17.501Z"
   },
   {
    "duration": 11,
    "start_time": "2023-02-28T09:32:17.512Z"
   },
   {
    "duration": 28,
    "start_time": "2023-02-28T09:32:17.525Z"
   },
   {
    "duration": 8,
    "start_time": "2023-02-28T09:32:17.555Z"
   },
   {
    "duration": 17,
    "start_time": "2023-02-28T09:32:17.565Z"
   },
   {
    "duration": 17,
    "start_time": "2023-02-28T09:32:17.584Z"
   },
   {
    "duration": 941,
    "start_time": "2023-02-28T09:32:17.603Z"
   },
   {
    "duration": 206,
    "start_time": "2023-02-28T09:32:18.547Z"
   },
   {
    "duration": 7,
    "start_time": "2023-02-28T09:32:18.755Z"
   },
   {
    "duration": 12,
    "start_time": "2023-02-28T09:32:18.764Z"
   },
   {
    "duration": 26,
    "start_time": "2023-02-28T09:32:18.778Z"
   },
   {
    "duration": 20,
    "start_time": "2023-02-28T09:32:18.806Z"
   },
   {
    "duration": 15,
    "start_time": "2023-02-28T09:32:18.828Z"
   },
   {
    "duration": 22,
    "start_time": "2023-02-28T09:32:18.845Z"
   },
   {
    "duration": 5,
    "start_time": "2023-02-28T09:32:18.869Z"
   },
   {
    "duration": 155,
    "start_time": "2023-02-28T09:32:18.875Z"
   },
   {
    "duration": 65,
    "start_time": "2023-02-28T09:32:35.026Z"
   },
   {
    "duration": 36,
    "start_time": "2023-02-28T09:33:15.527Z"
   },
   {
    "duration": 36,
    "start_time": "2023-02-28T09:34:19.806Z"
   },
   {
    "duration": 11,
    "start_time": "2023-02-28T09:35:31.303Z"
   },
   {
    "duration": 10,
    "start_time": "2023-02-28T09:35:37.937Z"
   },
   {
    "duration": 10,
    "start_time": "2023-02-28T09:35:45.287Z"
   },
   {
    "duration": 11,
    "start_time": "2023-02-28T09:35:49.051Z"
   },
   {
    "duration": 3,
    "start_time": "2023-02-28T09:36:05.470Z"
   },
   {
    "duration": 37,
    "start_time": "2023-02-28T09:36:05.804Z"
   },
   {
    "duration": 63,
    "start_time": "2023-02-28T09:36:25.459Z"
   },
   {
    "duration": 7,
    "start_time": "2023-02-28T09:40:38.956Z"
   },
   {
    "duration": 52,
    "start_time": "2023-02-28T09:40:56.700Z"
   },
   {
    "duration": 1527,
    "start_time": "2023-02-28T09:41:04.110Z"
   },
   {
    "duration": 41,
    "start_time": "2023-02-28T09:41:05.639Z"
   },
   {
    "duration": 14,
    "start_time": "2023-02-28T09:41:05.682Z"
   },
   {
    "duration": 14,
    "start_time": "2023-02-28T09:41:05.698Z"
   },
   {
    "duration": 34,
    "start_time": "2023-02-28T09:41:05.714Z"
   },
   {
    "duration": 21,
    "start_time": "2023-02-28T09:41:05.750Z"
   },
   {
    "duration": 25,
    "start_time": "2023-02-28T09:41:05.773Z"
   },
   {
    "duration": 25,
    "start_time": "2023-02-28T09:41:05.800Z"
   },
   {
    "duration": 230,
    "start_time": "2023-02-28T09:41:05.827Z"
   },
   {
    "duration": 8,
    "start_time": "2023-02-28T09:41:06.059Z"
   },
   {
    "duration": 33,
    "start_time": "2023-02-28T09:41:06.069Z"
   },
   {
    "duration": 182,
    "start_time": "2023-02-28T09:41:06.104Z"
   },
   {
    "duration": 13,
    "start_time": "2023-02-28T09:41:06.288Z"
   },
   {
    "duration": 21,
    "start_time": "2023-02-28T09:41:06.305Z"
   },
   {
    "duration": 30,
    "start_time": "2023-02-28T09:41:06.328Z"
   },
   {
    "duration": 20,
    "start_time": "2023-02-28T09:41:06.360Z"
   },
   {
    "duration": 16,
    "start_time": "2023-02-28T09:41:06.383Z"
   },
   {
    "duration": 10,
    "start_time": "2023-02-28T09:41:06.401Z"
   },
   {
    "duration": 11,
    "start_time": "2023-02-28T09:41:06.413Z"
   },
   {
    "duration": 26,
    "start_time": "2023-02-28T09:41:06.426Z"
   },
   {
    "duration": 8,
    "start_time": "2023-02-28T09:41:06.453Z"
   },
   {
    "duration": 12,
    "start_time": "2023-02-28T09:41:06.463Z"
   },
   {
    "duration": 25,
    "start_time": "2023-02-28T09:41:06.477Z"
   },
   {
    "duration": 31,
    "start_time": "2023-02-28T09:41:06.504Z"
   },
   {
    "duration": 14,
    "start_time": "2023-02-28T09:41:06.537Z"
   },
   {
    "duration": 26,
    "start_time": "2023-02-28T09:41:06.553Z"
   },
   {
    "duration": 32,
    "start_time": "2023-02-28T09:41:06.582Z"
   },
   {
    "duration": 625,
    "start_time": "2023-02-28T09:41:06.617Z"
   },
   {
    "duration": 133,
    "start_time": "2023-02-28T09:41:07.244Z"
   },
   {
    "duration": 7,
    "start_time": "2023-02-28T09:41:07.379Z"
   },
   {
    "duration": 21,
    "start_time": "2023-02-28T09:41:07.388Z"
   },
   {
    "duration": 21,
    "start_time": "2023-02-28T09:41:07.412Z"
   },
   {
    "duration": 14,
    "start_time": "2023-02-28T09:41:07.437Z"
   },
   {
    "duration": 8,
    "start_time": "2023-02-28T09:41:07.453Z"
   },
   {
    "duration": 34,
    "start_time": "2023-02-28T09:41:07.462Z"
   },
   {
    "duration": 3,
    "start_time": "2023-02-28T09:41:07.498Z"
   },
   {
    "duration": 140,
    "start_time": "2023-02-28T09:41:07.502Z"
   },
   {
    "duration": 4,
    "start_time": "2023-02-28T09:41:54.227Z"
   },
   {
    "duration": 4,
    "start_time": "2023-02-28T09:42:00.928Z"
   },
   {
    "duration": 47,
    "start_time": "2023-02-28T09:44:13.357Z"
   },
   {
    "duration": 3,
    "start_time": "2023-02-28T09:44:21.165Z"
   },
   {
    "duration": 9757,
    "start_time": "2023-02-28T09:44:26.661Z"
   },
   {
    "duration": 36,
    "start_time": "2023-02-28T09:45:00.278Z"
   },
   {
    "duration": 245,
    "start_time": "2023-02-28T09:45:03.659Z"
   },
   {
    "duration": 3,
    "start_time": "2023-02-28T09:45:09.758Z"
   },
   {
    "duration": 9782,
    "start_time": "2023-02-28T09:45:11.760Z"
   },
   {
    "duration": 9696,
    "start_time": "2023-02-28T09:45:29.437Z"
   },
   {
    "duration": 67,
    "start_time": "2023-02-28T09:45:51.324Z"
   },
   {
    "duration": 9233,
    "start_time": "2023-02-28T09:45:54.659Z"
   },
   {
    "duration": 4,
    "start_time": "2023-02-28T09:46:10.074Z"
   },
   {
    "duration": 9045,
    "start_time": "2023-02-28T09:46:26.652Z"
   },
   {
    "duration": 8932,
    "start_time": "2023-02-28T09:46:56.410Z"
   },
   {
    "duration": 12,
    "start_time": "2023-02-28T09:47:05.349Z"
   },
   {
    "duration": 9280,
    "start_time": "2023-02-28T09:48:27.602Z"
   },
   {
    "duration": 9077,
    "start_time": "2023-02-28T09:48:50.360Z"
   },
   {
    "duration": 9167,
    "start_time": "2023-02-28T09:49:03.610Z"
   },
   {
    "duration": 9116,
    "start_time": "2023-02-28T09:49:16.895Z"
   },
   {
    "duration": 9214,
    "start_time": "2023-02-28T09:49:48.260Z"
   },
   {
    "duration": 3,
    "start_time": "2023-02-28T09:50:07.075Z"
   },
   {
    "duration": 9288,
    "start_time": "2023-02-28T09:50:08.011Z"
   },
   {
    "duration": 4,
    "start_time": "2023-02-28T09:50:17.300Z"
   },
   {
    "duration": 9333,
    "start_time": "2023-02-28T09:50:27.662Z"
   },
   {
    "duration": 9121,
    "start_time": "2023-02-28T09:52:49.777Z"
   },
   {
    "duration": 3,
    "start_time": "2023-02-28T09:53:03.343Z"
   },
   {
    "duration": 8993,
    "start_time": "2023-02-28T09:53:03.872Z"
   },
   {
    "duration": 5,
    "start_time": "2023-02-28T09:53:12.867Z"
   },
   {
    "duration": 4,
    "start_time": "2023-02-28T09:53:16.310Z"
   },
   {
    "duration": 3,
    "start_time": "2023-02-28T09:54:22.151Z"
   },
   {
    "duration": 719,
    "start_time": "2023-02-28T09:54:24.825Z"
   },
   {
    "duration": 4,
    "start_time": "2023-02-28T09:54:46.874Z"
   },
   {
    "duration": 4,
    "start_time": "2023-02-28T09:54:49.224Z"
   },
   {
    "duration": 649,
    "start_time": "2023-02-28T09:54:52.896Z"
   },
   {
    "duration": 3,
    "start_time": "2023-02-28T09:55:04.586Z"
   },
   {
    "duration": 685,
    "start_time": "2023-02-28T09:55:05.064Z"
   },
   {
    "duration": 63,
    "start_time": "2023-02-28T09:55:05.876Z"
   },
   {
    "duration": 4,
    "start_time": "2023-02-28T09:55:06.728Z"
   },
   {
    "duration": 1455,
    "start_time": "2023-02-28T09:55:18.850Z"
   },
   {
    "duration": 42,
    "start_time": "2023-02-28T09:55:20.307Z"
   },
   {
    "duration": 13,
    "start_time": "2023-02-28T09:55:20.351Z"
   },
   {
    "duration": 34,
    "start_time": "2023-02-28T09:55:20.366Z"
   },
   {
    "duration": 35,
    "start_time": "2023-02-28T09:55:20.402Z"
   },
   {
    "duration": 15,
    "start_time": "2023-02-28T09:55:20.439Z"
   },
   {
    "duration": 33,
    "start_time": "2023-02-28T09:55:20.456Z"
   },
   {
    "duration": 60,
    "start_time": "2023-02-28T09:55:20.491Z"
   },
   {
    "duration": 215,
    "start_time": "2023-02-28T09:55:20.552Z"
   },
   {
    "duration": 7,
    "start_time": "2023-02-28T09:55:20.769Z"
   },
   {
    "duration": 41,
    "start_time": "2023-02-28T09:55:20.778Z"
   },
   {
    "duration": 177,
    "start_time": "2023-02-28T09:55:20.822Z"
   },
   {
    "duration": 12,
    "start_time": "2023-02-28T09:55:21.002Z"
   },
   {
    "duration": 21,
    "start_time": "2023-02-28T09:55:21.018Z"
   },
   {
    "duration": 27,
    "start_time": "2023-02-28T09:55:21.041Z"
   },
   {
    "duration": 14,
    "start_time": "2023-02-28T09:55:21.070Z"
   },
   {
    "duration": 11,
    "start_time": "2023-02-28T09:55:21.085Z"
   },
   {
    "duration": 19,
    "start_time": "2023-02-28T09:55:21.098Z"
   },
   {
    "duration": 14,
    "start_time": "2023-02-28T09:55:21.119Z"
   },
   {
    "duration": 37,
    "start_time": "2023-02-28T09:55:21.134Z"
   },
   {
    "duration": 8,
    "start_time": "2023-02-28T09:55:21.172Z"
   },
   {
    "duration": 16,
    "start_time": "2023-02-28T09:55:21.182Z"
   },
   {
    "duration": 22,
    "start_time": "2023-02-28T09:55:21.200Z"
   },
   {
    "duration": 27,
    "start_time": "2023-02-28T09:55:21.224Z"
   },
   {
    "duration": 8,
    "start_time": "2023-02-28T09:55:21.253Z"
   },
   {
    "duration": 21,
    "start_time": "2023-02-28T09:55:21.262Z"
   },
   {
    "duration": 12,
    "start_time": "2023-02-28T09:55:21.285Z"
   },
   {
    "duration": 3,
    "start_time": "2023-02-28T09:55:21.299Z"
   },
   {
    "duration": 845,
    "start_time": "2023-02-28T09:55:37.595Z"
   },
   {
    "duration": 725,
    "start_time": "2023-02-28T09:56:10.720Z"
   },
   {
    "duration": 5,
    "start_time": "2023-02-28T09:56:12.436Z"
   },
   {
    "duration": 4,
    "start_time": "2023-02-28T09:56:13.146Z"
   },
   {
    "duration": 1465,
    "start_time": "2023-02-28T09:56:30.371Z"
   },
   {
    "duration": 42,
    "start_time": "2023-02-28T09:56:31.838Z"
   },
   {
    "duration": 15,
    "start_time": "2023-02-28T09:56:31.882Z"
   },
   {
    "duration": 37,
    "start_time": "2023-02-28T09:56:31.899Z"
   },
   {
    "duration": 35,
    "start_time": "2023-02-28T09:56:31.938Z"
   },
   {
    "duration": 39,
    "start_time": "2023-02-28T09:56:31.974Z"
   },
   {
    "duration": 30,
    "start_time": "2023-02-28T09:56:32.015Z"
   },
   {
    "duration": 47,
    "start_time": "2023-02-28T09:56:32.047Z"
   },
   {
    "duration": 205,
    "start_time": "2023-02-28T09:56:32.096Z"
   },
   {
    "duration": 8,
    "start_time": "2023-02-28T09:56:32.303Z"
   },
   {
    "duration": 51,
    "start_time": "2023-02-28T09:56:32.312Z"
   },
   {
    "duration": 210,
    "start_time": "2023-02-28T09:56:32.364Z"
   },
   {
    "duration": 13,
    "start_time": "2023-02-28T09:56:32.576Z"
   },
   {
    "duration": 34,
    "start_time": "2023-02-28T09:56:32.596Z"
   },
   {
    "duration": 38,
    "start_time": "2023-02-28T09:56:32.632Z"
   },
   {
    "duration": 31,
    "start_time": "2023-02-28T09:56:32.673Z"
   },
   {
    "duration": 39,
    "start_time": "2023-02-28T09:56:32.705Z"
   },
   {
    "duration": 41,
    "start_time": "2023-02-28T09:56:32.746Z"
   },
   {
    "duration": 32,
    "start_time": "2023-02-28T09:56:32.789Z"
   },
   {
    "duration": 64,
    "start_time": "2023-02-28T09:56:32.823Z"
   },
   {
    "duration": 8,
    "start_time": "2023-02-28T09:56:32.889Z"
   },
   {
    "duration": 20,
    "start_time": "2023-02-28T09:56:32.899Z"
   },
   {
    "duration": 18,
    "start_time": "2023-02-28T09:56:32.921Z"
   },
   {
    "duration": 34,
    "start_time": "2023-02-28T09:56:32.941Z"
   },
   {
    "duration": 10,
    "start_time": "2023-02-28T09:56:32.978Z"
   },
   {
    "duration": 32,
    "start_time": "2023-02-28T09:56:32.989Z"
   },
   {
    "duration": 12,
    "start_time": "2023-02-28T09:56:33.023Z"
   },
   {
    "duration": 3,
    "start_time": "2023-02-28T09:56:33.037Z"
   },
   {
    "duration": 606,
    "start_time": "2023-02-28T09:56:33.041Z"
   },
   {
    "duration": 96,
    "start_time": "2023-02-28T09:56:33.743Z"
   },
   {
    "duration": 4,
    "start_time": "2023-02-28T09:56:40.057Z"
   },
   {
    "duration": 40,
    "start_time": "2023-02-28T09:57:14.408Z"
   },
   {
    "duration": 6,
    "start_time": "2023-02-28T09:57:14.625Z"
   },
   {
    "duration": 6,
    "start_time": "2023-02-28T09:57:14.828Z"
   },
   {
    "duration": 6,
    "start_time": "2023-02-28T09:57:15.004Z"
   },
   {
    "duration": 14,
    "start_time": "2023-02-28T09:57:15.171Z"
   },
   {
    "duration": 8,
    "start_time": "2023-02-28T09:57:15.338Z"
   },
   {
    "duration": 11,
    "start_time": "2023-02-28T09:57:15.525Z"
   },
   {
    "duration": 9256,
    "start_time": "2023-02-28T09:57:16.040Z"
   },
   {
    "duration": 3,
    "start_time": "2023-02-28T09:57:25.297Z"
   },
   {
    "duration": 112,
    "start_time": "2023-02-28T09:57:25.302Z"
   },
   {
    "duration": 88,
    "start_time": "2023-02-28T09:57:25.416Z"
   },
   {
    "duration": 4,
    "start_time": "2023-02-28T10:20:29.391Z"
   },
   {
    "duration": 3,
    "start_time": "2023-02-28T10:27:30.337Z"
   },
   {
    "duration": 313,
    "start_time": "2023-03-01T05:56:35.540Z"
   },
   {
    "duration": 7,
    "start_time": "2023-03-01T06:06:51.212Z"
   },
   {
    "duration": 122,
    "start_time": "2023-03-01T06:10:15.304Z"
   },
   {
    "duration": 322,
    "start_time": "2023-03-01T06:13:24.942Z"
   },
   {
    "duration": 13,
    "start_time": "2023-03-01T06:13:28.197Z"
   },
   {
    "duration": 10,
    "start_time": "2023-03-01T06:13:38.981Z"
   },
   {
    "duration": 5,
    "start_time": "2023-03-01T06:14:15.729Z"
   },
   {
    "duration": 778,
    "start_time": "2023-03-01T06:16:52.083Z"
   },
   {
    "duration": 4,
    "start_time": "2023-03-01T06:17:08.898Z"
   },
   {
    "duration": 9,
    "start_time": "2023-03-01T06:17:10.954Z"
   },
   {
    "duration": 668,
    "start_time": "2023-03-01T06:17:22.470Z"
   },
   {
    "duration": 10,
    "start_time": "2023-03-01T06:17:49.862Z"
   },
   {
    "duration": 14,
    "start_time": "2023-03-01T06:17:59.497Z"
   },
   {
    "duration": 758,
    "start_time": "2023-03-01T06:18:16.281Z"
   },
   {
    "duration": 821,
    "start_time": "2023-03-01T06:18:45.333Z"
   },
   {
    "duration": 13,
    "start_time": "2023-03-01T06:19:06.097Z"
   },
   {
    "duration": 6,
    "start_time": "2023-03-01T06:19:10.257Z"
   },
   {
    "duration": 378,
    "start_time": "2023-03-01T06:20:55.384Z"
   },
   {
    "duration": 13,
    "start_time": "2023-03-01T06:23:07.463Z"
   },
   {
    "duration": 19,
    "start_time": "2023-03-01T06:23:14.414Z"
   },
   {
    "duration": 1400,
    "start_time": "2023-03-01T06:23:27.463Z"
   },
   {
    "duration": 38,
    "start_time": "2023-03-01T06:23:28.865Z"
   },
   {
    "duration": 13,
    "start_time": "2023-03-01T06:23:28.904Z"
   },
   {
    "duration": 13,
    "start_time": "2023-03-01T06:23:28.918Z"
   },
   {
    "duration": 19,
    "start_time": "2023-03-01T06:23:28.933Z"
   },
   {
    "duration": 13,
    "start_time": "2023-03-01T06:23:28.955Z"
   },
   {
    "duration": 9,
    "start_time": "2023-03-01T06:23:28.969Z"
   },
   {
    "duration": 12,
    "start_time": "2023-03-01T06:23:28.980Z"
   },
   {
    "duration": 193,
    "start_time": "2023-03-01T06:23:28.994Z"
   },
   {
    "duration": 6,
    "start_time": "2023-03-01T06:23:29.190Z"
   },
   {
    "duration": 12,
    "start_time": "2023-03-01T06:23:29.198Z"
   },
   {
    "duration": 178,
    "start_time": "2023-03-01T06:23:29.212Z"
   },
   {
    "duration": 12,
    "start_time": "2023-03-01T06:23:29.392Z"
   },
   {
    "duration": 5,
    "start_time": "2023-03-01T06:23:29.408Z"
   },
   {
    "duration": 42,
    "start_time": "2023-03-01T06:23:29.415Z"
   },
   {
    "duration": 9,
    "start_time": "2023-03-01T06:23:29.459Z"
   },
   {
    "duration": 13,
    "start_time": "2023-03-01T06:23:29.469Z"
   },
   {
    "duration": 10,
    "start_time": "2023-03-01T06:23:29.484Z"
   },
   {
    "duration": 8,
    "start_time": "2023-03-01T06:23:29.495Z"
   },
   {
    "duration": 8,
    "start_time": "2023-03-01T06:23:29.505Z"
   },
   {
    "duration": 140,
    "start_time": "2023-03-01T06:23:29.514Z"
   },
   {
    "duration": 0,
    "start_time": "2023-03-01T06:23:29.656Z"
   },
   {
    "duration": 0,
    "start_time": "2023-03-01T06:23:29.657Z"
   },
   {
    "duration": 0,
    "start_time": "2023-03-01T06:23:29.658Z"
   },
   {
    "duration": 0,
    "start_time": "2023-03-01T06:23:29.660Z"
   },
   {
    "duration": 0,
    "start_time": "2023-03-01T06:23:29.663Z"
   },
   {
    "duration": 0,
    "start_time": "2023-03-01T06:23:29.664Z"
   },
   {
    "duration": 0,
    "start_time": "2023-03-01T06:23:29.665Z"
   },
   {
    "duration": 10,
    "start_time": "2023-03-01T06:23:34.428Z"
   },
   {
    "duration": 6,
    "start_time": "2023-03-01T06:23:54.753Z"
   },
   {
    "duration": 65,
    "start_time": "2023-03-01T06:23:54.761Z"
   },
   {
    "duration": 15,
    "start_time": "2023-03-01T06:23:54.828Z"
   },
   {
    "duration": 18,
    "start_time": "2023-03-01T06:23:54.850Z"
   },
   {
    "duration": 32,
    "start_time": "2023-03-01T06:23:54.871Z"
   },
   {
    "duration": 18,
    "start_time": "2023-03-01T06:23:54.906Z"
   },
   {
    "duration": 39,
    "start_time": "2023-03-01T06:23:54.926Z"
   },
   {
    "duration": 29,
    "start_time": "2023-03-01T06:23:54.967Z"
   },
   {
    "duration": 182,
    "start_time": "2023-03-01T06:23:54.998Z"
   },
   {
    "duration": 8,
    "start_time": "2023-03-01T06:23:55.182Z"
   },
   {
    "duration": 28,
    "start_time": "2023-03-01T06:23:55.192Z"
   },
   {
    "duration": 218,
    "start_time": "2023-03-01T06:23:55.222Z"
   },
   {
    "duration": 24,
    "start_time": "2023-03-01T06:23:55.441Z"
   },
   {
    "duration": 6,
    "start_time": "2023-03-01T06:23:55.468Z"
   },
   {
    "duration": 28,
    "start_time": "2023-03-01T06:23:55.476Z"
   },
   {
    "duration": 14,
    "start_time": "2023-03-01T06:23:55.507Z"
   },
   {
    "duration": 18,
    "start_time": "2023-03-01T06:23:55.523Z"
   },
   {
    "duration": 18,
    "start_time": "2023-03-01T06:23:55.549Z"
   },
   {
    "duration": 13,
    "start_time": "2023-03-01T06:23:55.569Z"
   },
   {
    "duration": 21,
    "start_time": "2023-03-01T06:23:55.583Z"
   },
   {
    "duration": 29,
    "start_time": "2023-03-01T06:23:55.606Z"
   },
   {
    "duration": 21,
    "start_time": "2023-03-01T06:23:55.637Z"
   },
   {
    "duration": 18,
    "start_time": "2023-03-01T06:23:55.660Z"
   },
   {
    "duration": 92,
    "start_time": "2023-03-01T06:23:55.680Z"
   },
   {
    "duration": 26,
    "start_time": "2023-03-01T06:23:55.774Z"
   },
   {
    "duration": 359,
    "start_time": "2023-03-01T06:23:55.802Z"
   },
   {
    "duration": 452,
    "start_time": "2023-03-01T06:24:15.714Z"
   },
   {
    "duration": 5,
    "start_time": "2023-03-01T06:25:33.712Z"
   },
   {
    "duration": 323,
    "start_time": "2023-03-01T06:25:37.615Z"
   },
   {
    "duration": 8,
    "start_time": "2023-03-01T06:25:46.701Z"
   },
   {
    "duration": 545,
    "start_time": "2023-03-01T06:25:49.497Z"
   },
   {
    "duration": 749,
    "start_time": "2023-03-01T06:26:11.596Z"
   },
   {
    "duration": 112,
    "start_time": "2023-03-01T06:27:35.093Z"
   },
   {
    "duration": 49,
    "start_time": "2023-03-01T06:27:48.881Z"
   },
   {
    "duration": 1496,
    "start_time": "2023-03-01T06:27:57.529Z"
   },
   {
    "duration": 44,
    "start_time": "2023-03-01T06:27:59.027Z"
   },
   {
    "duration": 14,
    "start_time": "2023-03-01T06:27:59.073Z"
   },
   {
    "duration": 21,
    "start_time": "2023-03-01T06:27:59.089Z"
   },
   {
    "duration": 17,
    "start_time": "2023-03-01T06:27:59.113Z"
   },
   {
    "duration": 20,
    "start_time": "2023-03-01T06:27:59.132Z"
   },
   {
    "duration": 17,
    "start_time": "2023-03-01T06:27:59.154Z"
   },
   {
    "duration": 21,
    "start_time": "2023-03-01T06:27:59.172Z"
   },
   {
    "duration": 205,
    "start_time": "2023-03-01T06:27:59.196Z"
   },
   {
    "duration": 12,
    "start_time": "2023-03-01T06:27:59.403Z"
   },
   {
    "duration": 39,
    "start_time": "2023-03-01T06:27:59.417Z"
   },
   {
    "duration": 181,
    "start_time": "2023-03-01T06:27:59.457Z"
   },
   {
    "duration": 16,
    "start_time": "2023-03-01T06:27:59.648Z"
   },
   {
    "duration": 4,
    "start_time": "2023-03-01T06:27:59.668Z"
   },
   {
    "duration": 22,
    "start_time": "2023-03-01T06:27:59.675Z"
   },
   {
    "duration": 14,
    "start_time": "2023-03-01T06:27:59.698Z"
   },
   {
    "duration": 9,
    "start_time": "2023-03-01T06:27:59.714Z"
   },
   {
    "duration": 8,
    "start_time": "2023-03-01T06:27:59.738Z"
   },
   {
    "duration": 18,
    "start_time": "2023-03-01T06:27:59.749Z"
   },
   {
    "duration": 30,
    "start_time": "2023-03-01T06:27:59.769Z"
   },
   {
    "duration": 8,
    "start_time": "2023-03-01T06:27:59.801Z"
   },
   {
    "duration": 14,
    "start_time": "2023-03-01T06:27:59.811Z"
   },
   {
    "duration": 29,
    "start_time": "2023-03-01T06:27:59.827Z"
   },
   {
    "duration": 14,
    "start_time": "2023-03-01T06:27:59.858Z"
   },
   {
    "duration": 384,
    "start_time": "2023-03-01T06:27:59.874Z"
   },
   {
    "duration": 948,
    "start_time": "2023-03-01T06:28:04.299Z"
   },
   {
    "duration": 497,
    "start_time": "2023-03-01T06:28:23.153Z"
   },
   {
    "duration": 770,
    "start_time": "2023-03-01T06:28:36.977Z"
   },
   {
    "duration": 93,
    "start_time": "2023-03-01T06:28:48.862Z"
   },
   {
    "duration": 449,
    "start_time": "2023-03-01T06:28:53.712Z"
   },
   {
    "duration": 445,
    "start_time": "2023-03-01T06:28:59.110Z"
   },
   {
    "duration": 88,
    "start_time": "2023-03-01T06:29:14.866Z"
   },
   {
    "duration": 478,
    "start_time": "2023-03-01T06:29:19.760Z"
   },
   {
    "duration": 168,
    "start_time": "2023-03-01T06:29:38.494Z"
   },
   {
    "duration": 642,
    "start_time": "2023-03-01T06:29:52.733Z"
   },
   {
    "duration": 863,
    "start_time": "2023-03-01T06:30:06.177Z"
   },
   {
    "duration": 556,
    "start_time": "2023-03-01T06:30:16.899Z"
   },
   {
    "duration": 319,
    "start_time": "2023-03-01T06:35:20.226Z"
   },
   {
    "duration": 4,
    "start_time": "2023-03-01T06:35:39.991Z"
   },
   {
    "duration": 17,
    "start_time": "2023-03-01T06:35:40.525Z"
   },
   {
    "duration": 8,
    "start_time": "2023-03-01T06:35:41.556Z"
   },
   {
    "duration": 13,
    "start_time": "2023-03-01T06:35:44.824Z"
   },
   {
    "duration": 13,
    "start_time": "2023-03-01T06:35:47.830Z"
   },
   {
    "duration": 804,
    "start_time": "2023-03-01T06:36:00.549Z"
   },
   {
    "duration": 83,
    "start_time": "2023-03-01T06:50:05.204Z"
   },
   {
    "duration": 22,
    "start_time": "2023-03-01T06:50:29.453Z"
   },
   {
    "duration": 90,
    "start_time": "2023-03-01T06:51:01.855Z"
   },
   {
    "duration": 22,
    "start_time": "2023-03-01T06:51:09.978Z"
   },
   {
    "duration": 15,
    "start_time": "2023-03-01T06:51:25.885Z"
   },
   {
    "duration": 10,
    "start_time": "2023-03-01T06:54:13.003Z"
   },
   {
    "duration": 92,
    "start_time": "2023-03-01T06:54:46.047Z"
   },
   {
    "duration": 16,
    "start_time": "2023-03-01T06:55:29.128Z"
   },
   {
    "duration": 20,
    "start_time": "2023-03-01T06:56:07.039Z"
   },
   {
    "duration": 4,
    "start_time": "2023-03-01T06:56:46.039Z"
   },
   {
    "duration": 1480,
    "start_time": "2023-03-01T06:57:18.333Z"
   },
   {
    "duration": 43,
    "start_time": "2023-03-01T06:57:19.815Z"
   },
   {
    "duration": 16,
    "start_time": "2023-03-01T06:57:19.860Z"
   },
   {
    "duration": 26,
    "start_time": "2023-03-01T06:57:19.878Z"
   },
   {
    "duration": 17,
    "start_time": "2023-03-01T06:57:19.906Z"
   },
   {
    "duration": 20,
    "start_time": "2023-03-01T06:57:19.925Z"
   },
   {
    "duration": 36,
    "start_time": "2023-03-01T06:57:19.947Z"
   },
   {
    "duration": 49,
    "start_time": "2023-03-01T06:57:19.984Z"
   },
   {
    "duration": 212,
    "start_time": "2023-03-01T06:57:20.035Z"
   },
   {
    "duration": 8,
    "start_time": "2023-03-01T06:57:20.249Z"
   },
   {
    "duration": 72,
    "start_time": "2023-03-01T06:57:20.259Z"
   },
   {
    "duration": 179,
    "start_time": "2023-03-01T06:57:20.333Z"
   },
   {
    "duration": 10,
    "start_time": "2023-03-01T06:57:20.515Z"
   },
   {
    "duration": 36,
    "start_time": "2023-03-01T06:57:20.537Z"
   },
   {
    "duration": 41,
    "start_time": "2023-03-01T06:57:20.575Z"
   },
   {
    "duration": 44,
    "start_time": "2023-03-01T06:57:20.618Z"
   },
   {
    "duration": 44,
    "start_time": "2023-03-01T06:57:20.664Z"
   },
   {
    "duration": 29,
    "start_time": "2023-03-01T06:57:20.710Z"
   },
   {
    "duration": 51,
    "start_time": "2023-03-01T06:57:20.741Z"
   },
   {
    "duration": 86,
    "start_time": "2023-03-01T06:57:20.793Z"
   },
   {
    "duration": 54,
    "start_time": "2023-03-01T06:57:20.881Z"
   },
   {
    "duration": 71,
    "start_time": "2023-03-01T06:57:20.937Z"
   },
   {
    "duration": 42,
    "start_time": "2023-03-01T06:57:21.010Z"
   },
   {
    "duration": 61,
    "start_time": "2023-03-01T06:57:21.054Z"
   },
   {
    "duration": 622,
    "start_time": "2023-03-01T06:57:21.117Z"
   },
   {
    "duration": 7,
    "start_time": "2023-03-01T06:57:21.742Z"
   },
   {
    "duration": 178,
    "start_time": "2023-03-01T06:57:21.751Z"
   },
   {
    "duration": 87,
    "start_time": "2023-03-01T06:57:21.931Z"
   },
   {
    "duration": 38,
    "start_time": "2023-03-01T06:57:22.020Z"
   },
   {
    "duration": 51,
    "start_time": "2023-03-01T06:57:22.060Z"
   },
   {
    "duration": 625,
    "start_time": "2023-03-01T06:57:22.113Z"
   },
   {
    "duration": 5,
    "start_time": "2023-03-01T06:57:28.635Z"
   },
   {
    "duration": 118,
    "start_time": "2023-03-01T06:57:34.574Z"
   },
   {
    "duration": 78,
    "start_time": "2023-03-01T06:58:39.025Z"
   },
   {
    "duration": 10,
    "start_time": "2023-03-01T07:00:55.108Z"
   },
   {
    "duration": 11,
    "start_time": "2023-03-01T07:01:14.425Z"
   },
   {
    "duration": 2,
    "start_time": "2023-03-01T07:01:18.483Z"
   },
   {
    "duration": 9,
    "start_time": "2023-03-01T07:01:19.275Z"
   },
   {
    "duration": 68,
    "start_time": "2023-03-01T07:03:40.911Z"
   },
   {
    "duration": 86,
    "start_time": "2023-03-01T07:03:49.146Z"
   },
   {
    "duration": 1130,
    "start_time": "2023-03-01T07:07:32.316Z"
   },
   {
    "duration": 12,
    "start_time": "2023-03-01T07:09:28.060Z"
   },
   {
    "duration": 39,
    "start_time": "2023-03-01T07:09:32.392Z"
   },
   {
    "duration": 9,
    "start_time": "2023-03-01T07:09:34.742Z"
   },
   {
    "duration": 4,
    "start_time": "2023-03-01T07:09:39.075Z"
   },
   {
    "duration": 43,
    "start_time": "2023-03-01T07:15:31.962Z"
   },
   {
    "duration": 32,
    "start_time": "2023-03-01T07:16:24.963Z"
   },
   {
    "duration": 5,
    "start_time": "2023-03-01T07:16:49.978Z"
   },
   {
    "duration": 5,
    "start_time": "2023-03-01T07:16:53.160Z"
   },
   {
    "duration": 42,
    "start_time": "2023-03-01T07:17:16.194Z"
   },
   {
    "duration": 8,
    "start_time": "2023-03-01T07:17:17.625Z"
   },
   {
    "duration": 6,
    "start_time": "2023-03-01T07:17:18.524Z"
   },
   {
    "duration": 42,
    "start_time": "2023-03-01T07:17:20.130Z"
   },
   {
    "duration": 8,
    "start_time": "2023-03-01T07:20:45.676Z"
   },
   {
    "duration": 8317,
    "start_time": "2023-03-01T07:20:48.745Z"
   },
   {
    "duration": 30,
    "start_time": "2023-03-01T07:21:20.761Z"
   },
   {
    "duration": 7800,
    "start_time": "2023-03-01T07:21:36.226Z"
   },
   {
    "duration": 6,
    "start_time": "2023-03-01T07:21:51.893Z"
   },
   {
    "duration": 6,
    "start_time": "2023-03-01T07:21:59.420Z"
   },
   {
    "duration": 8110,
    "start_time": "2023-03-01T07:24:35.627Z"
   },
   {
    "duration": 9,
    "start_time": "2023-03-01T07:26:59.156Z"
   },
   {
    "duration": 14,
    "start_time": "2023-03-01T07:27:07.894Z"
   },
   {
    "duration": 11,
    "start_time": "2023-03-01T07:27:15.928Z"
   },
   {
    "duration": 17,
    "start_time": "2023-03-01T07:27:22.660Z"
   },
   {
    "duration": 10841,
    "start_time": "2023-03-01T07:27:48.344Z"
   },
   {
    "duration": 1441,
    "start_time": "2023-03-01T07:31:54.760Z"
   },
   {
    "duration": 48,
    "start_time": "2023-03-01T07:31:56.203Z"
   },
   {
    "duration": 15,
    "start_time": "2023-03-01T07:31:56.253Z"
   },
   {
    "duration": 21,
    "start_time": "2023-03-01T07:31:56.270Z"
   },
   {
    "duration": 15,
    "start_time": "2023-03-01T07:31:56.294Z"
   },
   {
    "duration": 10,
    "start_time": "2023-03-01T07:31:56.311Z"
   },
   {
    "duration": 7,
    "start_time": "2023-03-01T07:31:56.341Z"
   },
   {
    "duration": 26,
    "start_time": "2023-03-01T07:31:56.349Z"
   },
   {
    "duration": 211,
    "start_time": "2023-03-01T07:31:56.377Z"
   },
   {
    "duration": 7,
    "start_time": "2023-03-01T07:31:56.590Z"
   },
   {
    "duration": 16,
    "start_time": "2023-03-01T07:31:56.599Z"
   },
   {
    "duration": 176,
    "start_time": "2023-03-01T07:31:56.638Z"
   },
   {
    "duration": 31,
    "start_time": "2023-03-01T07:31:56.816Z"
   },
   {
    "duration": 5,
    "start_time": "2023-03-01T07:31:56.852Z"
   },
   {
    "duration": 25,
    "start_time": "2023-03-01T07:31:56.859Z"
   },
   {
    "duration": 12,
    "start_time": "2023-03-01T07:31:56.886Z"
   },
   {
    "duration": 7,
    "start_time": "2023-03-01T07:31:56.900Z"
   },
   {
    "duration": 8,
    "start_time": "2023-03-01T07:31:56.909Z"
   },
   {
    "duration": 24,
    "start_time": "2023-03-01T07:31:56.918Z"
   },
   {
    "duration": 36,
    "start_time": "2023-03-01T07:31:56.944Z"
   },
   {
    "duration": 7,
    "start_time": "2023-03-01T07:31:56.982Z"
   },
   {
    "duration": 24,
    "start_time": "2023-03-01T07:31:56.991Z"
   },
   {
    "duration": 14,
    "start_time": "2023-03-01T07:31:57.017Z"
   },
   {
    "duration": 26,
    "start_time": "2023-03-01T07:31:57.033Z"
   },
   {
    "duration": 396,
    "start_time": "2023-03-01T07:31:57.061Z"
   },
   {
    "duration": 90,
    "start_time": "2023-03-01T07:31:57.460Z"
   },
   {
    "duration": 122,
    "start_time": "2023-03-01T07:31:57.556Z"
   },
   {
    "duration": 9,
    "start_time": "2023-03-01T07:31:57.680Z"
   },
   {
    "duration": 38,
    "start_time": "2023-03-01T07:31:57.691Z"
   },
   {
    "duration": 63,
    "start_time": "2023-03-01T07:31:57.731Z"
   },
   {
    "duration": 558,
    "start_time": "2023-03-01T07:31:57.796Z"
   },
   {
    "duration": 132,
    "start_time": "2023-03-01T07:31:58.356Z"
   },
   {
    "duration": 0,
    "start_time": "2023-03-01T07:31:58.490Z"
   },
   {
    "duration": 0,
    "start_time": "2023-03-01T07:31:58.491Z"
   },
   {
    "duration": 0,
    "start_time": "2023-03-01T07:31:58.492Z"
   },
   {
    "duration": 0,
    "start_time": "2023-03-01T07:31:58.493Z"
   },
   {
    "duration": 0,
    "start_time": "2023-03-01T07:31:58.494Z"
   },
   {
    "duration": 0,
    "start_time": "2023-03-01T07:31:58.496Z"
   },
   {
    "duration": 0,
    "start_time": "2023-03-01T07:31:58.497Z"
   },
   {
    "duration": 0,
    "start_time": "2023-03-01T07:31:58.498Z"
   },
   {
    "duration": 0,
    "start_time": "2023-03-01T07:31:58.499Z"
   },
   {
    "duration": 0,
    "start_time": "2023-03-01T07:31:58.500Z"
   },
   {
    "duration": 0,
    "start_time": "2023-03-01T07:31:58.501Z"
   },
   {
    "duration": 0,
    "start_time": "2023-03-01T07:31:58.502Z"
   },
   {
    "duration": 159,
    "start_time": "2023-03-01T07:32:02.653Z"
   },
   {
    "duration": 4,
    "start_time": "2023-03-01T07:32:40.184Z"
   },
   {
    "duration": 60,
    "start_time": "2023-03-01T07:32:40.192Z"
   },
   {
    "duration": 14,
    "start_time": "2023-03-01T07:32:40.253Z"
   },
   {
    "duration": 10,
    "start_time": "2023-03-01T07:32:40.270Z"
   },
   {
    "duration": 24,
    "start_time": "2023-03-01T07:32:40.284Z"
   },
   {
    "duration": 47,
    "start_time": "2023-03-01T07:32:40.310Z"
   },
   {
    "duration": 19,
    "start_time": "2023-03-01T07:32:40.359Z"
   },
   {
    "duration": 24,
    "start_time": "2023-03-01T07:32:40.380Z"
   },
   {
    "duration": 212,
    "start_time": "2023-03-01T07:32:40.406Z"
   },
   {
    "duration": 21,
    "start_time": "2023-03-01T07:32:40.620Z"
   },
   {
    "duration": 26,
    "start_time": "2023-03-01T07:32:40.645Z"
   },
   {
    "duration": 190,
    "start_time": "2023-03-01T07:32:40.673Z"
   },
   {
    "duration": 10,
    "start_time": "2023-03-01T07:32:40.865Z"
   },
   {
    "duration": 9,
    "start_time": "2023-03-01T07:32:40.879Z"
   },
   {
    "duration": 20,
    "start_time": "2023-03-01T07:32:40.890Z"
   },
   {
    "duration": 38,
    "start_time": "2023-03-01T07:32:40.912Z"
   },
   {
    "duration": 21,
    "start_time": "2023-03-01T07:32:40.951Z"
   },
   {
    "duration": 15,
    "start_time": "2023-03-01T07:32:40.974Z"
   },
   {
    "duration": 10,
    "start_time": "2023-03-01T07:32:40.991Z"
   },
   {
    "duration": 30,
    "start_time": "2023-03-01T07:32:41.003Z"
   },
   {
    "duration": 16,
    "start_time": "2023-03-01T07:32:41.035Z"
   },
   {
    "duration": 34,
    "start_time": "2023-03-01T07:32:41.054Z"
   },
   {
    "duration": 30,
    "start_time": "2023-03-01T07:32:41.091Z"
   },
   {
    "duration": 30,
    "start_time": "2023-03-01T07:32:41.123Z"
   },
   {
    "duration": 590,
    "start_time": "2023-03-01T07:32:41.157Z"
   },
   {
    "duration": 7,
    "start_time": "2023-03-01T07:32:41.749Z"
   },
   {
    "duration": 112,
    "start_time": "2023-03-01T07:32:41.758Z"
   },
   {
    "duration": 24,
    "start_time": "2023-03-01T07:32:41.872Z"
   },
   {
    "duration": 33,
    "start_time": "2023-03-01T07:32:41.899Z"
   },
   {
    "duration": 26,
    "start_time": "2023-03-01T07:32:41.934Z"
   },
   {
    "duration": 492,
    "start_time": "2023-03-01T07:32:41.963Z"
   },
   {
    "duration": 207,
    "start_time": "2023-03-01T07:32:42.457Z"
   },
   {
    "duration": 9,
    "start_time": "2023-03-01T07:32:42.668Z"
   },
   {
    "duration": 26,
    "start_time": "2023-03-01T07:32:42.680Z"
   },
   {
    "duration": 38,
    "start_time": "2023-03-01T07:32:42.710Z"
   },
   {
    "duration": 8805,
    "start_time": "2023-03-01T07:32:42.750Z"
   },
   {
    "duration": 42914,
    "start_time": "2023-03-01T07:32:51.560Z"
   },
   {
    "duration": 8682,
    "start_time": "2023-03-01T07:33:42.192Z"
   },
   {
    "duration": 39109,
    "start_time": "2023-03-01T07:33:52.529Z"
   },
   {
    "duration": 57,
    "start_time": "2023-03-01T07:36:52.626Z"
   },
   {
    "duration": 2,
    "start_time": "2023-03-01T07:40:45.874Z"
   },
   {
    "duration": 4,
    "start_time": "2023-03-01T07:41:16.950Z"
   },
   {
    "duration": 5,
    "start_time": "2023-03-01T07:41:54.391Z"
   },
   {
    "duration": 6,
    "start_time": "2023-03-01T07:42:07.726Z"
   },
   {
    "duration": 5,
    "start_time": "2023-03-01T07:42:09.212Z"
   },
   {
    "duration": 8,
    "start_time": "2023-03-01T07:42:10.390Z"
   },
   {
    "duration": 9332,
    "start_time": "2023-03-01T07:42:11.954Z"
   },
   {
    "duration": 43295,
    "start_time": "2023-03-01T07:43:27.027Z"
   },
   {
    "duration": 42105,
    "start_time": "2023-03-01T07:45:07.952Z"
   },
   {
    "duration": 41969,
    "start_time": "2023-03-01T07:46:42.393Z"
   },
   {
    "duration": 8,
    "start_time": "2023-03-01T07:47:24.364Z"
   },
   {
    "duration": 8537,
    "start_time": "2023-03-01T07:47:24.374Z"
   },
   {
    "duration": 39208,
    "start_time": "2023-03-01T07:47:37.345Z"
   },
   {
    "duration": 8448,
    "start_time": "2023-03-01T08:14:57.855Z"
   },
   {
    "duration": 39082,
    "start_time": "2023-03-01T08:15:06.868Z"
   },
   {
    "duration": 11,
    "start_time": "2023-03-01T08:16:02.082Z"
   },
   {
    "duration": 10,
    "start_time": "2023-03-01T08:16:09.484Z"
   },
   {
    "duration": 3,
    "start_time": "2023-03-01T08:16:19.536Z"
   },
   {
    "duration": 4,
    "start_time": "2023-03-01T08:16:22.199Z"
   },
   {
    "duration": 53,
    "start_time": "2023-03-01T08:16:44.364Z"
   },
   {
    "duration": 1414,
    "start_time": "2023-03-01T08:16:47.987Z"
   },
   {
    "duration": 42,
    "start_time": "2023-03-01T08:16:49.403Z"
   },
   {
    "duration": 14,
    "start_time": "2023-03-01T08:16:49.447Z"
   },
   {
    "duration": 14,
    "start_time": "2023-03-01T08:16:49.463Z"
   },
   {
    "duration": 16,
    "start_time": "2023-03-01T08:16:49.479Z"
   },
   {
    "duration": 41,
    "start_time": "2023-03-01T08:16:49.498Z"
   },
   {
    "duration": 15,
    "start_time": "2023-03-01T08:16:49.542Z"
   },
   {
    "duration": 19,
    "start_time": "2023-03-01T08:16:49.560Z"
   },
   {
    "duration": 215,
    "start_time": "2023-03-01T08:16:49.581Z"
   },
   {
    "duration": 9,
    "start_time": "2023-03-01T08:16:49.798Z"
   },
   {
    "duration": 35,
    "start_time": "2023-03-01T08:16:49.810Z"
   },
   {
    "duration": 170,
    "start_time": "2023-03-01T08:16:49.847Z"
   },
   {
    "duration": 23,
    "start_time": "2023-03-01T08:16:50.019Z"
   },
   {
    "duration": 5,
    "start_time": "2023-03-01T08:16:50.045Z"
   },
   {
    "duration": 32,
    "start_time": "2023-03-01T08:16:50.052Z"
   },
   {
    "duration": 18,
    "start_time": "2023-03-01T08:16:50.086Z"
   },
   {
    "duration": 13,
    "start_time": "2023-03-01T08:16:50.106Z"
   },
   {
    "duration": 14,
    "start_time": "2023-03-01T08:16:50.120Z"
   },
   {
    "duration": 18,
    "start_time": "2023-03-01T08:16:50.136Z"
   },
   {
    "duration": 15,
    "start_time": "2023-03-01T08:16:50.156Z"
   },
   {
    "duration": 29,
    "start_time": "2023-03-01T08:16:50.173Z"
   },
   {
    "duration": 8,
    "start_time": "2023-03-01T08:16:50.204Z"
   },
   {
    "duration": 13,
    "start_time": "2023-03-01T08:16:50.214Z"
   },
   {
    "duration": 40,
    "start_time": "2023-03-01T08:16:50.229Z"
   },
   {
    "duration": 14,
    "start_time": "2023-03-01T08:16:50.271Z"
   },
   {
    "duration": 459,
    "start_time": "2023-03-01T08:16:50.286Z"
   },
   {
    "duration": 191,
    "start_time": "2023-03-01T08:16:50.748Z"
   },
   {
    "duration": 18,
    "start_time": "2023-03-01T08:16:50.941Z"
   },
   {
    "duration": 36,
    "start_time": "2023-03-01T08:16:50.961Z"
   },
   {
    "duration": 20,
    "start_time": "2023-03-01T08:16:51.000Z"
   },
   {
    "duration": 626,
    "start_time": "2023-03-01T08:16:51.022Z"
   },
   {
    "duration": 133,
    "start_time": "2023-03-01T08:16:51.738Z"
   },
   {
    "duration": 6,
    "start_time": "2023-03-01T08:16:51.873Z"
   },
   {
    "duration": 28,
    "start_time": "2023-03-01T08:16:51.881Z"
   },
   {
    "duration": 27,
    "start_time": "2023-03-01T08:16:51.911Z"
   },
   {
    "duration": 8144,
    "start_time": "2023-03-01T08:16:51.940Z"
   },
   {
    "duration": 37694,
    "start_time": "2023-03-01T08:17:00.086Z"
   },
   {
    "duration": 8,
    "start_time": "2023-03-01T08:17:37.782Z"
   },
   {
    "duration": 21,
    "start_time": "2023-03-01T08:17:37.792Z"
   },
   {
    "duration": 8,
    "start_time": "2023-03-01T08:17:37.815Z"
   },
   {
    "duration": 18,
    "start_time": "2023-03-01T08:17:37.842Z"
   },
   {
    "duration": 9451,
    "start_time": "2023-03-01T08:17:37.862Z"
   },
   {
    "duration": 48093,
    "start_time": "2023-03-01T08:17:47.315Z"
   },
   {
    "duration": 30,
    "start_time": "2023-03-01T08:18:35.416Z"
   },
   {
    "duration": 26,
    "start_time": "2023-03-01T08:18:35.448Z"
   },
   {
    "duration": 9,
    "start_time": "2023-03-01T08:18:35.505Z"
   },
   {
    "duration": 12,
    "start_time": "2023-03-01T08:18:35.533Z"
   },
   {
    "duration": 7,
    "start_time": "2023-03-01T08:18:35.547Z"
   },
   {
    "duration": 5,
    "start_time": "2023-03-01T08:18:42.483Z"
   },
   {
    "duration": 4,
    "start_time": "2023-03-01T08:18:45.365Z"
   },
   {
    "duration": 4,
    "start_time": "2023-03-01T08:19:36.585Z"
   },
   {
    "duration": 4,
    "start_time": "2023-03-01T08:19:37.068Z"
   },
   {
    "duration": 7,
    "start_time": "2023-03-01T08:20:58.919Z"
   },
   {
    "duration": 10,
    "start_time": "2023-03-01T08:21:04.800Z"
   },
   {
    "duration": 5,
    "start_time": "2023-03-01T08:22:37.949Z"
   },
   {
    "duration": 9,
    "start_time": "2023-03-01T08:22:39.282Z"
   },
   {
    "duration": 3,
    "start_time": "2023-03-01T08:22:47.082Z"
   },
   {
    "duration": 4,
    "start_time": "2023-03-01T08:23:07.264Z"
   },
   {
    "duration": 4,
    "start_time": "2023-03-01T08:23:07.881Z"
   },
   {
    "duration": 10,
    "start_time": "2023-03-01T08:23:08.582Z"
   },
   {
    "duration": 270,
    "start_time": "2023-03-01T08:25:16.917Z"
   },
   {
    "duration": 158,
    "start_time": "2023-03-01T08:25:41.982Z"
   },
   {
    "duration": 79,
    "start_time": "2023-03-01T08:26:31.768Z"
   },
   {
    "duration": 170,
    "start_time": "2023-03-01T08:26:35.868Z"
   },
   {
    "duration": 1428,
    "start_time": "2023-03-01T08:26:43.562Z"
   },
   {
    "duration": 39,
    "start_time": "2023-03-01T08:26:44.992Z"
   },
   {
    "duration": 13,
    "start_time": "2023-03-01T08:26:45.033Z"
   },
   {
    "duration": 12,
    "start_time": "2023-03-01T08:26:45.048Z"
   },
   {
    "duration": 15,
    "start_time": "2023-03-01T08:26:45.062Z"
   },
   {
    "duration": 8,
    "start_time": "2023-03-01T08:26:45.079Z"
   },
   {
    "duration": 7,
    "start_time": "2023-03-01T08:26:45.089Z"
   },
   {
    "duration": 17,
    "start_time": "2023-03-01T08:26:45.098Z"
   },
   {
    "duration": 185,
    "start_time": "2023-03-01T08:26:45.137Z"
   },
   {
    "duration": 14,
    "start_time": "2023-03-01T08:26:45.324Z"
   },
   {
    "duration": 22,
    "start_time": "2023-03-01T08:26:45.340Z"
   },
   {
    "duration": 179,
    "start_time": "2023-03-01T08:26:45.364Z"
   },
   {
    "duration": 11,
    "start_time": "2023-03-01T08:26:45.545Z"
   },
   {
    "duration": 24,
    "start_time": "2023-03-01T08:26:45.560Z"
   },
   {
    "duration": 39,
    "start_time": "2023-03-01T08:26:45.586Z"
   },
   {
    "duration": 27,
    "start_time": "2023-03-01T08:26:45.627Z"
   },
   {
    "duration": 20,
    "start_time": "2023-03-01T08:26:45.656Z"
   },
   {
    "duration": 19,
    "start_time": "2023-03-01T08:26:45.677Z"
   },
   {
    "duration": 14,
    "start_time": "2023-03-01T08:26:45.698Z"
   },
   {
    "duration": 13,
    "start_time": "2023-03-01T08:26:45.715Z"
   },
   {
    "duration": 28,
    "start_time": "2023-03-01T08:26:45.730Z"
   },
   {
    "duration": 7,
    "start_time": "2023-03-01T08:26:45.760Z"
   },
   {
    "duration": 16,
    "start_time": "2023-03-01T08:26:45.769Z"
   },
   {
    "duration": 12,
    "start_time": "2023-03-01T08:26:45.787Z"
   },
   {
    "duration": 16,
    "start_time": "2023-03-01T08:26:45.801Z"
   },
   {
    "duration": 526,
    "start_time": "2023-03-01T08:26:45.819Z"
   },
   {
    "duration": 101,
    "start_time": "2023-03-01T08:26:46.347Z"
   },
   {
    "duration": 94,
    "start_time": "2023-03-01T08:26:46.450Z"
   },
   {
    "duration": 30,
    "start_time": "2023-03-01T08:26:46.545Z"
   },
   {
    "duration": 20,
    "start_time": "2023-03-01T08:26:46.576Z"
   },
   {
    "duration": 840,
    "start_time": "2023-03-01T08:26:46.598Z"
   },
   {
    "duration": 51,
    "start_time": "2023-03-01T08:46:11.948Z"
   },
   {
    "duration": 7,
    "start_time": "2023-03-01T08:46:12.001Z"
   },
   {
    "duration": 8,
    "start_time": "2023-03-01T08:46:12.010Z"
   },
   {
    "duration": 10,
    "start_time": "2023-03-01T08:46:12.199Z"
   },
   {
    "duration": 8668,
    "start_time": "2023-03-01T08:46:12.405Z"
   },
   {
    "duration": 39705,
    "start_time": "2023-03-01T08:46:21.076Z"
   },
   {
    "duration": 7,
    "start_time": "2023-03-01T08:47:00.783Z"
   },
   {
    "duration": 70,
    "start_time": "2023-03-01T08:47:00.793Z"
   },
   {
    "duration": 29,
    "start_time": "2023-03-01T08:47:00.865Z"
   },
   {
    "duration": 82,
    "start_time": "2023-03-01T08:47:00.895Z"
   },
   {
    "duration": 9778,
    "start_time": "2023-03-01T08:47:00.978Z"
   },
   {
    "duration": 52032,
    "start_time": "2023-03-01T08:47:10.758Z"
   },
   {
    "duration": 4,
    "start_time": "2023-03-01T08:48:02.792Z"
   },
   {
    "duration": 11,
    "start_time": "2023-03-01T08:48:02.798Z"
   },
   {
    "duration": 16,
    "start_time": "2023-03-01T08:48:02.811Z"
   },
   {
    "duration": 19,
    "start_time": "2023-03-01T08:48:02.829Z"
   },
   {
    "duration": 6,
    "start_time": "2023-03-01T08:52:22.625Z"
   },
   {
    "duration": 6,
    "start_time": "2023-03-01T08:53:50.447Z"
   },
   {
    "duration": 147,
    "start_time": "2023-03-01T08:54:19.798Z"
   },
   {
    "duration": 67,
    "start_time": "2023-03-01T08:54:59.778Z"
   },
   {
    "duration": 4,
    "start_time": "2023-03-01T09:00:33.059Z"
   },
   {
    "duration": 4,
    "start_time": "2023-03-01T09:00:50.782Z"
   },
   {
    "duration": 119,
    "start_time": "2023-03-01T09:00:58.357Z"
   },
   {
    "duration": 5,
    "start_time": "2023-03-01T09:01:01.123Z"
   },
   {
    "duration": 5,
    "start_time": "2023-03-01T09:01:18.832Z"
   },
   {
    "duration": 96,
    "start_time": "2023-03-01T09:01:41.191Z"
   },
   {
    "duration": 90,
    "start_time": "2023-03-01T09:02:04.815Z"
   },
   {
    "duration": 3,
    "start_time": "2023-03-01T09:02:17.049Z"
   },
   {
    "duration": 4,
    "start_time": "2023-03-01T09:02:24.360Z"
   },
   {
    "duration": 3,
    "start_time": "2023-03-01T09:03:16.960Z"
   },
   {
    "duration": 3,
    "start_time": "2023-03-01T09:03:56.626Z"
   },
   {
    "duration": 6,
    "start_time": "2023-03-01T09:04:44.377Z"
   },
   {
    "duration": 4,
    "start_time": "2023-03-01T09:05:14.242Z"
   },
   {
    "duration": 4,
    "start_time": "2023-03-01T09:05:20.408Z"
   },
   {
    "duration": 3,
    "start_time": "2023-03-01T09:05:28.510Z"
   },
   {
    "duration": 4,
    "start_time": "2023-03-01T09:05:39.071Z"
   },
   {
    "duration": 48,
    "start_time": "2023-03-01T09:05:39.077Z"
   },
   {
    "duration": 12,
    "start_time": "2023-03-01T09:05:39.127Z"
   },
   {
    "duration": 16,
    "start_time": "2023-03-01T09:05:39.140Z"
   },
   {
    "duration": 19,
    "start_time": "2023-03-01T09:05:39.157Z"
   },
   {
    "duration": 10,
    "start_time": "2023-03-01T09:05:39.177Z"
   },
   {
    "duration": 9,
    "start_time": "2023-03-01T09:05:39.189Z"
   },
   {
    "duration": 18,
    "start_time": "2023-03-01T09:05:39.200Z"
   },
   {
    "duration": 173,
    "start_time": "2023-03-01T09:05:39.220Z"
   },
   {
    "duration": 8,
    "start_time": "2023-03-01T09:05:39.394Z"
   },
   {
    "duration": 23,
    "start_time": "2023-03-01T09:05:39.404Z"
   },
   {
    "duration": 165,
    "start_time": "2023-03-01T09:05:39.439Z"
   },
   {
    "duration": 9,
    "start_time": "2023-03-01T09:05:39.606Z"
   },
   {
    "duration": 4,
    "start_time": "2023-03-01T09:05:39.619Z"
   },
   {
    "duration": 14,
    "start_time": "2023-03-01T09:05:39.638Z"
   },
   {
    "duration": 9,
    "start_time": "2023-03-01T09:05:39.654Z"
   },
   {
    "duration": 14,
    "start_time": "2023-03-01T09:05:39.665Z"
   },
   {
    "duration": 7,
    "start_time": "2023-03-01T09:05:39.681Z"
   },
   {
    "duration": 13,
    "start_time": "2023-03-01T09:05:39.690Z"
   },
   {
    "duration": 5,
    "start_time": "2023-03-01T09:05:39.705Z"
   },
   {
    "duration": 28,
    "start_time": "2023-03-01T09:05:39.711Z"
   },
   {
    "duration": 20,
    "start_time": "2023-03-01T09:05:39.740Z"
   },
   {
    "duration": 7,
    "start_time": "2023-03-01T09:05:39.762Z"
   },
   {
    "duration": 9,
    "start_time": "2023-03-01T09:05:39.771Z"
   },
   {
    "duration": 10,
    "start_time": "2023-03-01T09:05:39.782Z"
   },
   {
    "duration": 8,
    "start_time": "2023-03-01T09:05:39.794Z"
   },
   {
    "duration": 36,
    "start_time": "2023-03-01T09:05:39.804Z"
   },
   {
    "duration": 503,
    "start_time": "2023-03-01T09:05:39.842Z"
   },
   {
    "duration": 102,
    "start_time": "2023-03-01T09:05:40.347Z"
   },
   {
    "duration": 89,
    "start_time": "2023-03-01T09:05:40.451Z"
   },
   {
    "duration": 12,
    "start_time": "2023-03-01T09:05:40.542Z"
   },
   {
    "duration": 11,
    "start_time": "2023-03-01T09:05:40.556Z"
   },
   {
    "duration": 677,
    "start_time": "2023-03-01T09:05:40.568Z"
   },
   {
    "duration": 124,
    "start_time": "2023-03-01T09:05:41.248Z"
   },
   {
    "duration": 6,
    "start_time": "2023-03-01T09:05:41.373Z"
   },
   {
    "duration": 59,
    "start_time": "2023-03-01T09:05:41.381Z"
   },
   {
    "duration": 10,
    "start_time": "2023-03-01T09:05:41.441Z"
   },
   {
    "duration": 7924,
    "start_time": "2023-03-01T09:05:41.453Z"
   },
   {
    "duration": 37886,
    "start_time": "2023-03-01T09:05:49.379Z"
   },
   {
    "duration": 8,
    "start_time": "2023-03-01T09:06:27.267Z"
   },
   {
    "duration": 13,
    "start_time": "2023-03-01T09:06:27.279Z"
   },
   {
    "duration": 10,
    "start_time": "2023-03-01T09:06:27.294Z"
   },
   {
    "duration": 33,
    "start_time": "2023-03-01T09:06:27.306Z"
   },
   {
    "duration": 9244,
    "start_time": "2023-03-01T09:06:27.341Z"
   },
   {
    "duration": 46224,
    "start_time": "2023-03-01T09:06:36.587Z"
   },
   {
    "duration": 4,
    "start_time": "2023-03-01T09:07:22.813Z"
   },
   {
    "duration": 25,
    "start_time": "2023-03-01T09:07:22.818Z"
   },
   {
    "duration": 30,
    "start_time": "2023-03-01T09:07:22.845Z"
   },
   {
    "duration": 54,
    "start_time": "2023-03-01T09:07:22.877Z"
   },
   {
    "duration": 35,
    "start_time": "2023-03-01T09:07:22.933Z"
   },
   {
    "duration": 23,
    "start_time": "2023-03-01T09:07:22.970Z"
   },
   {
    "duration": 24,
    "start_time": "2023-03-01T09:07:22.994Z"
   },
   {
    "duration": 18,
    "start_time": "2023-03-01T09:07:23.020Z"
   },
   {
    "duration": 14,
    "start_time": "2023-03-01T09:07:23.040Z"
   },
   {
    "duration": 18,
    "start_time": "2023-03-01T09:07:23.056Z"
   },
   {
    "duration": 28,
    "start_time": "2023-03-01T09:07:23.076Z"
   },
   {
    "duration": 266,
    "start_time": "2023-03-01T09:09:30.577Z"
   },
   {
    "duration": 179,
    "start_time": "2023-03-01T09:10:33.479Z"
   },
   {
    "duration": 1436,
    "start_time": "2023-03-01T09:10:48.825Z"
   },
   {
    "duration": 41,
    "start_time": "2023-03-01T09:10:50.263Z"
   },
   {
    "duration": 13,
    "start_time": "2023-03-01T09:10:50.306Z"
   },
   {
    "duration": 16,
    "start_time": "2023-03-01T09:10:50.321Z"
   },
   {
    "duration": 16,
    "start_time": "2023-03-01T09:10:50.339Z"
   },
   {
    "duration": 10,
    "start_time": "2023-03-01T09:10:50.356Z"
   },
   {
    "duration": 8,
    "start_time": "2023-03-01T09:10:50.367Z"
   },
   {
    "duration": 16,
    "start_time": "2023-03-01T09:10:50.376Z"
   },
   {
    "duration": 211,
    "start_time": "2023-03-01T09:10:50.394Z"
   },
   {
    "duration": 7,
    "start_time": "2023-03-01T09:10:50.608Z"
   },
   {
    "duration": 26,
    "start_time": "2023-03-01T09:10:50.616Z"
   },
   {
    "duration": 173,
    "start_time": "2023-03-01T09:10:50.644Z"
   },
   {
    "duration": 11,
    "start_time": "2023-03-01T09:10:50.818Z"
   },
   {
    "duration": 5,
    "start_time": "2023-03-01T09:10:50.839Z"
   },
   {
    "duration": 15,
    "start_time": "2023-03-01T09:10:50.846Z"
   },
   {
    "duration": 10,
    "start_time": "2023-03-01T09:10:50.863Z"
   },
   {
    "duration": 11,
    "start_time": "2023-03-01T09:10:50.875Z"
   },
   {
    "duration": 8,
    "start_time": "2023-03-01T09:10:50.887Z"
   },
   {
    "duration": 10,
    "start_time": "2023-03-01T09:10:50.897Z"
   },
   {
    "duration": 4,
    "start_time": "2023-03-01T09:10:50.909Z"
   },
   {
    "duration": 5,
    "start_time": "2023-03-01T09:10:50.937Z"
   },
   {
    "duration": 48,
    "start_time": "2023-03-01T09:10:50.944Z"
   },
   {
    "duration": 15,
    "start_time": "2023-03-01T09:10:50.995Z"
   },
   {
    "duration": 20,
    "start_time": "2023-03-01T09:10:51.012Z"
   },
   {
    "duration": 22,
    "start_time": "2023-03-01T09:10:51.034Z"
   },
   {
    "duration": 15,
    "start_time": "2023-03-01T09:10:51.058Z"
   },
   {
    "duration": 13,
    "start_time": "2023-03-01T09:10:51.075Z"
   },
   {
    "duration": 456,
    "start_time": "2023-03-01T09:10:51.090Z"
   },
   {
    "duration": 195,
    "start_time": "2023-03-01T09:10:51.548Z"
   },
   {
    "duration": 7,
    "start_time": "2023-03-01T09:10:51.745Z"
   },
   {
    "duration": 18,
    "start_time": "2023-03-01T09:10:51.754Z"
   },
   {
    "duration": 16,
    "start_time": "2023-03-01T09:10:51.774Z"
   },
   {
    "duration": 1148,
    "start_time": "2023-03-01T09:10:51.791Z"
   },
   {
    "duration": 40,
    "start_time": "2023-03-01T09:10:52.941Z"
   },
   {
    "duration": 5,
    "start_time": "2023-03-01T09:10:52.983Z"
   },
   {
    "duration": 6,
    "start_time": "2023-03-01T09:10:52.990Z"
   },
   {
    "duration": 9,
    "start_time": "2023-03-01T09:10:52.997Z"
   },
   {
    "duration": 8121,
    "start_time": "2023-03-01T09:10:53.007Z"
   },
   {
    "duration": 37361,
    "start_time": "2023-03-01T09:11:01.130Z"
   },
   {
    "duration": 7,
    "start_time": "2023-03-01T09:11:38.493Z"
   },
   {
    "duration": 28,
    "start_time": "2023-03-01T09:11:38.505Z"
   },
   {
    "duration": 7,
    "start_time": "2023-03-01T09:11:38.538Z"
   },
   {
    "duration": 19,
    "start_time": "2023-03-01T09:11:38.547Z"
   },
   {
    "duration": 8773,
    "start_time": "2023-03-01T09:11:38.567Z"
   },
   {
    "duration": 47711,
    "start_time": "2023-03-01T09:11:47.341Z"
   },
   {
    "duration": 4,
    "start_time": "2023-03-01T09:12:35.055Z"
   },
   {
    "duration": 25,
    "start_time": "2023-03-01T09:12:35.061Z"
   },
   {
    "duration": 15,
    "start_time": "2023-03-01T09:12:35.088Z"
   },
   {
    "duration": 18,
    "start_time": "2023-03-01T09:12:35.105Z"
   },
   {
    "duration": 21,
    "start_time": "2023-03-01T09:12:35.125Z"
   },
   {
    "duration": 35,
    "start_time": "2023-03-01T09:12:35.148Z"
   },
   {
    "duration": 24,
    "start_time": "2023-03-01T09:12:35.185Z"
   },
   {
    "duration": 13,
    "start_time": "2023-03-01T09:12:35.211Z"
   },
   {
    "duration": 53,
    "start_time": "2023-03-01T09:12:35.226Z"
   },
   {
    "duration": 24,
    "start_time": "2023-03-01T09:12:35.280Z"
   },
   {
    "duration": 149,
    "start_time": "2023-03-01T09:12:35.306Z"
   },
   {
    "duration": 3,
    "start_time": "2023-03-01T09:15:57.566Z"
   },
   {
    "duration": 83,
    "start_time": "2023-03-01T09:15:57.828Z"
   },
   {
    "duration": 74,
    "start_time": "2023-03-01T09:16:13.028Z"
   },
   {
    "duration": 299,
    "start_time": "2023-03-01T09:16:25.843Z"
   },
   {
    "duration": 231,
    "start_time": "2023-03-01T09:16:40.011Z"
   },
   {
    "duration": 259,
    "start_time": "2023-03-01T09:16:51.879Z"
   },
   {
    "duration": 1473,
    "start_time": "2023-03-01T09:17:05.563Z"
   },
   {
    "duration": 42,
    "start_time": "2023-03-01T09:17:07.039Z"
   },
   {
    "duration": 14,
    "start_time": "2023-03-01T09:17:07.083Z"
   },
   {
    "duration": 15,
    "start_time": "2023-03-01T09:17:07.098Z"
   },
   {
    "duration": 16,
    "start_time": "2023-03-01T09:17:07.115Z"
   },
   {
    "duration": 37,
    "start_time": "2023-03-01T09:17:07.138Z"
   },
   {
    "duration": 20,
    "start_time": "2023-03-01T09:17:07.176Z"
   },
   {
    "duration": 27,
    "start_time": "2023-03-01T09:17:07.198Z"
   },
   {
    "duration": 204,
    "start_time": "2023-03-01T09:17:07.227Z"
   },
   {
    "duration": 13,
    "start_time": "2023-03-01T09:17:07.433Z"
   },
   {
    "duration": 19,
    "start_time": "2023-03-01T09:17:07.447Z"
   },
   {
    "duration": 186,
    "start_time": "2023-03-01T09:17:07.468Z"
   },
   {
    "duration": 11,
    "start_time": "2023-03-01T09:17:07.656Z"
   },
   {
    "duration": 4,
    "start_time": "2023-03-01T09:17:07.670Z"
   },
   {
    "duration": 23,
    "start_time": "2023-03-01T09:17:07.675Z"
   },
   {
    "duration": 21,
    "start_time": "2023-03-01T09:17:07.700Z"
   },
   {
    "duration": 6,
    "start_time": "2023-03-01T09:17:07.737Z"
   },
   {
    "duration": 8,
    "start_time": "2023-03-01T09:17:07.744Z"
   },
   {
    "duration": 12,
    "start_time": "2023-03-01T09:17:07.754Z"
   },
   {
    "duration": 7,
    "start_time": "2023-03-01T09:17:07.768Z"
   },
   {
    "duration": 10,
    "start_time": "2023-03-01T09:17:07.777Z"
   },
   {
    "duration": 31,
    "start_time": "2023-03-01T09:17:07.789Z"
   },
   {
    "duration": 25,
    "start_time": "2023-03-01T09:17:07.822Z"
   },
   {
    "duration": 10,
    "start_time": "2023-03-01T09:17:07.849Z"
   },
   {
    "duration": 9,
    "start_time": "2023-03-01T09:17:07.861Z"
   },
   {
    "duration": 22,
    "start_time": "2023-03-01T09:17:07.872Z"
   },
   {
    "duration": 13,
    "start_time": "2023-03-01T09:17:07.896Z"
   },
   {
    "duration": 537,
    "start_time": "2023-03-01T09:17:07.911Z"
   },
   {
    "duration": 191,
    "start_time": "2023-03-01T09:17:08.450Z"
   },
   {
    "duration": 20,
    "start_time": "2023-03-01T09:17:08.643Z"
   },
   {
    "duration": 23,
    "start_time": "2023-03-01T09:17:08.664Z"
   },
   {
    "duration": 50,
    "start_time": "2023-03-01T09:17:08.688Z"
   },
   {
    "duration": 709,
    "start_time": "2023-03-01T09:17:08.740Z"
   },
   {
    "duration": 209,
    "start_time": "2023-03-01T09:17:09.451Z"
   },
   {
    "duration": 6,
    "start_time": "2023-03-01T09:17:09.662Z"
   },
   {
    "duration": 23,
    "start_time": "2023-03-01T09:17:09.670Z"
   },
   {
    "duration": 61,
    "start_time": "2023-03-01T09:17:09.695Z"
   },
   {
    "duration": 8148,
    "start_time": "2023-03-01T09:17:09.758Z"
   },
   {
    "duration": 39374,
    "start_time": "2023-03-01T09:17:17.908Z"
   },
   {
    "duration": 7,
    "start_time": "2023-03-01T09:17:57.284Z"
   },
   {
    "duration": 16,
    "start_time": "2023-03-01T09:17:57.295Z"
   },
   {
    "duration": 26,
    "start_time": "2023-03-01T09:17:57.313Z"
   },
   {
    "duration": 14,
    "start_time": "2023-03-01T09:17:57.341Z"
   },
   {
    "duration": 9345,
    "start_time": "2023-03-01T09:17:57.357Z"
   },
   {
    "duration": 48220,
    "start_time": "2023-03-01T09:18:06.704Z"
   },
   {
    "duration": 4,
    "start_time": "2023-03-01T09:18:54.926Z"
   },
   {
    "duration": 19,
    "start_time": "2023-03-01T09:18:54.938Z"
   },
   {
    "duration": 23,
    "start_time": "2023-03-01T09:18:54.959Z"
   },
   {
    "duration": 28,
    "start_time": "2023-03-01T09:18:54.984Z"
   },
   {
    "duration": 26,
    "start_time": "2023-03-01T09:18:55.014Z"
   },
   {
    "duration": 50,
    "start_time": "2023-03-01T09:18:55.041Z"
   },
   {
    "duration": 15,
    "start_time": "2023-03-01T09:18:55.093Z"
   },
   {
    "duration": 39,
    "start_time": "2023-03-01T09:18:55.109Z"
   },
   {
    "duration": 29,
    "start_time": "2023-03-01T09:18:55.149Z"
   },
   {
    "duration": 29,
    "start_time": "2023-03-01T09:18:55.179Z"
   },
   {
    "duration": 132,
    "start_time": "2023-03-01T09:18:55.209Z"
   },
   {
    "duration": 130,
    "start_time": "2023-03-01T09:22:20.412Z"
   },
   {
    "duration": 16,
    "start_time": "2023-03-01T09:23:53.109Z"
   },
   {
    "duration": 9,
    "start_time": "2023-03-01T09:23:53.601Z"
   },
   {
    "duration": 4,
    "start_time": "2023-03-01T09:24:14.992Z"
   },
   {
    "duration": 4,
    "start_time": "2023-03-01T09:25:15.093Z"
   },
   {
    "duration": 11,
    "start_time": "2023-03-01T09:25:23.510Z"
   },
   {
    "duration": 10,
    "start_time": "2023-03-01T09:27:05.478Z"
   },
   {
    "duration": 7,
    "start_time": "2023-03-01T09:36:34.993Z"
   },
   {
    "duration": 20,
    "start_time": "2023-03-01T09:39:45.296Z"
   },
   {
    "duration": 7,
    "start_time": "2023-03-01T09:40:21.529Z"
   },
   {
    "duration": 87,
    "start_time": "2023-03-01T09:40:30.259Z"
   },
   {
    "duration": 115,
    "start_time": "2023-03-01T09:40:56.327Z"
   },
   {
    "duration": 68,
    "start_time": "2023-03-01T09:41:34.324Z"
   },
   {
    "duration": 1466,
    "start_time": "2023-03-01T09:41:44.111Z"
   },
   {
    "duration": 40,
    "start_time": "2023-03-01T09:41:45.580Z"
   },
   {
    "duration": 13,
    "start_time": "2023-03-01T09:41:45.622Z"
   },
   {
    "duration": 29,
    "start_time": "2023-03-01T09:41:45.637Z"
   },
   {
    "duration": 39,
    "start_time": "2023-03-01T09:41:45.669Z"
   },
   {
    "duration": 27,
    "start_time": "2023-03-01T09:41:45.710Z"
   },
   {
    "duration": 32,
    "start_time": "2023-03-01T09:41:45.739Z"
   },
   {
    "duration": 30,
    "start_time": "2023-03-01T09:41:45.773Z"
   },
   {
    "duration": 202,
    "start_time": "2023-03-01T09:41:45.805Z"
   },
   {
    "duration": 8,
    "start_time": "2023-03-01T09:41:46.009Z"
   },
   {
    "duration": 64,
    "start_time": "2023-03-01T09:41:46.019Z"
   },
   {
    "duration": 170,
    "start_time": "2023-03-01T09:41:46.085Z"
   },
   {
    "duration": 11,
    "start_time": "2023-03-01T09:41:46.257Z"
   },
   {
    "duration": 5,
    "start_time": "2023-03-01T09:41:46.271Z"
   },
   {
    "duration": 19,
    "start_time": "2023-03-01T09:41:46.277Z"
   },
   {
    "duration": 12,
    "start_time": "2023-03-01T09:41:46.298Z"
   },
   {
    "duration": 28,
    "start_time": "2023-03-01T09:41:46.311Z"
   },
   {
    "duration": 9,
    "start_time": "2023-03-01T09:41:46.341Z"
   },
   {
    "duration": 17,
    "start_time": "2023-03-01T09:41:46.352Z"
   },
   {
    "duration": 5,
    "start_time": "2023-03-01T09:41:46.371Z"
   },
   {
    "duration": 11,
    "start_time": "2023-03-01T09:41:46.378Z"
   },
   {
    "duration": 30,
    "start_time": "2023-03-01T09:41:46.392Z"
   },
   {
    "duration": 19,
    "start_time": "2023-03-01T09:41:46.425Z"
   },
   {
    "duration": 36,
    "start_time": "2023-03-01T09:41:46.446Z"
   },
   {
    "duration": 22,
    "start_time": "2023-03-01T09:41:46.484Z"
   },
   {
    "duration": 20,
    "start_time": "2023-03-01T09:41:46.508Z"
   },
   {
    "duration": 508,
    "start_time": "2023-03-01T09:41:46.530Z"
   },
   {
    "duration": 104,
    "start_time": "2023-03-01T09:41:47.041Z"
   },
   {
    "duration": 8,
    "start_time": "2023-03-01T09:41:47.147Z"
   },
   {
    "duration": 16,
    "start_time": "2023-03-01T09:41:47.157Z"
   },
   {
    "duration": 29,
    "start_time": "2023-03-01T09:41:47.175Z"
   },
   {
    "duration": 639,
    "start_time": "2023-03-01T09:41:47.206Z"
   },
   {
    "duration": 129,
    "start_time": "2023-03-01T09:41:47.848Z"
   },
   {
    "duration": 11,
    "start_time": "2023-03-01T09:41:47.979Z"
   },
   {
    "duration": 46,
    "start_time": "2023-03-01T09:41:47.992Z"
   },
   {
    "duration": 13,
    "start_time": "2023-03-01T09:41:48.040Z"
   },
   {
    "duration": 8153,
    "start_time": "2023-03-01T09:41:48.054Z"
   },
   {
    "duration": 38043,
    "start_time": "2023-03-01T09:41:56.209Z"
   },
   {
    "duration": 7,
    "start_time": "2023-03-01T09:42:34.253Z"
   },
   {
    "duration": 29,
    "start_time": "2023-03-01T09:42:34.262Z"
   },
   {
    "duration": 9,
    "start_time": "2023-03-01T09:42:34.295Z"
   },
   {
    "duration": 21,
    "start_time": "2023-03-01T09:42:34.306Z"
   },
   {
    "duration": 9629,
    "start_time": "2023-03-01T09:42:34.329Z"
   },
   {
    "duration": 49064,
    "start_time": "2023-03-01T09:42:43.960Z"
   },
   {
    "duration": 16,
    "start_time": "2023-03-01T09:43:33.026Z"
   },
   {
    "duration": 22,
    "start_time": "2023-03-01T09:43:33.044Z"
   },
   {
    "duration": 0,
    "start_time": "2023-03-01T09:43:33.186Z"
   },
   {
    "duration": 9,
    "start_time": "2023-03-01T09:43:59.554Z"
   },
   {
    "duration": 11,
    "start_time": "2023-03-01T09:44:00.204Z"
   },
   {
    "duration": 90,
    "start_time": "2023-03-01T09:44:29.547Z"
   },
   {
    "duration": 118,
    "start_time": "2023-03-01T09:45:36.630Z"
   },
   {
    "duration": 60,
    "start_time": "2023-03-01T09:45:57.078Z"
   },
   {
    "duration": 1481,
    "start_time": "2023-03-01T09:47:20.530Z"
   },
   {
    "duration": 43,
    "start_time": "2023-03-01T09:47:22.013Z"
   },
   {
    "duration": 16,
    "start_time": "2023-03-01T09:47:22.058Z"
   },
   {
    "duration": 20,
    "start_time": "2023-03-01T09:47:22.075Z"
   },
   {
    "duration": 35,
    "start_time": "2023-03-01T09:47:22.097Z"
   },
   {
    "duration": 13,
    "start_time": "2023-03-01T09:47:22.133Z"
   },
   {
    "duration": 15,
    "start_time": "2023-03-01T09:47:22.148Z"
   },
   {
    "duration": 24,
    "start_time": "2023-03-01T09:47:22.165Z"
   },
   {
    "duration": 210,
    "start_time": "2023-03-01T09:47:22.191Z"
   },
   {
    "duration": 9,
    "start_time": "2023-03-01T09:47:22.403Z"
   },
   {
    "duration": 55,
    "start_time": "2023-03-01T09:47:22.414Z"
   },
   {
    "duration": 234,
    "start_time": "2023-03-01T09:47:22.472Z"
   },
   {
    "duration": 11,
    "start_time": "2023-03-01T09:47:22.708Z"
   },
   {
    "duration": 17,
    "start_time": "2023-03-01T09:47:22.722Z"
   },
   {
    "duration": 16,
    "start_time": "2023-03-01T09:47:22.741Z"
   },
   {
    "duration": 18,
    "start_time": "2023-03-01T09:47:22.759Z"
   },
   {
    "duration": 31,
    "start_time": "2023-03-01T09:47:22.778Z"
   },
   {
    "duration": 16,
    "start_time": "2023-03-01T09:47:22.811Z"
   },
   {
    "duration": 42,
    "start_time": "2023-03-01T09:47:22.829Z"
   },
   {
    "duration": 43,
    "start_time": "2023-03-01T09:47:22.873Z"
   },
   {
    "duration": 11,
    "start_time": "2023-03-01T09:47:22.918Z"
   },
   {
    "duration": 27,
    "start_time": "2023-03-01T09:47:22.930Z"
   },
   {
    "duration": 8,
    "start_time": "2023-03-01T09:47:22.959Z"
   },
   {
    "duration": 15,
    "start_time": "2023-03-01T09:47:22.969Z"
   },
   {
    "duration": 16,
    "start_time": "2023-03-01T09:47:22.986Z"
   },
   {
    "duration": 16,
    "start_time": "2023-03-01T09:47:23.004Z"
   },
   {
    "duration": 525,
    "start_time": "2023-03-01T09:47:23.022Z"
   },
   {
    "duration": 104,
    "start_time": "2023-03-01T09:47:23.641Z"
   },
   {
    "duration": 26,
    "start_time": "2023-03-01T09:47:23.748Z"
   },
   {
    "duration": 43,
    "start_time": "2023-03-01T09:47:23.776Z"
   },
   {
    "duration": 19,
    "start_time": "2023-03-01T09:47:23.820Z"
   },
   {
    "duration": 617,
    "start_time": "2023-03-01T09:47:23.841Z"
   },
   {
    "duration": 126,
    "start_time": "2023-03-01T09:47:24.539Z"
   },
   {
    "duration": 7,
    "start_time": "2023-03-01T09:47:24.667Z"
   },
   {
    "duration": 33,
    "start_time": "2023-03-01T09:47:24.676Z"
   },
   {
    "duration": 40,
    "start_time": "2023-03-01T09:47:24.711Z"
   },
   {
    "duration": 9094,
    "start_time": "2023-03-01T09:47:24.753Z"
   },
   {
    "duration": 37687,
    "start_time": "2023-03-01T09:47:33.849Z"
   },
   {
    "duration": 7,
    "start_time": "2023-03-01T09:48:11.538Z"
   },
   {
    "duration": 15,
    "start_time": "2023-03-01T09:48:11.547Z"
   },
   {
    "duration": 7,
    "start_time": "2023-03-01T09:48:11.566Z"
   },
   {
    "duration": 19,
    "start_time": "2023-03-01T09:48:11.574Z"
   },
   {
    "duration": 9220,
    "start_time": "2023-03-01T09:48:11.595Z"
   },
   {
    "duration": 49854,
    "start_time": "2023-03-01T09:48:20.817Z"
   },
   {
    "duration": 11,
    "start_time": "2023-03-01T09:49:10.673Z"
   },
   {
    "duration": 17,
    "start_time": "2023-03-01T09:49:10.685Z"
   },
   {
    "duration": 45,
    "start_time": "2023-03-01T09:49:10.704Z"
   },
   {
    "duration": 117,
    "start_time": "2023-03-01T09:51:03.260Z"
   },
   {
    "duration": 19,
    "start_time": "2023-03-01T09:51:12.027Z"
   },
   {
    "duration": 110,
    "start_time": "2023-03-01T09:51:17.929Z"
   },
   {
    "duration": 28,
    "start_time": "2023-03-01T09:52:57.627Z"
   },
   {
    "duration": 120,
    "start_time": "2023-03-01T09:52:58.327Z"
   },
   {
    "duration": 161,
    "start_time": "2023-03-01T09:53:22.677Z"
   },
   {
    "duration": 149,
    "start_time": "2023-03-01T09:54:20.992Z"
   },
   {
    "duration": 164,
    "start_time": "2023-03-01T09:54:30.576Z"
   },
   {
    "duration": 27,
    "start_time": "2023-03-01T09:54:36.911Z"
   },
   {
    "duration": 295,
    "start_time": "2023-03-01T09:54:37.343Z"
   },
   {
    "duration": 1477,
    "start_time": "2023-03-01T09:55:48.005Z"
   },
   {
    "duration": 41,
    "start_time": "2023-03-01T09:55:49.484Z"
   },
   {
    "duration": 13,
    "start_time": "2023-03-01T09:55:49.527Z"
   },
   {
    "duration": 14,
    "start_time": "2023-03-01T09:55:49.542Z"
   },
   {
    "duration": 15,
    "start_time": "2023-03-01T09:55:49.558Z"
   },
   {
    "duration": 10,
    "start_time": "2023-03-01T09:55:49.575Z"
   },
   {
    "duration": 15,
    "start_time": "2023-03-01T09:55:49.587Z"
   },
   {
    "duration": 35,
    "start_time": "2023-03-01T09:55:49.604Z"
   },
   {
    "duration": 196,
    "start_time": "2023-03-01T09:55:49.641Z"
   },
   {
    "duration": 8,
    "start_time": "2023-03-01T09:55:49.839Z"
   },
   {
    "duration": 17,
    "start_time": "2023-03-01T09:55:49.848Z"
   },
   {
    "duration": 178,
    "start_time": "2023-03-01T09:55:49.867Z"
   },
   {
    "duration": 11,
    "start_time": "2023-03-01T09:55:50.046Z"
   },
   {
    "duration": 28,
    "start_time": "2023-03-01T09:55:50.060Z"
   },
   {
    "duration": 31,
    "start_time": "2023-03-01T09:55:50.090Z"
   },
   {
    "duration": 14,
    "start_time": "2023-03-01T09:55:50.123Z"
   },
   {
    "duration": 18,
    "start_time": "2023-03-01T09:55:50.138Z"
   },
   {
    "duration": 15,
    "start_time": "2023-03-01T09:55:50.157Z"
   },
   {
    "duration": 41,
    "start_time": "2023-03-01T09:55:50.174Z"
   },
   {
    "duration": 15,
    "start_time": "2023-03-01T09:55:50.217Z"
   },
   {
    "duration": 56,
    "start_time": "2023-03-01T09:55:50.234Z"
   },
   {
    "duration": 29,
    "start_time": "2023-03-01T09:55:50.291Z"
   },
   {
    "duration": 7,
    "start_time": "2023-03-01T09:55:50.321Z"
   },
   {
    "duration": 13,
    "start_time": "2023-03-01T09:55:50.330Z"
   },
   {
    "duration": 33,
    "start_time": "2023-03-01T09:55:50.345Z"
   },
   {
    "duration": 16,
    "start_time": "2023-03-01T09:55:50.379Z"
   },
   {
    "duration": 550,
    "start_time": "2023-03-01T09:55:50.396Z"
   },
   {
    "duration": 108,
    "start_time": "2023-03-01T09:55:50.948Z"
   },
   {
    "duration": 8,
    "start_time": "2023-03-01T09:55:51.139Z"
   },
   {
    "duration": 31,
    "start_time": "2023-03-01T09:55:51.148Z"
   },
   {
    "duration": 64,
    "start_time": "2023-03-01T09:55:51.181Z"
   },
   {
    "duration": 794,
    "start_time": "2023-03-01T09:55:51.247Z"
   },
   {
    "duration": 125,
    "start_time": "2023-03-01T09:55:52.044Z"
   },
   {
    "duration": 6,
    "start_time": "2023-03-01T09:55:52.171Z"
   },
   {
    "duration": 34,
    "start_time": "2023-03-01T09:55:52.179Z"
   },
   {
    "duration": 22,
    "start_time": "2023-03-01T09:55:52.214Z"
   },
   {
    "duration": 8055,
    "start_time": "2023-03-01T09:55:52.238Z"
   },
   {
    "duration": 38217,
    "start_time": "2023-03-01T09:56:00.295Z"
   },
   {
    "duration": 6,
    "start_time": "2023-03-01T09:56:38.514Z"
   },
   {
    "duration": 25,
    "start_time": "2023-03-01T09:56:38.522Z"
   },
   {
    "duration": 16,
    "start_time": "2023-03-01T09:56:38.550Z"
   },
   {
    "duration": 17,
    "start_time": "2023-03-01T09:56:38.568Z"
   },
   {
    "duration": 9248,
    "start_time": "2023-03-01T09:56:38.587Z"
   },
   {
    "duration": 47631,
    "start_time": "2023-03-01T09:56:47.837Z"
   },
   {
    "duration": 11,
    "start_time": "2023-03-01T09:57:35.470Z"
   },
   {
    "duration": 119,
    "start_time": "2023-03-01T09:57:35.525Z"
   },
   {
    "duration": 114,
    "start_time": "2023-03-01T09:57:35.647Z"
   },
   {
    "duration": 1488,
    "start_time": "2023-03-01T10:04:42.096Z"
   },
   {
    "duration": 39,
    "start_time": "2023-03-01T10:04:43.586Z"
   },
   {
    "duration": 13,
    "start_time": "2023-03-01T10:04:43.627Z"
   },
   {
    "duration": 35,
    "start_time": "2023-03-01T10:04:43.641Z"
   },
   {
    "duration": 23,
    "start_time": "2023-03-01T10:04:43.678Z"
   },
   {
    "duration": 28,
    "start_time": "2023-03-01T10:04:43.703Z"
   },
   {
    "duration": 26,
    "start_time": "2023-03-01T10:04:43.732Z"
   },
   {
    "duration": 20,
    "start_time": "2023-03-01T10:04:43.759Z"
   },
   {
    "duration": 198,
    "start_time": "2023-03-01T10:04:43.780Z"
   },
   {
    "duration": 8,
    "start_time": "2023-03-01T10:04:43.980Z"
   },
   {
    "duration": 45,
    "start_time": "2023-03-01T10:04:43.989Z"
   },
   {
    "duration": 177,
    "start_time": "2023-03-01T10:04:44.036Z"
   },
   {
    "duration": 11,
    "start_time": "2023-03-01T10:04:44.216Z"
   },
   {
    "duration": 4,
    "start_time": "2023-03-01T10:04:44.237Z"
   },
   {
    "duration": 25,
    "start_time": "2023-03-01T10:04:44.243Z"
   },
   {
    "duration": 11,
    "start_time": "2023-03-01T10:04:44.270Z"
   },
   {
    "duration": 7,
    "start_time": "2023-03-01T10:04:44.283Z"
   },
   {
    "duration": 11,
    "start_time": "2023-03-01T10:04:44.292Z"
   },
   {
    "duration": 32,
    "start_time": "2023-03-01T10:04:44.305Z"
   },
   {
    "duration": 4,
    "start_time": "2023-03-01T10:04:44.340Z"
   },
   {
    "duration": 14,
    "start_time": "2023-03-01T10:04:44.347Z"
   },
   {
    "duration": 27,
    "start_time": "2023-03-01T10:04:44.363Z"
   },
   {
    "duration": 7,
    "start_time": "2023-03-01T10:04:44.392Z"
   },
   {
    "duration": 7,
    "start_time": "2023-03-01T10:04:44.401Z"
   },
   {
    "duration": 32,
    "start_time": "2023-03-01T10:04:44.410Z"
   },
   {
    "duration": 10,
    "start_time": "2023-03-01T10:04:44.443Z"
   },
   {
    "duration": 397,
    "start_time": "2023-03-01T10:04:44.455Z"
   },
   {
    "duration": 98,
    "start_time": "2023-03-01T10:04:44.940Z"
   },
   {
    "duration": 13,
    "start_time": "2023-03-01T10:04:45.040Z"
   },
   {
    "duration": 20,
    "start_time": "2023-03-01T10:04:45.055Z"
   },
   {
    "duration": 124,
    "start_time": "2023-03-01T10:04:45.076Z"
   },
   {
    "duration": 0,
    "start_time": "2023-03-01T10:04:45.202Z"
   },
   {
    "duration": 0,
    "start_time": "2023-03-01T10:04:45.203Z"
   },
   {
    "duration": 0,
    "start_time": "2023-03-01T10:04:45.204Z"
   },
   {
    "duration": 0,
    "start_time": "2023-03-01T10:04:45.205Z"
   },
   {
    "duration": 0,
    "start_time": "2023-03-01T10:04:45.206Z"
   },
   {
    "duration": 0,
    "start_time": "2023-03-01T10:04:45.208Z"
   },
   {
    "duration": 0,
    "start_time": "2023-03-01T10:04:45.209Z"
   },
   {
    "duration": 0,
    "start_time": "2023-03-01T10:04:45.210Z"
   },
   {
    "duration": 0,
    "start_time": "2023-03-01T10:04:45.211Z"
   },
   {
    "duration": 0,
    "start_time": "2023-03-01T10:04:45.212Z"
   },
   {
    "duration": 0,
    "start_time": "2023-03-01T10:04:45.213Z"
   },
   {
    "duration": 0,
    "start_time": "2023-03-01T10:04:45.238Z"
   },
   {
    "duration": 0,
    "start_time": "2023-03-01T10:04:45.240Z"
   },
   {
    "duration": 0,
    "start_time": "2023-03-01T10:04:45.241Z"
   },
   {
    "duration": 0,
    "start_time": "2023-03-01T10:04:45.243Z"
   },
   {
    "duration": 0,
    "start_time": "2023-03-01T10:04:45.244Z"
   },
   {
    "duration": 14,
    "start_time": "2023-03-01T10:07:26.113Z"
   },
   {
    "duration": 1210,
    "start_time": "2023-03-01T10:07:31.028Z"
   },
   {
    "duration": 41,
    "start_time": "2023-03-01T10:07:32.240Z"
   },
   {
    "duration": 7,
    "start_time": "2023-03-01T10:07:32.283Z"
   },
   {
    "duration": 58,
    "start_time": "2023-03-01T10:07:32.292Z"
   },
   {
    "duration": 23,
    "start_time": "2023-03-01T10:07:32.351Z"
   },
   {
    "duration": 8189,
    "start_time": "2023-03-01T10:07:32.375Z"
   },
   {
    "duration": 38265,
    "start_time": "2023-03-01T10:07:40.565Z"
   },
   {
    "duration": 10,
    "start_time": "2023-03-01T10:08:18.832Z"
   },
   {
    "duration": 71,
    "start_time": "2023-03-01T10:08:18.844Z"
   },
   {
    "duration": 17,
    "start_time": "2023-03-01T10:08:18.919Z"
   },
   {
    "duration": 62,
    "start_time": "2023-03-01T10:08:18.938Z"
   },
   {
    "duration": 9330,
    "start_time": "2023-03-01T10:08:19.002Z"
   },
   {
    "duration": 46724,
    "start_time": "2023-03-01T10:08:28.337Z"
   },
   {
    "duration": 10,
    "start_time": "2023-03-01T10:09:15.063Z"
   },
   {
    "duration": 35,
    "start_time": "2023-03-01T10:09:15.074Z"
   },
   {
    "duration": 0,
    "start_time": "2023-03-01T10:09:15.111Z"
   },
   {
    "duration": 18,
    "start_time": "2023-03-01T10:10:01.194Z"
   },
   {
    "duration": 17,
    "start_time": "2023-03-01T10:10:51.628Z"
   },
   {
    "duration": 19,
    "start_time": "2023-03-01T10:10:54.178Z"
   },
   {
    "duration": 8,
    "start_time": "2023-03-01T10:12:35.159Z"
   },
   {
    "duration": 1448,
    "start_time": "2023-03-01T10:12:40.861Z"
   },
   {
    "duration": 44,
    "start_time": "2023-03-01T10:12:42.311Z"
   },
   {
    "duration": 14,
    "start_time": "2023-03-01T10:12:42.357Z"
   },
   {
    "duration": 14,
    "start_time": "2023-03-01T10:12:42.372Z"
   },
   {
    "duration": 28,
    "start_time": "2023-03-01T10:12:42.389Z"
   },
   {
    "duration": 11,
    "start_time": "2023-03-01T10:12:42.439Z"
   },
   {
    "duration": 28,
    "start_time": "2023-03-01T10:12:42.453Z"
   },
   {
    "duration": 21,
    "start_time": "2023-03-01T10:12:42.484Z"
   },
   {
    "duration": 232,
    "start_time": "2023-03-01T10:12:42.508Z"
   },
   {
    "duration": 8,
    "start_time": "2023-03-01T10:12:42.742Z"
   },
   {
    "duration": 18,
    "start_time": "2023-03-01T10:12:42.752Z"
   },
   {
    "duration": 191,
    "start_time": "2023-03-01T10:12:42.771Z"
   },
   {
    "duration": 12,
    "start_time": "2023-03-01T10:12:42.963Z"
   },
   {
    "duration": 5,
    "start_time": "2023-03-01T10:12:42.978Z"
   },
   {
    "duration": 20,
    "start_time": "2023-03-01T10:12:42.985Z"
   },
   {
    "duration": 33,
    "start_time": "2023-03-01T10:12:43.007Z"
   },
   {
    "duration": 11,
    "start_time": "2023-03-01T10:12:43.041Z"
   },
   {
    "duration": 18,
    "start_time": "2023-03-01T10:12:43.054Z"
   },
   {
    "duration": 11,
    "start_time": "2023-03-01T10:12:43.074Z"
   },
   {
    "duration": 8,
    "start_time": "2023-03-01T10:12:43.087Z"
   },
   {
    "duration": 15,
    "start_time": "2023-03-01T10:12:43.097Z"
   },
   {
    "duration": 25,
    "start_time": "2023-03-01T10:12:43.114Z"
   },
   {
    "duration": 8,
    "start_time": "2023-03-01T10:12:43.140Z"
   },
   {
    "duration": 11,
    "start_time": "2023-03-01T10:12:43.150Z"
   },
   {
    "duration": 11,
    "start_time": "2023-03-01T10:12:43.162Z"
   },
   {
    "duration": 12,
    "start_time": "2023-03-01T10:12:43.176Z"
   },
   {
    "duration": 746,
    "start_time": "2023-03-01T10:12:43.191Z"
   },
   {
    "duration": 103,
    "start_time": "2023-03-01T10:12:43.943Z"
   },
   {
    "duration": 10,
    "start_time": "2023-03-01T10:12:44.048Z"
   },
   {
    "duration": 20,
    "start_time": "2023-03-01T10:12:44.061Z"
   },
   {
    "duration": 25,
    "start_time": "2023-03-01T10:12:44.083Z"
   },
   {
    "duration": 734,
    "start_time": "2023-03-01T10:12:44.110Z"
   },
   {
    "duration": 129,
    "start_time": "2023-03-01T10:12:44.847Z"
   },
   {
    "duration": 8,
    "start_time": "2023-03-01T10:12:44.979Z"
   },
   {
    "duration": 11,
    "start_time": "2023-03-01T10:12:44.989Z"
   },
   {
    "duration": 37,
    "start_time": "2023-03-01T10:12:45.002Z"
   },
   {
    "duration": 8272,
    "start_time": "2023-03-01T10:12:45.041Z"
   },
   {
    "duration": 36254,
    "start_time": "2023-03-01T10:12:53.314Z"
   },
   {
    "duration": 7,
    "start_time": "2023-03-01T10:13:29.570Z"
   },
   {
    "duration": 27,
    "start_time": "2023-03-01T10:13:29.578Z"
   },
   {
    "duration": 16,
    "start_time": "2023-03-01T10:13:29.609Z"
   },
   {
    "duration": 31,
    "start_time": "2023-03-01T10:13:29.627Z"
   },
   {
    "duration": 9139,
    "start_time": "2023-03-01T10:13:29.660Z"
   },
   {
    "duration": 46969,
    "start_time": "2023-03-01T10:13:38.800Z"
   },
   {
    "duration": 10,
    "start_time": "2023-03-01T10:14:25.771Z"
   },
   {
    "duration": 91,
    "start_time": "2023-03-01T10:14:25.782Z"
   },
   {
    "duration": 16,
    "start_time": "2023-03-01T10:16:20.265Z"
   },
   {
    "duration": 1605,
    "start_time": "2023-03-01T10:16:31.910Z"
   },
   {
    "duration": 42,
    "start_time": "2023-03-01T10:16:33.518Z"
   },
   {
    "duration": 15,
    "start_time": "2023-03-01T10:16:33.561Z"
   },
   {
    "duration": 46,
    "start_time": "2023-03-01T10:16:33.578Z"
   },
   {
    "duration": 30,
    "start_time": "2023-03-01T10:16:33.626Z"
   },
   {
    "duration": 11,
    "start_time": "2023-03-01T10:16:33.658Z"
   },
   {
    "duration": 26,
    "start_time": "2023-03-01T10:16:33.671Z"
   },
   {
    "duration": 16,
    "start_time": "2023-03-01T10:16:33.700Z"
   },
   {
    "duration": 211,
    "start_time": "2023-03-01T10:16:33.718Z"
   },
   {
    "duration": 13,
    "start_time": "2023-03-01T10:16:33.931Z"
   },
   {
    "duration": 72,
    "start_time": "2023-03-01T10:16:33.947Z"
   },
   {
    "duration": 195,
    "start_time": "2023-03-01T10:16:34.021Z"
   },
   {
    "duration": 25,
    "start_time": "2023-03-01T10:16:34.219Z"
   },
   {
    "duration": 6,
    "start_time": "2023-03-01T10:16:34.247Z"
   },
   {
    "duration": 40,
    "start_time": "2023-03-01T10:16:34.255Z"
   },
   {
    "duration": 27,
    "start_time": "2023-03-01T10:16:34.297Z"
   },
   {
    "duration": 34,
    "start_time": "2023-03-01T10:16:34.326Z"
   },
   {
    "duration": 23,
    "start_time": "2023-03-01T10:16:34.362Z"
   },
   {
    "duration": 28,
    "start_time": "2023-03-01T10:16:34.387Z"
   },
   {
    "duration": 102,
    "start_time": "2023-03-01T10:16:34.417Z"
   },
   {
    "duration": 10,
    "start_time": "2023-03-01T10:16:34.521Z"
   },
   {
    "duration": 32,
    "start_time": "2023-03-01T10:16:34.533Z"
   },
   {
    "duration": 9,
    "start_time": "2023-03-01T10:16:34.567Z"
   },
   {
    "duration": 10,
    "start_time": "2023-03-01T10:16:34.578Z"
   },
   {
    "duration": 33,
    "start_time": "2023-03-01T10:16:34.589Z"
   },
   {
    "duration": 19,
    "start_time": "2023-03-01T10:16:34.624Z"
   },
   {
    "duration": 495,
    "start_time": "2023-03-01T10:16:34.645Z"
   },
   {
    "duration": 98,
    "start_time": "2023-03-01T10:16:35.143Z"
   },
   {
    "duration": 11,
    "start_time": "2023-03-01T10:16:35.244Z"
   },
   {
    "duration": 20,
    "start_time": "2023-03-01T10:16:35.257Z"
   },
   {
    "duration": 22,
    "start_time": "2023-03-01T10:16:35.279Z"
   },
   {
    "duration": 535,
    "start_time": "2023-03-01T10:16:35.303Z"
   },
   {
    "duration": 127,
    "start_time": "2023-03-01T10:16:35.841Z"
   },
   {
    "duration": 8,
    "start_time": "2023-03-01T10:16:35.970Z"
   },
   {
    "duration": 28,
    "start_time": "2023-03-01T10:16:35.980Z"
   },
   {
    "duration": 14,
    "start_time": "2023-03-01T10:16:36.010Z"
   },
   {
    "duration": 8350,
    "start_time": "2023-03-01T10:16:36.026Z"
   },
   {
    "duration": 37639,
    "start_time": "2023-03-01T10:16:44.377Z"
   },
   {
    "duration": 7,
    "start_time": "2023-03-01T10:17:22.019Z"
   },
   {
    "duration": 58,
    "start_time": "2023-03-01T10:17:22.038Z"
   },
   {
    "duration": 24,
    "start_time": "2023-03-01T10:17:22.100Z"
   },
   {
    "duration": 44,
    "start_time": "2023-03-01T10:17:22.126Z"
   },
   {
    "duration": 9483,
    "start_time": "2023-03-01T10:17:22.172Z"
   },
   {
    "duration": 47995,
    "start_time": "2023-03-01T10:17:31.657Z"
   },
   {
    "duration": 11,
    "start_time": "2023-03-01T10:18:19.654Z"
   },
   {
    "duration": 121,
    "start_time": "2023-03-01T10:18:19.667Z"
   },
   {
    "duration": 110,
    "start_time": "2023-03-01T10:19:19.628Z"
   },
   {
    "duration": 83,
    "start_time": "2023-03-01T10:20:31.063Z"
   },
   {
    "duration": 122,
    "start_time": "2023-03-01T10:20:58.663Z"
   },
   {
    "duration": 78,
    "start_time": "2023-03-01T10:21:04.261Z"
   },
   {
    "duration": 103,
    "start_time": "2023-03-01T10:21:19.743Z"
   },
   {
    "duration": 15,
    "start_time": "2023-03-01T10:22:09.980Z"
   },
   {
    "duration": 5,
    "start_time": "2023-03-01T10:31:47.939Z"
   },
   {
    "duration": 58,
    "start_time": "2023-03-01T10:31:47.946Z"
   },
   {
    "duration": 15,
    "start_time": "2023-03-01T10:31:48.006Z"
   },
   {
    "duration": 9,
    "start_time": "2023-03-01T10:31:48.023Z"
   },
   {
    "duration": 34,
    "start_time": "2023-03-01T10:31:48.035Z"
   },
   {
    "duration": 33,
    "start_time": "2023-03-01T10:31:48.072Z"
   },
   {
    "duration": 25,
    "start_time": "2023-03-01T10:31:48.107Z"
   },
   {
    "duration": 20,
    "start_time": "2023-03-01T10:31:48.135Z"
   },
   {
    "duration": 191,
    "start_time": "2023-03-01T10:31:48.157Z"
   },
   {
    "duration": 7,
    "start_time": "2023-03-01T10:31:48.350Z"
   },
   {
    "duration": 15,
    "start_time": "2023-03-01T10:31:48.358Z"
   },
   {
    "duration": 195,
    "start_time": "2023-03-01T10:31:48.375Z"
   },
   {
    "duration": 11,
    "start_time": "2023-03-01T10:31:48.572Z"
   },
   {
    "duration": 4,
    "start_time": "2023-03-01T10:31:48.587Z"
   },
   {
    "duration": 21,
    "start_time": "2023-03-01T10:31:48.592Z"
   },
   {
    "duration": 26,
    "start_time": "2023-03-01T10:31:48.614Z"
   },
   {
    "duration": 9,
    "start_time": "2023-03-01T10:31:48.642Z"
   },
   {
    "duration": 11,
    "start_time": "2023-03-01T10:31:48.653Z"
   },
   {
    "duration": 11,
    "start_time": "2023-03-01T10:31:48.666Z"
   },
   {
    "duration": 14,
    "start_time": "2023-03-01T10:31:48.679Z"
   },
   {
    "duration": 9,
    "start_time": "2023-03-01T10:31:48.695Z"
   },
   {
    "duration": 28,
    "start_time": "2023-03-01T10:31:48.706Z"
   },
   {
    "duration": 9,
    "start_time": "2023-03-01T10:31:48.738Z"
   },
   {
    "duration": 13,
    "start_time": "2023-03-01T10:31:48.748Z"
   },
   {
    "duration": 26,
    "start_time": "2023-03-01T10:31:48.763Z"
   },
   {
    "duration": 10,
    "start_time": "2023-03-01T10:31:48.791Z"
   },
   {
    "duration": 745,
    "start_time": "2023-03-01T10:31:48.803Z"
   },
   {
    "duration": 189,
    "start_time": "2023-03-01T10:31:49.550Z"
   },
   {
    "duration": 9,
    "start_time": "2023-03-01T10:31:49.741Z"
   },
   {
    "duration": 13,
    "start_time": "2023-03-01T10:31:49.752Z"
   },
   {
    "duration": 16,
    "start_time": "2023-03-01T10:31:49.767Z"
   },
   {
    "duration": 852,
    "start_time": "2023-03-01T10:31:49.786Z"
   },
   {
    "duration": 130,
    "start_time": "2023-03-01T10:31:50.640Z"
   },
   {
    "duration": 7,
    "start_time": "2023-03-01T10:31:50.771Z"
   },
   {
    "duration": 17,
    "start_time": "2023-03-01T10:31:50.780Z"
   },
   {
    "duration": 9,
    "start_time": "2023-03-01T10:31:50.799Z"
   },
   {
    "duration": 8263,
    "start_time": "2023-03-01T10:31:50.811Z"
   },
   {
    "duration": 38631,
    "start_time": "2023-03-01T10:31:59.076Z"
   },
   {
    "duration": 8,
    "start_time": "2023-03-01T10:32:37.709Z"
   },
   {
    "duration": 32,
    "start_time": "2023-03-01T10:32:37.719Z"
   },
   {
    "duration": 19,
    "start_time": "2023-03-01T10:32:37.756Z"
   },
   {
    "duration": 34,
    "start_time": "2023-03-01T10:32:37.777Z"
   },
   {
    "duration": 9133,
    "start_time": "2023-03-01T10:32:37.813Z"
   },
   {
    "duration": 50030,
    "start_time": "2023-03-01T10:32:46.949Z"
   },
   {
    "duration": 11,
    "start_time": "2023-03-01T10:33:36.981Z"
   },
   {
    "duration": 146,
    "start_time": "2023-03-01T10:33:36.994Z"
   },
   {
    "duration": 15,
    "start_time": "2023-03-01T10:33:37.248Z"
   },
   {
    "duration": 18,
    "start_time": "2023-03-01T10:37:37.917Z"
   },
   {
    "duration": 11,
    "start_time": "2023-03-01T10:37:48.586Z"
   },
   {
    "duration": 10,
    "start_time": "2023-03-01T10:38:03.133Z"
   },
   {
    "duration": 9,
    "start_time": "2023-03-01T10:38:09.433Z"
   },
   {
    "duration": 10,
    "start_time": "2023-03-01T10:38:38.526Z"
   },
   {
    "duration": 17,
    "start_time": "2023-03-01T10:38:48.544Z"
   },
   {
    "duration": 11,
    "start_time": "2023-03-01T10:38:49.859Z"
   },
   {
    "duration": 17,
    "start_time": "2023-03-01T10:41:27.568Z"
   },
   {
    "duration": 11,
    "start_time": "2023-03-01T10:41:41.236Z"
   },
   {
    "duration": 4,
    "start_time": "2023-03-01T10:42:11.733Z"
   },
   {
    "duration": 7,
    "start_time": "2023-03-01T10:43:07.746Z"
   },
   {
    "duration": 9,
    "start_time": "2023-03-01T10:43:22.674Z"
   },
   {
    "duration": 7,
    "start_time": "2023-03-01T10:43:33.250Z"
   },
   {
    "duration": 10,
    "start_time": "2023-03-01T10:43:43.850Z"
   },
   {
    "duration": 4,
    "start_time": "2023-03-01T10:49:34.018Z"
   },
   {
    "duration": 19,
    "start_time": "2023-03-01T10:54:27.316Z"
   },
   {
    "duration": 39,
    "start_time": "2023-03-01T10:54:49.133Z"
   },
   {
    "duration": 10,
    "start_time": "2023-03-01T10:55:55.497Z"
   },
   {
    "duration": 8,
    "start_time": "2023-03-01T11:01:16.400Z"
   },
   {
    "duration": 5,
    "start_time": "2023-03-01T11:01:59.083Z"
   },
   {
    "duration": 5,
    "start_time": "2023-03-01T11:06:03.899Z"
   },
   {
    "duration": 8,
    "start_time": "2023-03-01T11:06:32.750Z"
   },
   {
    "duration": 8,
    "start_time": "2023-03-01T11:07:12.416Z"
   },
   {
    "duration": 6,
    "start_time": "2023-03-01T11:07:13.684Z"
   },
   {
    "duration": 9,
    "start_time": "2023-03-01T11:07:14.583Z"
   },
   {
    "duration": 623,
    "start_time": "2023-03-01T11:07:25.017Z"
   },
   {
    "duration": 1439,
    "start_time": "2023-03-01T11:07:39.172Z"
   },
   {
    "duration": 41,
    "start_time": "2023-03-01T11:07:40.613Z"
   },
   {
    "duration": 14,
    "start_time": "2023-03-01T11:07:40.656Z"
   },
   {
    "duration": 20,
    "start_time": "2023-03-01T11:07:40.672Z"
   },
   {
    "duration": 16,
    "start_time": "2023-03-01T11:07:40.694Z"
   },
   {
    "duration": 28,
    "start_time": "2023-03-01T11:07:40.712Z"
   },
   {
    "duration": 7,
    "start_time": "2023-03-01T11:07:40.742Z"
   },
   {
    "duration": 15,
    "start_time": "2023-03-01T11:07:40.750Z"
   },
   {
    "duration": 204,
    "start_time": "2023-03-01T11:07:40.766Z"
   },
   {
    "duration": 7,
    "start_time": "2023-03-01T11:07:40.972Z"
   },
   {
    "duration": 23,
    "start_time": "2023-03-01T11:07:40.981Z"
   },
   {
    "duration": 181,
    "start_time": "2023-03-01T11:07:41.006Z"
   },
   {
    "duration": 10,
    "start_time": "2023-03-01T11:07:41.189Z"
   },
   {
    "duration": 4,
    "start_time": "2023-03-01T11:07:41.202Z"
   },
   {
    "duration": 32,
    "start_time": "2023-03-01T11:07:41.207Z"
   },
   {
    "duration": 6,
    "start_time": "2023-03-01T11:07:41.241Z"
   },
   {
    "duration": 23,
    "start_time": "2023-03-01T11:07:41.249Z"
   },
   {
    "duration": 63,
    "start_time": "2023-03-01T11:07:41.274Z"
   },
   {
    "duration": 9,
    "start_time": "2023-03-01T11:07:41.339Z"
   },
   {
    "duration": 14,
    "start_time": "2023-03-01T11:07:41.350Z"
   },
   {
    "duration": 19,
    "start_time": "2023-03-01T11:07:41.365Z"
   },
   {
    "duration": 20,
    "start_time": "2023-03-01T11:07:41.385Z"
   },
   {
    "duration": 6,
    "start_time": "2023-03-01T11:07:41.407Z"
   },
   {
    "duration": 17,
    "start_time": "2023-03-01T11:07:41.415Z"
   },
   {
    "duration": 606,
    "start_time": "2023-03-01T11:07:41.433Z"
   },
   {
    "duration": 13,
    "start_time": "2023-03-01T11:13:31.153Z"
   },
   {
    "duration": 19,
    "start_time": "2023-03-01T11:14:22.406Z"
   },
   {
    "duration": 1506,
    "start_time": "2023-03-01T11:14:32.965Z"
   },
   {
    "duration": 40,
    "start_time": "2023-03-01T11:14:34.473Z"
   },
   {
    "duration": 13,
    "start_time": "2023-03-01T11:14:34.515Z"
   },
   {
    "duration": 25,
    "start_time": "2023-03-01T11:14:34.530Z"
   },
   {
    "duration": 20,
    "start_time": "2023-03-01T11:14:34.557Z"
   },
   {
    "duration": 41,
    "start_time": "2023-03-01T11:14:34.579Z"
   },
   {
    "duration": 34,
    "start_time": "2023-03-01T11:14:34.621Z"
   },
   {
    "duration": 49,
    "start_time": "2023-03-01T11:14:34.657Z"
   },
   {
    "duration": 231,
    "start_time": "2023-03-01T11:14:34.708Z"
   },
   {
    "duration": 7,
    "start_time": "2023-03-01T11:14:34.941Z"
   },
   {
    "duration": 41,
    "start_time": "2023-03-01T11:14:34.949Z"
   },
   {
    "duration": 199,
    "start_time": "2023-03-01T11:14:34.991Z"
   },
   {
    "duration": 12,
    "start_time": "2023-03-01T11:14:35.191Z"
   },
   {
    "duration": 32,
    "start_time": "2023-03-01T11:14:35.207Z"
   },
   {
    "duration": 49,
    "start_time": "2023-03-01T11:14:35.241Z"
   },
   {
    "duration": 44,
    "start_time": "2023-03-01T11:14:35.292Z"
   },
   {
    "duration": 45,
    "start_time": "2023-03-01T11:14:35.338Z"
   },
   {
    "duration": 55,
    "start_time": "2023-03-01T11:14:35.385Z"
   },
   {
    "duration": 23,
    "start_time": "2023-03-01T11:14:35.442Z"
   },
   {
    "duration": 39,
    "start_time": "2023-03-01T11:14:35.467Z"
   },
   {
    "duration": 67,
    "start_time": "2023-03-01T11:14:35.507Z"
   },
   {
    "duration": 34,
    "start_time": "2023-03-01T11:14:35.576Z"
   },
   {
    "duration": 42,
    "start_time": "2023-03-01T11:14:35.611Z"
   },
   {
    "duration": 32,
    "start_time": "2023-03-01T11:14:35.655Z"
   },
   {
    "duration": 650,
    "start_time": "2023-03-01T11:14:35.689Z"
   },
   {
    "duration": 103,
    "start_time": "2023-03-01T11:14:36.341Z"
   },
   {
    "duration": 13,
    "start_time": "2023-03-01T11:18:22.341Z"
   },
   {
    "duration": 886,
    "start_time": "2023-03-01T11:20:35.978Z"
   },
   {
    "duration": 15,
    "start_time": "2023-03-01T11:20:43.816Z"
   },
   {
    "duration": 15,
    "start_time": "2023-03-01T11:22:09.816Z"
   },
   {
    "duration": 679,
    "start_time": "2023-03-01T11:22:38.667Z"
   },
   {
    "duration": 6,
    "start_time": "2023-03-01T11:23:33.000Z"
   },
   {
    "duration": 6,
    "start_time": "2023-03-01T11:23:40.216Z"
   },
   {
    "duration": 7,
    "start_time": "2023-03-01T11:23:50.482Z"
   },
   {
    "duration": 7680,
    "start_time": "2023-03-01T11:23:54.168Z"
   },
   {
    "duration": 37263,
    "start_time": "2023-03-01T11:25:02.417Z"
   },
   {
    "duration": 7921,
    "start_time": "2023-03-01T11:28:45.627Z"
   },
   {
    "duration": 37755,
    "start_time": "2023-03-01T11:29:23.151Z"
   },
   {
    "duration": 38128,
    "start_time": "2023-03-01T11:30:27.732Z"
   },
   {
    "duration": 38129,
    "start_time": "2023-03-01T11:32:30.501Z"
   },
   {
    "duration": 13,
    "start_time": "2023-03-01T11:34:04.848Z"
   },
   {
    "duration": 12,
    "start_time": "2023-03-01T11:34:59.770Z"
   },
   {
    "duration": 9220,
    "start_time": "2023-03-01T11:36:04.971Z"
   },
   {
    "duration": 1497,
    "start_time": "2023-03-01T11:39:33.125Z"
   },
   {
    "duration": 42,
    "start_time": "2023-03-01T11:39:34.624Z"
   },
   {
    "duration": 14,
    "start_time": "2023-03-01T11:39:34.668Z"
   },
   {
    "duration": 16,
    "start_time": "2023-03-01T11:39:34.684Z"
   },
   {
    "duration": 15,
    "start_time": "2023-03-01T11:39:34.702Z"
   },
   {
    "duration": 19,
    "start_time": "2023-03-01T11:39:34.719Z"
   },
   {
    "duration": 7,
    "start_time": "2023-03-01T11:39:34.739Z"
   },
   {
    "duration": 23,
    "start_time": "2023-03-01T11:39:34.748Z"
   },
   {
    "duration": 199,
    "start_time": "2023-03-01T11:39:34.773Z"
   },
   {
    "duration": 10,
    "start_time": "2023-03-01T11:39:34.974Z"
   },
   {
    "duration": 14,
    "start_time": "2023-03-01T11:39:34.986Z"
   },
   {
    "duration": 204,
    "start_time": "2023-03-01T11:39:35.002Z"
   },
   {
    "duration": 11,
    "start_time": "2023-03-01T11:39:35.208Z"
   },
   {
    "duration": 13,
    "start_time": "2023-03-01T11:39:35.242Z"
   },
   {
    "duration": 53,
    "start_time": "2023-03-01T11:39:35.258Z"
   },
   {
    "duration": 20,
    "start_time": "2023-03-01T11:39:35.315Z"
   },
   {
    "duration": 55,
    "start_time": "2023-03-01T11:39:35.339Z"
   },
   {
    "duration": 49,
    "start_time": "2023-03-01T11:39:35.396Z"
   },
   {
    "duration": 9,
    "start_time": "2023-03-01T11:39:35.448Z"
   },
   {
    "duration": 12,
    "start_time": "2023-03-01T11:39:35.459Z"
   },
   {
    "duration": 13,
    "start_time": "2023-03-01T11:39:35.473Z"
   },
   {
    "duration": 9,
    "start_time": "2023-03-01T11:39:35.488Z"
   },
   {
    "duration": 18,
    "start_time": "2023-03-01T11:39:35.499Z"
   },
   {
    "duration": 23,
    "start_time": "2023-03-01T11:39:35.519Z"
   },
   {
    "duration": 499,
    "start_time": "2023-03-01T11:39:35.544Z"
   },
   {
    "duration": 102,
    "start_time": "2023-03-01T11:39:36.047Z"
   },
   {
    "duration": 16,
    "start_time": "2023-03-01T11:39:36.151Z"
   },
   {
    "duration": 21,
    "start_time": "2023-03-01T11:39:36.170Z"
   },
   {
    "duration": 1051,
    "start_time": "2023-03-01T11:39:36.194Z"
   },
   {
    "duration": 96,
    "start_time": "2023-03-01T11:39:37.247Z"
   },
   {
    "duration": 16,
    "start_time": "2023-03-01T11:39:37.345Z"
   },
   {
    "duration": 19,
    "start_time": "2023-03-01T11:39:37.363Z"
   },
   {
    "duration": 8340,
    "start_time": "2023-03-01T11:39:37.384Z"
   },
   {
    "duration": 38696,
    "start_time": "2023-03-01T11:39:45.726Z"
   },
   {
    "duration": 21,
    "start_time": "2023-03-01T11:40:24.424Z"
   },
   {
    "duration": 12,
    "start_time": "2023-03-01T11:40:24.447Z"
   },
   {
    "duration": 9404,
    "start_time": "2023-03-01T11:40:24.461Z"
   },
   {
    "duration": 47998,
    "start_time": "2023-03-01T11:41:20.156Z"
   },
   {
    "duration": 16,
    "start_time": "2023-03-01T11:42:08.157Z"
   },
   {
    "duration": 138,
    "start_time": "2023-03-01T11:44:17.299Z"
   },
   {
    "duration": 50,
    "start_time": "2023-03-03T04:12:32.467Z"
   },
   {
    "duration": 1536,
    "start_time": "2023-03-03T04:12:35.859Z"
   },
   {
    "duration": 80,
    "start_time": "2023-03-03T04:12:37.397Z"
   },
   {
    "duration": 14,
    "start_time": "2023-03-03T04:12:37.479Z"
   },
   {
    "duration": 13,
    "start_time": "2023-03-03T04:12:37.494Z"
   },
   {
    "duration": 15,
    "start_time": "2023-03-03T04:12:37.509Z"
   },
   {
    "duration": 24,
    "start_time": "2023-03-03T04:12:37.525Z"
   },
   {
    "duration": 101,
    "start_time": "2023-03-03T04:15:18.452Z"
   },
   {
    "duration": 12,
    "start_time": "2023-03-03T04:15:34.295Z"
   },
   {
    "duration": 9,
    "start_time": "2023-03-03T04:16:25.794Z"
   },
   {
    "duration": 4,
    "start_time": "2023-03-03T04:16:29.917Z"
   },
   {
    "duration": 60,
    "start_time": "2023-03-03T04:16:29.923Z"
   },
   {
    "duration": 13,
    "start_time": "2023-03-03T04:16:29.984Z"
   },
   {
    "duration": 8,
    "start_time": "2023-03-03T04:16:29.999Z"
   },
   {
    "duration": 52,
    "start_time": "2023-03-03T04:16:30.009Z"
   },
   {
    "duration": 34,
    "start_time": "2023-03-03T04:16:30.062Z"
   },
   {
    "duration": 14,
    "start_time": "2023-03-03T04:16:30.097Z"
   },
   {
    "duration": 12,
    "start_time": "2023-03-03T04:16:30.113Z"
   },
   {
    "duration": 185,
    "start_time": "2023-03-03T04:16:30.127Z"
   },
   {
    "duration": 7,
    "start_time": "2023-03-03T04:16:30.313Z"
   },
   {
    "duration": 33,
    "start_time": "2023-03-03T04:16:30.322Z"
   },
   {
    "duration": 223,
    "start_time": "2023-03-03T04:16:30.357Z"
   },
   {
    "duration": 12,
    "start_time": "2023-03-03T04:16:30.582Z"
   },
   {
    "duration": 12,
    "start_time": "2023-03-03T04:16:33.288Z"
   },
   {
    "duration": 12,
    "start_time": "2023-03-03T04:18:32.244Z"
   },
   {
    "duration": 12,
    "start_time": "2023-03-03T04:34:27.475Z"
   },
   {
    "duration": 11,
    "start_time": "2023-03-03T04:42:51.764Z"
   },
   {
    "duration": 2253,
    "start_time": "2023-03-03T06:28:37.936Z"
   },
   {
    "duration": 161,
    "start_time": "2023-03-03T06:39:10.732Z"
   },
   {
    "duration": 5,
    "start_time": "2023-03-03T06:39:14.342Z"
   },
   {
    "duration": 157,
    "start_time": "2023-03-03T06:39:14.349Z"
   },
   {
    "duration": 14,
    "start_time": "2023-03-03T06:39:14.508Z"
   },
   {
    "duration": 13,
    "start_time": "2023-03-03T06:39:14.523Z"
   },
   {
    "duration": 15,
    "start_time": "2023-03-03T06:39:14.538Z"
   },
   {
    "duration": 10,
    "start_time": "2023-03-03T06:39:14.555Z"
   },
   {
    "duration": 14,
    "start_time": "2023-03-03T06:39:14.566Z"
   },
   {
    "duration": 11,
    "start_time": "2023-03-03T06:39:14.582Z"
   },
   {
    "duration": 213,
    "start_time": "2023-03-03T06:39:14.595Z"
   },
   {
    "duration": 9,
    "start_time": "2023-03-03T06:39:14.810Z"
   },
   {
    "duration": 40,
    "start_time": "2023-03-03T06:39:14.821Z"
   },
   {
    "duration": 185,
    "start_time": "2023-03-03T06:39:14.863Z"
   },
   {
    "duration": 17,
    "start_time": "2023-03-03T06:39:15.052Z"
   },
   {
    "duration": 15,
    "start_time": "2023-03-03T06:39:15.071Z"
   },
   {
    "duration": 15,
    "start_time": "2023-03-03T06:39:15.088Z"
   },
   {
    "duration": 45,
    "start_time": "2023-03-03T06:39:15.105Z"
   },
   {
    "duration": 41,
    "start_time": "2023-03-03T06:39:15.152Z"
   },
   {
    "duration": 26,
    "start_time": "2023-03-03T06:39:15.194Z"
   },
   {
    "duration": 11,
    "start_time": "2023-03-03T06:39:19.224Z"
   },
   {
    "duration": 7,
    "start_time": "2023-03-03T06:40:11.382Z"
   },
   {
    "duration": 10,
    "start_time": "2023-03-03T06:40:27.782Z"
   },
   {
    "duration": 16,
    "start_time": "2023-03-03T06:42:17.502Z"
   },
   {
    "duration": 8,
    "start_time": "2023-03-03T06:42:48.373Z"
   },
   {
    "duration": 6,
    "start_time": "2023-03-03T06:43:23.470Z"
   },
   {
    "duration": 9,
    "start_time": "2023-03-03T06:45:25.648Z"
   },
   {
    "duration": 8,
    "start_time": "2023-03-03T06:45:34.198Z"
   },
   {
    "duration": 12,
    "start_time": "2023-03-03T06:46:47.616Z"
   },
   {
    "duration": 6,
    "start_time": "2023-03-03T06:47:01.616Z"
   },
   {
    "duration": 41,
    "start_time": "2023-03-03T06:47:05.434Z"
   },
   {
    "duration": 16,
    "start_time": "2023-03-03T06:47:07.413Z"
   },
   {
    "duration": 9,
    "start_time": "2023-03-03T06:47:08.612Z"
   },
   {
    "duration": 18,
    "start_time": "2023-03-03T06:47:09.966Z"
   },
   {
    "duration": 11,
    "start_time": "2023-03-03T06:47:11.648Z"
   },
   {
    "duration": 15,
    "start_time": "2023-03-03T06:47:12.230Z"
   },
   {
    "duration": 13,
    "start_time": "2023-03-03T06:47:12.410Z"
   },
   {
    "duration": 183,
    "start_time": "2023-03-03T06:47:12.636Z"
   },
   {
    "duration": 6,
    "start_time": "2023-03-03T06:47:24.615Z"
   },
   {
    "duration": 12,
    "start_time": "2023-03-03T06:47:26.048Z"
   },
   {
    "duration": 10,
    "start_time": "2023-03-03T06:47:26.433Z"
   },
   {
    "duration": 5,
    "start_time": "2023-03-03T06:47:32.499Z"
   },
   {
    "duration": 12,
    "start_time": "2023-03-03T06:47:47.949Z"
   },
   {
    "duration": 54,
    "start_time": "2023-03-03T06:47:49.564Z"
   },
   {
    "duration": 660,
    "start_time": "2023-03-03T06:48:40.031Z"
   },
   {
    "duration": 10,
    "start_time": "2023-03-03T06:49:36.930Z"
   },
   {
    "duration": 683,
    "start_time": "2023-03-03T06:50:48.365Z"
   },
   {
    "duration": 672,
    "start_time": "2023-03-03T06:51:09.144Z"
   },
   {
    "duration": 10,
    "start_time": "2023-03-03T06:51:21.267Z"
   },
   {
    "duration": 11,
    "start_time": "2023-03-03T06:51:27.183Z"
   },
   {
    "duration": 14,
    "start_time": "2023-03-03T06:51:37.648Z"
   },
   {
    "duration": 4,
    "start_time": "2023-03-03T06:51:42.492Z"
   },
   {
    "duration": 11,
    "start_time": "2023-03-03T06:51:52.731Z"
   },
   {
    "duration": 13,
    "start_time": "2023-03-03T06:55:28.140Z"
   },
   {
    "duration": 11,
    "start_time": "2023-03-03T06:55:59.535Z"
   },
   {
    "duration": 14,
    "start_time": "2023-03-03T06:56:07.238Z"
   },
   {
    "duration": 14,
    "start_time": "2023-03-03T06:56:50.564Z"
   },
   {
    "duration": 53,
    "start_time": "2023-03-03T06:58:11.215Z"
   },
   {
    "duration": 17,
    "start_time": "2023-03-03T06:58:16.799Z"
   },
   {
    "duration": 28,
    "start_time": "2023-03-03T06:58:28.862Z"
   },
   {
    "duration": 17,
    "start_time": "2023-03-03T06:58:39.478Z"
   },
   {
    "duration": 142,
    "start_time": "2023-03-03T06:58:57.162Z"
   },
   {
    "duration": 195,
    "start_time": "2023-03-03T07:02:55.728Z"
   },
   {
    "duration": 20,
    "start_time": "2023-03-03T07:03:37.584Z"
   },
   {
    "duration": 19,
    "start_time": "2023-03-03T07:03:49.532Z"
   },
   {
    "duration": 9,
    "start_time": "2023-03-03T07:07:22.346Z"
   },
   {
    "duration": 9,
    "start_time": "2023-03-03T07:07:51.015Z"
   },
   {
    "duration": 341,
    "start_time": "2023-03-03T07:10:12.533Z"
   },
   {
    "duration": 26,
    "start_time": "2023-03-03T07:10:27.564Z"
   },
   {
    "duration": 9,
    "start_time": "2023-03-03T07:10:50.982Z"
   },
   {
    "duration": 8,
    "start_time": "2023-03-03T07:11:02.715Z"
   },
   {
    "duration": 15,
    "start_time": "2023-03-03T07:12:38.615Z"
   },
   {
    "duration": 21,
    "start_time": "2023-03-03T07:12:50.082Z"
   },
   {
    "duration": 15,
    "start_time": "2023-03-03T07:13:19.248Z"
   },
   {
    "duration": 16,
    "start_time": "2023-03-03T07:13:27.915Z"
   },
   {
    "duration": 6,
    "start_time": "2023-03-03T07:13:31.281Z"
   },
   {
    "duration": 14,
    "start_time": "2023-03-03T07:13:41.082Z"
   },
   {
    "duration": 25,
    "start_time": "2023-03-03T07:13:50.351Z"
   },
   {
    "duration": 9,
    "start_time": "2023-03-03T07:14:00.295Z"
   },
   {
    "duration": 8,
    "start_time": "2023-03-03T07:14:09.950Z"
   },
   {
    "duration": 19,
    "start_time": "2023-03-03T07:16:50.515Z"
   },
   {
    "duration": 34,
    "start_time": "2023-03-03T07:17:02.249Z"
   },
   {
    "duration": 296,
    "start_time": "2023-03-03T07:17:15.246Z"
   },
   {
    "duration": 44,
    "start_time": "2023-03-03T07:17:37.132Z"
   },
   {
    "duration": 224,
    "start_time": "2023-03-03T07:17:42.798Z"
   },
   {
    "duration": 8,
    "start_time": "2023-03-03T07:18:09.982Z"
   },
   {
    "duration": 9,
    "start_time": "2023-03-03T07:18:18.313Z"
   },
   {
    "duration": 202,
    "start_time": "2023-03-03T07:18:33.381Z"
   },
   {
    "duration": 17,
    "start_time": "2023-03-03T07:18:54.384Z"
   },
   {
    "duration": 21,
    "start_time": "2023-03-03T07:19:04.930Z"
   },
   {
    "duration": 24,
    "start_time": "2023-03-03T07:19:17.246Z"
   },
   {
    "duration": 203,
    "start_time": "2023-03-03T07:19:31.448Z"
   },
   {
    "duration": 22,
    "start_time": "2023-03-03T07:19:51.715Z"
   },
   {
    "duration": 21,
    "start_time": "2023-03-03T07:20:37.536Z"
   },
   {
    "duration": 229,
    "start_time": "2023-03-03T07:20:49.182Z"
   },
   {
    "duration": 40,
    "start_time": "2023-03-03T07:23:12.331Z"
   },
   {
    "duration": 42,
    "start_time": "2023-03-03T07:23:26.465Z"
   },
   {
    "duration": 226,
    "start_time": "2023-03-03T07:23:47.282Z"
   },
   {
    "duration": 300,
    "start_time": "2023-03-03T07:24:30.155Z"
   },
   {
    "duration": 11,
    "start_time": "2023-03-03T07:26:11.133Z"
   },
   {
    "duration": 195,
    "start_time": "2023-03-03T07:26:24.811Z"
   },
   {
    "duration": 202,
    "start_time": "2023-03-03T07:26:48.633Z"
   },
   {
    "duration": 261,
    "start_time": "2023-03-03T07:26:57.534Z"
   },
   {
    "duration": 217,
    "start_time": "2023-03-03T07:27:13.164Z"
   },
   {
    "duration": 678,
    "start_time": "2023-03-03T07:28:02.347Z"
   },
   {
    "duration": 199,
    "start_time": "2023-03-03T07:28:14.851Z"
   },
   {
    "duration": 273,
    "start_time": "2023-03-03T07:31:23.931Z"
   },
   {
    "duration": 11,
    "start_time": "2023-03-03T07:32:23.764Z"
   },
   {
    "duration": 10,
    "start_time": "2023-03-03T07:32:32.196Z"
   },
   {
    "duration": 9,
    "start_time": "2023-03-03T07:32:48.223Z"
   },
   {
    "duration": 11,
    "start_time": "2023-03-03T07:33:04.131Z"
   },
   {
    "duration": 43,
    "start_time": "2023-03-03T07:33:36.642Z"
   },
   {
    "duration": 3,
    "start_time": "2023-03-03T07:33:41.583Z"
   },
   {
    "duration": 200,
    "start_time": "2023-03-03T07:33:54.132Z"
   },
   {
    "duration": 13,
    "start_time": "2023-03-03T07:34:28.083Z"
   },
   {
    "duration": 22,
    "start_time": "2023-03-03T07:34:45.634Z"
   },
   {
    "duration": 12,
    "start_time": "2023-03-03T07:37:39.331Z"
   },
   {
    "duration": 9,
    "start_time": "2023-03-03T07:38:02.982Z"
   },
   {
    "duration": 10,
    "start_time": "2023-03-03T07:38:18.274Z"
   },
   {
    "duration": 9,
    "start_time": "2023-03-03T07:39:10.730Z"
   },
   {
    "duration": 17,
    "start_time": "2023-03-03T07:41:15.766Z"
   },
   {
    "duration": 9,
    "start_time": "2023-03-03T07:42:00.231Z"
   },
   {
    "duration": 15,
    "start_time": "2023-03-03T07:42:10.163Z"
   },
   {
    "duration": 15,
    "start_time": "2023-03-03T07:42:56.466Z"
   },
   {
    "duration": 19,
    "start_time": "2023-03-03T07:43:02.149Z"
   },
   {
    "duration": 15,
    "start_time": "2023-03-03T07:45:47.967Z"
   },
   {
    "duration": 15,
    "start_time": "2023-03-03T07:46:58.785Z"
   },
   {
    "duration": 15,
    "start_time": "2023-03-03T07:47:03.173Z"
   },
   {
    "duration": 17,
    "start_time": "2023-03-03T07:48:43.263Z"
   },
   {
    "duration": 17,
    "start_time": "2023-03-03T07:48:51.193Z"
   },
   {
    "duration": 14,
    "start_time": "2023-03-03T07:49:37.201Z"
   },
   {
    "duration": 13,
    "start_time": "2023-03-03T07:52:50.751Z"
   },
   {
    "duration": 26,
    "start_time": "2023-03-03T07:52:56.731Z"
   },
   {
    "duration": 24,
    "start_time": "2023-03-03T07:54:18.162Z"
   },
   {
    "duration": 17,
    "start_time": "2023-03-03T07:57:58.413Z"
   },
   {
    "duration": 15,
    "start_time": "2023-03-03T08:05:03.748Z"
   },
   {
    "duration": 28,
    "start_time": "2023-03-03T08:05:57.227Z"
   },
   {
    "duration": 14,
    "start_time": "2023-03-03T08:06:32.893Z"
   },
   {
    "duration": 1333,
    "start_time": "2023-03-03T08:07:43.234Z"
   },
   {
    "duration": 39,
    "start_time": "2023-03-03T08:07:44.570Z"
   },
   {
    "duration": 12,
    "start_time": "2023-03-03T08:07:44.611Z"
   },
   {
    "duration": 12,
    "start_time": "2023-03-03T08:07:44.625Z"
   },
   {
    "duration": 19,
    "start_time": "2023-03-03T08:07:44.639Z"
   },
   {
    "duration": 9,
    "start_time": "2023-03-03T08:07:44.659Z"
   },
   {
    "duration": 15,
    "start_time": "2023-03-03T08:07:44.669Z"
   },
   {
    "duration": 9,
    "start_time": "2023-03-03T08:07:44.686Z"
   },
   {
    "duration": 179,
    "start_time": "2023-03-03T08:07:44.696Z"
   },
   {
    "duration": 7,
    "start_time": "2023-03-03T08:07:44.877Z"
   },
   {
    "duration": 10,
    "start_time": "2023-03-03T08:07:44.885Z"
   },
   {
    "duration": 167,
    "start_time": "2023-03-03T08:07:44.896Z"
   },
   {
    "duration": 12,
    "start_time": "2023-03-03T08:07:45.065Z"
   },
   {
    "duration": 10,
    "start_time": "2023-03-03T08:07:45.079Z"
   },
   {
    "duration": 4,
    "start_time": "2023-03-03T08:07:45.091Z"
   },
   {
    "duration": 16,
    "start_time": "2023-03-03T08:07:45.096Z"
   },
   {
    "duration": 29,
    "start_time": "2023-03-03T08:07:45.114Z"
   },
   {
    "duration": 10,
    "start_time": "2023-03-03T08:07:45.145Z"
   },
   {
    "duration": 12,
    "start_time": "2023-03-03T08:07:45.157Z"
   },
   {
    "duration": 5,
    "start_time": "2023-03-03T08:07:45.171Z"
   },
   {
    "duration": 13,
    "start_time": "2023-03-03T08:07:49.330Z"
   },
   {
    "duration": 12,
    "start_time": "2023-03-03T08:10:25.114Z"
   },
   {
    "duration": 5,
    "start_time": "2023-03-03T08:11:04.930Z"
   },
   {
    "duration": 12,
    "start_time": "2023-03-03T08:11:10.062Z"
   },
   {
    "duration": 10,
    "start_time": "2023-03-03T08:11:19.464Z"
   },
   {
    "duration": 10,
    "start_time": "2023-03-03T08:11:39.196Z"
   },
   {
    "duration": 10,
    "start_time": "2023-03-03T08:12:16.164Z"
   },
   {
    "duration": 8,
    "start_time": "2023-03-03T08:12:25.148Z"
   },
   {
    "duration": 110,
    "start_time": "2023-03-03T08:13:06.331Z"
   },
   {
    "duration": 9,
    "start_time": "2023-03-03T08:14:33.936Z"
   },
   {
    "duration": 10,
    "start_time": "2023-03-03T08:14:48.596Z"
   },
   {
    "duration": 9,
    "start_time": "2023-03-03T08:14:49.565Z"
   },
   {
    "duration": 13,
    "start_time": "2023-03-03T08:15:01.239Z"
   },
   {
    "duration": 11,
    "start_time": "2023-03-03T08:18:35.865Z"
   },
   {
    "duration": 4,
    "start_time": "2023-03-03T08:27:13.646Z"
   },
   {
    "duration": 11,
    "start_time": "2023-03-03T08:30:10.880Z"
   },
   {
    "duration": 11,
    "start_time": "2023-03-03T08:30:17.065Z"
   },
   {
    "duration": 8,
    "start_time": "2023-03-03T08:30:18.438Z"
   },
   {
    "duration": 23,
    "start_time": "2023-03-03T08:30:28.565Z"
   },
   {
    "duration": 4,
    "start_time": "2023-03-03T08:31:33.082Z"
   },
   {
    "duration": 9,
    "start_time": "2023-03-03T08:31:57.281Z"
   },
   {
    "duration": 3,
    "start_time": "2023-03-03T08:32:11.174Z"
   },
   {
    "duration": 3,
    "start_time": "2023-03-03T08:33:06.794Z"
   },
   {
    "duration": 6,
    "start_time": "2023-03-03T08:33:15.317Z"
   },
   {
    "duration": 57,
    "start_time": "2023-03-03T08:33:45.237Z"
   },
   {
    "duration": 15,
    "start_time": "2023-03-03T08:33:56.181Z"
   },
   {
    "duration": 21,
    "start_time": "2023-03-03T08:36:30.607Z"
   },
   {
    "duration": 1316,
    "start_time": "2023-03-03T08:36:44.591Z"
   },
   {
    "duration": 41,
    "start_time": "2023-03-03T08:36:45.909Z"
   },
   {
    "duration": 14,
    "start_time": "2023-03-03T08:36:45.951Z"
   },
   {
    "duration": 13,
    "start_time": "2023-03-03T08:36:45.967Z"
   },
   {
    "duration": 15,
    "start_time": "2023-03-03T08:36:45.982Z"
   },
   {
    "duration": 10,
    "start_time": "2023-03-03T08:36:45.999Z"
   },
   {
    "duration": 16,
    "start_time": "2023-03-03T08:36:46.041Z"
   },
   {
    "duration": 12,
    "start_time": "2023-03-03T08:36:46.059Z"
   },
   {
    "duration": 206,
    "start_time": "2023-03-03T08:36:46.073Z"
   },
   {
    "duration": 8,
    "start_time": "2023-03-03T08:36:46.280Z"
   },
   {
    "duration": 13,
    "start_time": "2023-03-03T08:36:46.289Z"
   },
   {
    "duration": 188,
    "start_time": "2023-03-03T08:36:46.304Z"
   },
   {
    "duration": 12,
    "start_time": "2023-03-03T08:36:46.494Z"
   },
   {
    "duration": 11,
    "start_time": "2023-03-03T08:36:46.509Z"
   },
   {
    "duration": 23,
    "start_time": "2023-03-03T08:36:46.521Z"
   },
   {
    "duration": 16,
    "start_time": "2023-03-03T08:36:46.546Z"
   },
   {
    "duration": 19,
    "start_time": "2023-03-03T08:36:46.564Z"
   },
   {
    "duration": 18,
    "start_time": "2023-03-03T08:36:46.585Z"
   },
   {
    "duration": 11,
    "start_time": "2023-03-03T08:36:46.605Z"
   },
   {
    "duration": 6,
    "start_time": "2023-03-03T08:36:46.642Z"
   },
   {
    "duration": 19,
    "start_time": "2023-03-03T08:36:46.650Z"
   },
   {
    "duration": 112,
    "start_time": "2023-03-03T08:36:56.681Z"
   },
   {
    "duration": 16,
    "start_time": "2023-03-03T08:37:49.216Z"
   },
   {
    "duration": 15,
    "start_time": "2023-03-03T08:38:20.471Z"
   },
   {
    "duration": 16,
    "start_time": "2023-03-03T08:38:41.215Z"
   },
   {
    "duration": 21,
    "start_time": "2023-03-03T08:39:01.453Z"
   },
   {
    "duration": 13,
    "start_time": "2023-03-03T08:40:20.847Z"
   },
   {
    "duration": 11,
    "start_time": "2023-03-03T08:40:39.316Z"
   },
   {
    "duration": 6,
    "start_time": "2023-03-03T08:40:47.773Z"
   },
   {
    "duration": 6,
    "start_time": "2023-03-03T08:42:44.614Z"
   },
   {
    "duration": 793,
    "start_time": "2023-03-03T08:42:59.902Z"
   },
   {
    "duration": 6,
    "start_time": "2023-03-03T08:43:16.250Z"
   },
   {
    "duration": 19,
    "start_time": "2023-03-03T08:43:28.347Z"
   },
   {
    "duration": 20,
    "start_time": "2023-03-03T08:44:12.666Z"
   },
   {
    "duration": 12,
    "start_time": "2023-03-03T08:44:30.769Z"
   },
   {
    "duration": 17,
    "start_time": "2023-03-03T08:44:41.267Z"
   },
   {
    "duration": 12,
    "start_time": "2023-03-03T08:45:04.171Z"
   },
   {
    "duration": 19,
    "start_time": "2023-03-03T08:45:15.531Z"
   },
   {
    "duration": 3,
    "start_time": "2023-03-03T08:46:27.381Z"
   },
   {
    "duration": 9,
    "start_time": "2023-03-03T08:47:00.082Z"
   },
   {
    "duration": 24,
    "start_time": "2023-03-03T08:49:58.501Z"
   },
   {
    "duration": 20,
    "start_time": "2023-03-03T08:50:33.169Z"
   },
   {
    "duration": 1466,
    "start_time": "2023-03-03T08:50:40.404Z"
   },
   {
    "duration": 43,
    "start_time": "2023-03-03T08:50:41.873Z"
   },
   {
    "duration": 22,
    "start_time": "2023-03-03T08:50:41.918Z"
   },
   {
    "duration": 18,
    "start_time": "2023-03-03T08:50:41.942Z"
   },
   {
    "duration": 21,
    "start_time": "2023-03-03T08:50:41.963Z"
   },
   {
    "duration": 11,
    "start_time": "2023-03-03T08:50:41.985Z"
   },
   {
    "duration": 12,
    "start_time": "2023-03-03T08:50:41.998Z"
   },
   {
    "duration": 54,
    "start_time": "2023-03-03T08:50:42.012Z"
   },
   {
    "duration": 213,
    "start_time": "2023-03-03T08:50:42.068Z"
   },
   {
    "duration": 6,
    "start_time": "2023-03-03T08:50:42.283Z"
   },
   {
    "duration": 12,
    "start_time": "2023-03-03T08:50:42.291Z"
   },
   {
    "duration": 199,
    "start_time": "2023-03-03T08:50:42.304Z"
   },
   {
    "duration": 11,
    "start_time": "2023-03-03T08:50:42.505Z"
   },
   {
    "duration": 23,
    "start_time": "2023-03-03T08:50:42.519Z"
   },
   {
    "duration": 17,
    "start_time": "2023-03-03T08:50:42.544Z"
   },
   {
    "duration": 14,
    "start_time": "2023-03-03T08:50:42.562Z"
   },
   {
    "duration": 6,
    "start_time": "2023-03-03T08:50:42.578Z"
   },
   {
    "duration": 9,
    "start_time": "2023-03-03T08:50:42.585Z"
   },
   {
    "duration": 12,
    "start_time": "2023-03-03T08:50:42.595Z"
   },
   {
    "duration": 11,
    "start_time": "2023-03-03T08:50:42.608Z"
   },
   {
    "duration": 24,
    "start_time": "2023-03-03T08:50:42.646Z"
   },
   {
    "duration": 28,
    "start_time": "2023-03-03T08:50:42.672Z"
   },
   {
    "duration": 152,
    "start_time": "2023-03-03T08:52:18.584Z"
   },
   {
    "duration": 25,
    "start_time": "2023-03-03T08:52:24.966Z"
   },
   {
    "duration": 27,
    "start_time": "2023-03-03T08:53:02.825Z"
   },
   {
    "duration": 18,
    "start_time": "2023-03-03T08:53:08.782Z"
   },
   {
    "duration": 21,
    "start_time": "2023-03-03T08:53:18.871Z"
   },
   {
    "duration": 24,
    "start_time": "2023-03-03T08:53:28.801Z"
   },
   {
    "duration": 1311,
    "start_time": "2023-03-03T08:54:09.185Z"
   },
   {
    "duration": 40,
    "start_time": "2023-03-03T08:54:10.499Z"
   },
   {
    "duration": 14,
    "start_time": "2023-03-03T08:54:10.541Z"
   },
   {
    "duration": 16,
    "start_time": "2023-03-03T08:54:10.557Z"
   },
   {
    "duration": 20,
    "start_time": "2023-03-03T08:54:10.576Z"
   },
   {
    "duration": 12,
    "start_time": "2023-03-03T08:54:10.598Z"
   },
   {
    "duration": 12,
    "start_time": "2023-03-03T08:54:10.641Z"
   },
   {
    "duration": 14,
    "start_time": "2023-03-03T08:54:10.654Z"
   },
   {
    "duration": 218,
    "start_time": "2023-03-03T08:54:10.670Z"
   },
   {
    "duration": 9,
    "start_time": "2023-03-03T08:54:10.890Z"
   },
   {
    "duration": 14,
    "start_time": "2023-03-03T08:54:10.901Z"
   },
   {
    "duration": 192,
    "start_time": "2023-03-03T08:54:10.940Z"
   },
   {
    "duration": 14,
    "start_time": "2023-03-03T08:54:11.141Z"
   },
   {
    "duration": 10,
    "start_time": "2023-03-03T08:54:11.159Z"
   },
   {
    "duration": 4,
    "start_time": "2023-03-03T08:54:11.171Z"
   },
   {
    "duration": 14,
    "start_time": "2023-03-03T08:54:11.177Z"
   },
   {
    "duration": 6,
    "start_time": "2023-03-03T08:54:11.193Z"
   },
   {
    "duration": 47,
    "start_time": "2023-03-03T08:54:11.201Z"
   },
   {
    "duration": 16,
    "start_time": "2023-03-03T08:54:11.250Z"
   },
   {
    "duration": 6,
    "start_time": "2023-03-03T08:54:11.268Z"
   },
   {
    "duration": 16,
    "start_time": "2023-03-03T08:54:11.276Z"
   },
   {
    "duration": 36,
    "start_time": "2023-03-03T08:54:11.293Z"
   },
   {
    "duration": 28,
    "start_time": "2023-03-03T08:54:17.682Z"
   },
   {
    "duration": 20,
    "start_time": "2023-03-03T08:54:33.371Z"
   },
   {
    "duration": 21,
    "start_time": "2023-03-03T08:54:39.829Z"
   },
   {
    "duration": 25,
    "start_time": "2023-03-03T08:54:41.581Z"
   },
   {
    "duration": 116,
    "start_time": "2023-03-03T08:56:03.582Z"
   },
   {
    "duration": 14,
    "start_time": "2023-03-03T08:56:27.832Z"
   },
   {
    "duration": 15,
    "start_time": "2023-03-03T08:56:31.831Z"
   },
   {
    "duration": 18,
    "start_time": "2023-03-03T09:00:27.715Z"
   },
   {
    "duration": 34,
    "start_time": "2023-03-03T09:00:35.113Z"
   },
   {
    "duration": 12,
    "start_time": "2023-03-03T09:01:01.768Z"
   },
   {
    "duration": 12,
    "start_time": "2023-03-03T09:01:56.121Z"
   },
   {
    "duration": 5,
    "start_time": "2023-03-03T09:02:01.163Z"
   },
   {
    "duration": 14,
    "start_time": "2023-03-03T09:02:23.265Z"
   },
   {
    "duration": 16,
    "start_time": "2023-03-03T09:02:34.188Z"
   },
   {
    "duration": 20,
    "start_time": "2023-03-03T09:02:57.874Z"
   },
   {
    "duration": 17,
    "start_time": "2023-03-03T09:03:11.655Z"
   },
   {
    "duration": 26,
    "start_time": "2023-03-03T09:03:38.699Z"
   },
   {
    "duration": 25,
    "start_time": "2023-03-03T09:03:51.897Z"
   },
   {
    "duration": 28,
    "start_time": "2023-03-03T09:03:56.416Z"
   },
   {
    "duration": 28,
    "start_time": "2023-03-03T09:04:09.948Z"
   },
   {
    "duration": 32,
    "start_time": "2023-03-03T09:04:11.459Z"
   },
   {
    "duration": 10,
    "start_time": "2023-03-03T09:04:53.441Z"
   },
   {
    "duration": 33,
    "start_time": "2023-03-03T09:05:20.551Z"
   },
   {
    "duration": 21,
    "start_time": "2023-03-03T09:05:33.810Z"
   },
   {
    "duration": 24,
    "start_time": "2023-03-03T09:05:36.255Z"
   },
   {
    "duration": 27,
    "start_time": "2023-03-03T09:06:17.980Z"
   },
   {
    "duration": 35,
    "start_time": "2023-03-03T09:07:04.715Z"
   },
   {
    "duration": 27,
    "start_time": "2023-03-03T09:08:06.330Z"
   },
   {
    "duration": 49,
    "start_time": "2023-03-03T09:46:13.136Z"
   },
   {
    "duration": 25,
    "start_time": "2023-03-03T09:46:24.919Z"
   },
   {
    "duration": 25,
    "start_time": "2023-03-03T09:47:02.308Z"
   },
   {
    "duration": 40,
    "start_time": "2023-03-03T09:47:07.409Z"
   },
   {
    "duration": 39,
    "start_time": "2023-03-03T09:47:08.521Z"
   },
   {
    "duration": 32,
    "start_time": "2023-03-03T09:47:14.568Z"
   },
   {
    "duration": 46,
    "start_time": "2023-03-03T09:47:22.620Z"
   },
   {
    "duration": 28,
    "start_time": "2023-03-03T09:47:29.473Z"
   },
   {
    "duration": 34,
    "start_time": "2023-03-03T09:48:11.820Z"
   },
   {
    "duration": 42,
    "start_time": "2023-03-03T09:48:40.420Z"
   },
   {
    "duration": 39,
    "start_time": "2023-03-03T09:49:08.655Z"
   },
   {
    "duration": 32,
    "start_time": "2023-03-03T09:50:25.271Z"
   },
   {
    "duration": 22,
    "start_time": "2023-03-03T09:50:31.786Z"
   },
   {
    "duration": 17,
    "start_time": "2023-03-03T09:52:16.555Z"
   },
   {
    "duration": 44,
    "start_time": "2023-03-03T09:52:58.412Z"
   },
   {
    "duration": 4,
    "start_time": "2023-03-03T09:57:55.622Z"
   },
   {
    "duration": 16,
    "start_time": "2023-03-03T09:58:50.811Z"
   },
   {
    "duration": 11,
    "start_time": "2023-03-03T09:59:12.564Z"
   },
   {
    "duration": 6,
    "start_time": "2023-03-03T09:59:15.240Z"
   },
   {
    "duration": 20,
    "start_time": "2023-03-03T09:59:15.538Z"
   },
   {
    "duration": 14,
    "start_time": "2023-03-03T10:05:46.602Z"
   },
   {
    "duration": 1373,
    "start_time": "2023-03-03T10:06:20.283Z"
   },
   {
    "duration": 40,
    "start_time": "2023-03-03T10:06:21.658Z"
   },
   {
    "duration": 16,
    "start_time": "2023-03-03T10:06:21.700Z"
   },
   {
    "duration": 13,
    "start_time": "2023-03-03T10:06:21.718Z"
   },
   {
    "duration": 36,
    "start_time": "2023-03-03T10:06:21.733Z"
   },
   {
    "duration": 16,
    "start_time": "2023-03-03T10:06:21.772Z"
   },
   {
    "duration": 18,
    "start_time": "2023-03-03T10:06:21.790Z"
   },
   {
    "duration": 13,
    "start_time": "2023-03-03T10:06:21.810Z"
   },
   {
    "duration": 225,
    "start_time": "2023-03-03T10:06:21.825Z"
   },
   {
    "duration": 17,
    "start_time": "2023-03-03T10:06:22.052Z"
   },
   {
    "duration": 17,
    "start_time": "2023-03-03T10:06:22.071Z"
   },
   {
    "duration": 193,
    "start_time": "2023-03-03T10:06:22.090Z"
   },
   {
    "duration": 12,
    "start_time": "2023-03-03T10:06:22.285Z"
   },
   {
    "duration": 14,
    "start_time": "2023-03-03T10:06:22.299Z"
   },
   {
    "duration": 29,
    "start_time": "2023-03-03T10:06:22.314Z"
   },
   {
    "duration": 21,
    "start_time": "2023-03-03T10:06:22.347Z"
   },
   {
    "duration": 5,
    "start_time": "2023-03-03T10:06:22.370Z"
   },
   {
    "duration": 10,
    "start_time": "2023-03-03T10:06:22.377Z"
   },
   {
    "duration": 9,
    "start_time": "2023-03-03T10:06:22.388Z"
   },
   {
    "duration": 4,
    "start_time": "2023-03-03T10:06:22.398Z"
   },
   {
    "duration": 6,
    "start_time": "2023-03-03T10:06:39.263Z"
   },
   {
    "duration": 51,
    "start_time": "2023-03-03T10:06:39.813Z"
   },
   {
    "duration": 41,
    "start_time": "2023-03-03T10:08:05.056Z"
   },
   {
    "duration": 50,
    "start_time": "2023-03-03T10:08:11.771Z"
   },
   {
    "duration": 41,
    "start_time": "2023-03-03T10:08:36.662Z"
   },
   {
    "duration": 1664,
    "start_time": "2023-03-03T10:09:23.207Z"
   },
   {
    "duration": 52,
    "start_time": "2023-03-03T10:09:24.874Z"
   },
   {
    "duration": 18,
    "start_time": "2023-03-03T10:09:24.928Z"
   },
   {
    "duration": 23,
    "start_time": "2023-03-03T10:09:24.948Z"
   },
   {
    "duration": 20,
    "start_time": "2023-03-03T10:09:24.974Z"
   },
   {
    "duration": 12,
    "start_time": "2023-03-03T10:09:24.996Z"
   },
   {
    "duration": 42,
    "start_time": "2023-03-03T10:09:25.010Z"
   },
   {
    "duration": 20,
    "start_time": "2023-03-03T10:09:25.054Z"
   },
   {
    "duration": 275,
    "start_time": "2023-03-03T10:09:25.077Z"
   },
   {
    "duration": 10,
    "start_time": "2023-03-03T10:09:25.354Z"
   },
   {
    "duration": 18,
    "start_time": "2023-03-03T10:09:25.366Z"
   },
   {
    "duration": 271,
    "start_time": "2023-03-03T10:09:25.386Z"
   },
   {
    "duration": 17,
    "start_time": "2023-03-03T10:09:25.659Z"
   },
   {
    "duration": 18,
    "start_time": "2023-03-03T10:09:25.679Z"
   },
   {
    "duration": 6,
    "start_time": "2023-03-03T10:09:25.699Z"
   },
   {
    "duration": 45,
    "start_time": "2023-03-03T10:09:25.707Z"
   },
   {
    "duration": 6,
    "start_time": "2023-03-03T10:09:25.754Z"
   },
   {
    "duration": 15,
    "start_time": "2023-03-03T10:09:25.762Z"
   },
   {
    "duration": 14,
    "start_time": "2023-03-03T10:09:25.780Z"
   },
   {
    "duration": 8,
    "start_time": "2023-03-03T10:09:25.798Z"
   },
   {
    "duration": 42,
    "start_time": "2023-03-03T10:09:25.808Z"
   },
   {
    "duration": 7,
    "start_time": "2023-03-03T10:09:25.852Z"
   },
   {
    "duration": 170,
    "start_time": "2023-03-03T10:09:29.975Z"
   },
   {
    "duration": 52,
    "start_time": "2023-03-03T10:10:02.484Z"
   },
   {
    "duration": 21,
    "start_time": "2023-03-03T10:11:54.032Z"
   },
   {
    "duration": 1316,
    "start_time": "2023-03-03T10:12:10.689Z"
   },
   {
    "duration": 43,
    "start_time": "2023-03-03T10:12:12.007Z"
   },
   {
    "duration": 16,
    "start_time": "2023-03-03T10:12:12.052Z"
   },
   {
    "duration": 17,
    "start_time": "2023-03-03T10:12:12.070Z"
   },
   {
    "duration": 15,
    "start_time": "2023-03-03T10:12:12.089Z"
   },
   {
    "duration": 37,
    "start_time": "2023-03-03T10:12:12.106Z"
   },
   {
    "duration": 16,
    "start_time": "2023-03-03T10:12:12.145Z"
   },
   {
    "duration": 11,
    "start_time": "2023-03-03T10:12:12.162Z"
   },
   {
    "duration": 201,
    "start_time": "2023-03-03T10:12:12.175Z"
   },
   {
    "duration": 9,
    "start_time": "2023-03-03T10:12:12.377Z"
   },
   {
    "duration": 13,
    "start_time": "2023-03-03T10:12:12.387Z"
   },
   {
    "duration": 190,
    "start_time": "2023-03-03T10:12:12.401Z"
   },
   {
    "duration": 12,
    "start_time": "2023-03-03T10:12:12.593Z"
   },
   {
    "duration": 10,
    "start_time": "2023-03-03T10:12:12.608Z"
   },
   {
    "duration": 24,
    "start_time": "2023-03-03T10:12:12.619Z"
   },
   {
    "duration": 13,
    "start_time": "2023-03-03T10:12:12.645Z"
   },
   {
    "duration": 4,
    "start_time": "2023-03-03T10:12:12.660Z"
   },
   {
    "duration": 10,
    "start_time": "2023-03-03T10:12:12.666Z"
   },
   {
    "duration": 9,
    "start_time": "2023-03-03T10:12:12.678Z"
   },
   {
    "duration": 5,
    "start_time": "2023-03-03T10:12:12.689Z"
   },
   {
    "duration": 49,
    "start_time": "2023-03-03T10:12:12.696Z"
   },
   {
    "duration": 7,
    "start_time": "2023-03-03T10:12:12.747Z"
   },
   {
    "duration": 32,
    "start_time": "2023-03-03T10:12:12.756Z"
   },
   {
    "duration": 1288,
    "start_time": "2023-03-03T10:12:52.962Z"
   },
   {
    "duration": 40,
    "start_time": "2023-03-03T10:12:54.252Z"
   },
   {
    "duration": 13,
    "start_time": "2023-03-03T10:12:54.294Z"
   },
   {
    "duration": 16,
    "start_time": "2023-03-03T10:12:54.309Z"
   },
   {
    "duration": 17,
    "start_time": "2023-03-03T10:12:54.327Z"
   },
   {
    "duration": 26,
    "start_time": "2023-03-03T10:12:54.346Z"
   },
   {
    "duration": 22,
    "start_time": "2023-03-03T10:12:54.374Z"
   },
   {
    "duration": 16,
    "start_time": "2023-03-03T10:12:54.398Z"
   },
   {
    "duration": 179,
    "start_time": "2023-03-03T10:12:54.416Z"
   },
   {
    "duration": 8,
    "start_time": "2023-03-03T10:12:54.597Z"
   },
   {
    "duration": 28,
    "start_time": "2023-03-03T10:12:54.607Z"
   },
   {
    "duration": 161,
    "start_time": "2023-03-03T10:12:54.636Z"
   },
   {
    "duration": 13,
    "start_time": "2023-03-03T10:12:54.799Z"
   },
   {
    "duration": 9,
    "start_time": "2023-03-03T10:12:54.814Z"
   },
   {
    "duration": 4,
    "start_time": "2023-03-03T10:12:54.840Z"
   },
   {
    "duration": 31,
    "start_time": "2023-03-03T10:12:54.846Z"
   },
   {
    "duration": 9,
    "start_time": "2023-03-03T10:12:54.879Z"
   },
   {
    "duration": 26,
    "start_time": "2023-03-03T10:12:54.890Z"
   },
   {
    "duration": 38,
    "start_time": "2023-03-03T10:12:54.918Z"
   },
   {
    "duration": 7,
    "start_time": "2023-03-03T10:12:54.958Z"
   },
   {
    "duration": 11,
    "start_time": "2023-03-03T10:12:54.967Z"
   },
   {
    "duration": 23,
    "start_time": "2023-03-03T10:12:54.980Z"
   },
   {
    "duration": 130,
    "start_time": "2023-03-03T10:12:57.670Z"
   },
   {
    "duration": 25,
    "start_time": "2023-03-03T10:13:12.601Z"
   },
   {
    "duration": 1329,
    "start_time": "2023-03-03T10:14:30.698Z"
   },
   {
    "duration": 56,
    "start_time": "2023-03-03T10:14:32.029Z"
   },
   {
    "duration": 15,
    "start_time": "2023-03-03T10:14:32.087Z"
   },
   {
    "duration": 13,
    "start_time": "2023-03-03T10:14:32.105Z"
   },
   {
    "duration": 18,
    "start_time": "2023-03-03T10:14:32.121Z"
   },
   {
    "duration": 14,
    "start_time": "2023-03-03T10:14:32.141Z"
   },
   {
    "duration": 21,
    "start_time": "2023-03-03T10:14:32.157Z"
   },
   {
    "duration": 21,
    "start_time": "2023-03-03T10:14:32.180Z"
   },
   {
    "duration": 185,
    "start_time": "2023-03-03T10:14:32.203Z"
   },
   {
    "duration": 8,
    "start_time": "2023-03-03T10:14:32.390Z"
   },
   {
    "duration": 18,
    "start_time": "2023-03-03T10:14:32.400Z"
   },
   {
    "duration": 184,
    "start_time": "2023-03-03T10:14:32.420Z"
   },
   {
    "duration": 14,
    "start_time": "2023-03-03T10:14:32.606Z"
   },
   {
    "duration": 15,
    "start_time": "2023-03-03T10:14:32.640Z"
   },
   {
    "duration": 27,
    "start_time": "2023-03-03T10:14:32.657Z"
   },
   {
    "duration": 38,
    "start_time": "2023-03-03T10:14:32.686Z"
   },
   {
    "duration": 6,
    "start_time": "2023-03-03T10:14:32.726Z"
   },
   {
    "duration": 24,
    "start_time": "2023-03-03T10:14:32.734Z"
   },
   {
    "duration": 20,
    "start_time": "2023-03-03T10:14:32.761Z"
   },
   {
    "duration": 28,
    "start_time": "2023-03-03T10:14:32.783Z"
   },
   {
    "duration": 7,
    "start_time": "2023-03-03T10:14:45.060Z"
   },
   {
    "duration": 5,
    "start_time": "2023-03-03T10:14:47.384Z"
   },
   {
    "duration": 126,
    "start_time": "2023-03-03T10:14:55.392Z"
   },
   {
    "duration": 18,
    "start_time": "2023-03-03T10:15:30.369Z"
   },
   {
    "duration": 1483,
    "start_time": "2023-03-03T10:15:45.912Z"
   },
   {
    "duration": 49,
    "start_time": "2023-03-03T10:15:47.398Z"
   },
   {
    "duration": 18,
    "start_time": "2023-03-03T10:15:47.449Z"
   },
   {
    "duration": 17,
    "start_time": "2023-03-03T10:15:47.469Z"
   },
   {
    "duration": 21,
    "start_time": "2023-03-03T10:15:47.489Z"
   },
   {
    "duration": 11,
    "start_time": "2023-03-03T10:15:47.540Z"
   },
   {
    "duration": 21,
    "start_time": "2023-03-03T10:15:47.553Z"
   },
   {
    "duration": 14,
    "start_time": "2023-03-03T10:15:47.576Z"
   },
   {
    "duration": 223,
    "start_time": "2023-03-03T10:15:47.592Z"
   },
   {
    "duration": 16,
    "start_time": "2023-03-03T10:15:47.817Z"
   },
   {
    "duration": 17,
    "start_time": "2023-03-03T10:15:47.842Z"
   },
   {
    "duration": 191,
    "start_time": "2023-03-03T10:15:47.861Z"
   },
   {
    "duration": 13,
    "start_time": "2023-03-03T10:15:48.054Z"
   },
   {
    "duration": 13,
    "start_time": "2023-03-03T10:15:48.070Z"
   },
   {
    "duration": 4,
    "start_time": "2023-03-03T10:15:48.084Z"
   },
   {
    "duration": 12,
    "start_time": "2023-03-03T10:15:48.091Z"
   },
   {
    "duration": 36,
    "start_time": "2023-03-03T10:15:48.105Z"
   },
   {
    "duration": 9,
    "start_time": "2023-03-03T10:15:48.143Z"
   },
   {
    "duration": 8,
    "start_time": "2023-03-03T10:15:48.154Z"
   },
   {
    "duration": 5,
    "start_time": "2023-03-03T10:15:48.164Z"
   },
   {
    "duration": 6,
    "start_time": "2023-03-03T10:15:48.170Z"
   },
   {
    "duration": 4,
    "start_time": "2023-03-03T10:15:48.178Z"
   },
   {
    "duration": 124,
    "start_time": "2023-03-03T10:15:50.609Z"
   },
   {
    "duration": 41,
    "start_time": "2023-03-03T10:16:04.717Z"
   },
   {
    "duration": 31,
    "start_time": "2023-03-03T10:16:18.282Z"
   },
   {
    "duration": 1834,
    "start_time": "2023-03-05T11:03:24.737Z"
   },
   {
    "duration": 110,
    "start_time": "2023-03-05T11:03:26.576Z"
   },
   {
    "duration": 17,
    "start_time": "2023-03-05T11:03:26.692Z"
   },
   {
    "duration": 27,
    "start_time": "2023-03-05T11:03:26.710Z"
   },
   {
    "duration": 64,
    "start_time": "2023-03-05T11:03:26.741Z"
   },
   {
    "duration": 28,
    "start_time": "2023-03-05T11:03:26.807Z"
   },
   {
    "duration": 58,
    "start_time": "2023-03-05T11:03:26.838Z"
   },
   {
    "duration": 20,
    "start_time": "2023-03-05T11:03:26.899Z"
   },
   {
    "duration": 207,
    "start_time": "2023-03-05T11:03:26.922Z"
   },
   {
    "duration": 8,
    "start_time": "2023-03-05T11:03:27.131Z"
   },
   {
    "duration": 48,
    "start_time": "2023-03-05T11:03:27.153Z"
   },
   {
    "duration": 186,
    "start_time": "2023-03-05T11:03:27.204Z"
   },
   {
    "duration": 15,
    "start_time": "2023-03-05T11:03:27.392Z"
   },
   {
    "duration": 15,
    "start_time": "2023-03-05T11:03:27.410Z"
   },
   {
    "duration": 3,
    "start_time": "2023-03-05T11:03:27.427Z"
   },
   {
    "duration": 46,
    "start_time": "2023-03-05T11:03:27.456Z"
   },
   {
    "duration": 8,
    "start_time": "2023-03-05T11:03:27.504Z"
   },
   {
    "duration": 13,
    "start_time": "2023-03-05T11:03:27.514Z"
   },
   {
    "duration": 11,
    "start_time": "2023-03-05T11:03:27.529Z"
   },
   {
    "duration": 5,
    "start_time": "2023-03-05T11:03:27.541Z"
   },
   {
    "duration": 44,
    "start_time": "2023-03-05T11:03:27.548Z"
   },
   {
    "duration": 12,
    "start_time": "2023-03-05T11:03:27.594Z"
   },
   {
    "duration": 31,
    "start_time": "2023-03-05T11:05:19.182Z"
   },
   {
    "duration": 151,
    "start_time": "2023-03-05T11:06:08.396Z"
   },
   {
    "duration": 15,
    "start_time": "2023-03-05T11:06:18.592Z"
   },
   {
    "duration": 51,
    "start_time": "2023-03-05T11:07:36.787Z"
   },
   {
    "duration": 10,
    "start_time": "2023-03-05T11:11:26.719Z"
   },
   {
    "duration": 22,
    "start_time": "2023-03-05T11:18:33.785Z"
   },
   {
    "duration": 13,
    "start_time": "2023-03-05T11:18:41.089Z"
   },
   {
    "duration": 14,
    "start_time": "2023-03-05T11:18:55.687Z"
   },
   {
    "duration": 43,
    "start_time": "2023-03-05T11:19:08.442Z"
   },
   {
    "duration": 9,
    "start_time": "2023-03-05T11:19:30.827Z"
   },
   {
    "duration": 3,
    "start_time": "2023-03-05T11:20:42.687Z"
   },
   {
    "duration": 120,
    "start_time": "2023-03-05T11:22:33.700Z"
   },
   {
    "duration": 14,
    "start_time": "2023-03-05T11:22:42.928Z"
   },
   {
    "duration": 11,
    "start_time": "2023-03-05T11:22:47.276Z"
   },
   {
    "duration": 86,
    "start_time": "2023-03-05T11:22:47.289Z"
   },
   {
    "duration": 19,
    "start_time": "2023-03-05T11:22:47.386Z"
   },
   {
    "duration": 22,
    "start_time": "2023-03-05T11:22:47.407Z"
   },
   {
    "duration": 35,
    "start_time": "2023-03-05T11:22:47.432Z"
   },
   {
    "duration": 27,
    "start_time": "2023-03-05T11:22:47.469Z"
   },
   {
    "duration": 22,
    "start_time": "2023-03-05T11:22:47.498Z"
   },
   {
    "duration": 10,
    "start_time": "2023-03-05T11:22:47.522Z"
   },
   {
    "duration": 230,
    "start_time": "2023-03-05T11:22:47.533Z"
   },
   {
    "duration": 15,
    "start_time": "2023-03-05T11:22:47.764Z"
   },
   {
    "duration": 44,
    "start_time": "2023-03-05T11:22:47.781Z"
   },
   {
    "duration": 233,
    "start_time": "2023-03-05T11:22:47.827Z"
   },
   {
    "duration": 29,
    "start_time": "2023-03-05T11:22:48.069Z"
   },
   {
    "duration": 15,
    "start_time": "2023-03-05T11:22:48.108Z"
   },
   {
    "duration": 6,
    "start_time": "2023-03-05T11:22:48.125Z"
   },
   {
    "duration": 26,
    "start_time": "2023-03-05T11:22:48.133Z"
   },
   {
    "duration": 50,
    "start_time": "2023-03-05T11:22:48.160Z"
   },
   {
    "duration": 14,
    "start_time": "2023-03-05T11:22:48.212Z"
   },
   {
    "duration": 9,
    "start_time": "2023-03-05T11:22:48.228Z"
   },
   {
    "duration": 5,
    "start_time": "2023-03-05T11:22:48.239Z"
   },
   {
    "duration": 256,
    "start_time": "2023-03-05T11:22:48.246Z"
   },
   {
    "duration": 3,
    "start_time": "2023-03-05T11:22:48.504Z"
   },
   {
    "duration": 7,
    "start_time": "2023-03-05T11:22:51.277Z"
   },
   {
    "duration": 28,
    "start_time": "2023-03-05T11:23:46.976Z"
   },
   {
    "duration": 25,
    "start_time": "2023-03-05T11:25:29.292Z"
   },
   {
    "duration": 10,
    "start_time": "2023-03-05T11:26:16.289Z"
   },
   {
    "duration": 5,
    "start_time": "2023-03-05T11:27:55.194Z"
   },
   {
    "duration": 73,
    "start_time": "2023-03-05T11:27:55.201Z"
   },
   {
    "duration": 14,
    "start_time": "2023-03-05T11:27:55.285Z"
   },
   {
    "duration": 12,
    "start_time": "2023-03-05T11:27:55.301Z"
   },
   {
    "duration": 16,
    "start_time": "2023-03-05T11:27:55.316Z"
   },
   {
    "duration": 100,
    "start_time": "2023-03-05T11:27:55.334Z"
   },
   {
    "duration": 70,
    "start_time": "2023-03-05T11:27:55.436Z"
   },
   {
    "duration": 10,
    "start_time": "2023-03-05T11:27:55.508Z"
   },
   {
    "duration": 200,
    "start_time": "2023-03-05T11:27:55.520Z"
   },
   {
    "duration": 8,
    "start_time": "2023-03-05T11:27:55.722Z"
   },
   {
    "duration": 43,
    "start_time": "2023-03-05T11:27:55.732Z"
   },
   {
    "duration": 178,
    "start_time": "2023-03-05T11:27:55.777Z"
   },
   {
    "duration": 33,
    "start_time": "2023-03-05T11:27:55.968Z"
   },
   {
    "duration": 10,
    "start_time": "2023-03-05T11:27:56.008Z"
   },
   {
    "duration": 3,
    "start_time": "2023-03-05T11:27:56.020Z"
   },
   {
    "duration": 20,
    "start_time": "2023-03-05T11:27:56.025Z"
   },
   {
    "duration": 59,
    "start_time": "2023-03-05T11:27:56.046Z"
   },
   {
    "duration": 12,
    "start_time": "2023-03-05T11:27:56.107Z"
   },
   {
    "duration": 9,
    "start_time": "2023-03-05T11:27:56.121Z"
   },
   {
    "duration": 4,
    "start_time": "2023-03-05T11:27:56.132Z"
   },
   {
    "duration": 17,
    "start_time": "2023-03-05T11:27:56.138Z"
   },
   {
    "duration": 33,
    "start_time": "2023-03-05T11:27:56.169Z"
   },
   {
    "duration": 4,
    "start_time": "2023-03-05T11:27:59.081Z"
   },
   {
    "duration": 30,
    "start_time": "2023-03-05T11:28:00.377Z"
   },
   {
    "duration": 15,
    "start_time": "2023-03-05T11:28:18.232Z"
   },
   {
    "duration": 11,
    "start_time": "2023-03-05T11:28:30.201Z"
   },
   {
    "duration": 16,
    "start_time": "2023-03-05T11:29:07.332Z"
   },
   {
    "duration": 21,
    "start_time": "2023-03-05T11:29:24.581Z"
   },
   {
    "duration": 12,
    "start_time": "2023-03-05T11:30:03.385Z"
   },
   {
    "duration": 7,
    "start_time": "2023-03-05T11:30:05.010Z"
   },
   {
    "duration": 3550,
    "start_time": "2023-03-05T11:30:19.382Z"
   },
   {
    "duration": 74,
    "start_time": "2023-03-05T11:30:22.934Z"
   },
   {
    "duration": 13,
    "start_time": "2023-03-05T11:30:23.010Z"
   },
   {
    "duration": 17,
    "start_time": "2023-03-05T11:30:23.024Z"
   },
   {
    "duration": 42,
    "start_time": "2023-03-05T11:30:23.044Z"
   },
   {
    "duration": 33,
    "start_time": "2023-03-05T11:30:23.087Z"
   },
   {
    "duration": 12,
    "start_time": "2023-03-05T11:30:23.121Z"
   },
   {
    "duration": 20,
    "start_time": "2023-03-05T11:30:23.135Z"
   },
   {
    "duration": 266,
    "start_time": "2023-03-05T11:30:23.167Z"
   },
   {
    "duration": 9,
    "start_time": "2023-03-05T11:30:23.435Z"
   },
   {
    "duration": 73,
    "start_time": "2023-03-05T11:30:23.446Z"
   },
   {
    "duration": 208,
    "start_time": "2023-03-05T11:30:23.520Z"
   },
   {
    "duration": 28,
    "start_time": "2023-03-05T11:30:23.730Z"
   },
   {
    "duration": 16,
    "start_time": "2023-03-05T11:30:23.762Z"
   },
   {
    "duration": 36,
    "start_time": "2023-03-05T11:30:23.780Z"
   },
   {
    "duration": 20,
    "start_time": "2023-03-05T11:30:23.822Z"
   },
   {
    "duration": 14,
    "start_time": "2023-03-05T11:30:23.844Z"
   },
   {
    "duration": 60,
    "start_time": "2023-03-05T11:30:23.862Z"
   },
   {
    "duration": 12,
    "start_time": "2023-03-05T11:30:23.925Z"
   },
   {
    "duration": 6,
    "start_time": "2023-03-05T11:30:23.939Z"
   },
   {
    "duration": 64,
    "start_time": "2023-03-05T11:30:23.947Z"
   },
   {
    "duration": 6,
    "start_time": "2023-03-05T11:30:24.013Z"
   },
   {
    "duration": 12,
    "start_time": "2023-03-05T11:30:24.021Z"
   },
   {
    "duration": 9,
    "start_time": "2023-03-05T11:30:24.035Z"
   },
   {
    "duration": 34,
    "start_time": "2023-03-05T11:30:24.046Z"
   },
   {
    "duration": 13,
    "start_time": "2023-03-05T11:30:26.773Z"
   },
   {
    "duration": 136,
    "start_time": "2023-03-05T11:30:53.910Z"
   },
   {
    "duration": 1797,
    "start_time": "2023-03-05T11:31:07.778Z"
   },
   {
    "duration": 25,
    "start_time": "2023-03-05T11:31:25.936Z"
   },
   {
    "duration": 58,
    "start_time": "2023-03-06T05:49:05.174Z"
   },
   {
    "duration": 1557,
    "start_time": "2023-03-06T05:49:11.715Z"
   },
   {
    "duration": 78,
    "start_time": "2023-03-06T05:49:13.274Z"
   },
   {
    "duration": 14,
    "start_time": "2023-03-06T05:49:13.354Z"
   },
   {
    "duration": 12,
    "start_time": "2023-03-06T05:49:13.369Z"
   },
   {
    "duration": 14,
    "start_time": "2023-03-06T05:49:13.384Z"
   },
   {
    "duration": 8,
    "start_time": "2023-03-06T05:49:13.399Z"
   },
   {
    "duration": 12,
    "start_time": "2023-03-06T05:49:13.409Z"
   },
   {
    "duration": 36,
    "start_time": "2023-03-06T05:49:13.422Z"
   },
   {
    "duration": 176,
    "start_time": "2023-03-06T05:49:13.460Z"
   },
   {
    "duration": 8,
    "start_time": "2023-03-06T05:49:13.647Z"
   },
   {
    "duration": 11,
    "start_time": "2023-03-06T05:49:13.656Z"
   },
   {
    "duration": 173,
    "start_time": "2023-03-06T05:49:13.669Z"
   },
   {
    "duration": 11,
    "start_time": "2023-03-06T05:49:13.848Z"
   },
   {
    "duration": 9,
    "start_time": "2023-03-06T05:49:13.863Z"
   },
   {
    "duration": 4,
    "start_time": "2023-03-06T05:49:13.874Z"
   },
   {
    "duration": 15,
    "start_time": "2023-03-06T05:49:13.879Z"
   },
   {
    "duration": 11,
    "start_time": "2023-03-06T05:49:13.896Z"
   },
   {
    "duration": 11,
    "start_time": "2023-03-06T05:49:13.908Z"
   },
   {
    "duration": 35,
    "start_time": "2023-03-06T05:49:13.920Z"
   },
   {
    "duration": 4,
    "start_time": "2023-03-06T05:49:13.957Z"
   },
   {
    "duration": 10,
    "start_time": "2023-03-06T05:49:13.962Z"
   },
   {
    "duration": 4,
    "start_time": "2023-03-06T05:49:13.973Z"
   },
   {
    "duration": 10,
    "start_time": "2023-03-06T05:49:13.978Z"
   },
   {
    "duration": 9,
    "start_time": "2023-03-06T05:49:13.989Z"
   },
   {
    "duration": 6,
    "start_time": "2023-03-06T05:49:13.999Z"
   },
   {
    "duration": 48,
    "start_time": "2023-03-06T05:49:14.007Z"
   },
   {
    "duration": 29,
    "start_time": "2023-03-06T05:49:14.056Z"
   },
   {
    "duration": 100,
    "start_time": "2023-03-06T05:49:14.086Z"
   },
   {
    "duration": 0,
    "start_time": "2023-03-06T05:49:14.188Z"
   },
   {
    "duration": 0,
    "start_time": "2023-03-06T05:49:14.189Z"
   },
   {
    "duration": 0,
    "start_time": "2023-03-06T05:49:14.191Z"
   },
   {
    "duration": 0,
    "start_time": "2023-03-06T05:49:14.192Z"
   },
   {
    "duration": 0,
    "start_time": "2023-03-06T05:49:14.193Z"
   },
   {
    "duration": 0,
    "start_time": "2023-03-06T05:49:14.194Z"
   },
   {
    "duration": 0,
    "start_time": "2023-03-06T05:49:14.195Z"
   },
   {
    "duration": 0,
    "start_time": "2023-03-06T05:49:14.196Z"
   },
   {
    "duration": 0,
    "start_time": "2023-03-06T05:49:14.197Z"
   },
   {
    "duration": 0,
    "start_time": "2023-03-06T05:49:14.199Z"
   },
   {
    "duration": 0,
    "start_time": "2023-03-06T05:49:14.199Z"
   },
   {
    "duration": 0,
    "start_time": "2023-03-06T05:49:14.200Z"
   },
   {
    "duration": 0,
    "start_time": "2023-03-06T05:49:14.201Z"
   },
   {
    "duration": 0,
    "start_time": "2023-03-06T05:49:14.203Z"
   },
   {
    "duration": 0,
    "start_time": "2023-03-06T05:49:14.204Z"
   },
   {
    "duration": 0,
    "start_time": "2023-03-06T05:49:14.205Z"
   },
   {
    "duration": 0,
    "start_time": "2023-03-06T05:49:14.206Z"
   },
   {
    "duration": 0,
    "start_time": "2023-03-06T05:49:14.207Z"
   },
   {
    "duration": 0,
    "start_time": "2023-03-06T05:49:14.208Z"
   },
   {
    "duration": 0,
    "start_time": "2023-03-06T05:49:14.209Z"
   },
   {
    "duration": 0,
    "start_time": "2023-03-06T05:49:14.210Z"
   },
   {
    "duration": 0,
    "start_time": "2023-03-06T05:49:14.211Z"
   },
   {
    "duration": 0,
    "start_time": "2023-03-06T05:49:14.212Z"
   },
   {
    "duration": 0,
    "start_time": "2023-03-06T05:49:14.247Z"
   },
   {
    "duration": 10,
    "start_time": "2023-03-06T05:49:51.839Z"
   },
   {
    "duration": 11,
    "start_time": "2023-03-06T05:57:11.823Z"
   },
   {
    "duration": 22,
    "start_time": "2023-03-06T05:57:37.524Z"
   },
   {
    "duration": 23,
    "start_time": "2023-03-06T05:57:52.925Z"
   },
   {
    "duration": 17,
    "start_time": "2023-03-06T05:58:02.820Z"
   },
   {
    "duration": 16,
    "start_time": "2023-03-06T05:58:15.063Z"
   },
   {
    "duration": 24,
    "start_time": "2023-03-06T05:59:05.515Z"
   },
   {
    "duration": 1412,
    "start_time": "2023-03-06T06:00:11.971Z"
   },
   {
    "duration": 40,
    "start_time": "2023-03-06T06:00:13.385Z"
   },
   {
    "duration": 13,
    "start_time": "2023-03-06T06:00:13.427Z"
   },
   {
    "duration": 12,
    "start_time": "2023-03-06T06:00:13.442Z"
   },
   {
    "duration": 16,
    "start_time": "2023-03-06T06:00:13.457Z"
   },
   {
    "duration": 9,
    "start_time": "2023-03-06T06:00:13.474Z"
   },
   {
    "duration": 17,
    "start_time": "2023-03-06T06:00:13.484Z"
   },
   {
    "duration": 11,
    "start_time": "2023-03-06T06:00:13.502Z"
   },
   {
    "duration": 200,
    "start_time": "2023-03-06T06:00:13.514Z"
   },
   {
    "duration": 7,
    "start_time": "2023-03-06T06:00:13.716Z"
   },
   {
    "duration": 25,
    "start_time": "2023-03-06T06:00:13.724Z"
   },
   {
    "duration": 169,
    "start_time": "2023-03-06T06:00:13.751Z"
   },
   {
    "duration": 11,
    "start_time": "2023-03-06T06:00:13.924Z"
   },
   {
    "duration": 11,
    "start_time": "2023-03-06T06:00:13.948Z"
   },
   {
    "duration": 4,
    "start_time": "2023-03-06T06:00:13.960Z"
   },
   {
    "duration": 21,
    "start_time": "2023-03-06T06:00:13.965Z"
   },
   {
    "duration": 9,
    "start_time": "2023-03-06T06:00:13.987Z"
   },
   {
    "duration": 12,
    "start_time": "2023-03-06T06:00:13.998Z"
   },
   {
    "duration": 10,
    "start_time": "2023-03-06T06:00:14.012Z"
   },
   {
    "duration": 29,
    "start_time": "2023-03-06T06:00:14.023Z"
   },
   {
    "duration": 15,
    "start_time": "2023-03-06T06:00:14.054Z"
   },
   {
    "duration": 8,
    "start_time": "2023-03-06T06:00:14.070Z"
   },
   {
    "duration": 12,
    "start_time": "2023-03-06T06:00:14.080Z"
   },
   {
    "duration": 7,
    "start_time": "2023-03-06T06:00:20.176Z"
   },
   {
    "duration": 13,
    "start_time": "2023-03-06T06:00:21.042Z"
   },
   {
    "duration": 24,
    "start_time": "2023-03-06T06:00:31.767Z"
   },
   {
    "duration": 24,
    "start_time": "2023-03-06T06:00:39.427Z"
   },
   {
    "duration": 1314,
    "start_time": "2023-03-06T06:00:59.880Z"
   },
   {
    "duration": 44,
    "start_time": "2023-03-06T06:01:01.196Z"
   },
   {
    "duration": 14,
    "start_time": "2023-03-06T06:01:01.241Z"
   },
   {
    "duration": 68,
    "start_time": "2023-03-06T06:01:01.257Z"
   },
   {
    "duration": 33,
    "start_time": "2023-03-06T06:01:01.328Z"
   },
   {
    "duration": 27,
    "start_time": "2023-03-06T06:01:01.363Z"
   },
   {
    "duration": 91,
    "start_time": "2023-03-06T06:01:01.392Z"
   },
   {
    "duration": 61,
    "start_time": "2023-03-06T06:01:01.485Z"
   },
   {
    "duration": 243,
    "start_time": "2023-03-06T06:01:01.548Z"
   },
   {
    "duration": 8,
    "start_time": "2023-03-06T06:01:01.793Z"
   },
   {
    "duration": 62,
    "start_time": "2023-03-06T06:01:01.803Z"
   },
   {
    "duration": 219,
    "start_time": "2023-03-06T06:01:01.866Z"
   },
   {
    "duration": 12,
    "start_time": "2023-03-06T06:01:02.087Z"
   },
   {
    "duration": 53,
    "start_time": "2023-03-06T06:01:02.102Z"
   },
   {
    "duration": 5,
    "start_time": "2023-03-06T06:01:02.156Z"
   },
   {
    "duration": 43,
    "start_time": "2023-03-06T06:01:02.162Z"
   },
   {
    "duration": 38,
    "start_time": "2023-03-06T06:01:02.206Z"
   },
   {
    "duration": 59,
    "start_time": "2023-03-06T06:01:02.245Z"
   },
   {
    "duration": 22,
    "start_time": "2023-03-06T06:01:02.306Z"
   },
   {
    "duration": 26,
    "start_time": "2023-03-06T06:01:02.330Z"
   },
   {
    "duration": 26,
    "start_time": "2023-03-06T06:01:02.359Z"
   },
   {
    "duration": 26,
    "start_time": "2023-03-06T06:01:02.387Z"
   },
   {
    "duration": 32,
    "start_time": "2023-03-06T06:01:02.414Z"
   },
   {
    "duration": 7,
    "start_time": "2023-03-06T06:01:09.319Z"
   },
   {
    "duration": 9,
    "start_time": "2023-03-06T06:01:32.892Z"
   },
   {
    "duration": 25,
    "start_time": "2023-03-06T06:02:06.228Z"
   },
   {
    "duration": 14,
    "start_time": "2023-03-06T06:02:31.801Z"
   },
   {
    "duration": 1303,
    "start_time": "2023-03-06T06:05:17.100Z"
   },
   {
    "duration": 40,
    "start_time": "2023-03-06T06:05:18.405Z"
   },
   {
    "duration": 14,
    "start_time": "2023-03-06T06:05:18.446Z"
   },
   {
    "duration": 16,
    "start_time": "2023-03-06T06:05:18.461Z"
   },
   {
    "duration": 15,
    "start_time": "2023-03-06T06:05:18.479Z"
   },
   {
    "duration": 10,
    "start_time": "2023-03-06T06:05:18.495Z"
   },
   {
    "duration": 14,
    "start_time": "2023-03-06T06:05:18.507Z"
   },
   {
    "duration": 38,
    "start_time": "2023-03-06T06:05:18.522Z"
   },
   {
    "duration": 188,
    "start_time": "2023-03-06T06:05:18.562Z"
   },
   {
    "duration": 8,
    "start_time": "2023-03-06T06:05:18.751Z"
   },
   {
    "duration": 18,
    "start_time": "2023-03-06T06:05:18.760Z"
   },
   {
    "duration": 172,
    "start_time": "2023-03-06T06:05:18.780Z"
   },
   {
    "duration": 11,
    "start_time": "2023-03-06T06:05:18.954Z"
   },
   {
    "duration": 10,
    "start_time": "2023-03-06T06:05:18.967Z"
   },
   {
    "duration": 4,
    "start_time": "2023-03-06T06:05:18.978Z"
   },
   {
    "duration": 15,
    "start_time": "2023-03-06T06:05:18.983Z"
   },
   {
    "duration": 8,
    "start_time": "2023-03-06T06:05:19.000Z"
   },
   {
    "duration": 39,
    "start_time": "2023-03-06T06:05:19.009Z"
   },
   {
    "duration": 8,
    "start_time": "2023-03-06T06:05:19.050Z"
   },
   {
    "duration": 7,
    "start_time": "2023-03-06T06:05:19.060Z"
   },
   {
    "duration": 10,
    "start_time": "2023-03-06T06:05:19.069Z"
   },
   {
    "duration": 9,
    "start_time": "2023-03-06T06:05:19.081Z"
   },
   {
    "duration": 24,
    "start_time": "2023-03-06T06:05:19.091Z"
   },
   {
    "duration": 13,
    "start_time": "2023-03-06T06:05:24.494Z"
   },
   {
    "duration": 25,
    "start_time": "2023-03-06T06:05:26.258Z"
   },
   {
    "duration": 12,
    "start_time": "2023-03-06T06:05:38.376Z"
   },
   {
    "duration": 1442,
    "start_time": "2023-03-06T06:05:56.732Z"
   },
   {
    "duration": 41,
    "start_time": "2023-03-06T06:05:58.176Z"
   },
   {
    "duration": 13,
    "start_time": "2023-03-06T06:05:58.218Z"
   },
   {
    "duration": 12,
    "start_time": "2023-03-06T06:05:58.233Z"
   },
   {
    "duration": 22,
    "start_time": "2023-03-06T06:05:58.247Z"
   },
   {
    "duration": 24,
    "start_time": "2023-03-06T06:05:58.270Z"
   },
   {
    "duration": 17,
    "start_time": "2023-03-06T06:05:58.296Z"
   },
   {
    "duration": 11,
    "start_time": "2023-03-06T06:05:58.316Z"
   },
   {
    "duration": 176,
    "start_time": "2023-03-06T06:05:58.329Z"
   },
   {
    "duration": 7,
    "start_time": "2023-03-06T06:05:58.507Z"
   },
   {
    "duration": 12,
    "start_time": "2023-03-06T06:05:58.516Z"
   },
   {
    "duration": 161,
    "start_time": "2023-03-06T06:05:58.547Z"
   },
   {
    "duration": 12,
    "start_time": "2023-03-06T06:05:58.710Z"
   },
   {
    "duration": 29,
    "start_time": "2023-03-06T06:05:58.725Z"
   },
   {
    "duration": 5,
    "start_time": "2023-03-06T06:05:58.756Z"
   },
   {
    "duration": 16,
    "start_time": "2023-03-06T06:05:58.762Z"
   },
   {
    "duration": 8,
    "start_time": "2023-03-06T06:05:58.780Z"
   },
   {
    "duration": 12,
    "start_time": "2023-03-06T06:05:58.790Z"
   },
   {
    "duration": 12,
    "start_time": "2023-03-06T06:05:58.804Z"
   },
   {
    "duration": 9,
    "start_time": "2023-03-06T06:05:58.817Z"
   },
   {
    "duration": 28,
    "start_time": "2023-03-06T06:05:58.827Z"
   },
   {
    "duration": 10,
    "start_time": "2023-03-06T06:05:58.856Z"
   },
   {
    "duration": 30,
    "start_time": "2023-03-06T06:05:58.868Z"
   },
   {
    "duration": 4,
    "start_time": "2023-03-06T06:06:35.127Z"
   },
   {
    "duration": 48,
    "start_time": "2023-03-06T06:06:35.133Z"
   },
   {
    "duration": 15,
    "start_time": "2023-03-06T06:06:35.183Z"
   },
   {
    "duration": 18,
    "start_time": "2023-03-06T06:06:35.200Z"
   },
   {
    "duration": 23,
    "start_time": "2023-03-06T06:06:35.221Z"
   },
   {
    "duration": 16,
    "start_time": "2023-03-06T06:06:35.249Z"
   },
   {
    "duration": 30,
    "start_time": "2023-03-06T06:06:35.267Z"
   },
   {
    "duration": 14,
    "start_time": "2023-03-06T06:06:35.300Z"
   },
   {
    "duration": 174,
    "start_time": "2023-03-06T06:06:35.316Z"
   },
   {
    "duration": 8,
    "start_time": "2023-03-06T06:06:35.491Z"
   },
   {
    "duration": 30,
    "start_time": "2023-03-06T06:06:35.501Z"
   },
   {
    "duration": 169,
    "start_time": "2023-03-06T06:06:35.533Z"
   },
   {
    "duration": 13,
    "start_time": "2023-03-06T06:06:35.703Z"
   },
   {
    "duration": 13,
    "start_time": "2023-03-06T06:06:35.719Z"
   },
   {
    "duration": 4,
    "start_time": "2023-03-06T06:06:35.749Z"
   },
   {
    "duration": 16,
    "start_time": "2023-03-06T06:06:35.755Z"
   },
   {
    "duration": 10,
    "start_time": "2023-03-06T06:06:35.773Z"
   },
   {
    "duration": 12,
    "start_time": "2023-03-06T06:06:35.784Z"
   },
   {
    "duration": 10,
    "start_time": "2023-03-06T06:06:35.797Z"
   },
   {
    "duration": 6,
    "start_time": "2023-03-06T06:06:35.809Z"
   },
   {
    "duration": 15,
    "start_time": "2023-03-06T06:06:35.817Z"
   },
   {
    "duration": 4,
    "start_time": "2023-03-06T06:06:35.848Z"
   },
   {
    "duration": 2,
    "start_time": "2023-03-06T06:06:38.284Z"
   },
   {
    "duration": 15,
    "start_time": "2023-03-06T06:06:39.417Z"
   },
   {
    "duration": 11,
    "start_time": "2023-03-06T06:06:40.707Z"
   },
   {
    "duration": 17,
    "start_time": "2023-03-06T06:07:03.822Z"
   },
   {
    "duration": 17,
    "start_time": "2023-03-06T06:07:36.747Z"
   },
   {
    "duration": 17,
    "start_time": "2023-03-06T06:07:43.133Z"
   },
   {
    "duration": 14,
    "start_time": "2023-03-06T06:08:07.596Z"
   },
   {
    "duration": 15,
    "start_time": "2023-03-06T06:08:39.984Z"
   },
   {
    "duration": 23,
    "start_time": "2023-03-06T06:08:57.919Z"
   },
   {
    "duration": 20,
    "start_time": "2023-03-06T06:11:55.342Z"
   },
   {
    "duration": 12,
    "start_time": "2023-03-06T06:12:04.295Z"
   },
   {
    "duration": 11,
    "start_time": "2023-03-06T06:12:18.483Z"
   },
   {
    "duration": 1359,
    "start_time": "2023-03-06T06:13:02.002Z"
   },
   {
    "duration": 42,
    "start_time": "2023-03-06T06:13:03.363Z"
   },
   {
    "duration": 15,
    "start_time": "2023-03-06T06:13:03.407Z"
   },
   {
    "duration": 21,
    "start_time": "2023-03-06T06:13:03.423Z"
   },
   {
    "duration": 24,
    "start_time": "2023-03-06T06:13:03.447Z"
   },
   {
    "duration": 18,
    "start_time": "2023-03-06T06:13:03.473Z"
   },
   {
    "duration": 16,
    "start_time": "2023-03-06T06:13:03.493Z"
   },
   {
    "duration": 11,
    "start_time": "2023-03-06T06:13:03.512Z"
   },
   {
    "duration": 201,
    "start_time": "2023-03-06T06:13:03.525Z"
   },
   {
    "duration": 7,
    "start_time": "2023-03-06T06:13:03.728Z"
   },
   {
    "duration": 28,
    "start_time": "2023-03-06T06:13:03.736Z"
   },
   {
    "duration": 190,
    "start_time": "2023-03-06T06:13:03.766Z"
   },
   {
    "duration": 11,
    "start_time": "2023-03-06T06:13:03.958Z"
   },
   {
    "duration": 11,
    "start_time": "2023-03-06T06:13:03.972Z"
   },
   {
    "duration": 5,
    "start_time": "2023-03-06T06:13:03.985Z"
   },
   {
    "duration": 18,
    "start_time": "2023-03-06T06:13:03.992Z"
   },
   {
    "duration": 38,
    "start_time": "2023-03-06T06:13:04.012Z"
   },
   {
    "duration": 12,
    "start_time": "2023-03-06T06:13:04.052Z"
   },
   {
    "duration": 14,
    "start_time": "2023-03-06T06:13:04.066Z"
   },
   {
    "duration": 5,
    "start_time": "2023-03-06T06:13:04.082Z"
   },
   {
    "duration": 16,
    "start_time": "2023-03-06T06:13:04.089Z"
   },
   {
    "duration": 13,
    "start_time": "2023-03-06T06:13:04.107Z"
   },
   {
    "duration": 32,
    "start_time": "2023-03-06T06:13:04.122Z"
   },
   {
    "duration": 11,
    "start_time": "2023-03-06T06:13:07.151Z"
   },
   {
    "duration": 18,
    "start_time": "2023-03-06T06:13:10.960Z"
   },
   {
    "duration": 117,
    "start_time": "2023-03-06T06:16:11.409Z"
   },
   {
    "duration": 71,
    "start_time": "2023-03-06T06:16:17.336Z"
   },
   {
    "duration": 16,
    "start_time": "2023-03-06T06:16:22.160Z"
   },
   {
    "duration": 1347,
    "start_time": "2023-03-06T06:16:40.742Z"
   },
   {
    "duration": 44,
    "start_time": "2023-03-06T06:16:42.091Z"
   },
   {
    "duration": 14,
    "start_time": "2023-03-06T06:16:42.137Z"
   },
   {
    "duration": 13,
    "start_time": "2023-03-06T06:16:42.153Z"
   },
   {
    "duration": 14,
    "start_time": "2023-03-06T06:16:42.169Z"
   },
   {
    "duration": 10,
    "start_time": "2023-03-06T06:16:42.185Z"
   },
   {
    "duration": 11,
    "start_time": "2023-03-06T06:16:42.197Z"
   },
   {
    "duration": 43,
    "start_time": "2023-03-06T06:16:42.210Z"
   },
   {
    "duration": 183,
    "start_time": "2023-03-06T06:16:42.255Z"
   },
   {
    "duration": 14,
    "start_time": "2023-03-06T06:16:42.440Z"
   },
   {
    "duration": 12,
    "start_time": "2023-03-06T06:16:42.456Z"
   },
   {
    "duration": 179,
    "start_time": "2023-03-06T06:16:42.470Z"
   },
   {
    "duration": 12,
    "start_time": "2023-03-06T06:16:42.650Z"
   },
   {
    "duration": 10,
    "start_time": "2023-03-06T06:16:42.664Z"
   },
   {
    "duration": 4,
    "start_time": "2023-03-06T06:16:42.675Z"
   },
   {
    "duration": 15,
    "start_time": "2023-03-06T06:16:42.680Z"
   },
   {
    "duration": 37,
    "start_time": "2023-03-06T06:16:42.697Z"
   },
   {
    "duration": 16,
    "start_time": "2023-03-06T06:16:42.735Z"
   },
   {
    "duration": 8,
    "start_time": "2023-03-06T06:16:42.752Z"
   },
   {
    "duration": 5,
    "start_time": "2023-03-06T06:16:42.762Z"
   },
   {
    "duration": 11,
    "start_time": "2023-03-06T06:16:42.768Z"
   },
   {
    "duration": 9,
    "start_time": "2023-03-06T06:16:42.781Z"
   },
   {
    "duration": 14,
    "start_time": "2023-03-06T06:16:42.792Z"
   },
   {
    "duration": 11,
    "start_time": "2023-03-06T06:16:47.376Z"
   },
   {
    "duration": 19,
    "start_time": "2023-03-06T06:16:49.884Z"
   },
   {
    "duration": 16,
    "start_time": "2023-03-06T06:17:54.302Z"
   },
   {
    "duration": 86,
    "start_time": "2023-03-06T06:34:11.370Z"
   },
   {
    "duration": 11,
    "start_time": "2023-03-06T06:34:38.921Z"
   },
   {
    "duration": 3,
    "start_time": "2023-03-06T06:34:42.921Z"
   },
   {
    "duration": 17,
    "start_time": "2023-03-06T06:34:52.871Z"
   },
   {
    "duration": 1383,
    "start_time": "2023-03-06T06:35:07.790Z"
   },
   {
    "duration": 41,
    "start_time": "2023-03-06T06:35:09.175Z"
   },
   {
    "duration": 14,
    "start_time": "2023-03-06T06:35:09.218Z"
   },
   {
    "duration": 23,
    "start_time": "2023-03-06T06:35:09.234Z"
   },
   {
    "duration": 15,
    "start_time": "2023-03-06T06:35:09.259Z"
   },
   {
    "duration": 26,
    "start_time": "2023-03-06T06:35:09.276Z"
   },
   {
    "duration": 31,
    "start_time": "2023-03-06T06:35:09.304Z"
   },
   {
    "duration": 11,
    "start_time": "2023-03-06T06:35:09.337Z"
   },
   {
    "duration": 189,
    "start_time": "2023-03-06T06:35:09.350Z"
   },
   {
    "duration": 10,
    "start_time": "2023-03-06T06:35:09.541Z"
   },
   {
    "duration": 31,
    "start_time": "2023-03-06T06:35:09.553Z"
   },
   {
    "duration": 177,
    "start_time": "2023-03-06T06:35:09.586Z"
   },
   {
    "duration": 13,
    "start_time": "2023-03-06T06:35:09.766Z"
   },
   {
    "duration": 13,
    "start_time": "2023-03-06T06:35:09.782Z"
   },
   {
    "duration": 18,
    "start_time": "2023-03-06T06:35:09.797Z"
   },
   {
    "duration": 21,
    "start_time": "2023-03-06T06:35:09.816Z"
   },
   {
    "duration": 6,
    "start_time": "2023-03-06T06:35:09.848Z"
   },
   {
    "duration": 22,
    "start_time": "2023-03-06T06:35:09.856Z"
   },
   {
    "duration": 31,
    "start_time": "2023-03-06T06:35:09.880Z"
   },
   {
    "duration": 32,
    "start_time": "2023-03-06T06:35:09.913Z"
   },
   {
    "duration": 14,
    "start_time": "2023-03-06T06:35:09.946Z"
   },
   {
    "duration": 28,
    "start_time": "2023-03-06T06:35:09.962Z"
   },
   {
    "duration": 30,
    "start_time": "2023-03-06T06:35:09.992Z"
   },
   {
    "duration": 53,
    "start_time": "2023-03-06T06:35:10.024Z"
   },
   {
    "duration": 16,
    "start_time": "2023-03-06T06:35:15.406Z"
   },
   {
    "duration": 19,
    "start_time": "2023-03-06T06:42:11.156Z"
   },
   {
    "duration": 1562,
    "start_time": "2023-03-06T06:42:20.434Z"
   },
   {
    "duration": 40,
    "start_time": "2023-03-06T06:42:21.999Z"
   },
   {
    "duration": 15,
    "start_time": "2023-03-06T06:42:22.041Z"
   },
   {
    "duration": 29,
    "start_time": "2023-03-06T06:42:22.058Z"
   },
   {
    "duration": 26,
    "start_time": "2023-03-06T06:42:22.090Z"
   },
   {
    "duration": 28,
    "start_time": "2023-03-06T06:42:22.117Z"
   },
   {
    "duration": 26,
    "start_time": "2023-03-06T06:42:22.146Z"
   },
   {
    "duration": 33,
    "start_time": "2023-03-06T06:42:22.174Z"
   },
   {
    "duration": 207,
    "start_time": "2023-03-06T06:42:22.208Z"
   },
   {
    "duration": 7,
    "start_time": "2023-03-06T06:42:22.418Z"
   },
   {
    "duration": 32,
    "start_time": "2023-03-06T06:42:22.427Z"
   },
   {
    "duration": 183,
    "start_time": "2023-03-06T06:42:22.461Z"
   },
   {
    "duration": 14,
    "start_time": "2023-03-06T06:42:22.648Z"
   },
   {
    "duration": 30,
    "start_time": "2023-03-06T06:42:22.665Z"
   },
   {
    "duration": 10,
    "start_time": "2023-03-06T06:42:22.697Z"
   },
   {
    "duration": 17,
    "start_time": "2023-03-06T06:42:22.708Z"
   },
   {
    "duration": 13,
    "start_time": "2023-03-06T06:42:22.727Z"
   },
   {
    "duration": 10,
    "start_time": "2023-03-06T06:42:22.742Z"
   },
   {
    "duration": 8,
    "start_time": "2023-03-06T06:42:22.753Z"
   },
   {
    "duration": 8,
    "start_time": "2023-03-06T06:42:22.763Z"
   },
   {
    "duration": 16,
    "start_time": "2023-03-06T06:42:22.773Z"
   },
   {
    "duration": 8,
    "start_time": "2023-03-06T06:42:22.790Z"
   },
   {
    "duration": 19,
    "start_time": "2023-03-06T06:42:22.800Z"
   },
   {
    "duration": 33,
    "start_time": "2023-03-06T06:42:22.820Z"
   },
   {
    "duration": 17,
    "start_time": "2023-03-06T06:42:29.640Z"
   },
   {
    "duration": 18,
    "start_time": "2023-03-06T06:46:24.306Z"
   },
   {
    "duration": 17,
    "start_time": "2023-03-06T06:46:45.270Z"
   },
   {
    "duration": 15,
    "start_time": "2023-03-06T06:47:57.910Z"
   },
   {
    "duration": 13,
    "start_time": "2023-03-06T06:48:01.122Z"
   },
   {
    "duration": 1308,
    "start_time": "2023-03-06T06:48:18.100Z"
   },
   {
    "duration": 40,
    "start_time": "2023-03-06T06:48:19.410Z"
   },
   {
    "duration": 13,
    "start_time": "2023-03-06T06:48:19.452Z"
   },
   {
    "duration": 14,
    "start_time": "2023-03-06T06:48:19.466Z"
   },
   {
    "duration": 15,
    "start_time": "2023-03-06T06:48:19.482Z"
   },
   {
    "duration": 9,
    "start_time": "2023-03-06T06:48:19.499Z"
   },
   {
    "duration": 41,
    "start_time": "2023-03-06T06:48:19.510Z"
   },
   {
    "duration": 10,
    "start_time": "2023-03-06T06:48:19.553Z"
   },
   {
    "duration": 185,
    "start_time": "2023-03-06T06:48:19.565Z"
   },
   {
    "duration": 8,
    "start_time": "2023-03-06T06:48:19.752Z"
   },
   {
    "duration": 16,
    "start_time": "2023-03-06T06:48:19.762Z"
   },
   {
    "duration": 182,
    "start_time": "2023-03-06T06:48:19.780Z"
   },
   {
    "duration": 13,
    "start_time": "2023-03-06T06:48:19.964Z"
   },
   {
    "duration": 11,
    "start_time": "2023-03-06T06:48:19.980Z"
   },
   {
    "duration": 7,
    "start_time": "2023-03-06T06:48:19.993Z"
   },
   {
    "duration": 46,
    "start_time": "2023-03-06T06:48:20.002Z"
   },
   {
    "duration": 6,
    "start_time": "2023-03-06T06:48:20.050Z"
   },
   {
    "duration": 21,
    "start_time": "2023-03-06T06:48:20.058Z"
   },
   {
    "duration": 14,
    "start_time": "2023-03-06T06:48:20.081Z"
   },
   {
    "duration": 11,
    "start_time": "2023-03-06T06:48:24.732Z"
   },
   {
    "duration": 5,
    "start_time": "2023-03-06T06:48:26.823Z"
   },
   {
    "duration": 10,
    "start_time": "2023-03-06T06:48:32.806Z"
   },
   {
    "duration": 3,
    "start_time": "2023-03-06T06:48:35.439Z"
   },
   {
    "duration": 14,
    "start_time": "2023-03-06T06:49:05.384Z"
   },
   {
    "duration": 14,
    "start_time": "2023-03-06T06:49:21.861Z"
   },
   {
    "duration": 12,
    "start_time": "2023-03-06T06:50:10.940Z"
   },
   {
    "duration": 11,
    "start_time": "2023-03-06T06:50:53.941Z"
   },
   {
    "duration": 1453,
    "start_time": "2023-03-07T06:09:16.875Z"
   },
   {
    "duration": 79,
    "start_time": "2023-03-07T06:09:18.331Z"
   },
   {
    "duration": 13,
    "start_time": "2023-03-07T06:09:18.411Z"
   },
   {
    "duration": 12,
    "start_time": "2023-03-07T06:09:18.426Z"
   },
   {
    "duration": 14,
    "start_time": "2023-03-07T06:09:18.439Z"
   },
   {
    "duration": 8,
    "start_time": "2023-03-07T06:09:18.454Z"
   },
   {
    "duration": 14,
    "start_time": "2023-03-07T06:09:18.463Z"
   },
   {
    "duration": 10,
    "start_time": "2023-03-07T06:09:18.478Z"
   },
   {
    "duration": 184,
    "start_time": "2023-03-07T06:09:18.489Z"
   },
   {
    "duration": 6,
    "start_time": "2023-03-07T06:09:18.674Z"
   },
   {
    "duration": 12,
    "start_time": "2023-03-07T06:09:18.682Z"
   },
   {
    "duration": 178,
    "start_time": "2023-03-07T06:09:18.696Z"
   },
   {
    "duration": 12,
    "start_time": "2023-03-07T06:09:18.875Z"
   },
   {
    "duration": 9,
    "start_time": "2023-03-07T06:09:18.889Z"
   },
   {
    "duration": 4,
    "start_time": "2023-03-07T06:09:18.899Z"
   },
   {
    "duration": 37,
    "start_time": "2023-03-07T06:09:18.904Z"
   },
   {
    "duration": 5,
    "start_time": "2023-03-07T06:09:18.943Z"
   },
   {
    "duration": 12,
    "start_time": "2023-03-07T06:09:18.950Z"
   },
   {
    "duration": 8,
    "start_time": "2023-03-07T06:09:18.964Z"
   },
   {
    "duration": 6,
    "start_time": "2023-03-07T06:09:18.973Z"
   },
   {
    "duration": 8,
    "start_time": "2023-03-07T06:09:18.981Z"
   },
   {
    "duration": 2,
    "start_time": "2023-03-07T06:09:24.631Z"
   },
   {
    "duration": 12,
    "start_time": "2023-03-07T06:09:27.193Z"
   },
   {
    "duration": 18,
    "start_time": "2023-03-07T06:09:47.900Z"
   },
   {
    "duration": 4,
    "start_time": "2023-03-07T06:10:27.799Z"
   },
   {
    "duration": 11,
    "start_time": "2023-03-07T06:10:34.550Z"
   },
   {
    "duration": 3,
    "start_time": "2023-03-07T06:10:52.597Z"
   },
   {
    "duration": 6,
    "start_time": "2023-03-07T06:11:02.340Z"
   },
   {
    "duration": 9,
    "start_time": "2023-03-07T06:16:20.017Z"
   },
   {
    "duration": 75,
    "start_time": "2023-03-07T06:19:28.616Z"
   },
   {
    "duration": 161,
    "start_time": "2023-03-07T06:19:33.396Z"
   },
   {
    "duration": 26,
    "start_time": "2023-03-07T06:19:43.353Z"
   },
   {
    "duration": 18,
    "start_time": "2023-03-07T06:20:17.449Z"
   },
   {
    "duration": 16,
    "start_time": "2023-03-07T06:22:43.533Z"
   },
   {
    "duration": 21,
    "start_time": "2023-03-07T06:22:46.652Z"
   },
   {
    "duration": 18,
    "start_time": "2023-03-07T06:22:47.638Z"
   },
   {
    "duration": 9,
    "start_time": "2023-03-07T06:22:55.765Z"
   },
   {
    "duration": 5,
    "start_time": "2023-03-07T06:23:30.771Z"
   },
   {
    "duration": 5,
    "start_time": "2023-03-07T06:24:00.051Z"
   },
   {
    "duration": 4,
    "start_time": "2023-03-07T06:24:17.503Z"
   },
   {
    "duration": 1334,
    "start_time": "2023-03-07T06:24:28.023Z"
   },
   {
    "duration": 41,
    "start_time": "2023-03-07T06:24:29.359Z"
   },
   {
    "duration": 15,
    "start_time": "2023-03-07T06:24:29.402Z"
   },
   {
    "duration": 11,
    "start_time": "2023-03-07T06:24:29.419Z"
   },
   {
    "duration": 21,
    "start_time": "2023-03-07T06:24:29.433Z"
   },
   {
    "duration": 13,
    "start_time": "2023-03-07T06:24:29.456Z"
   },
   {
    "duration": 13,
    "start_time": "2023-03-07T06:24:29.471Z"
   },
   {
    "duration": 9,
    "start_time": "2023-03-07T06:24:29.486Z"
   },
   {
    "duration": 193,
    "start_time": "2023-03-07T06:24:29.497Z"
   },
   {
    "duration": 7,
    "start_time": "2023-03-07T06:24:29.692Z"
   },
   {
    "duration": 11,
    "start_time": "2023-03-07T06:24:29.700Z"
   },
   {
    "duration": 169,
    "start_time": "2023-03-07T06:24:29.712Z"
   },
   {
    "duration": 11,
    "start_time": "2023-03-07T06:24:29.884Z"
   },
   {
    "duration": 9,
    "start_time": "2023-03-07T06:24:29.897Z"
   },
   {
    "duration": 3,
    "start_time": "2023-03-07T06:24:29.907Z"
   },
   {
    "duration": 34,
    "start_time": "2023-03-07T06:24:29.912Z"
   },
   {
    "duration": 7,
    "start_time": "2023-03-07T06:24:29.951Z"
   },
   {
    "duration": 15,
    "start_time": "2023-03-07T06:24:29.959Z"
   },
   {
    "duration": 8,
    "start_time": "2023-03-07T06:24:29.975Z"
   },
   {
    "duration": 8,
    "start_time": "2023-03-07T06:24:29.985Z"
   },
   {
    "duration": 48,
    "start_time": "2023-03-07T06:24:29.995Z"
   },
   {
    "duration": 12,
    "start_time": "2023-03-07T06:24:30.045Z"
   },
   {
    "duration": 9,
    "start_time": "2023-03-07T06:24:30.059Z"
   },
   {
    "duration": 10,
    "start_time": "2023-03-07T06:25:37.599Z"
   },
   {
    "duration": 103,
    "start_time": "2023-03-07T06:26:44.522Z"
   },
   {
    "duration": 5,
    "start_time": "2023-03-07T06:27:37.327Z"
   },
   {
    "duration": 5,
    "start_time": "2023-03-07T06:27:47.332Z"
   },
   {
    "duration": 53,
    "start_time": "2023-03-07T06:28:35.430Z"
   },
   {
    "duration": 1378,
    "start_time": "2023-03-07T06:28:39.023Z"
   },
   {
    "duration": 46,
    "start_time": "2023-03-07T06:28:40.404Z"
   },
   {
    "duration": 14,
    "start_time": "2023-03-07T06:28:40.451Z"
   },
   {
    "duration": 14,
    "start_time": "2023-03-07T06:28:40.467Z"
   },
   {
    "duration": 15,
    "start_time": "2023-03-07T06:28:40.483Z"
   },
   {
    "duration": 8,
    "start_time": "2023-03-07T06:28:40.500Z"
   },
   {
    "duration": 15,
    "start_time": "2023-03-07T06:28:40.535Z"
   },
   {
    "duration": 19,
    "start_time": "2023-03-07T06:28:40.552Z"
   },
   {
    "duration": 186,
    "start_time": "2023-03-07T06:28:40.573Z"
   },
   {
    "duration": 8,
    "start_time": "2023-03-07T06:28:40.761Z"
   },
   {
    "duration": 17,
    "start_time": "2023-03-07T06:28:40.771Z"
   },
   {
    "duration": 176,
    "start_time": "2023-03-07T06:28:40.790Z"
   },
   {
    "duration": 12,
    "start_time": "2023-03-07T06:28:40.968Z"
   },
   {
    "duration": 17,
    "start_time": "2023-03-07T06:28:40.983Z"
   },
   {
    "duration": 4,
    "start_time": "2023-03-07T06:28:41.001Z"
   },
   {
    "duration": 32,
    "start_time": "2023-03-07T06:28:41.007Z"
   },
   {
    "duration": 21,
    "start_time": "2023-03-07T06:28:41.043Z"
   },
   {
    "duration": 103,
    "start_time": "2023-03-07T06:28:47.580Z"
   },
   {
    "duration": 9,
    "start_time": "2023-03-07T06:29:12.079Z"
   },
   {
    "duration": 9,
    "start_time": "2023-03-07T06:29:21.846Z"
   },
   {
    "duration": 18,
    "start_time": "2023-03-07T06:29:30.211Z"
   },
   {
    "duration": 11,
    "start_time": "2023-03-07T06:30:27.052Z"
   },
   {
    "duration": 8,
    "start_time": "2023-03-07T06:30:37.323Z"
   },
   {
    "duration": 5,
    "start_time": "2023-03-07T06:31:40.266Z"
   },
   {
    "duration": 5,
    "start_time": "2023-03-07T06:31:47.808Z"
   },
   {
    "duration": 12,
    "start_time": "2023-03-07T06:34:54.579Z"
   },
   {
    "duration": 10,
    "start_time": "2023-03-07T06:35:32.172Z"
   },
   {
    "duration": 9,
    "start_time": "2023-03-07T06:35:48.615Z"
   },
   {
    "duration": 3,
    "start_time": "2023-03-07T06:40:25.407Z"
   },
   {
    "duration": 9,
    "start_time": "2023-03-07T06:41:39.880Z"
   },
   {
    "duration": 535,
    "start_time": "2023-03-07T06:44:06.707Z"
   },
   {
    "duration": 3,
    "start_time": "2023-03-07T06:44:18.181Z"
   },
   {
    "duration": 356,
    "start_time": "2023-03-07T06:44:24.385Z"
   },
   {
    "duration": 8,
    "start_time": "2023-03-07T06:56:27.564Z"
   },
   {
    "duration": 8,
    "start_time": "2023-03-07T06:56:29.879Z"
   },
   {
    "duration": 6,
    "start_time": "2023-03-07T06:56:30.526Z"
   },
   {
    "duration": 8,
    "start_time": "2023-03-07T06:57:48.715Z"
   },
   {
    "duration": 9,
    "start_time": "2023-03-07T07:01:19.813Z"
   },
   {
    "duration": 7,
    "start_time": "2023-03-07T07:01:23.097Z"
   },
   {
    "duration": 15,
    "start_time": "2023-03-07T07:01:26.347Z"
   },
   {
    "duration": 4,
    "start_time": "2023-03-07T07:01:41.055Z"
   },
   {
    "duration": 12,
    "start_time": "2023-03-07T07:18:33.855Z"
   },
   {
    "duration": 1303,
    "start_time": "2023-03-07T07:19:07.015Z"
   },
   {
    "duration": 43,
    "start_time": "2023-03-07T07:19:08.320Z"
   },
   {
    "duration": 11,
    "start_time": "2023-03-07T07:19:08.365Z"
   },
   {
    "duration": 11,
    "start_time": "2023-03-07T07:19:08.378Z"
   },
   {
    "duration": 19,
    "start_time": "2023-03-07T07:19:08.391Z"
   },
   {
    "duration": 8,
    "start_time": "2023-03-07T07:19:08.411Z"
   },
   {
    "duration": 15,
    "start_time": "2023-03-07T07:19:08.420Z"
   },
   {
    "duration": 9,
    "start_time": "2023-03-07T07:19:08.436Z"
   },
   {
    "duration": 164,
    "start_time": "2023-03-07T07:19:08.447Z"
   },
   {
    "duration": 8,
    "start_time": "2023-03-07T07:19:08.612Z"
   },
   {
    "duration": 21,
    "start_time": "2023-03-07T07:19:08.621Z"
   },
   {
    "duration": 154,
    "start_time": "2023-03-07T07:19:08.644Z"
   },
   {
    "duration": 11,
    "start_time": "2023-03-07T07:19:08.800Z"
   },
   {
    "duration": 28,
    "start_time": "2023-03-07T07:19:08.814Z"
   },
   {
    "duration": 3,
    "start_time": "2023-03-07T07:19:08.844Z"
   },
   {
    "duration": 13,
    "start_time": "2023-03-07T07:19:08.848Z"
   },
   {
    "duration": 2,
    "start_time": "2023-03-07T07:19:08.862Z"
   },
   {
    "duration": 4,
    "start_time": "2023-03-07T07:19:08.866Z"
   },
   {
    "duration": 6,
    "start_time": "2023-03-07T07:19:08.872Z"
   },
   {
    "duration": 10,
    "start_time": "2023-03-07T07:19:08.879Z"
   },
   {
    "duration": 7,
    "start_time": "2023-03-07T07:19:12.706Z"
   },
   {
    "duration": 101,
    "start_time": "2023-03-07T07:19:13.708Z"
   },
   {
    "duration": 19,
    "start_time": "2023-03-07T07:19:33.170Z"
   },
   {
    "duration": 9,
    "start_time": "2023-03-07T07:19:34.948Z"
   },
   {
    "duration": 5,
    "start_time": "2023-03-07T07:19:42.130Z"
   },
   {
    "duration": 14,
    "start_time": "2023-03-07T07:19:48.889Z"
   },
   {
    "duration": 14,
    "start_time": "2023-03-07T07:20:02.864Z"
   },
   {
    "duration": 13,
    "start_time": "2023-03-07T07:21:24.348Z"
   },
   {
    "duration": 13,
    "start_time": "2023-03-07T07:21:50.199Z"
   },
   {
    "duration": 1275,
    "start_time": "2023-03-07T07:22:50.134Z"
   },
   {
    "duration": 40,
    "start_time": "2023-03-07T07:22:51.411Z"
   },
   {
    "duration": 13,
    "start_time": "2023-03-07T07:22:51.453Z"
   },
   {
    "duration": 28,
    "start_time": "2023-03-07T07:22:51.467Z"
   },
   {
    "duration": 16,
    "start_time": "2023-03-07T07:22:51.498Z"
   },
   {
    "duration": 38,
    "start_time": "2023-03-07T07:22:51.516Z"
   },
   {
    "duration": 32,
    "start_time": "2023-03-07T07:22:51.556Z"
   },
   {
    "duration": 10,
    "start_time": "2023-03-07T07:22:51.590Z"
   },
   {
    "duration": 174,
    "start_time": "2023-03-07T07:22:51.601Z"
   },
   {
    "duration": 7,
    "start_time": "2023-03-07T07:22:51.777Z"
   },
   {
    "duration": 17,
    "start_time": "2023-03-07T07:22:51.785Z"
   },
   {
    "duration": 157,
    "start_time": "2023-03-07T07:22:51.803Z"
   },
   {
    "duration": 11,
    "start_time": "2023-03-07T07:22:51.962Z"
   },
   {
    "duration": 17,
    "start_time": "2023-03-07T07:22:51.976Z"
   },
   {
    "duration": 4,
    "start_time": "2023-03-07T07:22:51.995Z"
   },
   {
    "duration": 32,
    "start_time": "2023-03-07T07:22:52.001Z"
   },
   {
    "duration": 3,
    "start_time": "2023-03-07T07:22:52.035Z"
   },
   {
    "duration": 10,
    "start_time": "2023-03-07T07:22:52.040Z"
   },
   {
    "duration": 13,
    "start_time": "2023-03-07T07:22:52.051Z"
   },
   {
    "duration": 14,
    "start_time": "2023-03-07T07:22:52.066Z"
   },
   {
    "duration": 9,
    "start_time": "2023-03-07T07:23:16.131Z"
   },
   {
    "duration": 5,
    "start_time": "2023-03-07T07:23:19.732Z"
   },
   {
    "duration": 24,
    "start_time": "2023-03-07T07:23:20.899Z"
   },
   {
    "duration": 16,
    "start_time": "2023-03-07T07:23:52.599Z"
   },
   {
    "duration": 14,
    "start_time": "2023-03-07T07:24:02.816Z"
   },
   {
    "duration": 5,
    "start_time": "2023-03-07T07:25:15.712Z"
   },
   {
    "duration": 24,
    "start_time": "2023-03-07T07:25:26.366Z"
   },
   {
    "duration": 107,
    "start_time": "2023-03-07T07:26:03.053Z"
   },
   {
    "duration": 1280,
    "start_time": "2023-03-07T07:26:38.752Z"
   },
   {
    "duration": 39,
    "start_time": "2023-03-07T07:26:40.034Z"
   },
   {
    "duration": 11,
    "start_time": "2023-03-07T07:26:40.075Z"
   },
   {
    "duration": 12,
    "start_time": "2023-03-07T07:26:40.088Z"
   },
   {
    "duration": 13,
    "start_time": "2023-03-07T07:26:40.102Z"
   },
   {
    "duration": 17,
    "start_time": "2023-03-07T07:26:40.117Z"
   },
   {
    "duration": 11,
    "start_time": "2023-03-07T07:26:40.135Z"
   },
   {
    "duration": 10,
    "start_time": "2023-03-07T07:26:40.147Z"
   },
   {
    "duration": 178,
    "start_time": "2023-03-07T07:26:40.159Z"
   },
   {
    "duration": 6,
    "start_time": "2023-03-07T07:26:40.339Z"
   },
   {
    "duration": 32,
    "start_time": "2023-03-07T07:26:40.347Z"
   },
   {
    "duration": 146,
    "start_time": "2023-03-07T07:26:40.381Z"
   },
   {
    "duration": 13,
    "start_time": "2023-03-07T07:26:40.528Z"
   },
   {
    "duration": 9,
    "start_time": "2023-03-07T07:26:40.543Z"
   },
   {
    "duration": 13,
    "start_time": "2023-03-07T07:26:40.554Z"
   },
   {
    "duration": 33,
    "start_time": "2023-03-07T07:26:40.569Z"
   },
   {
    "duration": 34,
    "start_time": "2023-03-07T07:26:40.604Z"
   },
   {
    "duration": 41,
    "start_time": "2023-03-07T07:26:40.640Z"
   },
   {
    "duration": 28,
    "start_time": "2023-03-07T07:26:40.683Z"
   },
   {
    "duration": 29,
    "start_time": "2023-03-07T07:26:40.713Z"
   },
   {
    "duration": 37,
    "start_time": "2023-03-07T07:26:40.743Z"
   },
   {
    "duration": 12,
    "start_time": "2023-03-07T07:26:40.782Z"
   },
   {
    "duration": 5,
    "start_time": "2023-03-07T07:26:41.714Z"
   },
   {
    "duration": 17,
    "start_time": "2023-03-07T07:26:43.538Z"
   },
   {
    "duration": 7,
    "start_time": "2023-03-07T07:27:02.109Z"
   },
   {
    "duration": 3,
    "start_time": "2023-03-07T07:31:16.492Z"
   },
   {
    "duration": 105,
    "start_time": "2023-03-07T07:31:33.546Z"
   },
   {
    "duration": 1315,
    "start_time": "2023-03-07T07:32:46.425Z"
   },
   {
    "duration": 40,
    "start_time": "2023-03-07T07:32:47.742Z"
   },
   {
    "duration": 12,
    "start_time": "2023-03-07T07:32:47.784Z"
   },
   {
    "duration": 12,
    "start_time": "2023-03-07T07:32:47.798Z"
   },
   {
    "duration": 18,
    "start_time": "2023-03-07T07:32:47.813Z"
   },
   {
    "duration": 11,
    "start_time": "2023-03-07T07:32:47.833Z"
   },
   {
    "duration": 43,
    "start_time": "2023-03-07T07:32:47.845Z"
   },
   {
    "duration": 29,
    "start_time": "2023-03-07T07:32:47.890Z"
   },
   {
    "duration": 154,
    "start_time": "2023-03-07T07:32:47.920Z"
   },
   {
    "duration": 6,
    "start_time": "2023-03-07T07:32:48.076Z"
   },
   {
    "duration": 22,
    "start_time": "2023-03-07T07:32:48.084Z"
   },
   {
    "duration": 151,
    "start_time": "2023-03-07T07:32:48.107Z"
   },
   {
    "duration": 10,
    "start_time": "2023-03-07T07:32:48.260Z"
   },
   {
    "duration": 10,
    "start_time": "2023-03-07T07:32:48.272Z"
   },
   {
    "duration": 8,
    "start_time": "2023-03-07T07:32:48.283Z"
   },
   {
    "duration": 39,
    "start_time": "2023-03-07T07:32:48.293Z"
   },
   {
    "duration": 12,
    "start_time": "2023-03-07T07:32:48.334Z"
   },
   {
    "duration": 29,
    "start_time": "2023-03-07T07:32:48.348Z"
   },
   {
    "duration": 31,
    "start_time": "2023-03-07T07:32:48.379Z"
   },
   {
    "duration": 9,
    "start_time": "2023-03-07T07:33:08.547Z"
   },
   {
    "duration": 5,
    "start_time": "2023-03-07T07:34:26.896Z"
   },
   {
    "duration": 2,
    "start_time": "2023-03-07T07:34:53.079Z"
   },
   {
    "duration": 6,
    "start_time": "2023-03-07T07:34:54.465Z"
   },
   {
    "duration": 4,
    "start_time": "2023-03-07T07:34:55.332Z"
   },
   {
    "duration": 18,
    "start_time": "2023-03-07T07:34:56.165Z"
   },
   {
    "duration": 20,
    "start_time": "2023-03-07T07:38:46.650Z"
   },
   {
    "duration": 1283,
    "start_time": "2023-03-07T07:41:57.050Z"
   },
   {
    "duration": 40,
    "start_time": "2023-03-07T07:41:58.334Z"
   },
   {
    "duration": 11,
    "start_time": "2023-03-07T07:41:58.376Z"
   },
   {
    "duration": 12,
    "start_time": "2023-03-07T07:41:58.389Z"
   },
   {
    "duration": 13,
    "start_time": "2023-03-07T07:41:58.403Z"
   },
   {
    "duration": 15,
    "start_time": "2023-03-07T07:41:58.418Z"
   },
   {
    "duration": 10,
    "start_time": "2023-03-07T07:41:58.434Z"
   },
   {
    "duration": 9,
    "start_time": "2023-03-07T07:41:58.446Z"
   },
   {
    "duration": 176,
    "start_time": "2023-03-07T07:41:58.456Z"
   },
   {
    "duration": 6,
    "start_time": "2023-03-07T07:41:58.634Z"
   },
   {
    "duration": 10,
    "start_time": "2023-03-07T07:41:58.642Z"
   },
   {
    "duration": 161,
    "start_time": "2023-03-07T07:41:58.653Z"
   },
   {
    "duration": 10,
    "start_time": "2023-03-07T07:41:58.816Z"
   },
   {
    "duration": 13,
    "start_time": "2023-03-07T07:41:58.828Z"
   },
   {
    "duration": 4,
    "start_time": "2023-03-07T07:41:58.843Z"
   },
   {
    "duration": 17,
    "start_time": "2023-03-07T07:41:58.849Z"
   },
   {
    "duration": 12,
    "start_time": "2023-03-07T07:41:58.867Z"
   },
   {
    "duration": 4,
    "start_time": "2023-03-07T07:41:58.880Z"
   },
   {
    "duration": 7,
    "start_time": "2023-03-07T07:41:58.886Z"
   },
   {
    "duration": 10,
    "start_time": "2023-03-07T07:41:58.894Z"
   },
   {
    "duration": 28,
    "start_time": "2023-03-07T07:41:58.905Z"
   },
   {
    "duration": 4,
    "start_time": "2023-03-07T07:41:58.935Z"
   },
   {
    "duration": 17,
    "start_time": "2023-03-07T07:41:58.941Z"
   },
   {
    "duration": 8,
    "start_time": "2023-03-07T07:41:58.960Z"
   },
   {
    "duration": 6,
    "start_time": "2023-03-07T07:41:58.970Z"
   },
   {
    "duration": 18,
    "start_time": "2023-03-07T07:41:58.978Z"
   },
   {
    "duration": 102,
    "start_time": "2023-03-07T07:41:58.997Z"
   },
   {
    "duration": 0,
    "start_time": "2023-03-07T07:41:59.100Z"
   },
   {
    "duration": 13,
    "start_time": "2023-03-07T07:42:51.997Z"
   },
   {
    "duration": 8,
    "start_time": "2023-03-07T07:43:14.112Z"
   },
   {
    "duration": 15,
    "start_time": "2023-03-07T07:43:28.584Z"
   },
   {
    "duration": 16,
    "start_time": "2023-03-07T07:44:52.717Z"
   },
   {
    "duration": 13,
    "start_time": "2023-03-07T07:45:42.096Z"
   },
   {
    "duration": 19,
    "start_time": "2023-03-07T07:46:07.547Z"
   },
   {
    "duration": 8,
    "start_time": "2023-03-07T07:46:25.183Z"
   },
   {
    "duration": 8,
    "start_time": "2023-03-07T07:46:38.698Z"
   },
   {
    "duration": 10,
    "start_time": "2023-03-07T07:46:51.546Z"
   },
   {
    "duration": 15,
    "start_time": "2023-03-07T07:47:17.531Z"
   },
   {
    "duration": 17,
    "start_time": "2023-03-07T07:48:19.632Z"
   },
   {
    "duration": 14,
    "start_time": "2023-03-07T07:48:56.184Z"
   },
   {
    "duration": 1317,
    "start_time": "2023-03-07T07:50:44.500Z"
   },
   {
    "duration": 43,
    "start_time": "2023-03-07T07:50:45.819Z"
   },
   {
    "duration": 12,
    "start_time": "2023-03-07T07:50:45.863Z"
   },
   {
    "duration": 19,
    "start_time": "2023-03-07T07:50:45.877Z"
   },
   {
    "duration": 16,
    "start_time": "2023-03-07T07:50:45.898Z"
   },
   {
    "duration": 12,
    "start_time": "2023-03-07T07:50:45.915Z"
   },
   {
    "duration": 10,
    "start_time": "2023-03-07T07:50:45.929Z"
   },
   {
    "duration": 17,
    "start_time": "2023-03-07T07:50:45.940Z"
   },
   {
    "duration": 168,
    "start_time": "2023-03-07T07:50:45.958Z"
   },
   {
    "duration": 9,
    "start_time": "2023-03-07T07:50:46.128Z"
   },
   {
    "duration": 27,
    "start_time": "2023-03-07T07:50:46.138Z"
   },
   {
    "duration": 180,
    "start_time": "2023-03-07T07:50:46.167Z"
   },
   {
    "duration": 13,
    "start_time": "2023-03-07T07:50:46.349Z"
   },
   {
    "duration": 12,
    "start_time": "2023-03-07T07:50:46.366Z"
   },
   {
    "duration": 6,
    "start_time": "2023-03-07T07:50:46.380Z"
   },
   {
    "duration": 23,
    "start_time": "2023-03-07T07:50:46.387Z"
   },
   {
    "duration": 11,
    "start_time": "2023-03-07T07:50:46.433Z"
   },
   {
    "duration": 43,
    "start_time": "2023-03-07T07:50:46.446Z"
   },
   {
    "duration": 28,
    "start_time": "2023-03-07T07:50:46.491Z"
   },
   {
    "duration": 24,
    "start_time": "2023-03-07T07:50:46.521Z"
   },
   {
    "duration": 15,
    "start_time": "2023-03-07T07:50:46.547Z"
   },
   {
    "duration": 32,
    "start_time": "2023-03-07T07:50:46.564Z"
   },
   {
    "duration": 30,
    "start_time": "2023-03-07T07:50:46.600Z"
   },
   {
    "duration": 13,
    "start_time": "2023-03-07T07:50:46.632Z"
   },
   {
    "duration": 12,
    "start_time": "2023-03-07T07:50:46.646Z"
   },
   {
    "duration": 25,
    "start_time": "2023-03-07T07:50:46.660Z"
   },
   {
    "duration": 7,
    "start_time": "2023-03-07T07:50:46.687Z"
   },
   {
    "duration": 12,
    "start_time": "2023-03-07T07:50:46.696Z"
   },
   {
    "duration": 25,
    "start_time": "2023-03-07T07:50:46.709Z"
   },
   {
    "duration": 22,
    "start_time": "2023-03-07T07:51:35.531Z"
   },
   {
    "duration": 109,
    "start_time": "2023-03-07T07:51:43.777Z"
   },
   {
    "duration": 17,
    "start_time": "2023-03-07T07:51:48.824Z"
   },
   {
    "duration": 1266,
    "start_time": "2023-03-07T07:51:59.989Z"
   },
   {
    "duration": 39,
    "start_time": "2023-03-07T07:52:01.257Z"
   },
   {
    "duration": 12,
    "start_time": "2023-03-07T07:52:01.298Z"
   },
   {
    "duration": 39,
    "start_time": "2023-03-07T07:52:01.311Z"
   },
   {
    "duration": 44,
    "start_time": "2023-03-07T07:52:01.353Z"
   },
   {
    "duration": 33,
    "start_time": "2023-03-07T07:52:01.399Z"
   },
   {
    "duration": 51,
    "start_time": "2023-03-07T07:52:01.433Z"
   },
   {
    "duration": 59,
    "start_time": "2023-03-07T07:52:01.486Z"
   },
   {
    "duration": 200,
    "start_time": "2023-03-07T07:52:01.547Z"
   },
   {
    "duration": 8,
    "start_time": "2023-03-07T07:52:01.749Z"
   },
   {
    "duration": 20,
    "start_time": "2023-03-07T07:52:01.758Z"
   },
   {
    "duration": 198,
    "start_time": "2023-03-07T07:52:01.780Z"
   },
   {
    "duration": 14,
    "start_time": "2023-03-07T07:52:01.980Z"
   },
   {
    "duration": 15,
    "start_time": "2023-03-07T07:52:01.997Z"
   },
   {
    "duration": 25,
    "start_time": "2023-03-07T07:52:02.013Z"
   },
   {
    "duration": 24,
    "start_time": "2023-03-07T07:52:02.039Z"
   },
   {
    "duration": 38,
    "start_time": "2023-03-07T07:52:02.065Z"
   },
   {
    "duration": 21,
    "start_time": "2023-03-07T07:52:02.105Z"
   },
   {
    "duration": 11,
    "start_time": "2023-03-07T07:52:02.128Z"
   },
   {
    "duration": 18,
    "start_time": "2023-03-07T07:52:02.140Z"
   },
   {
    "duration": 18,
    "start_time": "2023-03-07T07:52:02.159Z"
   },
   {
    "duration": 9,
    "start_time": "2023-03-07T07:52:02.178Z"
   },
   {
    "duration": 8,
    "start_time": "2023-03-07T07:52:02.189Z"
   },
   {
    "duration": 14,
    "start_time": "2023-03-07T07:52:02.198Z"
   },
   {
    "duration": 17,
    "start_time": "2023-03-07T07:52:02.214Z"
   },
   {
    "duration": 30,
    "start_time": "2023-03-07T07:52:02.233Z"
   },
   {
    "duration": 9,
    "start_time": "2023-03-07T07:52:02.265Z"
   },
   {
    "duration": 31,
    "start_time": "2023-03-07T07:52:02.275Z"
   },
   {
    "duration": 16,
    "start_time": "2023-03-07T07:52:02.308Z"
   },
   {
    "duration": 12,
    "start_time": "2023-03-07T07:52:02.326Z"
   },
   {
    "duration": 20,
    "start_time": "2023-03-07T07:52:02.339Z"
   },
   {
    "duration": 112,
    "start_time": "2023-03-07T07:52:02.361Z"
   },
   {
    "duration": 14,
    "start_time": "2023-03-07T07:57:28.285Z"
   },
   {
    "duration": 1305,
    "start_time": "2023-03-07T07:57:42.092Z"
   },
   {
    "duration": 45,
    "start_time": "2023-03-07T07:57:43.398Z"
   },
   {
    "duration": 20,
    "start_time": "2023-03-07T07:57:43.446Z"
   },
   {
    "duration": 15,
    "start_time": "2023-03-07T07:57:43.467Z"
   },
   {
    "duration": 13,
    "start_time": "2023-03-07T07:57:43.484Z"
   },
   {
    "duration": 35,
    "start_time": "2023-03-07T07:57:43.499Z"
   },
   {
    "duration": 16,
    "start_time": "2023-03-07T07:57:43.537Z"
   },
   {
    "duration": 16,
    "start_time": "2023-03-07T07:57:43.554Z"
   },
   {
    "duration": 195,
    "start_time": "2023-03-07T07:57:43.571Z"
   },
   {
    "duration": 8,
    "start_time": "2023-03-07T07:57:43.768Z"
   },
   {
    "duration": 11,
    "start_time": "2023-03-07T07:57:43.777Z"
   },
   {
    "duration": 205,
    "start_time": "2023-03-07T07:57:43.790Z"
   },
   {
    "duration": 11,
    "start_time": "2023-03-07T07:57:43.997Z"
   },
   {
    "duration": 35,
    "start_time": "2023-03-07T07:57:44.010Z"
   },
   {
    "duration": 6,
    "start_time": "2023-03-07T07:57:44.049Z"
   },
   {
    "duration": 18,
    "start_time": "2023-03-07T07:57:44.057Z"
   },
   {
    "duration": 5,
    "start_time": "2023-03-07T07:57:44.076Z"
   },
   {
    "duration": 8,
    "start_time": "2023-03-07T07:57:44.082Z"
   },
   {
    "duration": 9,
    "start_time": "2023-03-07T07:57:44.091Z"
   },
   {
    "duration": 9,
    "start_time": "2023-03-07T07:57:44.102Z"
   },
   {
    "duration": 11,
    "start_time": "2023-03-07T07:57:44.113Z"
   },
   {
    "duration": 23,
    "start_time": "2023-03-07T07:57:44.125Z"
   },
   {
    "duration": 22,
    "start_time": "2023-03-07T07:57:47.683Z"
   },
   {
    "duration": 10,
    "start_time": "2023-03-07T07:58:09.709Z"
   },
   {
    "duration": 5,
    "start_time": "2023-03-07T07:58:20.483Z"
   },
   {
    "duration": 6,
    "start_time": "2023-03-07T07:59:53.215Z"
   },
   {
    "duration": 112,
    "start_time": "2023-03-07T08:00:04.998Z"
   },
   {
    "duration": 11,
    "start_time": "2023-03-07T08:00:10.746Z"
   },
   {
    "duration": 13,
    "start_time": "2023-03-07T08:00:14.973Z"
   },
   {
    "duration": 12,
    "start_time": "2023-03-07T08:00:30.245Z"
   },
   {
    "duration": 6,
    "start_time": "2023-03-07T08:00:38.556Z"
   },
   {
    "duration": 4,
    "start_time": "2023-03-07T08:01:28.660Z"
   },
   {
    "duration": 7,
    "start_time": "2023-03-07T08:01:34.358Z"
   },
   {
    "duration": 17,
    "start_time": "2023-03-07T08:01:52.231Z"
   },
   {
    "duration": 9,
    "start_time": "2023-03-07T08:02:28.279Z"
   },
   {
    "duration": 6,
    "start_time": "2023-03-07T08:10:53.346Z"
   },
   {
    "duration": 11,
    "start_time": "2023-03-07T08:11:19.394Z"
   },
   {
    "duration": 1378,
    "start_time": "2023-03-07T08:11:46.715Z"
   },
   {
    "duration": 40,
    "start_time": "2023-03-07T08:11:48.095Z"
   },
   {
    "duration": 18,
    "start_time": "2023-03-07T08:11:48.137Z"
   },
   {
    "duration": 12,
    "start_time": "2023-03-07T08:11:48.156Z"
   },
   {
    "duration": 14,
    "start_time": "2023-03-07T08:11:48.169Z"
   },
   {
    "duration": 8,
    "start_time": "2023-03-07T08:11:48.184Z"
   },
   {
    "duration": 11,
    "start_time": "2023-03-07T08:11:48.193Z"
   },
   {
    "duration": 38,
    "start_time": "2023-03-07T08:11:48.206Z"
   },
   {
    "duration": 184,
    "start_time": "2023-03-07T08:11:48.246Z"
   },
   {
    "duration": 10,
    "start_time": "2023-03-07T08:11:48.432Z"
   },
   {
    "duration": 19,
    "start_time": "2023-03-07T08:11:48.444Z"
   },
   {
    "duration": 169,
    "start_time": "2023-03-07T08:11:48.464Z"
   },
   {
    "duration": 11,
    "start_time": "2023-03-07T08:11:48.635Z"
   },
   {
    "duration": 11,
    "start_time": "2023-03-07T08:11:48.648Z"
   },
   {
    "duration": 4,
    "start_time": "2023-03-07T08:11:48.661Z"
   },
   {
    "duration": 20,
    "start_time": "2023-03-07T08:11:48.666Z"
   },
   {
    "duration": 7,
    "start_time": "2023-03-07T08:11:48.688Z"
   },
   {
    "duration": 37,
    "start_time": "2023-03-07T08:11:48.696Z"
   },
   {
    "duration": 6,
    "start_time": "2023-03-07T08:11:48.735Z"
   },
   {
    "duration": 16,
    "start_time": "2023-03-07T08:11:48.743Z"
   },
   {
    "duration": 12,
    "start_time": "2023-03-07T08:11:48.761Z"
   },
   {
    "duration": 6,
    "start_time": "2023-03-07T08:11:58.729Z"
   },
   {
    "duration": 11,
    "start_time": "2023-03-07T08:12:29.617Z"
   },
   {
    "duration": 5,
    "start_time": "2023-03-07T08:12:52.332Z"
   },
   {
    "duration": 108,
    "start_time": "2023-03-07T08:13:12.998Z"
   },
   {
    "duration": 5,
    "start_time": "2023-03-07T08:14:27.798Z"
   },
   {
    "duration": 35,
    "start_time": "2023-03-07T08:14:29.114Z"
   },
   {
    "duration": 33,
    "start_time": "2023-03-07T08:14:44.426Z"
   },
   {
    "duration": 12,
    "start_time": "2023-03-07T08:16:31.715Z"
   },
   {
    "duration": 16,
    "start_time": "2023-03-07T08:16:56.829Z"
   },
   {
    "duration": 14,
    "start_time": "2023-03-07T08:17:12.188Z"
   },
   {
    "duration": 9,
    "start_time": "2023-03-07T08:31:19.131Z"
   },
   {
    "duration": 9,
    "start_time": "2023-03-07T08:31:19.887Z"
   },
   {
    "duration": 82,
    "start_time": "2023-03-07T08:31:24.499Z"
   },
   {
    "duration": 303,
    "start_time": "2023-03-07T08:39:02.431Z"
   },
   {
    "duration": 359,
    "start_time": "2023-03-07T08:39:15.381Z"
   },
   {
    "duration": 39,
    "start_time": "2023-03-07T08:50:26.586Z"
   },
   {
    "duration": 5,
    "start_time": "2023-03-07T08:54:04.856Z"
   },
   {
    "duration": 250,
    "start_time": "2023-03-07T08:54:06.990Z"
   },
   {
    "duration": 69,
    "start_time": "2023-03-07T09:01:41.918Z"
   },
   {
    "duration": 78,
    "start_time": "2023-03-07T09:03:23.314Z"
   },
   {
    "duration": 6410,
    "start_time": "2023-03-07T09:03:46.895Z"
   },
   {
    "duration": 28,
    "start_time": "2023-03-07T09:09:57.082Z"
   },
   {
    "duration": 23,
    "start_time": "2023-03-07T09:22:01.180Z"
   },
   {
    "duration": 2,
    "start_time": "2023-03-07T09:22:49.132Z"
   },
   {
    "duration": 10,
    "start_time": "2023-03-07T09:23:53.735Z"
   },
   {
    "duration": 9,
    "start_time": "2023-03-07T09:24:04.222Z"
   },
   {
    "duration": 5,
    "start_time": "2023-03-07T09:30:02.617Z"
   },
   {
    "duration": 22,
    "start_time": "2023-03-07T09:30:06.316Z"
   },
   {
    "duration": 1295,
    "start_time": "2023-03-07T09:30:53.884Z"
   },
   {
    "duration": 40,
    "start_time": "2023-03-07T09:30:55.181Z"
   },
   {
    "duration": 13,
    "start_time": "2023-03-07T09:30:55.223Z"
   },
   {
    "duration": 12,
    "start_time": "2023-03-07T09:30:55.238Z"
   },
   {
    "duration": 14,
    "start_time": "2023-03-07T09:30:55.253Z"
   },
   {
    "duration": 10,
    "start_time": "2023-03-07T09:30:55.269Z"
   },
   {
    "duration": 11,
    "start_time": "2023-03-07T09:30:55.280Z"
   },
   {
    "duration": 42,
    "start_time": "2023-03-07T09:30:55.292Z"
   },
   {
    "duration": 172,
    "start_time": "2023-03-07T09:30:55.336Z"
   },
   {
    "duration": 6,
    "start_time": "2023-03-07T09:30:55.510Z"
   },
   {
    "duration": 20,
    "start_time": "2023-03-07T09:30:55.518Z"
   },
   {
    "duration": 168,
    "start_time": "2023-03-07T09:30:55.540Z"
   },
   {
    "duration": 23,
    "start_time": "2023-03-07T09:30:55.710Z"
   },
   {
    "duration": 10,
    "start_time": "2023-03-07T09:30:55.736Z"
   },
   {
    "duration": 4,
    "start_time": "2023-03-07T09:30:55.748Z"
   },
   {
    "duration": 16,
    "start_time": "2023-03-07T09:30:55.754Z"
   },
   {
    "duration": 4,
    "start_time": "2023-03-07T09:30:55.772Z"
   },
   {
    "duration": 11,
    "start_time": "2023-03-07T09:30:55.777Z"
   },
   {
    "duration": 8,
    "start_time": "2023-03-07T09:30:55.790Z"
   },
   {
    "duration": 8,
    "start_time": "2023-03-07T09:30:55.799Z"
   },
   {
    "duration": 31,
    "start_time": "2023-03-07T09:30:55.809Z"
   },
   {
    "duration": 7,
    "start_time": "2023-03-07T09:30:55.843Z"
   },
   {
    "duration": 12,
    "start_time": "2023-03-07T09:30:55.852Z"
   },
   {
    "duration": 6,
    "start_time": "2023-03-07T09:31:01.915Z"
   },
   {
    "duration": 44,
    "start_time": "2023-03-07T09:31:04.531Z"
   },
   {
    "duration": 12,
    "start_time": "2023-03-07T09:31:05.714Z"
   },
   {
    "duration": 5,
    "start_time": "2023-03-07T09:31:46.636Z"
   },
   {
    "duration": 123,
    "start_time": "2023-03-07T09:31:47.232Z"
   },
   {
    "duration": 1423,
    "start_time": "2023-03-07T09:31:59.895Z"
   },
   {
    "duration": 41,
    "start_time": "2023-03-07T09:32:01.320Z"
   },
   {
    "duration": 13,
    "start_time": "2023-03-07T09:32:01.362Z"
   },
   {
    "duration": 28,
    "start_time": "2023-03-07T09:32:01.376Z"
   },
   {
    "duration": 33,
    "start_time": "2023-03-07T09:32:01.406Z"
   },
   {
    "duration": 29,
    "start_time": "2023-03-07T09:32:01.441Z"
   },
   {
    "duration": 28,
    "start_time": "2023-03-07T09:32:01.472Z"
   },
   {
    "duration": 24,
    "start_time": "2023-03-07T09:32:01.502Z"
   },
   {
    "duration": 191,
    "start_time": "2023-03-07T09:32:01.528Z"
   },
   {
    "duration": 16,
    "start_time": "2023-03-07T09:32:01.720Z"
   },
   {
    "duration": 72,
    "start_time": "2023-03-07T09:32:01.737Z"
   },
   {
    "duration": 216,
    "start_time": "2023-03-07T09:32:01.812Z"
   },
   {
    "duration": 11,
    "start_time": "2023-03-07T09:32:02.033Z"
   },
   {
    "duration": 25,
    "start_time": "2023-03-07T09:32:02.047Z"
   },
   {
    "duration": 11,
    "start_time": "2023-03-07T09:32:02.074Z"
   },
   {
    "duration": 26,
    "start_time": "2023-03-07T09:32:02.087Z"
   },
   {
    "duration": 6,
    "start_time": "2023-03-07T09:32:02.115Z"
   },
   {
    "duration": 24,
    "start_time": "2023-03-07T09:32:02.123Z"
   },
   {
    "duration": 17,
    "start_time": "2023-03-07T09:32:02.149Z"
   },
   {
    "duration": 13,
    "start_time": "2023-03-07T09:32:02.168Z"
   },
   {
    "duration": 27,
    "start_time": "2023-03-07T09:32:02.182Z"
   },
   {
    "duration": 10,
    "start_time": "2023-03-07T09:32:02.211Z"
   },
   {
    "duration": 39,
    "start_time": "2023-03-07T09:32:02.222Z"
   },
   {
    "duration": 21,
    "start_time": "2023-03-07T09:32:02.263Z"
   },
   {
    "duration": 56,
    "start_time": "2023-03-07T09:32:02.286Z"
   },
   {
    "duration": 115,
    "start_time": "2023-03-07T09:32:05.103Z"
   },
   {
    "duration": 27,
    "start_time": "2023-03-07T09:32:10.991Z"
   },
   {
    "duration": 13,
    "start_time": "2023-03-07T09:32:29.851Z"
   },
   {
    "duration": 14,
    "start_time": "2023-03-07T09:32:30.294Z"
   },
   {
    "duration": 8,
    "start_time": "2023-03-07T09:32:33.749Z"
   },
   {
    "duration": 9,
    "start_time": "2023-03-07T09:32:35.187Z"
   },
   {
    "duration": 65,
    "start_time": "2023-03-07T09:35:19.275Z"
   },
   {
    "duration": 26,
    "start_time": "2023-03-07T09:35:30.751Z"
   },
   {
    "duration": 16,
    "start_time": "2023-03-07T09:36:30.935Z"
   },
   {
    "duration": 10,
    "start_time": "2023-03-07T09:36:58.500Z"
   },
   {
    "duration": 3,
    "start_time": "2023-03-07T09:37:38.233Z"
   },
   {
    "duration": 668,
    "start_time": "2023-03-07T09:41:25.903Z"
   },
   {
    "duration": 635,
    "start_time": "2023-03-07T09:42:52.579Z"
   },
   {
    "duration": 644,
    "start_time": "2023-03-07T09:43:18.386Z"
   },
   {
    "duration": 622,
    "start_time": "2023-03-07T09:43:40.086Z"
   },
   {
    "duration": 620,
    "start_time": "2023-03-07T09:43:52.779Z"
   },
   {
    "duration": 622,
    "start_time": "2023-03-07T09:47:30.954Z"
   },
   {
    "duration": 611,
    "start_time": "2023-03-07T09:47:39.489Z"
   },
   {
    "duration": 631,
    "start_time": "2023-03-07T09:48:10.150Z"
   },
   {
    "duration": 620,
    "start_time": "2023-03-07T09:48:35.356Z"
   },
   {
    "duration": 611,
    "start_time": "2023-03-07T09:48:41.087Z"
   },
   {
    "duration": 625,
    "start_time": "2023-03-07T09:49:13.682Z"
   },
   {
    "duration": 631,
    "start_time": "2023-03-07T09:49:59.255Z"
   },
   {
    "duration": 611,
    "start_time": "2023-03-07T09:51:11.171Z"
   },
   {
    "duration": 12,
    "start_time": "2023-03-07T09:51:26.401Z"
   },
   {
    "duration": 3,
    "start_time": "2023-03-07T09:51:37.119Z"
   },
   {
    "duration": 4,
    "start_time": "2023-03-07T09:51:43.895Z"
   },
   {
    "duration": 5,
    "start_time": "2023-03-07T09:51:59.635Z"
   },
   {
    "duration": 2671,
    "start_time": "2023-03-07T09:55:44.271Z"
   },
   {
    "duration": 2678,
    "start_time": "2023-03-07T09:57:16.318Z"
   },
   {
    "duration": 2566,
    "start_time": "2023-03-07T09:57:28.172Z"
   },
   {
    "duration": 4,
    "start_time": "2023-03-07T09:57:54.096Z"
   },
   {
    "duration": 5,
    "start_time": "2023-03-07T09:58:05.695Z"
   },
   {
    "duration": 1444,
    "start_time": "2023-03-07T09:58:18.458Z"
   },
   {
    "duration": 44,
    "start_time": "2023-03-07T09:58:19.905Z"
   },
   {
    "duration": 19,
    "start_time": "2023-03-07T09:58:19.951Z"
   },
   {
    "duration": 17,
    "start_time": "2023-03-07T09:58:19.972Z"
   },
   {
    "duration": 16,
    "start_time": "2023-03-07T09:58:19.991Z"
   },
   {
    "duration": 39,
    "start_time": "2023-03-07T09:58:20.034Z"
   },
   {
    "duration": 23,
    "start_time": "2023-03-07T09:58:20.075Z"
   },
   {
    "duration": 20,
    "start_time": "2023-03-07T09:58:20.100Z"
   },
   {
    "duration": 171,
    "start_time": "2023-03-07T09:58:20.122Z"
   },
   {
    "duration": 7,
    "start_time": "2023-03-07T09:58:20.295Z"
   },
   {
    "duration": 30,
    "start_time": "2023-03-07T09:58:20.304Z"
   },
   {
    "duration": 155,
    "start_time": "2023-03-07T09:58:20.336Z"
   },
   {
    "duration": 16,
    "start_time": "2023-03-07T09:58:20.494Z"
   },
   {
    "duration": 22,
    "start_time": "2023-03-07T09:58:20.515Z"
   },
   {
    "duration": 4,
    "start_time": "2023-03-07T09:58:20.538Z"
   },
   {
    "duration": 15,
    "start_time": "2023-03-07T09:58:20.544Z"
   },
   {
    "duration": 9,
    "start_time": "2023-03-07T09:58:20.561Z"
   },
   {
    "duration": 14,
    "start_time": "2023-03-07T09:58:20.571Z"
   },
   {
    "duration": 14,
    "start_time": "2023-03-07T09:58:20.587Z"
   },
   {
    "duration": 11,
    "start_time": "2023-03-07T09:58:20.603Z"
   },
   {
    "duration": 9,
    "start_time": "2023-03-07T09:58:20.633Z"
   },
   {
    "duration": 6,
    "start_time": "2023-03-07T09:58:20.644Z"
   },
   {
    "duration": 15,
    "start_time": "2023-03-07T09:58:20.652Z"
   },
   {
    "duration": 5,
    "start_time": "2023-03-07T09:58:20.669Z"
   },
   {
    "duration": 57,
    "start_time": "2023-03-07T09:58:20.676Z"
   },
   {
    "duration": 14,
    "start_time": "2023-03-07T09:58:20.735Z"
   },
   {
    "duration": 23,
    "start_time": "2023-03-07T09:58:20.751Z"
   },
   {
    "duration": 30,
    "start_time": "2023-03-07T09:58:20.776Z"
   },
   {
    "duration": 25,
    "start_time": "2023-03-07T09:58:20.809Z"
   },
   {
    "duration": 9,
    "start_time": "2023-03-07T09:58:20.836Z"
   },
   {
    "duration": 87,
    "start_time": "2023-03-07T09:58:20.847Z"
   },
   {
    "duration": 5,
    "start_time": "2023-03-07T09:58:20.935Z"
   },
   {
    "duration": 713,
    "start_time": "2023-03-07T09:58:20.943Z"
   },
   {
    "duration": 3,
    "start_time": "2023-03-07T09:58:21.658Z"
   },
   {
    "duration": 2508,
    "start_time": "2023-03-07T09:58:21.662Z"
   },
   {
    "duration": 3,
    "start_time": "2023-03-07T09:58:24.171Z"
   },
   {
    "duration": 3,
    "start_time": "2023-03-07T09:58:28.496Z"
   },
   {
    "duration": 4,
    "start_time": "2023-03-07T09:58:29.676Z"
   },
   {
    "duration": 2630,
    "start_time": "2023-03-07T10:01:10.798Z"
   },
   {
    "duration": 4,
    "start_time": "2023-03-07T10:01:13.435Z"
   },
   {
    "duration": 4,
    "start_time": "2023-03-07T10:01:18.976Z"
   },
   {
    "duration": 3,
    "start_time": "2023-03-07T10:01:34.397Z"
   },
   {
    "duration": 1404,
    "start_time": "2023-03-07T10:01:44.641Z"
   },
   {
    "duration": 42,
    "start_time": "2023-03-07T10:01:46.047Z"
   },
   {
    "duration": 13,
    "start_time": "2023-03-07T10:01:46.090Z"
   },
   {
    "duration": 12,
    "start_time": "2023-03-07T10:01:46.105Z"
   },
   {
    "duration": 22,
    "start_time": "2023-03-07T10:01:46.119Z"
   },
   {
    "duration": 9,
    "start_time": "2023-03-07T10:01:46.142Z"
   },
   {
    "duration": 12,
    "start_time": "2023-03-07T10:01:46.152Z"
   },
   {
    "duration": 10,
    "start_time": "2023-03-07T10:01:46.166Z"
   },
   {
    "duration": 246,
    "start_time": "2023-03-07T10:01:46.177Z"
   },
   {
    "duration": 11,
    "start_time": "2023-03-07T10:01:46.432Z"
   },
   {
    "duration": 24,
    "start_time": "2023-03-07T10:01:46.445Z"
   },
   {
    "duration": 186,
    "start_time": "2023-03-07T10:01:46.472Z"
   },
   {
    "duration": 12,
    "start_time": "2023-03-07T10:01:46.660Z"
   },
   {
    "duration": 9,
    "start_time": "2023-03-07T10:01:46.675Z"
   },
   {
    "duration": 5,
    "start_time": "2023-03-07T10:01:46.686Z"
   },
   {
    "duration": 42,
    "start_time": "2023-03-07T10:01:46.692Z"
   },
   {
    "duration": 3,
    "start_time": "2023-03-07T10:01:46.736Z"
   },
   {
    "duration": 14,
    "start_time": "2023-03-07T10:01:46.740Z"
   },
   {
    "duration": 8,
    "start_time": "2023-03-07T10:01:46.756Z"
   },
   {
    "duration": 7,
    "start_time": "2023-03-07T10:01:46.765Z"
   },
   {
    "duration": 10,
    "start_time": "2023-03-07T10:01:46.774Z"
   },
   {
    "duration": 6,
    "start_time": "2023-03-07T10:01:46.786Z"
   },
   {
    "duration": 12,
    "start_time": "2023-03-07T10:01:46.793Z"
   },
   {
    "duration": 9,
    "start_time": "2023-03-07T10:01:46.806Z"
   },
   {
    "duration": 42,
    "start_time": "2023-03-07T10:01:46.832Z"
   },
   {
    "duration": 22,
    "start_time": "2023-03-07T10:01:46.876Z"
   },
   {
    "duration": 34,
    "start_time": "2023-03-07T10:01:46.900Z"
   },
   {
    "duration": 14,
    "start_time": "2023-03-07T10:01:46.936Z"
   },
   {
    "duration": 8,
    "start_time": "2023-03-07T10:01:46.952Z"
   },
   {
    "duration": 8,
    "start_time": "2023-03-07T10:01:46.961Z"
   },
   {
    "duration": 163,
    "start_time": "2023-03-07T10:01:46.971Z"
   },
   {
    "duration": 3,
    "start_time": "2023-03-07T10:01:47.135Z"
   },
   {
    "duration": 668,
    "start_time": "2023-03-07T10:01:47.140Z"
   },
   {
    "duration": 3,
    "start_time": "2023-03-07T10:01:47.810Z"
   },
   {
    "duration": 2554,
    "start_time": "2023-03-07T10:01:47.814Z"
   },
   {
    "duration": 3,
    "start_time": "2023-03-07T10:01:50.369Z"
   },
   {
    "duration": 7,
    "start_time": "2023-03-07T10:01:50.374Z"
   },
   {
    "duration": 105,
    "start_time": "2023-03-07T10:03:52.591Z"
   },
   {
    "duration": 9,
    "start_time": "2023-03-07T10:04:08.203Z"
   },
   {
    "duration": 9,
    "start_time": "2023-03-07T10:05:24.488Z"
   },
   {
    "duration": 6,
    "start_time": "2023-03-07T10:06:36.392Z"
   },
   {
    "duration": 1557,
    "start_time": "2023-03-08T12:45:42.400Z"
   },
   {
    "duration": 151,
    "start_time": "2023-03-08T12:45:43.960Z"
   },
   {
    "duration": 21,
    "start_time": "2023-03-08T12:45:44.114Z"
   },
   {
    "duration": 22,
    "start_time": "2023-03-08T12:45:44.136Z"
   },
   {
    "duration": 32,
    "start_time": "2023-03-08T12:45:44.162Z"
   },
   {
    "duration": 17,
    "start_time": "2023-03-08T12:45:44.197Z"
   },
   {
    "duration": 36,
    "start_time": "2023-03-08T12:45:44.216Z"
   },
   {
    "duration": 14,
    "start_time": "2023-03-08T12:45:44.254Z"
   },
   {
    "duration": 257,
    "start_time": "2023-03-08T12:45:44.270Z"
   },
   {
    "duration": 16,
    "start_time": "2023-03-08T12:45:44.529Z"
   },
   {
    "duration": 13,
    "start_time": "2023-03-08T12:45:44.548Z"
   },
   {
    "duration": 199,
    "start_time": "2023-03-08T12:45:44.564Z"
   },
   {
    "duration": 13,
    "start_time": "2023-03-08T12:45:44.765Z"
   },
   {
    "duration": 11,
    "start_time": "2023-03-08T12:45:44.781Z"
   },
   {
    "duration": 4,
    "start_time": "2023-03-08T12:45:44.794Z"
   },
   {
    "duration": 49,
    "start_time": "2023-03-08T12:45:44.800Z"
   },
   {
    "duration": 9,
    "start_time": "2023-03-08T12:45:44.851Z"
   },
   {
    "duration": 5,
    "start_time": "2023-03-08T12:45:44.862Z"
   },
   {
    "duration": 6,
    "start_time": "2023-03-08T12:45:44.869Z"
   },
   {
    "duration": 7,
    "start_time": "2023-03-08T12:45:44.876Z"
   },
   {
    "duration": 14,
    "start_time": "2023-03-08T12:45:44.884Z"
   },
   {
    "duration": 5,
    "start_time": "2023-03-08T12:45:44.942Z"
   },
   {
    "duration": 10,
    "start_time": "2023-03-08T12:45:44.948Z"
   },
   {
    "duration": 12,
    "start_time": "2023-03-08T12:45:44.959Z"
   },
   {
    "duration": 36,
    "start_time": "2023-03-08T12:45:44.973Z"
   },
   {
    "duration": 14,
    "start_time": "2023-03-08T12:45:45.042Z"
   },
   {
    "duration": 40,
    "start_time": "2023-03-08T12:45:45.058Z"
   },
   {
    "duration": 30,
    "start_time": "2023-03-08T12:45:45.100Z"
   },
   {
    "duration": 16,
    "start_time": "2023-03-08T12:45:45.132Z"
   },
   {
    "duration": 38,
    "start_time": "2023-03-08T12:45:45.150Z"
   },
   {
    "duration": 52,
    "start_time": "2023-03-08T12:45:45.190Z"
   },
   {
    "duration": 5,
    "start_time": "2023-03-08T12:45:45.247Z"
   },
   {
    "duration": 780,
    "start_time": "2023-03-08T12:45:45.254Z"
   },
   {
    "duration": 6,
    "start_time": "2023-03-08T12:45:46.036Z"
   },
   {
    "duration": 2922,
    "start_time": "2023-03-08T12:46:03.336Z"
   },
   {
    "duration": 2997,
    "start_time": "2023-03-08T12:46:14.470Z"
   },
   {
    "duration": 3069,
    "start_time": "2023-03-08T12:46:46.330Z"
   },
   {
    "duration": 2868,
    "start_time": "2023-03-08T12:47:54.268Z"
   },
   {
    "duration": 2718,
    "start_time": "2023-03-08T12:50:53.799Z"
   },
   {
    "duration": 3,
    "start_time": "2023-03-08T12:51:01.767Z"
   },
   {
    "duration": 5,
    "start_time": "2023-03-08T12:51:04.267Z"
   },
   {
    "duration": 11,
    "start_time": "2023-03-08T12:51:17.097Z"
   },
   {
    "duration": 4,
    "start_time": "2023-03-08T12:56:32.591Z"
   },
   {
    "duration": 120,
    "start_time": "2023-03-08T12:56:57.876Z"
   },
   {
    "duration": 24,
    "start_time": "2023-03-08T12:57:34.516Z"
   },
   {
    "duration": 4,
    "start_time": "2023-03-08T12:57:36.275Z"
   },
   {
    "duration": 17,
    "start_time": "2023-03-08T12:57:37.430Z"
   },
   {
    "duration": 7,
    "start_time": "2023-03-08T12:58:47.534Z"
   },
   {
    "duration": 7,
    "start_time": "2023-03-08T12:59:11.816Z"
   },
   {
    "duration": 4,
    "start_time": "2023-03-08T12:59:53.569Z"
   },
   {
    "duration": 43,
    "start_time": "2023-03-08T12:59:53.575Z"
   },
   {
    "duration": 13,
    "start_time": "2023-03-08T12:59:53.619Z"
   },
   {
    "duration": 11,
    "start_time": "2023-03-08T12:59:53.634Z"
   },
   {
    "duration": 16,
    "start_time": "2023-03-08T12:59:53.648Z"
   },
   {
    "duration": 10,
    "start_time": "2023-03-08T12:59:53.666Z"
   },
   {
    "duration": 25,
    "start_time": "2023-03-08T12:59:53.678Z"
   },
   {
    "duration": 17,
    "start_time": "2023-03-08T12:59:53.705Z"
   },
   {
    "duration": 192,
    "start_time": "2023-03-08T12:59:53.724Z"
   },
   {
    "duration": 7,
    "start_time": "2023-03-08T12:59:53.918Z"
   },
   {
    "duration": 23,
    "start_time": "2023-03-08T12:59:53.927Z"
   },
   {
    "duration": 258,
    "start_time": "2023-03-08T12:59:53.951Z"
   },
   {
    "duration": 14,
    "start_time": "2023-03-08T12:59:54.211Z"
   },
   {
    "duration": 14,
    "start_time": "2023-03-08T12:59:54.241Z"
   },
   {
    "duration": 4,
    "start_time": "2023-03-08T12:59:54.257Z"
   },
   {
    "duration": 22,
    "start_time": "2023-03-08T12:59:54.262Z"
   },
   {
    "duration": 7,
    "start_time": "2023-03-08T12:59:54.285Z"
   },
   {
    "duration": 3,
    "start_time": "2023-03-08T12:59:54.294Z"
   },
   {
    "duration": 6,
    "start_time": "2023-03-08T12:59:54.299Z"
   },
   {
    "duration": 11,
    "start_time": "2023-03-08T12:59:54.340Z"
   },
   {
    "duration": 9,
    "start_time": "2023-03-08T12:59:54.352Z"
   },
   {
    "duration": 5,
    "start_time": "2023-03-08T12:59:54.363Z"
   },
   {
    "duration": 10,
    "start_time": "2023-03-08T12:59:54.370Z"
   },
   {
    "duration": 6,
    "start_time": "2023-03-08T12:59:54.382Z"
   },
   {
    "duration": 65,
    "start_time": "2023-03-08T12:59:54.390Z"
   },
   {
    "duration": 15,
    "start_time": "2023-03-08T12:59:54.457Z"
   },
   {
    "duration": 14,
    "start_time": "2023-03-08T12:59:54.474Z"
   },
   {
    "duration": 18,
    "start_time": "2023-03-08T12:59:54.490Z"
   },
   {
    "duration": 16,
    "start_time": "2023-03-08T12:59:54.509Z"
   },
   {
    "duration": 14,
    "start_time": "2023-03-08T12:59:54.542Z"
   },
   {
    "duration": 83,
    "start_time": "2023-03-08T12:59:54.558Z"
   },
   {
    "duration": 9,
    "start_time": "2023-03-08T12:59:54.643Z"
   },
   {
    "duration": 757,
    "start_time": "2023-03-08T12:59:54.654Z"
   },
   {
    "duration": 4,
    "start_time": "2023-03-08T12:59:55.413Z"
   },
   {
    "duration": 58,
    "start_time": "2023-03-08T13:00:23.718Z"
   },
   {
    "duration": 9,
    "start_time": "2023-03-08T13:02:16.397Z"
   },
   {
    "duration": 8,
    "start_time": "2023-03-08T13:03:03.903Z"
   },
   {
    "duration": 1271,
    "start_time": "2023-03-08T13:03:08.001Z"
   },
   {
    "duration": 40,
    "start_time": "2023-03-08T13:03:09.274Z"
   },
   {
    "duration": 21,
    "start_time": "2023-03-08T13:03:09.316Z"
   },
   {
    "duration": 13,
    "start_time": "2023-03-08T13:03:09.339Z"
   },
   {
    "duration": 16,
    "start_time": "2023-03-08T13:03:09.355Z"
   },
   {
    "duration": 10,
    "start_time": "2023-03-08T13:03:09.372Z"
   },
   {
    "duration": 28,
    "start_time": "2023-03-08T13:03:09.383Z"
   },
   {
    "duration": 11,
    "start_time": "2023-03-08T13:03:09.412Z"
   },
   {
    "duration": 183,
    "start_time": "2023-03-08T13:03:09.441Z"
   },
   {
    "duration": 7,
    "start_time": "2023-03-08T13:03:09.625Z"
   },
   {
    "duration": 12,
    "start_time": "2023-03-08T13:03:09.642Z"
   },
   {
    "duration": 177,
    "start_time": "2023-03-08T13:03:09.655Z"
   },
   {
    "duration": 15,
    "start_time": "2023-03-08T13:03:09.834Z"
   },
   {
    "duration": 9,
    "start_time": "2023-03-08T13:03:09.852Z"
   },
   {
    "duration": 4,
    "start_time": "2023-03-08T13:03:09.862Z"
   },
   {
    "duration": 16,
    "start_time": "2023-03-08T13:03:09.868Z"
   },
   {
    "duration": 18,
    "start_time": "2023-03-08T13:03:09.885Z"
   },
   {
    "duration": 8,
    "start_time": "2023-03-08T13:03:09.905Z"
   },
   {
    "duration": 7,
    "start_time": "2023-03-08T13:03:09.915Z"
   },
   {
    "duration": 20,
    "start_time": "2023-03-08T13:03:09.923Z"
   },
   {
    "duration": 9,
    "start_time": "2023-03-08T13:03:09.945Z"
   },
   {
    "duration": 4,
    "start_time": "2023-03-08T13:03:09.956Z"
   },
   {
    "duration": 9,
    "start_time": "2023-03-08T13:03:09.962Z"
   },
   {
    "duration": 5,
    "start_time": "2023-03-08T13:03:09.973Z"
   },
   {
    "duration": 63,
    "start_time": "2023-03-08T13:03:09.980Z"
   },
   {
    "duration": 15,
    "start_time": "2023-03-08T13:03:10.045Z"
   },
   {
    "duration": 18,
    "start_time": "2023-03-08T13:03:10.062Z"
   },
   {
    "duration": 20,
    "start_time": "2023-03-08T13:03:10.081Z"
   },
   {
    "duration": 13,
    "start_time": "2023-03-08T13:03:10.103Z"
   },
   {
    "duration": 26,
    "start_time": "2023-03-08T13:03:10.117Z"
   },
   {
    "duration": 5,
    "start_time": "2023-03-08T13:03:10.145Z"
   },
   {
    "duration": 1354,
    "start_time": "2023-03-08T13:12:23.396Z"
   },
   {
    "duration": 42,
    "start_time": "2023-03-08T13:12:24.752Z"
   },
   {
    "duration": 13,
    "start_time": "2023-03-08T13:12:24.796Z"
   },
   {
    "duration": 14,
    "start_time": "2023-03-08T13:12:24.811Z"
   },
   {
    "duration": 19,
    "start_time": "2023-03-08T13:12:24.827Z"
   },
   {
    "duration": 9,
    "start_time": "2023-03-08T13:12:24.848Z"
   },
   {
    "duration": 12,
    "start_time": "2023-03-08T13:12:24.858Z"
   },
   {
    "duration": 10,
    "start_time": "2023-03-08T13:12:24.871Z"
   },
   {
    "duration": 204,
    "start_time": "2023-03-08T13:12:24.882Z"
   },
   {
    "duration": 6,
    "start_time": "2023-03-08T13:12:25.088Z"
   },
   {
    "duration": 32,
    "start_time": "2023-03-08T13:12:25.095Z"
   },
   {
    "duration": 150,
    "start_time": "2023-03-08T13:12:25.128Z"
   },
   {
    "duration": 12,
    "start_time": "2023-03-08T13:12:25.280Z"
   },
   {
    "duration": 10,
    "start_time": "2023-03-08T13:12:25.294Z"
   },
   {
    "duration": 4,
    "start_time": "2023-03-08T13:12:25.306Z"
   },
   {
    "duration": 37,
    "start_time": "2023-03-08T13:12:25.312Z"
   },
   {
    "duration": 4,
    "start_time": "2023-03-08T13:12:25.351Z"
   },
   {
    "duration": 9,
    "start_time": "2023-03-08T13:12:25.356Z"
   },
   {
    "duration": 7,
    "start_time": "2023-03-08T13:12:25.367Z"
   },
   {
    "duration": 6,
    "start_time": "2023-03-08T13:12:25.375Z"
   },
   {
    "duration": 10,
    "start_time": "2023-03-08T13:12:25.383Z"
   },
   {
    "duration": 6,
    "start_time": "2023-03-08T13:12:25.401Z"
   },
   {
    "duration": 34,
    "start_time": "2023-03-08T13:12:25.409Z"
   },
   {
    "duration": 15,
    "start_time": "2023-03-08T13:12:25.445Z"
   },
   {
    "duration": 30,
    "start_time": "2023-03-08T13:12:25.462Z"
   },
   {
    "duration": 13,
    "start_time": "2023-03-08T13:12:25.494Z"
   },
   {
    "duration": 15,
    "start_time": "2023-03-08T13:12:25.508Z"
   },
   {
    "duration": 26,
    "start_time": "2023-03-08T13:12:25.524Z"
   },
   {
    "duration": 8,
    "start_time": "2023-03-08T13:12:25.551Z"
   },
   {
    "duration": 6,
    "start_time": "2023-03-08T13:12:40.232Z"
   },
   {
    "duration": 7,
    "start_time": "2023-03-08T13:13:31.836Z"
   },
   {
    "duration": 133,
    "start_time": "2023-03-08T13:41:51.499Z"
   },
   {
    "duration": 4,
    "start_time": "2023-03-08T13:41:56.659Z"
   },
   {
    "duration": 43,
    "start_time": "2023-03-08T13:41:56.666Z"
   },
   {
    "duration": 15,
    "start_time": "2023-03-08T13:41:56.711Z"
   },
   {
    "duration": 10,
    "start_time": "2023-03-08T13:41:56.728Z"
   },
   {
    "duration": 16,
    "start_time": "2023-03-08T13:41:56.743Z"
   },
   {
    "duration": 10,
    "start_time": "2023-03-08T13:41:56.761Z"
   },
   {
    "duration": 12,
    "start_time": "2023-03-08T13:41:56.772Z"
   },
   {
    "duration": 11,
    "start_time": "2023-03-08T13:41:56.786Z"
   },
   {
    "duration": 215,
    "start_time": "2023-03-08T13:41:56.798Z"
   },
   {
    "duration": 7,
    "start_time": "2023-03-08T13:41:57.015Z"
   },
   {
    "duration": 26,
    "start_time": "2023-03-08T13:41:57.024Z"
   },
   {
    "duration": 195,
    "start_time": "2023-03-08T13:41:57.052Z"
   },
   {
    "duration": 16,
    "start_time": "2023-03-08T13:41:57.250Z"
   },
   {
    "duration": 11,
    "start_time": "2023-03-08T13:41:57.269Z"
   },
   {
    "duration": 5,
    "start_time": "2023-03-08T13:41:57.282Z"
   },
   {
    "duration": 20,
    "start_time": "2023-03-08T13:41:57.289Z"
   },
   {
    "duration": 4,
    "start_time": "2023-03-08T13:41:57.342Z"
   },
   {
    "duration": 7,
    "start_time": "2023-03-08T13:41:57.347Z"
   },
   {
    "duration": 7,
    "start_time": "2023-03-08T13:41:57.356Z"
   },
   {
    "duration": 9,
    "start_time": "2023-03-08T13:41:57.366Z"
   },
   {
    "duration": 16,
    "start_time": "2023-03-08T13:41:57.377Z"
   },
   {
    "duration": 8,
    "start_time": "2023-03-08T13:41:57.395Z"
   },
   {
    "duration": 11,
    "start_time": "2023-03-08T13:41:57.442Z"
   },
   {
    "duration": 126,
    "start_time": "2023-03-08T13:41:57.456Z"
   },
   {
    "duration": 45,
    "start_time": "2023-03-08T13:41:57.584Z"
   },
   {
    "duration": 27,
    "start_time": "2023-03-08T13:41:57.630Z"
   },
   {
    "duration": 17,
    "start_time": "2023-03-08T13:41:57.660Z"
   },
   {
    "duration": 15,
    "start_time": "2023-03-08T13:41:57.679Z"
   },
   {
    "duration": 148,
    "start_time": "2023-03-08T13:41:57.697Z"
   },
   {
    "duration": 5,
    "start_time": "2023-03-08T13:41:57.848Z"
   },
   {
    "duration": 908,
    "start_time": "2023-03-08T13:41:57.856Z"
   },
   {
    "duration": 3,
    "start_time": "2023-03-08T13:41:58.766Z"
   },
   {
    "duration": 2944,
    "start_time": "2023-03-08T13:41:58.771Z"
   },
   {
    "duration": 4,
    "start_time": "2023-03-08T13:42:01.718Z"
   },
   {
    "duration": 19,
    "start_time": "2023-03-08T13:42:01.724Z"
   },
   {
    "duration": 26,
    "start_time": "2023-03-08T13:42:01.745Z"
   },
   {
    "duration": 22,
    "start_time": "2023-03-08T13:42:01.773Z"
   },
   {
    "duration": 24,
    "start_time": "2023-03-08T13:42:01.797Z"
   },
   {
    "duration": 24,
    "start_time": "2023-03-08T13:42:01.910Z"
   },
   {
    "duration": 26,
    "start_time": "2023-03-08T13:42:56.067Z"
   },
   {
    "duration": 5,
    "start_time": "2023-03-08T13:44:40.882Z"
   },
   {
    "duration": 56,
    "start_time": "2023-03-08T13:45:51.352Z"
   },
   {
    "duration": 1468,
    "start_time": "2023-03-08T13:45:56.135Z"
   },
   {
    "duration": 47,
    "start_time": "2023-03-08T13:45:57.606Z"
   },
   {
    "duration": 21,
    "start_time": "2023-03-08T13:45:57.656Z"
   },
   {
    "duration": 18,
    "start_time": "2023-03-08T13:45:57.679Z"
   },
   {
    "duration": 53,
    "start_time": "2023-03-08T13:45:57.701Z"
   },
   {
    "duration": 15,
    "start_time": "2023-03-08T13:45:57.757Z"
   },
   {
    "duration": 19,
    "start_time": "2023-03-08T13:45:57.774Z"
   },
   {
    "duration": 17,
    "start_time": "2023-03-08T13:45:57.795Z"
   },
   {
    "duration": 217,
    "start_time": "2023-03-08T13:45:57.841Z"
   },
   {
    "duration": 10,
    "start_time": "2023-03-08T13:45:58.060Z"
   },
   {
    "duration": 13,
    "start_time": "2023-03-08T13:45:58.072Z"
   },
   {
    "duration": 204,
    "start_time": "2023-03-08T13:45:58.086Z"
   },
   {
    "duration": 12,
    "start_time": "2023-03-08T13:45:58.292Z"
   },
   {
    "duration": 11,
    "start_time": "2023-03-08T13:45:58.308Z"
   },
   {
    "duration": 5,
    "start_time": "2023-03-08T13:45:58.340Z"
   },
   {
    "duration": 17,
    "start_time": "2023-03-08T13:45:58.347Z"
   },
   {
    "duration": 3,
    "start_time": "2023-03-08T13:45:58.366Z"
   },
   {
    "duration": 3,
    "start_time": "2023-03-08T13:45:58.372Z"
   },
   {
    "duration": 6,
    "start_time": "2023-03-08T13:45:58.377Z"
   },
   {
    "duration": 6,
    "start_time": "2023-03-08T13:45:58.385Z"
   },
   {
    "duration": 9,
    "start_time": "2023-03-08T13:45:58.392Z"
   },
   {
    "duration": 40,
    "start_time": "2023-03-08T13:45:58.404Z"
   },
   {
    "duration": 10,
    "start_time": "2023-03-08T13:45:58.446Z"
   },
   {
    "duration": 6,
    "start_time": "2023-03-08T13:45:58.458Z"
   },
   {
    "duration": 31,
    "start_time": "2023-03-08T13:45:58.465Z"
   },
   {
    "duration": 44,
    "start_time": "2023-03-08T13:45:58.498Z"
   },
   {
    "duration": 19,
    "start_time": "2023-03-08T13:45:58.544Z"
   },
   {
    "duration": 20,
    "start_time": "2023-03-08T13:45:58.566Z"
   },
   {
    "duration": 72,
    "start_time": "2023-03-08T13:45:58.588Z"
   },
   {
    "duration": 6,
    "start_time": "2023-03-08T13:45:58.662Z"
   },
   {
    "duration": 861,
    "start_time": "2023-03-08T13:45:58.741Z"
   },
   {
    "duration": 3,
    "start_time": "2023-03-08T13:45:59.604Z"
   },
   {
    "duration": 2948,
    "start_time": "2023-03-08T13:45:59.608Z"
   },
   {
    "duration": 6,
    "start_time": "2023-03-08T13:46:02.558Z"
   },
   {
    "duration": 16,
    "start_time": "2023-03-08T13:46:02.566Z"
   },
   {
    "duration": 48,
    "start_time": "2023-03-08T13:46:02.584Z"
   },
   {
    "duration": 27,
    "start_time": "2023-03-08T13:46:02.634Z"
   },
   {
    "duration": 53,
    "start_time": "2023-03-08T13:46:02.663Z"
   },
   {
    "duration": 95,
    "start_time": "2023-03-08T13:46:02.718Z"
   },
   {
    "duration": 27,
    "start_time": "2023-03-08T13:48:28.145Z"
   },
   {
    "duration": 80,
    "start_time": "2023-03-08T13:53:03.905Z"
   },
   {
    "duration": 67,
    "start_time": "2023-03-08T13:58:32.197Z"
   },
   {
    "duration": 28,
    "start_time": "2023-03-08T13:58:37.710Z"
   },
   {
    "duration": 25,
    "start_time": "2023-03-08T14:02:12.072Z"
   },
   {
    "duration": 18,
    "start_time": "2023-03-08T14:03:57.621Z"
   },
   {
    "duration": 17,
    "start_time": "2023-03-08T14:06:47.071Z"
   },
   {
    "duration": 16,
    "start_time": "2023-03-08T14:07:42.196Z"
   },
   {
    "duration": 14,
    "start_time": "2023-03-08T14:07:49.969Z"
   },
   {
    "duration": 8,
    "start_time": "2023-03-08T14:09:36.799Z"
   },
   {
    "duration": 20,
    "start_time": "2023-03-08T14:09:52.456Z"
   },
   {
    "duration": 11,
    "start_time": "2023-03-08T14:12:12.439Z"
   },
   {
    "duration": 18,
    "start_time": "2023-03-08T14:12:22.740Z"
   },
   {
    "duration": 23,
    "start_time": "2023-03-08T14:12:30.269Z"
   },
   {
    "duration": 1457,
    "start_time": "2023-03-08T14:13:27.508Z"
   },
   {
    "duration": 54,
    "start_time": "2023-03-08T14:13:28.967Z"
   },
   {
    "duration": 20,
    "start_time": "2023-03-08T14:13:29.024Z"
   },
   {
    "duration": 16,
    "start_time": "2023-03-08T14:13:29.045Z"
   },
   {
    "duration": 20,
    "start_time": "2023-03-08T14:13:29.064Z"
   },
   {
    "duration": 9,
    "start_time": "2023-03-08T14:13:29.086Z"
   },
   {
    "duration": 50,
    "start_time": "2023-03-08T14:13:29.096Z"
   },
   {
    "duration": 14,
    "start_time": "2023-03-08T14:13:29.147Z"
   },
   {
    "duration": 197,
    "start_time": "2023-03-08T14:13:29.163Z"
   },
   {
    "duration": 11,
    "start_time": "2023-03-08T14:13:29.362Z"
   },
   {
    "duration": 17,
    "start_time": "2023-03-08T14:13:29.375Z"
   },
   {
    "duration": 204,
    "start_time": "2023-03-08T14:13:29.395Z"
   },
   {
    "duration": 12,
    "start_time": "2023-03-08T14:13:29.600Z"
   },
   {
    "duration": 27,
    "start_time": "2023-03-08T14:13:29.615Z"
   },
   {
    "duration": 4,
    "start_time": "2023-03-08T14:13:29.644Z"
   },
   {
    "duration": 13,
    "start_time": "2023-03-08T14:13:29.650Z"
   },
   {
    "duration": 9,
    "start_time": "2023-03-08T14:13:29.664Z"
   },
   {
    "duration": 6,
    "start_time": "2023-03-08T14:13:29.674Z"
   },
   {
    "duration": 6,
    "start_time": "2023-03-08T14:13:29.682Z"
   },
   {
    "duration": 9,
    "start_time": "2023-03-08T14:13:29.690Z"
   },
   {
    "duration": 47,
    "start_time": "2023-03-08T14:13:29.700Z"
   },
   {
    "duration": 5,
    "start_time": "2023-03-08T14:13:29.748Z"
   },
   {
    "duration": 13,
    "start_time": "2023-03-08T14:13:29.754Z"
   },
   {
    "duration": 9,
    "start_time": "2023-03-08T14:13:29.769Z"
   },
   {
    "duration": 38,
    "start_time": "2023-03-08T14:13:29.780Z"
   },
   {
    "duration": 14,
    "start_time": "2023-03-08T14:13:29.842Z"
   },
   {
    "duration": 16,
    "start_time": "2023-03-08T14:13:29.857Z"
   },
   {
    "duration": 16,
    "start_time": "2023-03-08T14:13:29.875Z"
   },
   {
    "duration": 153,
    "start_time": "2023-03-08T14:13:29.893Z"
   },
   {
    "duration": 7,
    "start_time": "2023-03-08T14:13:30.048Z"
   },
   {
    "duration": 865,
    "start_time": "2023-03-08T14:13:30.057Z"
   },
   {
    "duration": 3,
    "start_time": "2023-03-08T14:13:30.924Z"
   },
   {
    "duration": 3192,
    "start_time": "2023-03-08T14:13:30.929Z"
   },
   {
    "duration": 3,
    "start_time": "2023-03-08T14:13:34.123Z"
   },
   {
    "duration": 14,
    "start_time": "2023-03-08T14:13:34.128Z"
   },
   {
    "duration": 12,
    "start_time": "2023-03-08T14:13:34.144Z"
   },
   {
    "duration": 12,
    "start_time": "2023-03-08T14:13:34.158Z"
   },
   {
    "duration": 6,
    "start_time": "2023-03-08T14:13:34.172Z"
   },
   {
    "duration": 25,
    "start_time": "2023-03-08T14:13:34.180Z"
   },
   {
    "duration": 76,
    "start_time": "2023-03-08T14:13:34.207Z"
   },
   {
    "duration": 21,
    "start_time": "2023-03-08T14:13:51.655Z"
   },
   {
    "duration": 33,
    "start_time": "2023-03-08T14:13:55.620Z"
   },
   {
    "duration": 30,
    "start_time": "2023-03-08T14:14:36.693Z"
   },
   {
    "duration": 34,
    "start_time": "2023-03-08T14:14:41.002Z"
   },
   {
    "duration": 22,
    "start_time": "2023-03-08T14:14:43.992Z"
   },
   {
    "duration": 32,
    "start_time": "2023-03-08T14:14:47.235Z"
   },
   {
    "duration": 23,
    "start_time": "2023-03-08T14:14:48.236Z"
   },
   {
    "duration": 1410,
    "start_time": "2023-03-08T14:15:11.004Z"
   },
   {
    "duration": 41,
    "start_time": "2023-03-08T14:15:12.417Z"
   },
   {
    "duration": 14,
    "start_time": "2023-03-08T14:15:12.460Z"
   },
   {
    "duration": 19,
    "start_time": "2023-03-08T14:15:12.477Z"
   },
   {
    "duration": 15,
    "start_time": "2023-03-08T14:15:12.498Z"
   },
   {
    "duration": 34,
    "start_time": "2023-03-08T14:15:12.515Z"
   },
   {
    "duration": 11,
    "start_time": "2023-03-08T14:15:12.551Z"
   },
   {
    "duration": 19,
    "start_time": "2023-03-08T14:15:12.563Z"
   },
   {
    "duration": 220,
    "start_time": "2023-03-08T14:15:12.584Z"
   },
   {
    "duration": 8,
    "start_time": "2023-03-08T14:15:12.808Z"
   },
   {
    "duration": 32,
    "start_time": "2023-03-08T14:15:12.818Z"
   },
   {
    "duration": 196,
    "start_time": "2023-03-08T14:15:12.852Z"
   },
   {
    "duration": 15,
    "start_time": "2023-03-08T14:15:13.050Z"
   },
   {
    "duration": 16,
    "start_time": "2023-03-08T14:15:13.066Z"
   },
   {
    "duration": 4,
    "start_time": "2023-03-08T14:15:13.084Z"
   },
   {
    "duration": 14,
    "start_time": "2023-03-08T14:15:13.090Z"
   },
   {
    "duration": 36,
    "start_time": "2023-03-08T14:15:13.106Z"
   },
   {
    "duration": 6,
    "start_time": "2023-03-08T14:15:13.144Z"
   },
   {
    "duration": 9,
    "start_time": "2023-03-08T14:15:13.151Z"
   },
   {
    "duration": 7,
    "start_time": "2023-03-08T14:15:13.162Z"
   },
   {
    "duration": 9,
    "start_time": "2023-03-08T14:15:13.171Z"
   },
   {
    "duration": 5,
    "start_time": "2023-03-08T14:15:13.181Z"
   },
   {
    "duration": 55,
    "start_time": "2023-03-08T14:15:13.188Z"
   },
   {
    "duration": 8,
    "start_time": "2023-03-08T14:15:13.245Z"
   },
   {
    "duration": 37,
    "start_time": "2023-03-08T14:15:13.255Z"
   },
   {
    "duration": 16,
    "start_time": "2023-03-08T14:15:13.294Z"
   },
   {
    "duration": 41,
    "start_time": "2023-03-08T14:15:13.312Z"
   },
   {
    "duration": 16,
    "start_time": "2023-03-08T14:15:13.358Z"
   },
   {
    "duration": 175,
    "start_time": "2023-03-08T14:15:13.376Z"
   },
   {
    "duration": 4,
    "start_time": "2023-03-08T14:15:13.553Z"
   },
   {
    "duration": 849,
    "start_time": "2023-03-08T14:15:13.559Z"
   },
   {
    "duration": 4,
    "start_time": "2023-03-08T14:15:14.409Z"
   },
   {
    "duration": 3051,
    "start_time": "2023-03-08T14:15:14.414Z"
   },
   {
    "duration": 8,
    "start_time": "2023-03-08T14:15:17.468Z"
   },
   {
    "duration": 7,
    "start_time": "2023-03-08T14:15:17.478Z"
   },
   {
    "duration": 30,
    "start_time": "2023-03-08T14:15:17.488Z"
   },
   {
    "duration": 24,
    "start_time": "2023-03-08T14:15:17.520Z"
   },
   {
    "duration": 5,
    "start_time": "2023-03-08T14:15:17.547Z"
   },
   {
    "duration": 21,
    "start_time": "2023-03-08T14:15:17.555Z"
   },
   {
    "duration": 36,
    "start_time": "2023-03-08T14:15:17.579Z"
   },
   {
    "duration": 33,
    "start_time": "2023-03-08T14:15:17.642Z"
   },
   {
    "duration": 35,
    "start_time": "2023-03-08T14:15:37.554Z"
   },
   {
    "duration": 23,
    "start_time": "2023-03-08T14:16:22.771Z"
   },
   {
    "duration": 18,
    "start_time": "2023-03-08T14:18:02.620Z"
   },
   {
    "duration": 32,
    "start_time": "2023-03-08T14:18:16.295Z"
   },
   {
    "duration": 161,
    "start_time": "2023-03-08T14:18:48.637Z"
   },
   {
    "duration": 23,
    "start_time": "2023-03-08T14:20:39.563Z"
   },
   {
    "duration": 21,
    "start_time": "2023-03-08T14:21:30.308Z"
   },
   {
    "duration": 40,
    "start_time": "2023-03-08T14:24:02.792Z"
   },
   {
    "duration": 27,
    "start_time": "2023-03-08T14:28:48.656Z"
   },
   {
    "duration": 90,
    "start_time": "2023-03-08T14:30:48.554Z"
   },
   {
    "duration": 222,
    "start_time": "2023-03-08T14:32:16.122Z"
   },
   {
    "duration": 4,
    "start_time": "2023-03-08T14:32:21.224Z"
   },
   {
    "duration": 121,
    "start_time": "2023-03-08T14:33:12.939Z"
   },
   {
    "duration": 6,
    "start_time": "2023-03-08T14:33:15.795Z"
   },
   {
    "duration": 1253,
    "start_time": "2023-03-08T14:34:11.123Z"
   },
   {
    "duration": 57,
    "start_time": "2023-03-08T14:35:04.396Z"
   },
   {
    "duration": 55,
    "start_time": "2023-03-08T14:35:14.126Z"
   },
   {
    "duration": 45,
    "start_time": "2023-03-08T14:35:25.870Z"
   },
   {
    "duration": 4,
    "start_time": "2023-03-08T14:36:04.097Z"
   },
   {
    "duration": 4254,
    "start_time": "2023-03-08T14:38:55.908Z"
   },
   {
    "duration": 4006,
    "start_time": "2023-03-08T14:40:05.093Z"
   },
   {
    "duration": 4,
    "start_time": "2023-03-08T14:40:14.921Z"
   },
   {
    "duration": 11,
    "start_time": "2023-03-08T14:40:19.655Z"
   },
   {
    "duration": 1431,
    "start_time": "2023-03-08T14:41:02.664Z"
   },
   {
    "duration": 46,
    "start_time": "2023-03-08T14:41:04.097Z"
   },
   {
    "duration": 17,
    "start_time": "2023-03-08T14:41:04.145Z"
   },
   {
    "duration": 17,
    "start_time": "2023-03-08T14:41:04.164Z"
   },
   {
    "duration": 23,
    "start_time": "2023-03-08T14:41:04.183Z"
   },
   {
    "duration": 43,
    "start_time": "2023-03-08T14:41:04.208Z"
   },
   {
    "duration": 13,
    "start_time": "2023-03-08T14:41:04.254Z"
   },
   {
    "duration": 14,
    "start_time": "2023-03-08T14:41:04.269Z"
   },
   {
    "duration": 236,
    "start_time": "2023-03-08T14:41:04.285Z"
   },
   {
    "duration": 8,
    "start_time": "2023-03-08T14:41:04.522Z"
   },
   {
    "duration": 12,
    "start_time": "2023-03-08T14:41:04.542Z"
   },
   {
    "duration": 219,
    "start_time": "2023-03-08T14:41:04.556Z"
   },
   {
    "duration": 15,
    "start_time": "2023-03-08T14:41:04.778Z"
   },
   {
    "duration": 15,
    "start_time": "2023-03-08T14:41:04.797Z"
   },
   {
    "duration": 4,
    "start_time": "2023-03-08T14:41:04.814Z"
   },
   {
    "duration": 19,
    "start_time": "2023-03-08T14:41:04.841Z"
   },
   {
    "duration": 16,
    "start_time": "2023-03-08T14:41:04.862Z"
   },
   {
    "duration": 9,
    "start_time": "2023-03-08T14:41:04.880Z"
   },
   {
    "duration": 19,
    "start_time": "2023-03-08T14:41:04.891Z"
   },
   {
    "duration": 8,
    "start_time": "2023-03-08T14:41:04.912Z"
   },
   {
    "duration": 25,
    "start_time": "2023-03-08T14:41:04.922Z"
   },
   {
    "duration": 6,
    "start_time": "2023-03-08T14:41:04.949Z"
   },
   {
    "duration": 13,
    "start_time": "2023-03-08T14:41:04.956Z"
   },
   {
    "duration": 7,
    "start_time": "2023-03-08T14:41:04.971Z"
   },
   {
    "duration": 51,
    "start_time": "2023-03-08T14:41:04.979Z"
   },
   {
    "duration": 16,
    "start_time": "2023-03-08T14:41:05.031Z"
   },
   {
    "duration": 17,
    "start_time": "2023-03-08T14:41:05.048Z"
   },
   {
    "duration": 22,
    "start_time": "2023-03-08T14:41:05.067Z"
   },
   {
    "duration": 53,
    "start_time": "2023-03-08T14:41:05.091Z"
   },
   {
    "duration": 9,
    "start_time": "2023-03-08T14:41:05.146Z"
   },
   {
    "duration": 744,
    "start_time": "2023-03-08T14:41:05.242Z"
   },
   {
    "duration": 3,
    "start_time": "2023-03-08T14:41:05.988Z"
   },
   {
    "duration": 3036,
    "start_time": "2023-03-08T14:41:05.993Z"
   },
   {
    "duration": 3,
    "start_time": "2023-03-08T14:41:09.030Z"
   },
   {
    "duration": 5,
    "start_time": "2023-03-08T14:41:09.040Z"
   },
   {
    "duration": 10,
    "start_time": "2023-03-08T14:41:09.046Z"
   },
   {
    "duration": 10,
    "start_time": "2023-03-08T14:41:09.058Z"
   },
   {
    "duration": 16,
    "start_time": "2023-03-08T14:41:09.070Z"
   },
   {
    "duration": 73,
    "start_time": "2023-03-08T14:41:09.088Z"
   },
   {
    "duration": 81,
    "start_time": "2023-03-08T14:41:09.162Z"
   },
   {
    "duration": 4,
    "start_time": "2023-03-08T14:41:09.249Z"
   },
   {
    "duration": 859,
    "start_time": "2023-03-08T14:41:09.256Z"
   },
   {
    "duration": 4,
    "start_time": "2023-03-08T14:41:10.117Z"
   },
   {
    "duration": 3007,
    "start_time": "2023-03-08T14:41:10.122Z"
   },
   {
    "duration": 4,
    "start_time": "2023-03-08T14:41:13.131Z"
   },
   {
    "duration": 12,
    "start_time": "2023-03-08T14:41:13.142Z"
   },
   {
    "duration": 1741,
    "start_time": "2023-03-09T07:29:15.014Z"
   },
   {
    "duration": 97,
    "start_time": "2023-03-09T07:29:16.758Z"
   },
   {
    "duration": 15,
    "start_time": "2023-03-09T07:29:16.857Z"
   },
   {
    "duration": 24,
    "start_time": "2023-03-09T07:29:16.874Z"
   },
   {
    "duration": 15,
    "start_time": "2023-03-09T07:29:16.900Z"
   },
   {
    "duration": 9,
    "start_time": "2023-03-09T07:29:16.917Z"
   },
   {
    "duration": 11,
    "start_time": "2023-03-09T07:29:16.933Z"
   },
   {
    "duration": 10,
    "start_time": "2023-03-09T07:29:16.946Z"
   },
   {
    "duration": 168,
    "start_time": "2023-03-09T07:29:16.957Z"
   },
   {
    "duration": 6,
    "start_time": "2023-03-09T07:29:17.133Z"
   },
   {
    "duration": 18,
    "start_time": "2023-03-09T07:29:17.141Z"
   },
   {
    "duration": 171,
    "start_time": "2023-03-09T07:29:17.161Z"
   },
   {
    "duration": 10,
    "start_time": "2023-03-09T07:29:17.334Z"
   },
   {
    "duration": 9,
    "start_time": "2023-03-09T07:29:17.347Z"
   },
   {
    "duration": 3,
    "start_time": "2023-03-09T07:29:17.357Z"
   },
   {
    "duration": 16,
    "start_time": "2023-03-09T07:29:17.362Z"
   },
   {
    "duration": 4,
    "start_time": "2023-03-09T07:29:17.379Z"
   },
   {
    "duration": 10,
    "start_time": "2023-03-09T07:29:17.385Z"
   },
   {
    "duration": 6,
    "start_time": "2023-03-09T07:29:17.397Z"
   },
   {
    "duration": 31,
    "start_time": "2023-03-09T07:29:17.405Z"
   },
   {
    "duration": 9,
    "start_time": "2023-03-09T07:29:17.438Z"
   },
   {
    "duration": 5,
    "start_time": "2023-03-09T07:29:17.449Z"
   },
   {
    "duration": 9,
    "start_time": "2023-03-09T07:29:17.456Z"
   },
   {
    "duration": 6,
    "start_time": "2023-03-09T07:29:17.467Z"
   },
   {
    "duration": 63,
    "start_time": "2023-03-09T07:29:17.474Z"
   },
   {
    "duration": 12,
    "start_time": "2023-03-09T07:29:17.539Z"
   },
   {
    "duration": 14,
    "start_time": "2023-03-09T07:29:17.553Z"
   },
   {
    "duration": 13,
    "start_time": "2023-03-09T07:29:17.569Z"
   },
   {
    "duration": 59,
    "start_time": "2023-03-09T07:29:17.584Z"
   },
   {
    "duration": 90,
    "start_time": "2023-03-09T07:29:17.645Z"
   },
   {
    "duration": 800,
    "start_time": "2023-03-09T07:29:17.738Z"
   },
   {
    "duration": 3,
    "start_time": "2023-03-09T07:29:18.540Z"
   },
   {
    "duration": 2769,
    "start_time": "2023-03-09T07:29:18.544Z"
   },
   {
    "duration": 4,
    "start_time": "2023-03-09T07:29:21.315Z"
   },
   {
    "duration": 49,
    "start_time": "2023-03-09T07:29:21.320Z"
   },
   {
    "duration": 46,
    "start_time": "2023-03-09T07:29:21.371Z"
   },
   {
    "duration": 50,
    "start_time": "2023-03-09T07:29:21.419Z"
   },
   {
    "duration": 35,
    "start_time": "2023-03-09T07:29:21.470Z"
   },
   {
    "duration": 75,
    "start_time": "2023-03-09T07:29:21.507Z"
   },
   {
    "duration": 150,
    "start_time": "2023-03-09T07:29:21.584Z"
   },
   {
    "duration": 121,
    "start_time": "2023-03-09T07:29:21.739Z"
   },
   {
    "duration": 848,
    "start_time": "2023-03-09T07:29:21.862Z"
   },
   {
    "duration": 4,
    "start_time": "2023-03-09T07:29:22.712Z"
   },
   {
    "duration": 2901,
    "start_time": "2023-03-09T07:29:22.718Z"
   },
   {
    "duration": 3,
    "start_time": "2023-03-09T07:29:25.621Z"
   },
   {
    "duration": 11,
    "start_time": "2023-03-09T07:29:30.029Z"
   },
   {
    "duration": 283,
    "start_time": "2023-03-09T07:31:39.153Z"
   },
   {
    "duration": 86,
    "start_time": "2023-03-09T07:32:01.051Z"
   },
   {
    "duration": 633,
    "start_time": "2023-03-09T07:33:25.203Z"
   },
   {
    "duration": 534,
    "start_time": "2023-03-09T07:33:38.507Z"
   },
   {
    "duration": 3,
    "start_time": "2023-03-09T07:33:47.025Z"
   },
   {
    "duration": 119,
    "start_time": "2023-03-09T07:39:31.148Z"
   },
   {
    "duration": 103,
    "start_time": "2023-03-09T07:39:40.614Z"
   },
   {
    "duration": 67,
    "start_time": "2023-03-09T07:39:56.073Z"
   },
   {
    "duration": 3,
    "start_time": "2023-03-09T07:40:18.089Z"
   },
   {
    "duration": 8,
    "start_time": "2023-03-09T07:40:27.768Z"
   },
   {
    "duration": 3,
    "start_time": "2023-03-09T07:41:05.905Z"
   },
   {
    "duration": 2,
    "start_time": "2023-03-09T07:41:14.255Z"
   },
   {
    "duration": 38,
    "start_time": "2023-03-09T07:44:25.101Z"
   },
   {
    "duration": 6,
    "start_time": "2023-03-09T07:44:53.301Z"
   },
   {
    "duration": 6,
    "start_time": "2023-03-09T07:44:55.541Z"
   },
   {
    "duration": 6,
    "start_time": "2023-03-09T07:47:07.192Z"
   },
   {
    "duration": 8,
    "start_time": "2023-03-09T07:47:46.443Z"
   },
   {
    "duration": 6,
    "start_time": "2023-03-09T07:48:05.752Z"
   },
   {
    "duration": 9,
    "start_time": "2023-03-09T07:48:41.210Z"
   },
   {
    "duration": 287,
    "start_time": "2023-03-09T07:48:49.377Z"
   },
   {
    "duration": 8,
    "start_time": "2023-03-09T07:49:26.012Z"
   },
   {
    "duration": 5,
    "start_time": "2023-03-09T07:49:33.874Z"
   },
   {
    "duration": 8801,
    "start_time": "2023-03-09T07:49:47.210Z"
   },
   {
    "duration": 10,
    "start_time": "2023-03-09T07:50:08.336Z"
   },
   {
    "duration": 1389,
    "start_time": "2023-03-09T07:53:04.126Z"
   },
   {
    "duration": 42,
    "start_time": "2023-03-09T07:53:05.517Z"
   },
   {
    "duration": 15,
    "start_time": "2023-03-09T07:53:05.560Z"
   },
   {
    "duration": 15,
    "start_time": "2023-03-09T07:53:05.577Z"
   },
   {
    "duration": 21,
    "start_time": "2023-03-09T07:53:05.594Z"
   },
   {
    "duration": 14,
    "start_time": "2023-03-09T07:53:05.634Z"
   },
   {
    "duration": 21,
    "start_time": "2023-03-09T07:53:05.650Z"
   },
   {
    "duration": 16,
    "start_time": "2023-03-09T07:53:05.673Z"
   },
   {
    "duration": 213,
    "start_time": "2023-03-09T07:53:05.691Z"
   },
   {
    "duration": 8,
    "start_time": "2023-03-09T07:53:05.905Z"
   },
   {
    "duration": 27,
    "start_time": "2023-03-09T07:53:05.915Z"
   },
   {
    "duration": 228,
    "start_time": "2023-03-09T07:53:05.943Z"
   },
   {
    "duration": 12,
    "start_time": "2023-03-09T07:53:06.173Z"
   },
   {
    "duration": 12,
    "start_time": "2023-03-09T07:53:06.190Z"
   },
   {
    "duration": 30,
    "start_time": "2023-03-09T07:53:06.203Z"
   },
   {
    "duration": 19,
    "start_time": "2023-03-09T07:53:06.236Z"
   },
   {
    "duration": 7,
    "start_time": "2023-03-09T07:53:06.257Z"
   },
   {
    "duration": 4,
    "start_time": "2023-03-09T07:53:06.266Z"
   },
   {
    "duration": 10,
    "start_time": "2023-03-09T07:53:06.272Z"
   },
   {
    "duration": 11,
    "start_time": "2023-03-09T07:53:06.283Z"
   },
   {
    "duration": 42,
    "start_time": "2023-03-09T07:53:06.295Z"
   },
   {
    "duration": 7,
    "start_time": "2023-03-09T07:53:06.340Z"
   },
   {
    "duration": 37,
    "start_time": "2023-03-09T07:53:06.350Z"
   },
   {
    "duration": 17,
    "start_time": "2023-03-09T07:53:06.390Z"
   },
   {
    "duration": 52,
    "start_time": "2023-03-09T07:53:06.409Z"
   },
   {
    "duration": 23,
    "start_time": "2023-03-09T07:53:06.464Z"
   },
   {
    "duration": 67,
    "start_time": "2023-03-09T07:53:06.488Z"
   },
   {
    "duration": 34,
    "start_time": "2023-03-09T07:53:06.558Z"
   },
   {
    "duration": 44,
    "start_time": "2023-03-09T07:53:06.595Z"
   },
   {
    "duration": 3,
    "start_time": "2023-03-09T07:53:06.641Z"
   },
   {
    "duration": 887,
    "start_time": "2023-03-09T07:53:06.646Z"
   },
   {
    "duration": 4,
    "start_time": "2023-03-09T07:53:07.535Z"
   },
   {
    "duration": 2739,
    "start_time": "2023-03-09T07:53:07.541Z"
   },
   {
    "duration": 3,
    "start_time": "2023-03-09T07:53:10.282Z"
   },
   {
    "duration": 52,
    "start_time": "2023-03-09T07:53:10.287Z"
   },
   {
    "duration": 26,
    "start_time": "2023-03-09T07:53:10.340Z"
   },
   {
    "duration": 17,
    "start_time": "2023-03-09T07:53:10.368Z"
   },
   {
    "duration": 43,
    "start_time": "2023-03-09T07:53:10.386Z"
   },
   {
    "duration": 40,
    "start_time": "2023-03-09T07:53:10.431Z"
   },
   {
    "duration": 70,
    "start_time": "2023-03-09T07:53:10.472Z"
   },
   {
    "duration": 13,
    "start_time": "2023-03-09T07:53:10.632Z"
   },
   {
    "duration": 757,
    "start_time": "2023-03-09T07:53:10.647Z"
   },
   {
    "duration": 3,
    "start_time": "2023-03-09T07:53:11.406Z"
   },
   {
    "duration": 2714,
    "start_time": "2023-03-09T07:53:11.411Z"
   },
   {
    "duration": 8,
    "start_time": "2023-03-09T07:53:14.127Z"
   },
   {
    "duration": 16,
    "start_time": "2023-03-09T07:53:14.137Z"
   },
   {
    "duration": 591,
    "start_time": "2023-03-09T07:53:14.155Z"
   },
   {
    "duration": 84,
    "start_time": "2023-03-09T07:53:14.749Z"
   },
   {
    "duration": 7692,
    "start_time": "2023-03-09T07:53:14.836Z"
   },
   {
    "duration": 3,
    "start_time": "2023-03-09T07:53:22.533Z"
   },
   {
    "duration": 30049,
    "start_time": "2023-03-09T07:53:22.538Z"
   },
   {
    "duration": 4,
    "start_time": "2023-03-09T07:53:52.589Z"
   },
   {
    "duration": 19,
    "start_time": "2023-03-09T07:53:52.595Z"
   },
   {
    "duration": 31182,
    "start_time": "2023-03-09T07:56:03.131Z"
   },
   {
    "duration": 28257,
    "start_time": "2023-03-09T07:57:12.222Z"
   },
   {
    "duration": 29190,
    "start_time": "2023-03-09T07:58:02.807Z"
   },
   {
    "duration": 7761,
    "start_time": "2023-03-09T07:59:09.857Z"
   },
   {
    "duration": 1375,
    "start_time": "2023-03-09T07:59:39.117Z"
   },
   {
    "duration": 41,
    "start_time": "2023-03-09T07:59:40.494Z"
   },
   {
    "duration": 26,
    "start_time": "2023-03-09T07:59:40.542Z"
   },
   {
    "duration": 15,
    "start_time": "2023-03-09T07:59:40.570Z"
   },
   {
    "duration": 14,
    "start_time": "2023-03-09T07:59:40.587Z"
   },
   {
    "duration": 8,
    "start_time": "2023-03-09T07:59:40.603Z"
   },
   {
    "duration": 30,
    "start_time": "2023-03-09T07:59:40.612Z"
   },
   {
    "duration": 11,
    "start_time": "2023-03-09T07:59:40.644Z"
   },
   {
    "duration": 180,
    "start_time": "2023-03-09T07:59:40.656Z"
   },
   {
    "duration": 13,
    "start_time": "2023-03-09T07:59:40.837Z"
   },
   {
    "duration": 13,
    "start_time": "2023-03-09T07:59:40.852Z"
   },
   {
    "duration": 194,
    "start_time": "2023-03-09T07:59:40.868Z"
   },
   {
    "duration": 15,
    "start_time": "2023-03-09T07:59:41.063Z"
   },
   {
    "duration": 11,
    "start_time": "2023-03-09T07:59:41.081Z"
   },
   {
    "duration": 4,
    "start_time": "2023-03-09T07:59:41.094Z"
   },
   {
    "duration": 52,
    "start_time": "2023-03-09T07:59:41.100Z"
   },
   {
    "duration": 8,
    "start_time": "2023-03-09T07:59:41.154Z"
   },
   {
    "duration": 6,
    "start_time": "2023-03-09T07:59:41.164Z"
   },
   {
    "duration": 10,
    "start_time": "2023-03-09T07:59:41.172Z"
   },
   {
    "duration": 10,
    "start_time": "2023-03-09T07:59:41.184Z"
   },
   {
    "duration": 20,
    "start_time": "2023-03-09T07:59:41.196Z"
   },
   {
    "duration": 23,
    "start_time": "2023-03-09T07:59:41.218Z"
   },
   {
    "duration": 15,
    "start_time": "2023-03-09T07:59:41.252Z"
   },
   {
    "duration": 8,
    "start_time": "2023-03-09T07:59:41.269Z"
   },
   {
    "duration": 46,
    "start_time": "2023-03-09T07:59:41.279Z"
   },
   {
    "duration": 22,
    "start_time": "2023-03-09T07:59:41.326Z"
   },
   {
    "duration": 18,
    "start_time": "2023-03-09T07:59:41.351Z"
   },
   {
    "duration": 16,
    "start_time": "2023-03-09T07:59:41.370Z"
   },
   {
    "duration": 145,
    "start_time": "2023-03-09T07:59:41.388Z"
   },
   {
    "duration": 5,
    "start_time": "2023-03-09T07:59:41.535Z"
   },
   {
    "duration": 760,
    "start_time": "2023-03-09T07:59:41.544Z"
   },
   {
    "duration": 3,
    "start_time": "2023-03-09T07:59:42.306Z"
   },
   {
    "duration": 2683,
    "start_time": "2023-03-09T07:59:42.310Z"
   },
   {
    "duration": 4,
    "start_time": "2023-03-09T07:59:44.995Z"
   },
   {
    "duration": 27,
    "start_time": "2023-03-09T07:59:45.000Z"
   },
   {
    "duration": 31,
    "start_time": "2023-03-09T07:59:45.028Z"
   },
   {
    "duration": 11,
    "start_time": "2023-03-09T07:59:45.061Z"
   },
   {
    "duration": 14,
    "start_time": "2023-03-09T07:59:45.074Z"
   },
   {
    "duration": 28,
    "start_time": "2023-03-09T07:59:45.090Z"
   },
   {
    "duration": 130,
    "start_time": "2023-03-09T07:59:45.120Z"
   },
   {
    "duration": 80,
    "start_time": "2023-03-09T07:59:45.259Z"
   },
   {
    "duration": 707,
    "start_time": "2023-03-09T07:59:45.341Z"
   },
   {
    "duration": 3,
    "start_time": "2023-03-09T07:59:46.050Z"
   },
   {
    "duration": 2782,
    "start_time": "2023-03-09T07:59:46.055Z"
   },
   {
    "duration": 4,
    "start_time": "2023-03-09T07:59:48.839Z"
   },
   {
    "duration": 16,
    "start_time": "2023-03-09T07:59:48.845Z"
   },
   {
    "duration": 675,
    "start_time": "2023-03-09T07:59:48.863Z"
   },
   {
    "duration": 10,
    "start_time": "2023-03-09T07:59:49.542Z"
   },
   {
    "duration": 7789,
    "start_time": "2023-03-09T07:59:49.634Z"
   },
   {
    "duration": 3,
    "start_time": "2023-03-09T07:59:57.425Z"
   },
   {
    "duration": 270,
    "start_time": "2023-03-09T07:59:57.436Z"
   },
   {
    "duration": 0,
    "start_time": "2023-03-09T07:59:57.707Z"
   },
   {
    "duration": 0,
    "start_time": "2023-03-09T07:59:57.708Z"
   },
   {
    "duration": 29525,
    "start_time": "2023-03-09T08:00:28.777Z"
   },
   {
    "duration": 3,
    "start_time": "2023-03-09T08:00:58.303Z"
   },
   {
    "duration": 9,
    "start_time": "2023-03-09T08:00:59.868Z"
   },
   {
    "duration": 38,
    "start_time": "2023-03-09T08:58:24.217Z"
   },
   {
    "duration": 15,
    "start_time": "2023-03-09T08:58:32.251Z"
   },
   {
    "duration": 22,
    "start_time": "2023-03-09T08:59:50.499Z"
   },
   {
    "duration": 1373,
    "start_time": "2023-03-09T09:00:00.963Z"
   },
   {
    "duration": 52,
    "start_time": "2023-03-09T09:00:02.338Z"
   },
   {
    "duration": 12,
    "start_time": "2023-03-09T09:00:02.391Z"
   },
   {
    "duration": 20,
    "start_time": "2023-03-09T09:00:02.405Z"
   },
   {
    "duration": 22,
    "start_time": "2023-03-09T09:00:02.427Z"
   },
   {
    "duration": 10,
    "start_time": "2023-03-09T09:00:02.451Z"
   },
   {
    "duration": 16,
    "start_time": "2023-03-09T09:00:02.462Z"
   },
   {
    "duration": 10,
    "start_time": "2023-03-09T09:00:02.479Z"
   },
   {
    "duration": 179,
    "start_time": "2023-03-09T09:00:02.490Z"
   },
   {
    "duration": 6,
    "start_time": "2023-03-09T09:00:02.671Z"
   },
   {
    "duration": 10,
    "start_time": "2023-03-09T09:00:02.679Z"
   },
   {
    "duration": 177,
    "start_time": "2023-03-09T09:00:02.691Z"
   },
   {
    "duration": 14,
    "start_time": "2023-03-09T09:00:02.870Z"
   },
   {
    "duration": 13,
    "start_time": "2023-03-09T09:00:02.888Z"
   },
   {
    "duration": 4,
    "start_time": "2023-03-09T09:00:02.903Z"
   },
   {
    "duration": 36,
    "start_time": "2023-03-09T09:00:02.909Z"
   },
   {
    "duration": 4,
    "start_time": "2023-03-09T09:00:02.947Z"
   },
   {
    "duration": 28,
    "start_time": "2023-03-09T09:00:02.953Z"
   },
   {
    "duration": 13,
    "start_time": "2023-03-09T09:00:02.983Z"
   },
   {
    "duration": 12,
    "start_time": "2023-03-09T09:00:02.999Z"
   },
   {
    "duration": 11,
    "start_time": "2023-03-09T09:00:03.013Z"
   },
   {
    "duration": 6,
    "start_time": "2023-03-09T09:00:03.027Z"
   },
   {
    "duration": 14,
    "start_time": "2023-03-09T09:00:03.034Z"
   },
   {
    "duration": 14,
    "start_time": "2023-03-09T09:00:03.050Z"
   },
   {
    "duration": 52,
    "start_time": "2023-03-09T09:00:03.066Z"
   },
   {
    "duration": 14,
    "start_time": "2023-03-09T09:00:03.120Z"
   },
   {
    "duration": 15,
    "start_time": "2023-03-09T09:00:03.136Z"
   },
   {
    "duration": 16,
    "start_time": "2023-03-09T09:00:03.153Z"
   },
   {
    "duration": 67,
    "start_time": "2023-03-09T09:00:03.170Z"
   },
   {
    "duration": 95,
    "start_time": "2023-03-09T09:00:03.238Z"
   },
   {
    "duration": 681,
    "start_time": "2023-03-09T09:00:03.335Z"
   },
   {
    "duration": 4,
    "start_time": "2023-03-09T09:00:04.019Z"
   },
   {
    "duration": 2646,
    "start_time": "2023-03-09T09:00:04.025Z"
   },
   {
    "duration": 3,
    "start_time": "2023-03-09T09:00:06.673Z"
   },
   {
    "duration": 25,
    "start_time": "2023-03-09T09:00:06.678Z"
   },
   {
    "duration": 16,
    "start_time": "2023-03-09T09:00:06.705Z"
   },
   {
    "duration": 11,
    "start_time": "2023-03-09T09:00:06.723Z"
   },
   {
    "duration": 17,
    "start_time": "2023-03-09T09:00:06.736Z"
   },
   {
    "duration": 30,
    "start_time": "2023-03-09T09:00:06.755Z"
   },
   {
    "duration": 47,
    "start_time": "2023-03-09T09:00:06.787Z"
   },
   {
    "duration": 92,
    "start_time": "2023-03-09T09:00:06.842Z"
   },
   {
    "duration": 705,
    "start_time": "2023-03-09T09:00:06.936Z"
   },
   {
    "duration": 3,
    "start_time": "2023-03-09T09:00:07.643Z"
   },
   {
    "duration": 2679,
    "start_time": "2023-03-09T09:00:07.647Z"
   },
   {
    "duration": 5,
    "start_time": "2023-03-09T09:00:10.328Z"
   },
   {
    "duration": 22,
    "start_time": "2023-03-09T09:00:10.336Z"
   },
   {
    "duration": 575,
    "start_time": "2023-03-09T09:00:10.360Z"
   },
   {
    "duration": 3,
    "start_time": "2023-03-09T09:00:10.938Z"
   },
   {
    "duration": 7599,
    "start_time": "2023-03-09T09:00:10.943Z"
   },
   {
    "duration": 3,
    "start_time": "2023-03-09T09:00:18.543Z"
   },
   {
    "duration": 28444,
    "start_time": "2023-03-09T09:00:18.548Z"
   },
   {
    "duration": 3,
    "start_time": "2023-03-09T09:00:46.994Z"
   },
   {
    "duration": 12,
    "start_time": "2023-03-09T09:00:46.998Z"
   },
   {
    "duration": 43,
    "start_time": "2023-03-09T09:00:47.012Z"
   },
   {
    "duration": 14,
    "start_time": "2023-03-09T09:00:47.056Z"
   },
   {
    "duration": 64,
    "start_time": "2023-03-09T09:00:47.072Z"
   },
   {
    "duration": 3,
    "start_time": "2023-03-09T09:00:50.502Z"
   },
   {
    "duration": 13,
    "start_time": "2023-03-09T09:01:35.026Z"
   },
   {
    "duration": 116,
    "start_time": "2023-03-09T09:01:37.989Z"
   },
   {
    "duration": 19,
    "start_time": "2023-03-09T09:02:01.511Z"
   },
   {
    "duration": 165,
    "start_time": "2023-03-09T09:02:03.769Z"
   },
   {
    "duration": 805,
    "start_time": "2023-03-09T09:02:42.450Z"
   },
   {
    "duration": 874,
    "start_time": "2023-03-09T09:03:35.749Z"
   },
   {
    "duration": 3,
    "start_time": "2023-03-09T09:03:46.016Z"
   },
   {
    "duration": 4569,
    "start_time": "2023-03-09T09:04:40.271Z"
   },
   {
    "duration": 3,
    "start_time": "2023-03-09T09:05:03.807Z"
   },
   {
    "duration": 14,
    "start_time": "2023-03-09T09:05:19.578Z"
   },
   {
    "duration": 3,
    "start_time": "2023-03-09T09:07:45.454Z"
   },
   {
    "duration": 1325,
    "start_time": "2023-03-09T09:07:59.330Z"
   },
   {
    "duration": 43,
    "start_time": "2023-03-09T09:08:00.656Z"
   },
   {
    "duration": 14,
    "start_time": "2023-03-09T09:08:00.700Z"
   },
   {
    "duration": 20,
    "start_time": "2023-03-09T09:08:00.716Z"
   },
   {
    "duration": 38,
    "start_time": "2023-03-09T09:08:00.739Z"
   },
   {
    "duration": 28,
    "start_time": "2023-03-09T09:08:00.779Z"
   },
   {
    "duration": 29,
    "start_time": "2023-03-09T09:08:00.808Z"
   },
   {
    "duration": 36,
    "start_time": "2023-03-09T09:08:00.839Z"
   },
   {
    "duration": 215,
    "start_time": "2023-03-09T09:08:00.876Z"
   },
   {
    "duration": 7,
    "start_time": "2023-03-09T09:08:01.092Z"
   },
   {
    "duration": 39,
    "start_time": "2023-03-09T09:08:01.101Z"
   },
   {
    "duration": 173,
    "start_time": "2023-03-09T09:08:01.142Z"
   },
   {
    "duration": 25,
    "start_time": "2023-03-09T09:08:01.317Z"
   },
   {
    "duration": 11,
    "start_time": "2023-03-09T09:08:01.345Z"
   },
   {
    "duration": 18,
    "start_time": "2023-03-09T09:08:01.358Z"
   },
   {
    "duration": 45,
    "start_time": "2023-03-09T09:08:01.377Z"
   },
   {
    "duration": 25,
    "start_time": "2023-03-09T09:08:01.423Z"
   },
   {
    "duration": 26,
    "start_time": "2023-03-09T09:08:01.450Z"
   },
   {
    "duration": 25,
    "start_time": "2023-03-09T09:08:01.478Z"
   },
   {
    "duration": 20,
    "start_time": "2023-03-09T09:08:01.505Z"
   },
   {
    "duration": 47,
    "start_time": "2023-03-09T09:08:01.527Z"
   },
   {
    "duration": 14,
    "start_time": "2023-03-09T09:08:01.576Z"
   },
   {
    "duration": 31,
    "start_time": "2023-03-09T09:08:01.592Z"
   },
   {
    "duration": 43,
    "start_time": "2023-03-09T09:08:01.626Z"
   },
   {
    "duration": 78,
    "start_time": "2023-03-09T09:08:01.671Z"
   },
   {
    "duration": 36,
    "start_time": "2023-03-09T09:08:01.751Z"
   },
   {
    "duration": 51,
    "start_time": "2023-03-09T09:08:01.789Z"
   },
   {
    "duration": 28,
    "start_time": "2023-03-09T09:08:01.843Z"
   },
   {
    "duration": 84,
    "start_time": "2023-03-09T09:08:01.873Z"
   },
   {
    "duration": 75,
    "start_time": "2023-03-09T09:08:01.959Z"
   },
   {
    "duration": 807,
    "start_time": "2023-03-09T09:08:02.036Z"
   },
   {
    "duration": 5,
    "start_time": "2023-03-09T09:08:02.845Z"
   },
   {
    "duration": 2857,
    "start_time": "2023-03-09T09:08:02.852Z"
   },
   {
    "duration": 8,
    "start_time": "2023-03-09T09:08:05.710Z"
   },
   {
    "duration": 14,
    "start_time": "2023-03-09T09:08:05.720Z"
   },
   {
    "duration": 26,
    "start_time": "2023-03-09T09:08:05.736Z"
   },
   {
    "duration": 23,
    "start_time": "2023-03-09T09:08:05.764Z"
   },
   {
    "duration": 21,
    "start_time": "2023-03-09T09:08:05.790Z"
   },
   {
    "duration": 35,
    "start_time": "2023-03-09T09:08:05.813Z"
   },
   {
    "duration": 85,
    "start_time": "2023-03-09T09:08:05.851Z"
   },
   {
    "duration": 88,
    "start_time": "2023-03-09T09:08:05.945Z"
   },
   {
    "duration": 823,
    "start_time": "2023-03-09T09:08:06.036Z"
   },
   {
    "duration": 4,
    "start_time": "2023-03-09T09:08:06.862Z"
   },
   {
    "duration": 2761,
    "start_time": "2023-03-09T09:08:06.868Z"
   },
   {
    "duration": 3,
    "start_time": "2023-03-09T09:08:09.634Z"
   },
   {
    "duration": 14,
    "start_time": "2023-03-09T09:08:09.638Z"
   },
   {
    "duration": 580,
    "start_time": "2023-03-09T09:08:09.654Z"
   },
   {
    "duration": 3,
    "start_time": "2023-03-09T09:08:10.236Z"
   },
   {
    "duration": 8527,
    "start_time": "2023-03-09T09:08:10.243Z"
   },
   {
    "duration": 3,
    "start_time": "2023-03-09T09:08:18.772Z"
   },
   {
    "duration": 29542,
    "start_time": "2023-03-09T09:08:18.777Z"
   },
   {
    "duration": 5,
    "start_time": "2023-03-09T09:08:48.321Z"
   },
   {
    "duration": 18,
    "start_time": "2023-03-09T09:08:48.332Z"
   },
   {
    "duration": 54,
    "start_time": "2023-03-09T09:08:48.352Z"
   },
   {
    "duration": 27,
    "start_time": "2023-03-09T09:08:48.409Z"
   },
   {
    "duration": 49,
    "start_time": "2023-03-09T09:08:48.438Z"
   },
   {
    "duration": 43,
    "start_time": "2023-03-09T09:08:48.491Z"
   },
   {
    "duration": 897,
    "start_time": "2023-03-09T09:08:48.536Z"
   },
   {
    "duration": 4,
    "start_time": "2023-03-09T09:08:49.435Z"
   },
   {
    "duration": 3379,
    "start_time": "2023-03-09T09:08:49.441Z"
   },
   {
    "duration": 3,
    "start_time": "2023-03-09T09:08:52.822Z"
   },
   {
    "duration": 11,
    "start_time": "2023-03-09T09:08:52.832Z"
   },
   {
    "duration": 5,
    "start_time": "2023-03-09T09:09:28.805Z"
   },
   {
    "duration": 10,
    "start_time": "2023-03-09T09:09:46.203Z"
   },
   {
    "duration": 3,
    "start_time": "2023-03-09T09:09:50.368Z"
   },
   {
    "duration": 14,
    "start_time": "2023-03-09T09:09:50.971Z"
   },
   {
    "duration": 4,
    "start_time": "2023-03-09T09:09:55.902Z"
   },
   {
    "duration": 14,
    "start_time": "2023-03-09T09:09:58.506Z"
   },
   {
    "duration": 1487,
    "start_time": "2023-03-09T09:10:26.607Z"
   },
   {
    "duration": 40,
    "start_time": "2023-03-09T09:10:28.096Z"
   },
   {
    "duration": 65,
    "start_time": "2023-03-09T09:10:28.138Z"
   },
   {
    "duration": 15,
    "start_time": "2023-03-09T09:10:28.205Z"
   },
   {
    "duration": 20,
    "start_time": "2023-03-09T09:10:28.223Z"
   },
   {
    "duration": 13,
    "start_time": "2023-03-09T09:10:28.245Z"
   },
   {
    "duration": 15,
    "start_time": "2023-03-09T09:10:28.260Z"
   },
   {
    "duration": 11,
    "start_time": "2023-03-09T09:10:28.276Z"
   },
   {
    "duration": 239,
    "start_time": "2023-03-09T09:10:28.289Z"
   },
   {
    "duration": 7,
    "start_time": "2023-03-09T09:10:28.532Z"
   },
   {
    "duration": 14,
    "start_time": "2023-03-09T09:10:28.540Z"
   },
   {
    "duration": 174,
    "start_time": "2023-03-09T09:10:28.555Z"
   },
   {
    "duration": 12,
    "start_time": "2023-03-09T09:10:28.734Z"
   },
   {
    "duration": 11,
    "start_time": "2023-03-09T09:10:28.749Z"
   },
   {
    "duration": 16,
    "start_time": "2023-03-09T09:10:28.761Z"
   },
   {
    "duration": 33,
    "start_time": "2023-03-09T09:10:28.779Z"
   },
   {
    "duration": 21,
    "start_time": "2023-03-09T09:10:28.815Z"
   },
   {
    "duration": 8,
    "start_time": "2023-03-09T09:10:28.838Z"
   },
   {
    "duration": 10,
    "start_time": "2023-03-09T09:10:28.848Z"
   },
   {
    "duration": 15,
    "start_time": "2023-03-09T09:10:28.860Z"
   },
   {
    "duration": 10,
    "start_time": "2023-03-09T09:10:28.876Z"
   },
   {
    "duration": 11,
    "start_time": "2023-03-09T09:10:28.887Z"
   },
   {
    "duration": 14,
    "start_time": "2023-03-09T09:10:28.900Z"
   },
   {
    "duration": 17,
    "start_time": "2023-03-09T09:10:28.916Z"
   },
   {
    "duration": 33,
    "start_time": "2023-03-09T09:10:28.935Z"
   },
   {
    "duration": 14,
    "start_time": "2023-03-09T09:10:28.969Z"
   },
   {
    "duration": 27,
    "start_time": "2023-03-09T09:10:28.984Z"
   },
   {
    "duration": 32,
    "start_time": "2023-03-09T09:10:29.013Z"
   },
   {
    "duration": 85,
    "start_time": "2023-03-09T09:10:29.047Z"
   },
   {
    "duration": 4,
    "start_time": "2023-03-09T09:10:29.134Z"
   },
   {
    "duration": 799,
    "start_time": "2023-03-09T09:10:29.140Z"
   },
   {
    "duration": 3,
    "start_time": "2023-03-09T09:10:29.940Z"
   },
   {
    "duration": 2787,
    "start_time": "2023-03-09T09:10:29.945Z"
   },
   {
    "duration": 3,
    "start_time": "2023-03-09T09:10:32.735Z"
   },
   {
    "duration": 11,
    "start_time": "2023-03-09T09:10:32.740Z"
   },
   {
    "duration": 19,
    "start_time": "2023-03-09T09:10:32.753Z"
   },
   {
    "duration": 29,
    "start_time": "2023-03-09T09:10:32.774Z"
   },
   {
    "duration": 30,
    "start_time": "2023-03-09T09:10:32.805Z"
   },
   {
    "duration": 44,
    "start_time": "2023-03-09T09:10:32.838Z"
   },
   {
    "duration": 156,
    "start_time": "2023-03-09T09:10:32.885Z"
   },
   {
    "duration": 4,
    "start_time": "2023-03-09T09:10:33.047Z"
   },
   {
    "duration": 788,
    "start_time": "2023-03-09T09:10:33.054Z"
   },
   {
    "duration": 3,
    "start_time": "2023-03-09T09:10:33.844Z"
   },
   {
    "duration": 2929,
    "start_time": "2023-03-09T09:10:33.849Z"
   },
   {
    "duration": 3,
    "start_time": "2023-03-09T09:10:36.780Z"
   },
   {
    "duration": 21,
    "start_time": "2023-03-09T09:10:36.785Z"
   },
   {
    "duration": 836,
    "start_time": "2023-03-09T09:10:36.808Z"
   },
   {
    "duration": 89,
    "start_time": "2023-03-09T09:10:37.646Z"
   },
   {
    "duration": 7913,
    "start_time": "2023-03-09T09:10:37.737Z"
   },
   {
    "duration": 3,
    "start_time": "2023-03-09T09:10:45.652Z"
   },
   {
    "duration": 29303,
    "start_time": "2023-03-09T09:10:45.656Z"
   },
   {
    "duration": 3,
    "start_time": "2023-03-09T09:11:14.961Z"
   },
   {
    "duration": 21,
    "start_time": "2023-03-09T09:11:14.966Z"
   },
   {
    "duration": 58,
    "start_time": "2023-03-09T09:11:14.989Z"
   },
   {
    "duration": 19,
    "start_time": "2023-03-09T09:11:15.049Z"
   },
   {
    "duration": 165,
    "start_time": "2023-03-09T09:11:15.070Z"
   },
   {
    "duration": 4,
    "start_time": "2023-03-09T09:11:15.237Z"
   },
   {
    "duration": 1323,
    "start_time": "2023-03-09T09:11:15.243Z"
   },
   {
    "duration": 4,
    "start_time": "2023-03-09T09:11:16.567Z"
   },
   {
    "duration": 4216,
    "start_time": "2023-03-09T09:11:16.573Z"
   },
   {
    "duration": 3,
    "start_time": "2023-03-09T09:11:20.791Z"
   },
   {
    "duration": 31,
    "start_time": "2023-03-09T09:11:20.795Z"
   },
   {
    "duration": 825,
    "start_time": "2023-03-09T09:11:35.367Z"
   },
   {
    "duration": 3,
    "start_time": "2023-03-09T09:11:38.234Z"
   },
   {
    "duration": 3264,
    "start_time": "2023-03-09T09:12:09.918Z"
   },
   {
    "duration": 3761,
    "start_time": "2023-03-09T09:12:53.920Z"
   },
   {
    "duration": 4037,
    "start_time": "2023-03-09T09:13:11.810Z"
   },
   {
    "duration": 3648,
    "start_time": "2023-03-09T09:13:35.970Z"
   },
   {
    "duration": 3367,
    "start_time": "2023-03-09T09:13:43.301Z"
   },
   {
    "duration": 3442,
    "start_time": "2023-03-09T09:14:02.597Z"
   },
   {
    "duration": 3483,
    "start_time": "2023-03-09T09:14:34.061Z"
   },
   {
    "duration": 3263,
    "start_time": "2023-03-09T09:14:47.591Z"
   },
   {
    "duration": 72,
    "start_time": "2023-03-09T10:18:22.858Z"
   },
   {
    "duration": 3563,
    "start_time": "2023-03-09T10:18:41.007Z"
   },
   {
    "duration": 10,
    "start_time": "2023-03-09T10:18:57.009Z"
   },
   {
    "duration": 806,
    "start_time": "2023-03-09T10:20:30.049Z"
   },
   {
    "duration": 3210,
    "start_time": "2023-03-09T10:21:00.333Z"
   },
   {
    "duration": 3153,
    "start_time": "2023-03-09T10:21:08.223Z"
   },
   {
    "duration": 1317,
    "start_time": "2023-03-09T10:21:52.904Z"
   },
   {
    "duration": 42,
    "start_time": "2023-03-09T10:21:54.222Z"
   },
   {
    "duration": 12,
    "start_time": "2023-03-09T10:21:54.266Z"
   },
   {
    "duration": 12,
    "start_time": "2023-03-09T10:21:54.280Z"
   },
   {
    "duration": 14,
    "start_time": "2023-03-09T10:21:54.294Z"
   },
   {
    "duration": 14,
    "start_time": "2023-03-09T10:21:54.309Z"
   },
   {
    "duration": 16,
    "start_time": "2023-03-09T10:21:54.324Z"
   },
   {
    "duration": 11,
    "start_time": "2023-03-09T10:21:54.341Z"
   },
   {
    "duration": 174,
    "start_time": "2023-03-09T10:21:54.353Z"
   },
   {
    "duration": 9,
    "start_time": "2023-03-09T10:21:54.528Z"
   },
   {
    "duration": 12,
    "start_time": "2023-03-09T10:21:54.538Z"
   },
   {
    "duration": 174,
    "start_time": "2023-03-09T10:21:54.552Z"
   },
   {
    "duration": 11,
    "start_time": "2023-03-09T10:21:54.727Z"
   },
   {
    "duration": 10,
    "start_time": "2023-03-09T10:21:54.741Z"
   },
   {
    "duration": 4,
    "start_time": "2023-03-09T10:21:54.753Z"
   },
   {
    "duration": 14,
    "start_time": "2023-03-09T10:21:54.759Z"
   },
   {
    "duration": 8,
    "start_time": "2023-03-09T10:21:54.775Z"
   },
   {
    "duration": 13,
    "start_time": "2023-03-09T10:21:54.785Z"
   },
   {
    "duration": 35,
    "start_time": "2023-03-09T10:21:54.799Z"
   },
   {
    "duration": 19,
    "start_time": "2023-03-09T10:21:54.837Z"
   },
   {
    "duration": 17,
    "start_time": "2023-03-09T10:21:54.858Z"
   },
   {
    "duration": 6,
    "start_time": "2023-03-09T10:21:54.877Z"
   },
   {
    "duration": 13,
    "start_time": "2023-03-09T10:21:54.885Z"
   },
   {
    "duration": 7,
    "start_time": "2023-03-09T10:21:54.900Z"
   },
   {
    "duration": 43,
    "start_time": "2023-03-09T10:21:54.908Z"
   },
   {
    "duration": 13,
    "start_time": "2023-03-09T10:21:54.953Z"
   },
   {
    "duration": 18,
    "start_time": "2023-03-09T10:21:54.968Z"
   },
   {
    "duration": 15,
    "start_time": "2023-03-09T10:21:54.987Z"
   },
   {
    "duration": 47,
    "start_time": "2023-03-09T10:21:55.004Z"
   },
   {
    "duration": 6,
    "start_time": "2023-03-09T10:21:55.135Z"
   },
   {
    "duration": 782,
    "start_time": "2023-03-09T10:21:55.144Z"
   },
   {
    "duration": 5,
    "start_time": "2023-03-09T10:21:55.928Z"
   },
   {
    "duration": 2654,
    "start_time": "2023-03-09T10:21:55.935Z"
   },
   {
    "duration": 3,
    "start_time": "2023-03-09T10:21:58.591Z"
   },
   {
    "duration": 13,
    "start_time": "2023-03-09T10:21:58.596Z"
   },
   {
    "duration": 22,
    "start_time": "2023-03-09T10:21:58.611Z"
   },
   {
    "duration": 8,
    "start_time": "2023-03-09T10:21:58.634Z"
   },
   {
    "duration": 20,
    "start_time": "2023-03-09T10:21:58.644Z"
   },
   {
    "duration": 38,
    "start_time": "2023-03-09T10:21:58.666Z"
   },
   {
    "duration": 37,
    "start_time": "2023-03-09T10:21:58.706Z"
   },
   {
    "duration": 95,
    "start_time": "2023-03-09T10:21:58.748Z"
   },
   {
    "duration": 804,
    "start_time": "2023-03-09T10:21:58.845Z"
   },
   {
    "duration": 2,
    "start_time": "2023-03-09T10:21:59.651Z"
   },
   {
    "duration": 2581,
    "start_time": "2023-03-09T10:21:59.655Z"
   },
   {
    "duration": 3,
    "start_time": "2023-03-09T10:22:02.237Z"
   },
   {
    "duration": 14,
    "start_time": "2023-03-09T10:22:02.242Z"
   },
   {
    "duration": 581,
    "start_time": "2023-03-09T10:22:02.258Z"
   },
   {
    "duration": 91,
    "start_time": "2023-03-09T10:22:02.842Z"
   },
   {
    "duration": 7551,
    "start_time": "2023-03-09T10:22:02.936Z"
   },
   {
    "duration": 3,
    "start_time": "2023-03-09T10:22:10.488Z"
   },
   {
    "duration": 27886,
    "start_time": "2023-03-09T10:22:10.492Z"
   },
   {
    "duration": 2,
    "start_time": "2023-03-09T10:22:38.380Z"
   },
   {
    "duration": 21,
    "start_time": "2023-03-09T10:22:38.384Z"
   },
   {
    "duration": 41,
    "start_time": "2023-03-09T10:22:38.407Z"
   },
   {
    "duration": 13,
    "start_time": "2023-03-09T10:22:38.450Z"
   },
   {
    "duration": 168,
    "start_time": "2023-03-09T10:22:38.465Z"
   },
   {
    "duration": 4,
    "start_time": "2023-03-09T10:22:38.635Z"
   },
   {
    "duration": 818,
    "start_time": "2023-03-09T10:22:38.641Z"
   },
   {
    "duration": 4,
    "start_time": "2023-03-09T10:22:39.460Z"
   },
   {
    "duration": 3306,
    "start_time": "2023-03-09T10:22:39.467Z"
   },
   {
    "duration": 3,
    "start_time": "2023-03-09T10:22:42.775Z"
   },
   {
    "duration": 13,
    "start_time": "2023-03-09T10:22:42.780Z"
   },
   {
    "duration": 5,
    "start_time": "2023-03-09T10:23:06.821Z"
   },
   {
    "duration": 53,
    "start_time": "2023-03-09T10:23:06.828Z"
   },
   {
    "duration": 12,
    "start_time": "2023-03-09T10:23:06.883Z"
   },
   {
    "duration": 8,
    "start_time": "2023-03-09T10:23:06.896Z"
   },
   {
    "duration": 15,
    "start_time": "2023-03-09T10:23:06.906Z"
   },
   {
    "duration": 17,
    "start_time": "2023-03-09T10:23:06.923Z"
   },
   {
    "duration": 10,
    "start_time": "2023-03-09T10:23:06.942Z"
   },
   {
    "duration": 13,
    "start_time": "2023-03-09T10:23:06.954Z"
   },
   {
    "duration": 175,
    "start_time": "2023-03-09T10:23:06.968Z"
   },
   {
    "duration": 7,
    "start_time": "2023-03-09T10:23:07.145Z"
   },
   {
    "duration": 16,
    "start_time": "2023-03-09T10:23:07.154Z"
   },
   {
    "duration": 173,
    "start_time": "2023-03-09T10:23:07.171Z"
   },
   {
    "duration": 13,
    "start_time": "2023-03-09T10:23:07.346Z"
   },
   {
    "duration": 11,
    "start_time": "2023-03-09T10:23:07.365Z"
   },
   {
    "duration": 4,
    "start_time": "2023-03-09T10:23:07.378Z"
   },
   {
    "duration": 21,
    "start_time": "2023-03-09T10:23:07.383Z"
   },
   {
    "duration": 16,
    "start_time": "2023-03-09T10:23:07.406Z"
   },
   {
    "duration": 17,
    "start_time": "2023-03-09T10:23:07.423Z"
   },
   {
    "duration": 9,
    "start_time": "2023-03-09T10:23:07.442Z"
   },
   {
    "duration": 17,
    "start_time": "2023-03-09T10:23:07.452Z"
   },
   {
    "duration": 12,
    "start_time": "2023-03-09T10:23:07.471Z"
   },
   {
    "duration": 5,
    "start_time": "2023-03-09T10:23:07.484Z"
   },
   {
    "duration": 8,
    "start_time": "2023-03-09T10:23:07.491Z"
   },
   {
    "duration": 5,
    "start_time": "2023-03-09T10:23:07.501Z"
   },
   {
    "duration": 36,
    "start_time": "2023-03-09T10:23:07.508Z"
   },
   {
    "duration": 13,
    "start_time": "2023-03-09T10:23:07.546Z"
   },
   {
    "duration": 16,
    "start_time": "2023-03-09T10:23:07.560Z"
   },
   {
    "duration": 14,
    "start_time": "2023-03-09T10:23:07.578Z"
   },
   {
    "duration": 142,
    "start_time": "2023-03-09T10:23:07.594Z"
   },
   {
    "duration": 95,
    "start_time": "2023-03-09T10:23:07.739Z"
   },
   {
    "duration": 678,
    "start_time": "2023-03-09T10:23:07.836Z"
   },
   {
    "duration": 3,
    "start_time": "2023-03-09T10:23:08.516Z"
   },
   {
    "duration": 2628,
    "start_time": "2023-03-09T10:23:08.520Z"
   },
   {
    "duration": 3,
    "start_time": "2023-03-09T10:23:11.150Z"
   },
   {
    "duration": 20,
    "start_time": "2023-03-09T10:23:11.154Z"
   },
   {
    "duration": 11,
    "start_time": "2023-03-09T10:23:11.175Z"
   },
   {
    "duration": 10,
    "start_time": "2023-03-09T10:23:11.187Z"
   },
   {
    "duration": 14,
    "start_time": "2023-03-09T10:23:11.199Z"
   },
   {
    "duration": 36,
    "start_time": "2023-03-09T10:23:11.215Z"
   },
   {
    "duration": 83,
    "start_time": "2023-03-09T10:23:11.253Z"
   },
   {
    "duration": 92,
    "start_time": "2023-03-09T10:23:11.342Z"
   },
   {
    "duration": 688,
    "start_time": "2023-03-09T10:23:11.436Z"
   },
   {
    "duration": 3,
    "start_time": "2023-03-09T10:23:12.125Z"
   },
   {
    "duration": 2610,
    "start_time": "2023-03-09T10:23:12.133Z"
   },
   {
    "duration": 3,
    "start_time": "2023-03-09T10:23:14.745Z"
   },
   {
    "duration": 23,
    "start_time": "2023-03-09T10:23:14.750Z"
   },
   {
    "duration": 465,
    "start_time": "2023-03-09T10:23:14.775Z"
   },
   {
    "duration": 92,
    "start_time": "2023-03-09T10:23:15.242Z"
   },
   {
    "duration": 7461,
    "start_time": "2023-03-09T10:23:15.336Z"
   },
   {
    "duration": 3,
    "start_time": "2023-03-09T10:23:22.799Z"
   },
   {
    "duration": 28109,
    "start_time": "2023-03-09T10:23:22.804Z"
   },
   {
    "duration": 3,
    "start_time": "2023-03-09T10:23:50.915Z"
   },
   {
    "duration": 18,
    "start_time": "2023-03-09T10:23:50.920Z"
   },
   {
    "duration": 31,
    "start_time": "2023-03-09T10:23:50.939Z"
   },
   {
    "duration": 12,
    "start_time": "2023-03-09T10:23:50.971Z"
   },
   {
    "duration": 59,
    "start_time": "2023-03-09T10:23:50.985Z"
   },
   {
    "duration": 88,
    "start_time": "2023-03-09T10:23:51.046Z"
   },
   {
    "duration": 921,
    "start_time": "2023-03-09T10:23:51.136Z"
   },
   {
    "duration": 4,
    "start_time": "2023-03-09T10:23:52.059Z"
   },
   {
    "duration": 3217,
    "start_time": "2023-03-09T10:23:52.065Z"
   },
   {
    "duration": 3,
    "start_time": "2023-03-09T10:23:55.284Z"
   },
   {
    "duration": 15,
    "start_time": "2023-03-09T10:23:55.289Z"
   },
   {
    "duration": 1316,
    "start_time": "2023-03-09T10:40:25.758Z"
   },
   {
    "duration": 40,
    "start_time": "2023-03-09T10:40:27.076Z"
   },
   {
    "duration": 14,
    "start_time": "2023-03-09T10:40:27.117Z"
   },
   {
    "duration": 14,
    "start_time": "2023-03-09T10:40:27.132Z"
   },
   {
    "duration": 16,
    "start_time": "2023-03-09T10:40:27.148Z"
   },
   {
    "duration": 14,
    "start_time": "2023-03-09T10:40:27.166Z"
   },
   {
    "duration": 17,
    "start_time": "2023-03-09T10:40:27.182Z"
   },
   {
    "duration": 36,
    "start_time": "2023-03-09T10:40:27.201Z"
   },
   {
    "duration": 173,
    "start_time": "2023-03-09T10:40:27.239Z"
   },
   {
    "duration": 8,
    "start_time": "2023-03-09T10:40:27.414Z"
   },
   {
    "duration": 14,
    "start_time": "2023-03-09T10:40:27.434Z"
   },
   {
    "duration": 189,
    "start_time": "2023-03-09T10:40:27.449Z"
   },
   {
    "duration": 12,
    "start_time": "2023-03-09T10:40:27.639Z"
   },
   {
    "duration": 9,
    "start_time": "2023-03-09T10:40:27.654Z"
   },
   {
    "duration": 4,
    "start_time": "2023-03-09T10:40:27.664Z"
   },
   {
    "duration": 17,
    "start_time": "2023-03-09T10:40:27.670Z"
   },
   {
    "duration": 9,
    "start_time": "2023-03-09T10:40:27.689Z"
   },
   {
    "duration": 9,
    "start_time": "2023-03-09T10:40:27.699Z"
   },
   {
    "duration": 7,
    "start_time": "2023-03-09T10:40:27.734Z"
   },
   {
    "duration": 7,
    "start_time": "2023-03-09T10:40:27.743Z"
   },
   {
    "duration": 10,
    "start_time": "2023-03-09T10:40:27.751Z"
   },
   {
    "duration": 5,
    "start_time": "2023-03-09T10:40:27.762Z"
   },
   {
    "duration": 10,
    "start_time": "2023-03-09T10:40:27.768Z"
   },
   {
    "duration": 6,
    "start_time": "2023-03-09T10:40:27.780Z"
   },
   {
    "duration": 56,
    "start_time": "2023-03-09T10:40:27.787Z"
   },
   {
    "duration": 18,
    "start_time": "2023-03-09T10:40:27.845Z"
   },
   {
    "duration": 15,
    "start_time": "2023-03-09T10:40:27.865Z"
   },
   {
    "duration": 20,
    "start_time": "2023-03-09T10:40:27.882Z"
   },
   {
    "duration": 56,
    "start_time": "2023-03-09T10:40:27.904Z"
   },
   {
    "duration": 4,
    "start_time": "2023-03-09T10:40:27.962Z"
   },
   {
    "duration": 840,
    "start_time": "2023-03-09T10:40:27.968Z"
   },
   {
    "duration": 3,
    "start_time": "2023-03-09T10:40:28.809Z"
   },
   {
    "duration": 2636,
    "start_time": "2023-03-09T10:40:28.814Z"
   },
   {
    "duration": 3,
    "start_time": "2023-03-09T10:40:31.451Z"
   },
   {
    "duration": 36,
    "start_time": "2023-03-09T10:40:31.456Z"
   },
   {
    "duration": 30,
    "start_time": "2023-03-09T10:40:31.493Z"
   },
   {
    "duration": 26,
    "start_time": "2023-03-09T10:40:31.524Z"
   },
   {
    "duration": 67,
    "start_time": "2023-03-09T10:40:31.552Z"
   },
   {
    "duration": 62,
    "start_time": "2023-03-09T10:40:31.621Z"
   },
   {
    "duration": 59,
    "start_time": "2023-03-09T10:40:31.685Z"
   },
   {
    "duration": 11,
    "start_time": "2023-03-09T10:40:31.844Z"
   },
   {
    "duration": 745,
    "start_time": "2023-03-09T10:40:31.857Z"
   },
   {
    "duration": 3,
    "start_time": "2023-03-09T10:40:32.604Z"
   },
   {
    "duration": 2666,
    "start_time": "2023-03-09T10:40:32.609Z"
   },
   {
    "duration": 3,
    "start_time": "2023-03-09T10:40:35.277Z"
   },
   {
    "duration": 32,
    "start_time": "2023-03-09T10:40:35.282Z"
   },
   {
    "duration": 818,
    "start_time": "2023-03-09T10:40:35.316Z"
   },
   {
    "duration": 4,
    "start_time": "2023-03-09T10:40:36.136Z"
   },
   {
    "duration": 7908,
    "start_time": "2023-03-09T10:40:36.143Z"
   },
   {
    "duration": 3,
    "start_time": "2023-03-09T10:40:44.053Z"
   },
   {
    "duration": 50504,
    "start_time": "2023-03-09T10:40:44.058Z"
   },
   {
    "duration": 52153,
    "start_time": "2023-03-09T10:43:30.647Z"
   },
   {
    "duration": 46,
    "start_time": "2023-03-09T10:48:16.625Z"
   },
   {
    "duration": 1372,
    "start_time": "2023-03-09T10:48:20.215Z"
   },
   {
    "duration": 42,
    "start_time": "2023-03-09T10:48:21.589Z"
   },
   {
    "duration": 14,
    "start_time": "2023-03-09T10:48:21.632Z"
   },
   {
    "duration": 65,
    "start_time": "2023-03-09T10:48:21.647Z"
   },
   {
    "duration": 15,
    "start_time": "2023-03-09T10:48:21.715Z"
   },
   {
    "duration": 10,
    "start_time": "2023-03-09T10:48:21.731Z"
   },
   {
    "duration": 19,
    "start_time": "2023-03-09T10:48:21.743Z"
   },
   {
    "duration": 16,
    "start_time": "2023-03-09T10:48:21.764Z"
   },
   {
    "duration": 166,
    "start_time": "2023-03-09T10:48:21.782Z"
   },
   {
    "duration": 7,
    "start_time": "2023-03-09T10:48:21.950Z"
   },
   {
    "duration": 19,
    "start_time": "2023-03-09T10:48:21.959Z"
   },
   {
    "duration": 208,
    "start_time": "2023-03-09T10:48:21.980Z"
   },
   {
    "duration": 10,
    "start_time": "2023-03-09T10:48:22.190Z"
   },
   {
    "duration": 14,
    "start_time": "2023-03-09T10:48:22.203Z"
   },
   {
    "duration": 4,
    "start_time": "2023-03-09T10:48:22.239Z"
   },
   {
    "duration": 16,
    "start_time": "2023-03-09T10:48:22.244Z"
   },
   {
    "duration": 11,
    "start_time": "2023-03-09T10:48:22.262Z"
   },
   {
    "duration": 12,
    "start_time": "2023-03-09T10:48:22.274Z"
   },
   {
    "duration": 15,
    "start_time": "2023-03-09T10:48:22.288Z"
   },
   {
    "duration": 13,
    "start_time": "2023-03-09T10:48:22.305Z"
   },
   {
    "duration": 13,
    "start_time": "2023-03-09T10:48:22.320Z"
   },
   {
    "duration": 6,
    "start_time": "2023-03-09T10:48:22.335Z"
   },
   {
    "duration": 13,
    "start_time": "2023-03-09T10:48:22.343Z"
   },
   {
    "duration": 12,
    "start_time": "2023-03-09T10:48:22.358Z"
   },
   {
    "duration": 50,
    "start_time": "2023-03-09T10:48:22.372Z"
   },
   {
    "duration": 13,
    "start_time": "2023-03-09T10:48:22.424Z"
   },
   {
    "duration": 21,
    "start_time": "2023-03-09T10:48:22.438Z"
   },
   {
    "duration": 28,
    "start_time": "2023-03-09T10:48:22.461Z"
   },
   {
    "duration": 45,
    "start_time": "2023-03-09T10:48:22.491Z"
   },
   {
    "duration": 8,
    "start_time": "2023-03-09T10:48:22.537Z"
   },
   {
    "duration": 847,
    "start_time": "2023-03-09T10:48:22.547Z"
   },
   {
    "duration": 3,
    "start_time": "2023-03-09T10:48:23.395Z"
   },
   {
    "duration": 2713,
    "start_time": "2023-03-09T10:48:23.399Z"
   },
   {
    "duration": 3,
    "start_time": "2023-03-09T10:48:26.113Z"
   },
   {
    "duration": 21,
    "start_time": "2023-03-09T10:48:26.117Z"
   },
   {
    "duration": 9,
    "start_time": "2023-03-09T10:48:26.140Z"
   },
   {
    "duration": 7,
    "start_time": "2023-03-09T10:48:26.151Z"
   },
   {
    "duration": 18,
    "start_time": "2023-03-09T10:48:26.160Z"
   },
   {
    "duration": 29,
    "start_time": "2023-03-09T10:48:26.179Z"
   },
   {
    "duration": 26,
    "start_time": "2023-03-09T10:48:26.210Z"
   },
   {
    "duration": 21,
    "start_time": "2023-03-09T10:48:51.343Z"
   },
   {
    "duration": 5,
    "start_time": "2023-03-09T10:54:03.425Z"
   },
   {
    "duration": 78,
    "start_time": "2023-03-09T10:57:58.350Z"
   },
   {
    "duration": 1389,
    "start_time": "2023-03-09T10:58:09.673Z"
   },
   {
    "duration": 41,
    "start_time": "2023-03-09T10:58:11.064Z"
   },
   {
    "duration": 13,
    "start_time": "2023-03-09T10:58:11.106Z"
   },
   {
    "duration": 13,
    "start_time": "2023-03-09T10:58:11.120Z"
   },
   {
    "duration": 17,
    "start_time": "2023-03-09T10:58:11.135Z"
   },
   {
    "duration": 30,
    "start_time": "2023-03-09T10:58:11.154Z"
   },
   {
    "duration": 11,
    "start_time": "2023-03-09T10:58:11.185Z"
   },
   {
    "duration": 10,
    "start_time": "2023-03-09T10:58:11.198Z"
   },
   {
    "duration": 177,
    "start_time": "2023-03-09T10:58:11.209Z"
   },
   {
    "duration": 7,
    "start_time": "2023-03-09T10:58:11.388Z"
   },
   {
    "duration": 11,
    "start_time": "2023-03-09T10:58:11.396Z"
   },
   {
    "duration": 193,
    "start_time": "2023-03-09T10:58:11.408Z"
   },
   {
    "duration": 11,
    "start_time": "2023-03-09T10:58:11.603Z"
   },
   {
    "duration": 23,
    "start_time": "2023-03-09T10:58:11.617Z"
   },
   {
    "duration": 26,
    "start_time": "2023-03-09T10:58:11.649Z"
   },
   {
    "duration": 18,
    "start_time": "2023-03-09T10:58:11.677Z"
   },
   {
    "duration": 4,
    "start_time": "2023-03-09T10:58:11.697Z"
   },
   {
    "duration": 9,
    "start_time": "2023-03-09T10:58:11.703Z"
   },
   {
    "duration": 8,
    "start_time": "2023-03-09T10:58:11.713Z"
   },
   {
    "duration": 7,
    "start_time": "2023-03-09T10:58:11.723Z"
   },
   {
    "duration": 25,
    "start_time": "2023-03-09T10:58:11.732Z"
   },
   {
    "duration": 4,
    "start_time": "2023-03-09T10:58:11.759Z"
   },
   {
    "duration": 11,
    "start_time": "2023-03-09T10:58:11.765Z"
   },
   {
    "duration": 6,
    "start_time": "2023-03-09T10:58:11.777Z"
   },
   {
    "duration": 36,
    "start_time": "2023-03-09T10:58:11.784Z"
   },
   {
    "duration": 33,
    "start_time": "2023-03-09T10:58:11.821Z"
   },
   {
    "duration": 17,
    "start_time": "2023-03-09T10:58:11.855Z"
   },
   {
    "duration": 16,
    "start_time": "2023-03-09T10:58:11.873Z"
   },
   {
    "duration": 59,
    "start_time": "2023-03-09T10:58:11.891Z"
   },
   {
    "duration": 84,
    "start_time": "2023-03-09T10:58:11.953Z"
   },
   {
    "duration": 781,
    "start_time": "2023-03-09T10:58:12.040Z"
   },
   {
    "duration": 3,
    "start_time": "2023-03-09T10:58:12.822Z"
   },
   {
    "duration": 2697,
    "start_time": "2023-03-09T10:58:12.827Z"
   },
   {
    "duration": 10,
    "start_time": "2023-03-09T10:58:15.525Z"
   },
   {
    "duration": 11,
    "start_time": "2023-03-09T10:58:15.547Z"
   },
   {
    "duration": 28,
    "start_time": "2023-03-09T10:58:15.559Z"
   },
   {
    "duration": 10,
    "start_time": "2023-03-09T10:58:15.588Z"
   },
   {
    "duration": 25,
    "start_time": "2023-03-09T10:58:15.600Z"
   },
   {
    "duration": 52,
    "start_time": "2023-03-09T10:58:15.627Z"
   },
   {
    "duration": 16,
    "start_time": "2023-03-09T10:58:15.681Z"
   },
   {
    "duration": 5,
    "start_time": "2023-03-09T10:58:15.700Z"
   },
   {
    "duration": 44,
    "start_time": "2023-03-09T10:58:15.706Z"
   },
   {
    "duration": 86,
    "start_time": "2023-03-09T10:58:15.752Z"
   },
   {
    "duration": 816,
    "start_time": "2023-03-09T10:58:15.854Z"
   },
   {
    "duration": 3,
    "start_time": "2023-03-09T10:58:16.672Z"
   },
   {
    "duration": 2747,
    "start_time": "2023-03-09T10:58:16.677Z"
   },
   {
    "duration": 16,
    "start_time": "2023-03-09T10:58:19.433Z"
   },
   {
    "duration": 26,
    "start_time": "2023-03-09T10:58:19.451Z"
   },
   {
    "duration": 553,
    "start_time": "2023-03-09T10:58:19.479Z"
   },
   {
    "duration": 4,
    "start_time": "2023-03-09T10:58:20.036Z"
   },
   {
    "duration": 7954,
    "start_time": "2023-03-09T10:58:20.041Z"
   },
   {
    "duration": 2,
    "start_time": "2023-03-09T10:58:27.997Z"
   },
   {
    "duration": 54103,
    "start_time": "2023-03-09T10:58:28.002Z"
   },
   {
    "duration": 3,
    "start_time": "2023-03-09T10:59:22.107Z"
   },
   {
    "duration": 12,
    "start_time": "2023-03-09T10:59:22.111Z"
   },
   {
    "duration": 33,
    "start_time": "2023-03-09T10:59:22.134Z"
   },
   {
    "duration": 13,
    "start_time": "2023-03-09T10:59:22.169Z"
   },
   {
    "duration": 151,
    "start_time": "2023-03-09T10:59:22.183Z"
   },
   {
    "duration": 7,
    "start_time": "2023-03-09T10:59:22.337Z"
   },
   {
    "duration": 813,
    "start_time": "2023-03-09T10:59:22.353Z"
   },
   {
    "duration": 3,
    "start_time": "2023-03-09T10:59:23.168Z"
   },
   {
    "duration": 3377,
    "start_time": "2023-03-09T10:59:23.172Z"
   },
   {
    "duration": 4,
    "start_time": "2023-03-09T10:59:26.551Z"
   },
   {
    "duration": 26,
    "start_time": "2023-03-09T10:59:26.558Z"
   },
   {
    "duration": 307,
    "start_time": "2023-03-09T10:59:26.585Z"
   },
   {
    "duration": 4,
    "start_time": "2023-03-09T11:01:20.983Z"
   },
   {
    "duration": 4,
    "start_time": "2023-03-09T11:02:12.824Z"
   },
   {
    "duration": 10,
    "start_time": "2023-03-09T11:02:14.212Z"
   },
   {
    "duration": 19,
    "start_time": "2023-03-09T11:02:51.459Z"
   },
   {
    "duration": 5,
    "start_time": "2023-03-09T11:03:09.360Z"
   },
   {
    "duration": 18,
    "start_time": "2023-03-09T11:03:26.690Z"
   },
   {
    "duration": 4,
    "start_time": "2023-03-09T11:03:58.667Z"
   },
   {
    "duration": 106,
    "start_time": "2023-03-09T11:04:35.091Z"
   },
   {
    "duration": 4,
    "start_time": "2023-03-09T11:04:42.210Z"
   },
   {
    "duration": 12,
    "start_time": "2023-03-09T11:04:56.416Z"
   },
   {
    "duration": 9,
    "start_time": "2023-03-09T11:05:21.069Z"
   },
   {
    "duration": 9,
    "start_time": "2023-03-09T11:05:23.966Z"
   },
   {
    "duration": 347,
    "start_time": "2023-03-09T11:31:06.174Z"
   },
   {
    "duration": 22,
    "start_time": "2023-03-09T11:33:02.885Z"
   },
   {
    "duration": 51,
    "start_time": "2023-03-09T11:33:15.070Z"
   },
   {
    "duration": 1543,
    "start_time": "2023-03-09T11:33:18.742Z"
   },
   {
    "duration": 49,
    "start_time": "2023-03-09T11:33:20.288Z"
   },
   {
    "duration": 15,
    "start_time": "2023-03-09T11:33:20.339Z"
   },
   {
    "duration": 35,
    "start_time": "2023-03-09T11:33:20.363Z"
   },
   {
    "duration": 15,
    "start_time": "2023-03-09T11:33:20.401Z"
   },
   {
    "duration": 9,
    "start_time": "2023-03-09T11:33:20.418Z"
   },
   {
    "duration": 32,
    "start_time": "2023-03-09T11:33:20.428Z"
   },
   {
    "duration": 31,
    "start_time": "2023-03-09T11:33:20.462Z"
   },
   {
    "duration": 198,
    "start_time": "2023-03-09T11:33:20.494Z"
   },
   {
    "duration": 8,
    "start_time": "2023-03-09T11:33:20.694Z"
   },
   {
    "duration": 34,
    "start_time": "2023-03-09T11:33:20.704Z"
   },
   {
    "duration": 186,
    "start_time": "2023-03-09T11:33:20.739Z"
   },
   {
    "duration": 31,
    "start_time": "2023-03-09T11:33:20.926Z"
   },
   {
    "duration": 37,
    "start_time": "2023-03-09T11:33:20.963Z"
   },
   {
    "duration": 9,
    "start_time": "2023-03-09T11:33:21.002Z"
   },
   {
    "duration": 22,
    "start_time": "2023-03-09T11:33:21.013Z"
   },
   {
    "duration": 45,
    "start_time": "2023-03-09T11:33:21.037Z"
   },
   {
    "duration": 13,
    "start_time": "2023-03-09T11:33:21.084Z"
   },
   {
    "duration": 10,
    "start_time": "2023-03-09T11:33:21.099Z"
   },
   {
    "duration": 15,
    "start_time": "2023-03-09T11:33:21.110Z"
   },
   {
    "duration": 53,
    "start_time": "2023-03-09T11:33:21.127Z"
   },
   {
    "duration": 5,
    "start_time": "2023-03-09T11:33:21.182Z"
   },
   {
    "duration": 14,
    "start_time": "2023-03-09T11:33:21.189Z"
   },
   {
    "duration": 15,
    "start_time": "2023-03-09T11:33:21.205Z"
   },
   {
    "duration": 68,
    "start_time": "2023-03-09T11:33:21.222Z"
   },
   {
    "duration": 14,
    "start_time": "2023-03-09T11:33:21.292Z"
   },
   {
    "duration": 19,
    "start_time": "2023-03-09T11:33:21.308Z"
   },
   {
    "duration": 75,
    "start_time": "2023-03-09T11:33:21.328Z"
   },
   {
    "duration": 49,
    "start_time": "2023-03-09T11:33:21.404Z"
   },
   {
    "duration": 5,
    "start_time": "2023-03-09T11:33:21.456Z"
   },
   {
    "duration": 947,
    "start_time": "2023-03-09T11:33:21.463Z"
   },
   {
    "duration": 4,
    "start_time": "2023-03-09T11:33:22.412Z"
   },
   {
    "duration": 3347,
    "start_time": "2023-03-09T11:33:22.418Z"
   },
   {
    "duration": 7,
    "start_time": "2023-03-09T11:33:25.768Z"
   },
   {
    "duration": 50,
    "start_time": "2023-03-09T11:33:25.778Z"
   },
   {
    "duration": 75,
    "start_time": "2023-03-09T11:33:25.830Z"
   },
   {
    "duration": 71,
    "start_time": "2023-03-09T11:33:25.907Z"
   },
   {
    "duration": 29,
    "start_time": "2023-03-09T11:33:25.979Z"
   },
   {
    "duration": 74,
    "start_time": "2023-03-09T11:33:26.010Z"
   },
   {
    "duration": 45,
    "start_time": "2023-03-09T11:33:26.085Z"
   },
   {
    "duration": 77,
    "start_time": "2023-03-09T11:33:26.135Z"
   },
   {
    "duration": 154,
    "start_time": "2023-03-09T11:33:26.214Z"
   },
   {
    "duration": 781,
    "start_time": "2023-03-09T11:33:26.370Z"
   },
   {
    "duration": 6,
    "start_time": "2023-03-09T11:33:27.155Z"
   },
   {
    "duration": 3300,
    "start_time": "2023-03-09T11:33:27.167Z"
   },
   {
    "duration": 6,
    "start_time": "2023-03-09T11:33:30.472Z"
   },
   {
    "duration": 43,
    "start_time": "2023-03-09T11:33:30.482Z"
   },
   {
    "duration": 510,
    "start_time": "2023-03-09T11:33:30.527Z"
   },
   {
    "duration": 27,
    "start_time": "2023-03-09T11:33:31.064Z"
   },
   {
    "duration": 9266,
    "start_time": "2023-03-09T11:33:31.136Z"
   },
   {
    "duration": 3,
    "start_time": "2023-03-09T11:33:40.404Z"
   },
   {
    "duration": 61573,
    "start_time": "2023-03-09T11:33:40.408Z"
   },
   {
    "duration": 4,
    "start_time": "2023-03-09T11:34:41.983Z"
   },
   {
    "duration": 25,
    "start_time": "2023-03-09T11:34:41.989Z"
   },
   {
    "duration": 49,
    "start_time": "2023-03-09T11:34:42.015Z"
   },
   {
    "duration": 33,
    "start_time": "2023-03-09T11:34:42.068Z"
   },
   {
    "duration": 32,
    "start_time": "2023-03-09T11:34:42.104Z"
   },
   {
    "duration": 106,
    "start_time": "2023-03-09T11:34:42.139Z"
   },
   {
    "duration": 976,
    "start_time": "2023-03-09T11:34:42.247Z"
   },
   {
    "duration": 3,
    "start_time": "2023-03-09T11:34:43.225Z"
   },
   {
    "duration": 4051,
    "start_time": "2023-03-09T11:34:43.234Z"
   },
   {
    "duration": 5,
    "start_time": "2023-03-09T11:34:47.287Z"
   },
   {
    "duration": 25,
    "start_time": "2023-03-09T11:34:47.295Z"
   },
   {
    "duration": 61,
    "start_time": "2023-03-09T11:34:47.321Z"
   },
   {
    "duration": 6,
    "start_time": "2023-03-09T11:34:47.383Z"
   },
   {
    "duration": 34,
    "start_time": "2023-03-09T11:34:47.391Z"
   },
   {
    "duration": 399,
    "start_time": "2023-03-09T11:34:47.427Z"
   },
   {
    "duration": 3,
    "start_time": "2023-03-09T11:37:43.221Z"
   },
   {
    "duration": 9,
    "start_time": "2023-03-09T11:37:44.721Z"
   },
   {
    "duration": 3,
    "start_time": "2023-03-09T11:38:41.324Z"
   },
   {
    "duration": 16,
    "start_time": "2023-03-09T11:40:37.475Z"
   },
   {
    "duration": 16,
    "start_time": "2023-03-09T11:41:11.126Z"
   },
   {
    "duration": 10,
    "start_time": "2023-03-09T11:50:44.223Z"
   },
   {
    "duration": 1305,
    "start_time": "2023-03-09T11:51:07.031Z"
   },
   {
    "duration": 39,
    "start_time": "2023-03-09T11:51:08.338Z"
   },
   {
    "duration": 11,
    "start_time": "2023-03-09T11:51:08.378Z"
   },
   {
    "duration": 11,
    "start_time": "2023-03-09T11:51:08.391Z"
   },
   {
    "duration": 13,
    "start_time": "2023-03-09T11:51:08.404Z"
   },
   {
    "duration": 10,
    "start_time": "2023-03-09T11:51:08.418Z"
   },
   {
    "duration": 12,
    "start_time": "2023-03-09T11:51:08.429Z"
   },
   {
    "duration": 11,
    "start_time": "2023-03-09T11:51:08.443Z"
   },
   {
    "duration": 179,
    "start_time": "2023-03-09T11:51:08.455Z"
   },
   {
    "duration": 6,
    "start_time": "2023-03-09T11:51:08.636Z"
   },
   {
    "duration": 11,
    "start_time": "2023-03-09T11:51:08.644Z"
   },
   {
    "duration": 175,
    "start_time": "2023-03-09T11:51:08.658Z"
   },
   {
    "duration": 11,
    "start_time": "2023-03-09T11:51:08.834Z"
   },
   {
    "duration": 9,
    "start_time": "2023-03-09T11:51:08.848Z"
   },
   {
    "duration": 7,
    "start_time": "2023-03-09T11:51:08.859Z"
   },
   {
    "duration": 18,
    "start_time": "2023-03-09T11:51:08.867Z"
   },
   {
    "duration": 9,
    "start_time": "2023-03-09T11:51:08.887Z"
   },
   {
    "duration": 15,
    "start_time": "2023-03-09T11:51:08.898Z"
   },
   {
    "duration": 8,
    "start_time": "2023-03-09T11:51:08.915Z"
   },
   {
    "duration": 5,
    "start_time": "2023-03-09T11:51:08.934Z"
   },
   {
    "duration": 13,
    "start_time": "2023-03-09T11:51:08.940Z"
   },
   {
    "duration": 7,
    "start_time": "2023-03-09T11:51:08.954Z"
   },
   {
    "duration": 12,
    "start_time": "2023-03-09T11:51:08.963Z"
   },
   {
    "duration": 17,
    "start_time": "2023-03-09T11:51:08.976Z"
   },
   {
    "duration": 39,
    "start_time": "2023-03-09T11:51:08.994Z"
   },
   {
    "duration": 15,
    "start_time": "2023-03-09T11:51:09.034Z"
   },
   {
    "duration": 19,
    "start_time": "2023-03-09T11:51:09.050Z"
   },
   {
    "duration": 22,
    "start_time": "2023-03-09T11:51:09.070Z"
   },
   {
    "duration": 41,
    "start_time": "2023-03-09T11:51:09.094Z"
   },
   {
    "duration": 4,
    "start_time": "2023-03-09T11:51:09.138Z"
   },
   {
    "duration": 860,
    "start_time": "2023-03-09T11:51:09.143Z"
   },
   {
    "duration": 3,
    "start_time": "2023-03-09T11:51:10.005Z"
   },
   {
    "duration": 2557,
    "start_time": "2023-03-09T11:51:10.010Z"
   },
   {
    "duration": 3,
    "start_time": "2023-03-09T11:51:12.569Z"
   },
   {
    "duration": 8,
    "start_time": "2023-03-09T11:51:12.573Z"
   },
   {
    "duration": 18,
    "start_time": "2023-03-09T11:51:12.582Z"
   },
   {
    "duration": 16,
    "start_time": "2023-03-09T11:51:12.601Z"
   },
   {
    "duration": 19,
    "start_time": "2023-03-09T11:51:12.619Z"
   },
   {
    "duration": 14,
    "start_time": "2023-03-09T11:51:12.639Z"
   },
   {
    "duration": 25,
    "start_time": "2023-03-09T11:51:12.655Z"
   },
   {
    "duration": 50,
    "start_time": "2023-03-09T11:51:12.684Z"
   },
   {
    "duration": 5,
    "start_time": "2023-03-09T11:51:12.735Z"
   },
   {
    "duration": 788,
    "start_time": "2023-03-09T11:51:12.742Z"
   },
   {
    "duration": 3,
    "start_time": "2023-03-09T11:51:13.532Z"
   },
   {
    "duration": 2597,
    "start_time": "2023-03-09T11:51:13.536Z"
   },
   {
    "duration": 3,
    "start_time": "2023-03-09T11:51:16.135Z"
   },
   {
    "duration": 35,
    "start_time": "2023-03-09T11:51:16.139Z"
   },
   {
    "duration": 566,
    "start_time": "2023-03-09T11:51:16.175Z"
   },
   {
    "duration": 96,
    "start_time": "2023-03-09T11:51:16.743Z"
   },
   {
    "duration": 7401,
    "start_time": "2023-03-09T11:51:16.843Z"
   },
   {
    "duration": 3,
    "start_time": "2023-03-09T11:51:24.246Z"
   },
   {
    "duration": 5,
    "start_time": "2023-03-09T11:52:18.994Z"
   },
   {
    "duration": 53,
    "start_time": "2023-03-09T11:52:19.001Z"
   },
   {
    "duration": 12,
    "start_time": "2023-03-09T11:52:19.055Z"
   },
   {
    "duration": 8,
    "start_time": "2023-03-09T11:52:19.068Z"
   },
   {
    "duration": 14,
    "start_time": "2023-03-09T11:52:19.078Z"
   },
   {
    "duration": 9,
    "start_time": "2023-03-09T11:52:19.094Z"
   },
   {
    "duration": 29,
    "start_time": "2023-03-09T11:52:19.105Z"
   },
   {
    "duration": 9,
    "start_time": "2023-03-09T11:52:19.135Z"
   },
   {
    "duration": 158,
    "start_time": "2023-03-09T11:52:19.146Z"
   },
   {
    "duration": 8,
    "start_time": "2023-03-09T11:52:19.306Z"
   },
   {
    "duration": 27,
    "start_time": "2023-03-09T11:52:19.316Z"
   },
   {
    "duration": 178,
    "start_time": "2023-03-09T11:52:19.345Z"
   },
   {
    "duration": 20,
    "start_time": "2023-03-09T11:52:19.525Z"
   },
   {
    "duration": 11,
    "start_time": "2023-03-09T11:52:19.546Z"
   },
   {
    "duration": 4,
    "start_time": "2023-03-09T11:52:19.559Z"
   },
   {
    "duration": 13,
    "start_time": "2023-03-09T11:52:19.564Z"
   },
   {
    "duration": 7,
    "start_time": "2023-03-09T11:52:19.579Z"
   },
   {
    "duration": 7,
    "start_time": "2023-03-09T11:52:19.588Z"
   },
   {
    "duration": 18,
    "start_time": "2023-03-09T11:52:19.597Z"
   },
   {
    "duration": 21,
    "start_time": "2023-03-09T11:52:19.617Z"
   },
   {
    "duration": 15,
    "start_time": "2023-03-09T11:52:19.640Z"
   },
   {
    "duration": 5,
    "start_time": "2023-03-09T11:52:19.657Z"
   },
   {
    "duration": 11,
    "start_time": "2023-03-09T11:52:19.664Z"
   },
   {
    "duration": 6,
    "start_time": "2023-03-09T11:52:19.677Z"
   },
   {
    "duration": 53,
    "start_time": "2023-03-09T11:52:19.685Z"
   },
   {
    "duration": 13,
    "start_time": "2023-03-09T11:52:19.740Z"
   },
   {
    "duration": 37,
    "start_time": "2023-03-09T11:52:19.754Z"
   },
   {
    "duration": 16,
    "start_time": "2023-03-09T11:52:19.793Z"
   },
   {
    "duration": 126,
    "start_time": "2023-03-09T11:52:19.810Z"
   },
   {
    "duration": 6,
    "start_time": "2023-03-09T11:52:19.939Z"
   },
   {
    "duration": 781,
    "start_time": "2023-03-09T11:52:19.947Z"
   },
   {
    "duration": 4,
    "start_time": "2023-03-09T11:52:20.729Z"
   },
   {
    "duration": 2594,
    "start_time": "2023-03-09T11:52:20.735Z"
   },
   {
    "duration": 4,
    "start_time": "2023-03-09T11:52:23.332Z"
   },
   {
    "duration": 15,
    "start_time": "2023-03-09T11:52:23.338Z"
   },
   {
    "duration": 15,
    "start_time": "2023-03-09T11:52:23.355Z"
   },
   {
    "duration": 24,
    "start_time": "2023-03-09T11:52:23.371Z"
   },
   {
    "duration": 7,
    "start_time": "2023-03-09T11:52:23.396Z"
   },
   {
    "duration": 20,
    "start_time": "2023-03-09T11:52:23.405Z"
   },
   {
    "duration": 37,
    "start_time": "2023-03-09T11:52:23.426Z"
   },
   {
    "duration": 68,
    "start_time": "2023-03-09T11:52:23.465Z"
   },
   {
    "duration": 4,
    "start_time": "2023-03-09T11:52:23.535Z"
   },
   {
    "duration": 752,
    "start_time": "2023-03-09T11:52:23.541Z"
   },
   {
    "duration": 3,
    "start_time": "2023-03-09T11:52:24.295Z"
   },
   {
    "duration": 2921,
    "start_time": "2023-03-09T11:52:24.300Z"
   },
   {
    "duration": 3,
    "start_time": "2023-03-09T11:52:27.223Z"
   },
   {
    "duration": 13,
    "start_time": "2023-03-09T11:52:27.233Z"
   },
   {
    "duration": 1085,
    "start_time": "2023-03-09T11:52:27.248Z"
   },
   {
    "duration": 4,
    "start_time": "2023-03-09T11:52:28.336Z"
   },
   {
    "duration": 7545,
    "start_time": "2023-03-09T11:52:28.342Z"
   },
   {
    "duration": 4,
    "start_time": "2023-03-09T11:52:35.889Z"
   },
   {
    "duration": 51813,
    "start_time": "2023-03-09T11:52:35.894Z"
   },
   {
    "duration": 3,
    "start_time": "2023-03-09T11:53:27.709Z"
   },
   {
    "duration": 38,
    "start_time": "2023-03-09T11:53:27.714Z"
   },
   {
    "duration": 65,
    "start_time": "2023-03-09T11:53:27.753Z"
   },
   {
    "duration": 22,
    "start_time": "2023-03-09T11:53:27.820Z"
   },
   {
    "duration": 90,
    "start_time": "2023-03-09T11:53:27.844Z"
   },
   {
    "duration": 5,
    "start_time": "2023-03-09T11:53:27.936Z"
   },
   {
    "duration": 1860,
    "start_time": "2023-03-09T11:53:27.942Z"
   },
   {
    "duration": 3,
    "start_time": "2023-03-09T11:53:29.804Z"
   },
   {
    "duration": 3253,
    "start_time": "2023-03-09T11:53:29.813Z"
   },
   {
    "duration": 4,
    "start_time": "2023-03-09T11:53:33.067Z"
   },
   {
    "duration": 20,
    "start_time": "2023-03-09T11:53:33.072Z"
   },
   {
    "duration": 18,
    "start_time": "2023-03-09T11:53:33.094Z"
   },
   {
    "duration": 300,
    "start_time": "2023-03-09T11:57:06.571Z"
   },
   {
    "duration": 249,
    "start_time": "2023-03-09T12:02:37.135Z"
   },
   {
    "duration": 1393,
    "start_time": "2023-03-09T12:02:55.298Z"
   },
   {
    "duration": 40,
    "start_time": "2023-03-09T12:02:56.693Z"
   },
   {
    "duration": 13,
    "start_time": "2023-03-09T12:02:56.734Z"
   },
   {
    "duration": 11,
    "start_time": "2023-03-09T12:02:56.749Z"
   },
   {
    "duration": 15,
    "start_time": "2023-03-09T12:02:56.762Z"
   },
   {
    "duration": 31,
    "start_time": "2023-03-09T12:02:56.778Z"
   },
   {
    "duration": 19,
    "start_time": "2023-03-09T12:02:56.810Z"
   },
   {
    "duration": 75,
    "start_time": "2023-03-09T12:02:56.830Z"
   },
   {
    "duration": 161,
    "start_time": "2023-03-09T12:02:56.906Z"
   },
   {
    "duration": 6,
    "start_time": "2023-03-09T12:02:57.069Z"
   },
   {
    "duration": 27,
    "start_time": "2023-03-09T12:02:57.076Z"
   },
   {
    "duration": 157,
    "start_time": "2023-03-09T12:02:57.105Z"
   },
   {
    "duration": 10,
    "start_time": "2023-03-09T12:02:57.263Z"
   },
   {
    "duration": 20,
    "start_time": "2023-03-09T12:02:57.276Z"
   },
   {
    "duration": 4,
    "start_time": "2023-03-09T12:02:57.297Z"
   },
   {
    "duration": 30,
    "start_time": "2023-03-09T12:02:57.302Z"
   },
   {
    "duration": 12,
    "start_time": "2023-03-09T12:02:57.333Z"
   },
   {
    "duration": 31,
    "start_time": "2023-03-09T12:02:57.347Z"
   },
   {
    "duration": 27,
    "start_time": "2023-03-09T12:02:57.379Z"
   },
   {
    "duration": 13,
    "start_time": "2023-03-09T12:02:57.407Z"
   },
   {
    "duration": 15,
    "start_time": "2023-03-09T12:02:57.422Z"
   },
   {
    "duration": 22,
    "start_time": "2023-03-09T12:02:57.438Z"
   },
   {
    "duration": 22,
    "start_time": "2023-03-09T12:02:57.461Z"
   },
   {
    "duration": 14,
    "start_time": "2023-03-09T12:02:57.484Z"
   },
   {
    "duration": 45,
    "start_time": "2023-03-09T12:02:57.499Z"
   },
   {
    "duration": 13,
    "start_time": "2023-03-09T12:02:57.546Z"
   },
   {
    "duration": 16,
    "start_time": "2023-03-09T12:02:57.561Z"
   },
   {
    "duration": 18,
    "start_time": "2023-03-09T12:02:57.578Z"
   },
   {
    "duration": 41,
    "start_time": "2023-03-09T12:02:57.598Z"
   },
   {
    "duration": 93,
    "start_time": "2023-03-09T12:02:57.642Z"
   },
   {
    "duration": 757,
    "start_time": "2023-03-09T12:02:57.737Z"
   },
   {
    "duration": 3,
    "start_time": "2023-03-09T12:02:58.495Z"
   },
   {
    "duration": 2560,
    "start_time": "2023-03-09T12:02:58.500Z"
   },
   {
    "duration": 2,
    "start_time": "2023-03-09T12:03:01.062Z"
   },
   {
    "duration": 37,
    "start_time": "2023-03-09T12:03:01.066Z"
   },
   {
    "duration": 34,
    "start_time": "2023-03-09T12:03:01.105Z"
   },
   {
    "duration": 50,
    "start_time": "2023-03-09T12:03:01.140Z"
   },
   {
    "duration": 14,
    "start_time": "2023-03-09T12:03:01.191Z"
   },
   {
    "duration": 29,
    "start_time": "2023-03-09T12:03:01.207Z"
   },
   {
    "duration": 73,
    "start_time": "2023-03-09T12:03:01.238Z"
   },
   {
    "duration": 35,
    "start_time": "2023-03-09T12:03:01.314Z"
   },
   {
    "duration": 184,
    "start_time": "2023-03-09T12:03:01.351Z"
   },
   {
    "duration": 694,
    "start_time": "2023-03-09T12:03:01.537Z"
   },
   {
    "duration": 4,
    "start_time": "2023-03-09T12:03:02.233Z"
   },
   {
    "duration": 2636,
    "start_time": "2023-03-09T12:03:02.238Z"
   },
   {
    "duration": 3,
    "start_time": "2023-03-09T12:03:04.876Z"
   },
   {
    "duration": 11,
    "start_time": "2023-03-09T12:03:04.880Z"
   },
   {
    "duration": 542,
    "start_time": "2023-03-09T12:03:04.893Z"
   },
   {
    "duration": 96,
    "start_time": "2023-03-09T12:03:05.437Z"
   },
   {
    "duration": 7387,
    "start_time": "2023-03-09T12:03:05.535Z"
   },
   {
    "duration": 3,
    "start_time": "2023-03-09T12:03:12.924Z"
   },
   {
    "duration": 50725,
    "start_time": "2023-03-09T12:03:12.933Z"
   },
   {
    "duration": 3,
    "start_time": "2023-03-09T12:04:03.659Z"
   },
   {
    "duration": 15,
    "start_time": "2023-03-09T12:04:03.663Z"
   },
   {
    "duration": 43,
    "start_time": "2023-03-09T12:04:03.680Z"
   },
   {
    "duration": 13,
    "start_time": "2023-03-09T12:04:03.725Z"
   },
   {
    "duration": 94,
    "start_time": "2023-03-09T12:04:03.739Z"
   },
   {
    "duration": 5,
    "start_time": "2023-03-09T12:04:03.835Z"
   },
   {
    "duration": 891,
    "start_time": "2023-03-09T12:04:03.842Z"
   },
   {
    "duration": 3,
    "start_time": "2023-03-09T12:04:04.735Z"
   },
   {
    "duration": 3150,
    "start_time": "2023-03-09T12:04:04.739Z"
   },
   {
    "duration": 3,
    "start_time": "2023-03-09T12:04:07.890Z"
   },
   {
    "duration": 19,
    "start_time": "2023-03-09T12:04:07.894Z"
   },
   {
    "duration": 12,
    "start_time": "2023-03-09T12:04:07.915Z"
   },
   {
    "duration": 270,
    "start_time": "2023-03-09T12:04:07.928Z"
   },
   {
    "duration": 2,
    "start_time": "2023-03-09T12:04:08.200Z"
   },
   {
    "duration": 16,
    "start_time": "2023-03-09T12:04:08.203Z"
   },
   {
    "duration": 110,
    "start_time": "2023-03-09T12:13:35.270Z"
   },
   {
    "duration": 11,
    "start_time": "2023-03-10T08:42:30.712Z"
   },
   {
    "duration": 1856,
    "start_time": "2023-03-10T08:54:02.562Z"
   },
   {
    "duration": 79,
    "start_time": "2023-03-10T08:54:04.420Z"
   },
   {
    "duration": 13,
    "start_time": "2023-03-10T08:54:04.503Z"
   },
   {
    "duration": 14,
    "start_time": "2023-03-10T08:54:04.519Z"
   },
   {
    "duration": 15,
    "start_time": "2023-03-10T08:54:04.535Z"
   },
   {
    "duration": 9,
    "start_time": "2023-03-10T08:54:04.551Z"
   },
   {
    "duration": 15,
    "start_time": "2023-03-10T08:54:04.561Z"
   },
   {
    "duration": 10,
    "start_time": "2023-03-10T08:54:04.578Z"
   },
   {
    "duration": 206,
    "start_time": "2023-03-10T08:54:04.589Z"
   },
   {
    "duration": 8,
    "start_time": "2023-03-10T08:54:04.796Z"
   },
   {
    "duration": 28,
    "start_time": "2023-03-10T08:54:04.805Z"
   },
   {
    "duration": 159,
    "start_time": "2023-03-10T08:54:04.835Z"
   },
   {
    "duration": 11,
    "start_time": "2023-03-10T08:54:04.997Z"
   },
   {
    "duration": 22,
    "start_time": "2023-03-10T08:54:05.010Z"
   },
   {
    "duration": 18,
    "start_time": "2023-03-10T08:54:05.034Z"
   },
   {
    "duration": 20,
    "start_time": "2023-03-10T08:54:05.054Z"
   },
   {
    "duration": 12,
    "start_time": "2023-03-10T08:54:05.076Z"
   },
   {
    "duration": 20,
    "start_time": "2023-03-10T08:54:05.090Z"
   },
   {
    "duration": 26,
    "start_time": "2023-03-10T08:54:05.112Z"
   },
   {
    "duration": 17,
    "start_time": "2023-03-10T08:54:05.140Z"
   },
   {
    "duration": 14,
    "start_time": "2023-03-10T08:54:05.159Z"
   },
   {
    "duration": 5,
    "start_time": "2023-03-10T08:54:05.175Z"
   },
   {
    "duration": 36,
    "start_time": "2023-03-10T08:54:05.182Z"
   },
   {
    "duration": 9,
    "start_time": "2023-03-10T08:54:05.220Z"
   },
   {
    "duration": 44,
    "start_time": "2023-03-10T08:54:05.231Z"
   },
   {
    "duration": 15,
    "start_time": "2023-03-10T08:54:05.277Z"
   },
   {
    "duration": 33,
    "start_time": "2023-03-10T08:54:05.294Z"
   },
   {
    "duration": 37,
    "start_time": "2023-03-10T08:54:05.329Z"
   },
   {
    "duration": 63,
    "start_time": "2023-03-10T08:54:05.368Z"
   },
   {
    "duration": 4,
    "start_time": "2023-03-10T08:54:05.434Z"
   },
   {
    "duration": 917,
    "start_time": "2023-03-10T08:54:05.441Z"
   },
   {
    "duration": 3,
    "start_time": "2023-03-10T08:54:06.360Z"
   },
   {
    "duration": 2916,
    "start_time": "2023-03-10T08:54:06.365Z"
   },
   {
    "duration": 4,
    "start_time": "2023-03-10T08:54:09.283Z"
   },
   {
    "duration": 18,
    "start_time": "2023-03-10T08:54:09.289Z"
   },
   {
    "duration": 21,
    "start_time": "2023-03-10T08:54:09.309Z"
   },
   {
    "duration": 31,
    "start_time": "2023-03-10T08:54:09.332Z"
   },
   {
    "duration": 7,
    "start_time": "2023-03-10T08:54:09.364Z"
   },
   {
    "duration": 18,
    "start_time": "2023-03-10T08:54:09.373Z"
   },
   {
    "duration": 31,
    "start_time": "2023-03-10T08:54:09.395Z"
   },
   {
    "duration": 99,
    "start_time": "2023-03-10T08:54:09.431Z"
   },
   {
    "duration": 5,
    "start_time": "2023-03-10T08:54:09.533Z"
   },
   {
    "duration": 753,
    "start_time": "2023-03-10T08:54:09.631Z"
   },
   {
    "duration": 3,
    "start_time": "2023-03-10T08:54:10.386Z"
   },
   {
    "duration": 2815,
    "start_time": "2023-03-10T08:54:10.391Z"
   },
   {
    "duration": 3,
    "start_time": "2023-03-10T08:54:13.208Z"
   },
   {
    "duration": 20,
    "start_time": "2023-03-10T08:54:13.213Z"
   },
   {
    "duration": 602,
    "start_time": "2023-03-10T08:54:13.235Z"
   },
   {
    "duration": 98,
    "start_time": "2023-03-10T08:54:13.840Z"
   },
   {
    "duration": 8471,
    "start_time": "2023-03-10T08:54:13.952Z"
   },
   {
    "duration": 5,
    "start_time": "2023-03-10T08:54:22.425Z"
   },
   {
    "duration": 55584,
    "start_time": "2023-03-10T08:54:22.432Z"
   },
   {
    "duration": 4,
    "start_time": "2023-03-10T08:55:18.019Z"
   },
   {
    "duration": 20,
    "start_time": "2023-03-10T08:55:18.030Z"
   },
   {
    "duration": 61,
    "start_time": "2023-03-10T08:55:18.052Z"
   },
   {
    "duration": 16,
    "start_time": "2023-03-10T08:55:18.115Z"
   },
   {
    "duration": 65,
    "start_time": "2023-03-10T08:55:18.133Z"
   },
   {
    "duration": 34,
    "start_time": "2023-03-10T08:55:18.201Z"
   },
   {
    "duration": 987,
    "start_time": "2023-03-10T08:55:18.238Z"
   },
   {
    "duration": 3,
    "start_time": "2023-03-10T08:55:19.227Z"
   },
   {
    "duration": 3646,
    "start_time": "2023-03-10T08:55:19.232Z"
   },
   {
    "duration": 4,
    "start_time": "2023-03-10T08:55:22.880Z"
   },
   {
    "duration": 15,
    "start_time": "2023-03-10T08:55:22.885Z"
   },
   {
    "duration": 13,
    "start_time": "2023-03-10T08:55:22.902Z"
   },
   {
    "duration": 337,
    "start_time": "2023-03-10T08:55:22.917Z"
   },
   {
    "duration": 3,
    "start_time": "2023-03-10T08:55:23.256Z"
   },
   {
    "duration": 17,
    "start_time": "2023-03-10T08:55:23.261Z"
   },
   {
    "duration": 1517,
    "start_time": "2023-03-10T09:30:40.207Z"
   },
   {
    "duration": 158,
    "start_time": "2023-03-10T09:30:41.726Z"
   },
   {
    "duration": 13,
    "start_time": "2023-03-10T09:30:41.885Z"
   },
   {
    "duration": 13,
    "start_time": "2023-03-10T09:30:41.899Z"
   },
   {
    "duration": 15,
    "start_time": "2023-03-10T09:30:41.915Z"
   },
   {
    "duration": 15,
    "start_time": "2023-03-10T09:30:41.931Z"
   },
   {
    "duration": 11,
    "start_time": "2023-03-10T09:30:41.953Z"
   },
   {
    "duration": 12,
    "start_time": "2023-03-10T09:30:41.966Z"
   },
   {
    "duration": 193,
    "start_time": "2023-03-10T09:30:41.979Z"
   },
   {
    "duration": 9,
    "start_time": "2023-03-10T09:30:42.173Z"
   },
   {
    "duration": 12,
    "start_time": "2023-03-10T09:30:42.184Z"
   },
   {
    "duration": 185,
    "start_time": "2023-03-10T09:30:42.198Z"
   },
   {
    "duration": 12,
    "start_time": "2023-03-10T09:30:42.385Z"
   },
   {
    "duration": 11,
    "start_time": "2023-03-10T09:30:42.400Z"
   },
   {
    "duration": 4,
    "start_time": "2023-03-10T09:30:42.412Z"
   },
   {
    "duration": 42,
    "start_time": "2023-03-10T09:30:42.417Z"
   },
   {
    "duration": 121,
    "start_time": "2023-03-10T09:30:45.041Z"
   },
   {
    "duration": 3,
    "start_time": "2023-03-10T09:35:25.417Z"
   },
   {
    "duration": 11,
    "start_time": "2023-03-10T09:40:54.163Z"
   },
   {
    "duration": 5,
    "start_time": "2023-03-10T09:40:57.420Z"
   },
   {
    "duration": 51,
    "start_time": "2023-03-10T09:40:57.428Z"
   },
   {
    "duration": 14,
    "start_time": "2023-03-10T09:40:57.481Z"
   },
   {
    "duration": 15,
    "start_time": "2023-03-10T09:40:57.497Z"
   },
   {
    "duration": 23,
    "start_time": "2023-03-10T09:40:57.513Z"
   },
   {
    "duration": 27,
    "start_time": "2023-03-10T09:40:57.538Z"
   },
   {
    "duration": 25,
    "start_time": "2023-03-10T09:40:57.567Z"
   },
   {
    "duration": 15,
    "start_time": "2023-03-10T09:40:57.594Z"
   },
   {
    "duration": 223,
    "start_time": "2023-03-10T09:40:57.612Z"
   },
   {
    "duration": 15,
    "start_time": "2023-03-10T09:40:57.838Z"
   },
   {
    "duration": 13,
    "start_time": "2023-03-10T09:40:57.856Z"
   },
   {
    "duration": 317,
    "start_time": "2023-03-10T09:40:57.871Z"
   },
   {
    "duration": 16,
    "start_time": "2023-03-10T09:40:58.191Z"
   },
   {
    "duration": 24,
    "start_time": "2023-03-10T09:40:58.209Z"
   },
   {
    "duration": 4,
    "start_time": "2023-03-10T09:40:58.236Z"
   },
   {
    "duration": 18,
    "start_time": "2023-03-10T09:40:58.255Z"
   },
   {
    "duration": 7,
    "start_time": "2023-03-10T09:40:58.276Z"
   },
   {
    "duration": 17,
    "start_time": "2023-03-10T09:40:58.285Z"
   },
   {
    "duration": 0,
    "start_time": "2023-03-10T09:40:58.304Z"
   },
   {
    "duration": 1,
    "start_time": "2023-03-10T09:40:58.305Z"
   },
   {
    "duration": 0,
    "start_time": "2023-03-10T09:40:58.307Z"
   },
   {
    "duration": 13,
    "start_time": "2023-03-10T09:41:00.495Z"
   },
   {
    "duration": 6,
    "start_time": "2023-03-10T09:41:09.638Z"
   },
   {
    "duration": 44,
    "start_time": "2023-03-10T09:41:09.647Z"
   },
   {
    "duration": 14,
    "start_time": "2023-03-10T09:41:09.692Z"
   },
   {
    "duration": 13,
    "start_time": "2023-03-10T09:41:09.708Z"
   },
   {
    "duration": 29,
    "start_time": "2023-03-10T09:41:09.724Z"
   },
   {
    "duration": 11,
    "start_time": "2023-03-10T09:41:09.756Z"
   },
   {
    "duration": 18,
    "start_time": "2023-03-10T09:41:09.769Z"
   },
   {
    "duration": 30,
    "start_time": "2023-03-10T09:41:09.789Z"
   },
   {
    "duration": 263,
    "start_time": "2023-03-10T09:41:09.822Z"
   },
   {
    "duration": 10,
    "start_time": "2023-03-10T09:41:10.087Z"
   },
   {
    "duration": 16,
    "start_time": "2023-03-10T09:41:10.100Z"
   },
   {
    "duration": 279,
    "start_time": "2023-03-10T09:41:10.118Z"
   },
   {
    "duration": 12,
    "start_time": "2023-03-10T09:41:10.400Z"
   },
   {
    "duration": 11,
    "start_time": "2023-03-10T09:41:10.415Z"
   },
   {
    "duration": 28,
    "start_time": "2023-03-10T09:41:10.428Z"
   },
   {
    "duration": 19,
    "start_time": "2023-03-10T09:41:10.458Z"
   },
   {
    "duration": 10,
    "start_time": "2023-03-10T09:41:10.479Z"
   },
   {
    "duration": 16,
    "start_time": "2023-03-10T09:41:10.491Z"
   },
   {
    "duration": 0,
    "start_time": "2023-03-10T09:41:10.509Z"
   },
   {
    "duration": 0,
    "start_time": "2023-03-10T09:41:10.510Z"
   },
   {
    "duration": 0,
    "start_time": "2023-03-10T09:41:10.512Z"
   },
   {
    "duration": 3,
    "start_time": "2023-03-10T09:42:23.370Z"
   },
   {
    "duration": 10,
    "start_time": "2023-03-10T09:42:25.617Z"
   },
   {
    "duration": 5,
    "start_time": "2023-03-10T09:42:27.096Z"
   },
   {
    "duration": 12,
    "start_time": "2023-03-10T09:42:30.176Z"
   },
   {
    "duration": 18,
    "start_time": "2023-03-10T09:42:33.372Z"
   },
   {
    "duration": 12,
    "start_time": "2023-03-10T09:42:52.156Z"
   },
   {
    "duration": 3,
    "start_time": "2023-03-10T09:43:16.847Z"
   },
   {
    "duration": 12,
    "start_time": "2023-03-10T09:44:19.747Z"
   },
   {
    "duration": 3,
    "start_time": "2023-03-10T09:44:24.392Z"
   },
   {
    "duration": 40,
    "start_time": "2023-03-10T09:44:25.484Z"
   },
   {
    "duration": 1336,
    "start_time": "2023-03-10T09:44:55.821Z"
   },
   {
    "duration": 44,
    "start_time": "2023-03-10T09:44:57.159Z"
   },
   {
    "duration": 17,
    "start_time": "2023-03-10T09:44:57.204Z"
   },
   {
    "duration": 16,
    "start_time": "2023-03-10T09:44:57.224Z"
   },
   {
    "duration": 17,
    "start_time": "2023-03-10T09:44:57.242Z"
   },
   {
    "duration": 12,
    "start_time": "2023-03-10T09:44:57.261Z"
   },
   {
    "duration": 13,
    "start_time": "2023-03-10T09:44:57.275Z"
   },
   {
    "duration": 13,
    "start_time": "2023-03-10T09:44:57.289Z"
   },
   {
    "duration": 233,
    "start_time": "2023-03-10T09:44:57.305Z"
   },
   {
    "duration": 16,
    "start_time": "2023-03-10T09:44:57.541Z"
   },
   {
    "duration": 13,
    "start_time": "2023-03-10T09:44:57.558Z"
   },
   {
    "duration": 193,
    "start_time": "2023-03-10T09:44:57.572Z"
   },
   {
    "duration": 15,
    "start_time": "2023-03-10T09:44:57.767Z"
   },
   {
    "duration": 11,
    "start_time": "2023-03-10T09:44:57.784Z"
   },
   {
    "duration": 5,
    "start_time": "2023-03-10T09:44:57.796Z"
   },
   {
    "duration": 15,
    "start_time": "2023-03-10T09:44:57.803Z"
   },
   {
    "duration": 37,
    "start_time": "2023-03-10T09:44:57.820Z"
   },
   {
    "duration": 9,
    "start_time": "2023-03-10T09:44:57.858Z"
   },
   {
    "duration": 26,
    "start_time": "2023-03-10T09:44:57.869Z"
   },
   {
    "duration": 6,
    "start_time": "2023-03-10T09:44:57.897Z"
   },
   {
    "duration": 13,
    "start_time": "2023-03-10T09:44:57.905Z"
   },
   {
    "duration": 16,
    "start_time": "2023-03-10T09:44:57.920Z"
   },
   {
    "duration": 3,
    "start_time": "2023-03-10T09:44:57.954Z"
   },
   {
    "duration": 3,
    "start_time": "2023-03-10T09:45:01.125Z"
   },
   {
    "duration": 31,
    "start_time": "2023-03-10T09:45:01.658Z"
   },
   {
    "duration": 30,
    "start_time": "2023-03-10T09:45:48.535Z"
   },
   {
    "duration": 7,
    "start_time": "2023-03-10T09:46:10.159Z"
   },
   {
    "duration": 7,
    "start_time": "2023-03-10T09:46:11.457Z"
   },
   {
    "duration": 10,
    "start_time": "2023-03-10T09:51:31.267Z"
   },
   {
    "duration": 38,
    "start_time": "2023-03-10T09:51:31.850Z"
   },
   {
    "duration": 16,
    "start_time": "2023-03-10T09:51:32.893Z"
   },
   {
    "duration": 15,
    "start_time": "2023-03-10T09:51:33.776Z"
   },
   {
    "duration": 286,
    "start_time": "2023-03-10T09:58:19.776Z"
   },
   {
    "duration": 24,
    "start_time": "2023-03-10T09:58:52.779Z"
   },
   {
    "duration": 3,
    "start_time": "2023-03-10T09:59:07.630Z"
   },
   {
    "duration": 816,
    "start_time": "2023-03-10T09:59:28.337Z"
   },
   {
    "duration": 3,
    "start_time": "2023-03-10T09:59:45.244Z"
   },
   {
    "duration": 57,
    "start_time": "2023-03-10T10:00:10.666Z"
   },
   {
    "duration": 3325,
    "start_time": "2023-03-10T10:00:39.101Z"
   },
   {
    "duration": 4,
    "start_time": "2023-03-10T10:00:45.911Z"
   },
   {
    "duration": 5,
    "start_time": "2023-03-10T10:00:46.105Z"
   },
   {
    "duration": 13,
    "start_time": "2023-03-10T10:00:48.429Z"
   },
   {
    "duration": 19,
    "start_time": "2023-03-10T10:01:41.208Z"
   },
   {
    "duration": 8,
    "start_time": "2023-03-10T10:01:46.308Z"
   },
   {
    "duration": 46,
    "start_time": "2023-03-10T10:06:09.410Z"
   },
   {
    "duration": 3,
    "start_time": "2023-03-10T10:06:10.783Z"
   },
   {
    "duration": 800,
    "start_time": "2023-03-10T10:06:35.155Z"
   },
   {
    "duration": 3,
    "start_time": "2023-03-10T10:06:36.516Z"
   },
   {
    "duration": 3223,
    "start_time": "2023-03-10T10:06:51.844Z"
   },
   {
    "duration": 4,
    "start_time": "2023-03-10T10:07:09.409Z"
   },
   {
    "duration": 11,
    "start_time": "2023-03-10T10:07:09.712Z"
   },
   {
    "duration": 229,
    "start_time": "2023-03-10T10:08:47.529Z"
   },
   {
    "duration": 4,
    "start_time": "2023-03-10T10:08:50.144Z"
   },
   {
    "duration": 8529,
    "start_time": "2023-03-10T10:09:01.196Z"
   },
   {
    "duration": 3,
    "start_time": "2023-03-10T10:09:09.727Z"
   },
   {
    "duration": 58155,
    "start_time": "2023-03-10T10:09:10.529Z"
   },
   {
    "duration": 3,
    "start_time": "2023-03-10T10:10:08.686Z"
   },
   {
    "duration": 16,
    "start_time": "2023-03-10T10:10:08.691Z"
   },
   {
    "duration": 53,
    "start_time": "2023-03-10T10:10:08.709Z"
   },
   {
    "duration": 21,
    "start_time": "2023-03-10T10:10:08.764Z"
   },
   {
    "duration": 366,
    "start_time": "2023-03-10T10:11:59.346Z"
   },
   {
    "duration": 1476,
    "start_time": "2023-03-10T10:12:16.637Z"
   },
   {
    "duration": 55,
    "start_time": "2023-03-10T10:12:18.116Z"
   },
   {
    "duration": 16,
    "start_time": "2023-03-10T10:12:18.173Z"
   },
   {
    "duration": 15,
    "start_time": "2023-03-10T10:12:18.191Z"
   },
   {
    "duration": 18,
    "start_time": "2023-03-10T10:12:18.209Z"
   },
   {
    "duration": 34,
    "start_time": "2023-03-10T10:12:18.229Z"
   },
   {
    "duration": 16,
    "start_time": "2023-03-10T10:12:18.265Z"
   },
   {
    "duration": 13,
    "start_time": "2023-03-10T10:12:18.283Z"
   },
   {
    "duration": 217,
    "start_time": "2023-03-10T10:12:18.298Z"
   },
   {
    "duration": 7,
    "start_time": "2023-03-10T10:12:18.517Z"
   },
   {
    "duration": 29,
    "start_time": "2023-03-10T10:12:18.526Z"
   },
   {
    "duration": 184,
    "start_time": "2023-03-10T10:12:18.556Z"
   },
   {
    "duration": 20,
    "start_time": "2023-03-10T10:12:18.742Z"
   },
   {
    "duration": 13,
    "start_time": "2023-03-10T10:12:18.766Z"
   },
   {
    "duration": 4,
    "start_time": "2023-03-10T10:12:18.781Z"
   },
   {
    "duration": 20,
    "start_time": "2023-03-10T10:12:18.787Z"
   },
   {
    "duration": 3,
    "start_time": "2023-03-10T10:12:18.809Z"
   },
   {
    "duration": 13,
    "start_time": "2023-03-10T10:12:18.814Z"
   },
   {
    "duration": 31,
    "start_time": "2023-03-10T10:12:18.828Z"
   },
   {
    "duration": 8,
    "start_time": "2023-03-10T10:12:18.861Z"
   },
   {
    "duration": 21,
    "start_time": "2023-03-10T10:12:18.871Z"
   },
   {
    "duration": 15,
    "start_time": "2023-03-10T10:12:18.896Z"
   },
   {
    "duration": 3,
    "start_time": "2023-03-10T10:12:18.914Z"
   },
   {
    "duration": 74,
    "start_time": "2023-03-10T10:12:18.919Z"
   },
   {
    "duration": 6,
    "start_time": "2023-03-10T10:12:18.995Z"
   },
   {
    "duration": 10,
    "start_time": "2023-03-10T10:12:19.003Z"
   },
   {
    "duration": 6,
    "start_time": "2023-03-10T10:12:19.015Z"
   },
   {
    "duration": 62,
    "start_time": "2023-03-10T10:12:19.023Z"
   },
   {
    "duration": 15,
    "start_time": "2023-03-10T10:12:19.087Z"
   },
   {
    "duration": 21,
    "start_time": "2023-03-10T10:12:19.103Z"
   },
   {
    "duration": 33,
    "start_time": "2023-03-10T10:12:19.126Z"
   },
   {
    "duration": 100,
    "start_time": "2023-03-10T10:12:19.161Z"
   },
   {
    "duration": 7,
    "start_time": "2023-03-10T10:12:19.265Z"
   },
   {
    "duration": 840,
    "start_time": "2023-03-10T10:12:19.354Z"
   },
   {
    "duration": 3,
    "start_time": "2023-03-10T10:12:20.196Z"
   },
   {
    "duration": 3590,
    "start_time": "2023-03-10T10:12:20.201Z"
   },
   {
    "duration": 3,
    "start_time": "2023-03-10T10:12:23.793Z"
   },
   {
    "duration": 11,
    "start_time": "2023-03-10T10:12:23.798Z"
   },
   {
    "duration": 41,
    "start_time": "2023-03-10T10:12:23.811Z"
   },
   {
    "duration": 27,
    "start_time": "2023-03-10T10:12:23.854Z"
   },
   {
    "duration": 71,
    "start_time": "2023-03-10T10:12:23.892Z"
   },
   {
    "duration": 197,
    "start_time": "2023-03-10T10:12:23.965Z"
   },
   {
    "duration": 5,
    "start_time": "2023-03-10T10:12:24.166Z"
   },
   {
    "duration": 1013,
    "start_time": "2023-03-10T10:12:24.254Z"
   },
   {
    "duration": 4,
    "start_time": "2023-03-10T10:12:25.270Z"
   },
   {
    "duration": 3398,
    "start_time": "2023-03-10T10:12:25.276Z"
   },
   {
    "duration": 3,
    "start_time": "2023-03-10T10:12:28.677Z"
   },
   {
    "duration": 19,
    "start_time": "2023-03-10T10:12:28.682Z"
   },
   {
    "duration": 457,
    "start_time": "2023-03-10T10:12:28.703Z"
   },
   {
    "duration": 5,
    "start_time": "2023-03-10T10:12:29.162Z"
   },
   {
    "duration": 9055,
    "start_time": "2023-03-10T10:12:29.254Z"
   },
   {
    "duration": 3,
    "start_time": "2023-03-10T10:12:38.311Z"
   },
   {
    "duration": 59793,
    "start_time": "2023-03-10T10:12:38.316Z"
   },
   {
    "duration": 3,
    "start_time": "2023-03-10T10:13:38.111Z"
   },
   {
    "duration": 16,
    "start_time": "2023-03-10T10:13:38.116Z"
   },
   {
    "duration": 55,
    "start_time": "2023-03-10T10:13:38.136Z"
   },
   {
    "duration": 18,
    "start_time": "2023-03-10T10:13:38.193Z"
   },
   {
    "duration": 149,
    "start_time": "2023-03-10T10:13:38.213Z"
   },
   {
    "duration": 4,
    "start_time": "2023-03-10T10:13:38.363Z"
   },
   {
    "duration": 1002,
    "start_time": "2023-03-10T10:13:38.368Z"
   },
   {
    "duration": 3,
    "start_time": "2023-03-10T10:13:39.372Z"
   },
   {
    "duration": 3882,
    "start_time": "2023-03-10T10:13:39.377Z"
   },
   {
    "duration": 3,
    "start_time": "2023-03-10T10:13:43.262Z"
   },
   {
    "duration": 13,
    "start_time": "2023-03-10T10:13:43.267Z"
   },
   {
    "duration": 16,
    "start_time": "2023-03-10T10:13:43.282Z"
   },
   {
    "duration": 378,
    "start_time": "2023-03-10T10:13:43.300Z"
   },
   {
    "duration": 47,
    "start_time": "2023-03-10T10:15:08.240Z"
   },
   {
    "duration": 1399,
    "start_time": "2023-03-10T10:17:25.698Z"
   },
   {
    "duration": 40,
    "start_time": "2023-03-10T10:17:27.099Z"
   },
   {
    "duration": 15,
    "start_time": "2023-03-10T10:17:27.141Z"
   },
   {
    "duration": 17,
    "start_time": "2023-03-10T10:17:27.158Z"
   },
   {
    "duration": 16,
    "start_time": "2023-03-10T10:17:27.178Z"
   },
   {
    "duration": 11,
    "start_time": "2023-03-10T10:17:27.195Z"
   },
   {
    "duration": 15,
    "start_time": "2023-03-10T10:17:27.208Z"
   },
   {
    "duration": 42,
    "start_time": "2023-03-10T10:17:27.225Z"
   },
   {
    "duration": 192,
    "start_time": "2023-03-10T10:17:27.269Z"
   },
   {
    "duration": 10,
    "start_time": "2023-03-10T10:17:27.463Z"
   },
   {
    "duration": 14,
    "start_time": "2023-03-10T10:17:27.475Z"
   },
   {
    "duration": 198,
    "start_time": "2023-03-10T10:17:27.491Z"
   },
   {
    "duration": 11,
    "start_time": "2023-03-10T10:17:27.691Z"
   },
   {
    "duration": 9,
    "start_time": "2023-03-10T10:17:27.706Z"
   },
   {
    "duration": 4,
    "start_time": "2023-03-10T10:17:27.717Z"
   },
   {
    "duration": 43,
    "start_time": "2023-03-10T10:17:27.722Z"
   },
   {
    "duration": 5,
    "start_time": "2023-03-10T10:17:27.767Z"
   },
   {
    "duration": 7,
    "start_time": "2023-03-10T10:17:27.774Z"
   },
   {
    "duration": 30,
    "start_time": "2023-03-10T10:17:27.782Z"
   },
   {
    "duration": 7,
    "start_time": "2023-03-10T10:17:27.814Z"
   },
   {
    "duration": 13,
    "start_time": "2023-03-10T10:17:27.823Z"
   },
   {
    "duration": 21,
    "start_time": "2023-03-10T10:17:27.838Z"
   },
   {
    "duration": 8,
    "start_time": "2023-03-10T10:17:27.861Z"
   },
   {
    "duration": 44,
    "start_time": "2023-03-10T10:17:27.871Z"
   },
   {
    "duration": 6,
    "start_time": "2023-03-10T10:17:27.917Z"
   },
   {
    "duration": 37,
    "start_time": "2023-03-10T10:17:27.925Z"
   },
   {
    "duration": 9,
    "start_time": "2023-03-10T10:17:27.965Z"
   },
   {
    "duration": 49,
    "start_time": "2023-03-10T10:17:27.976Z"
   },
   {
    "duration": 15,
    "start_time": "2023-03-10T10:17:28.027Z"
   },
   {
    "duration": 21,
    "start_time": "2023-03-10T10:17:28.044Z"
   },
   {
    "duration": 17,
    "start_time": "2023-03-10T10:17:28.067Z"
   },
   {
    "duration": 74,
    "start_time": "2023-03-10T10:17:28.086Z"
   },
   {
    "duration": 3,
    "start_time": "2023-03-10T10:17:28.162Z"
   },
   {
    "duration": 937,
    "start_time": "2023-03-10T10:17:28.168Z"
   },
   {
    "duration": 3,
    "start_time": "2023-03-10T10:17:29.107Z"
   },
   {
    "duration": 3701,
    "start_time": "2023-03-10T10:17:29.113Z"
   },
   {
    "duration": 3,
    "start_time": "2023-03-10T10:17:32.816Z"
   },
   {
    "duration": 23,
    "start_time": "2023-03-10T10:17:32.820Z"
   },
   {
    "duration": 14,
    "start_time": "2023-03-10T10:17:32.845Z"
   },
   {
    "duration": 39,
    "start_time": "2023-03-10T10:17:32.861Z"
   },
   {
    "duration": 8,
    "start_time": "2023-03-10T10:17:32.905Z"
   },
   {
    "duration": 44,
    "start_time": "2023-03-10T10:17:32.915Z"
   },
   {
    "duration": 4,
    "start_time": "2023-03-10T10:17:32.961Z"
   },
   {
    "duration": 980,
    "start_time": "2023-03-10T10:17:32.967Z"
   },
   {
    "duration": 3,
    "start_time": "2023-03-10T10:17:33.949Z"
   },
   {
    "duration": 3423,
    "start_time": "2023-03-10T10:17:33.953Z"
   },
   {
    "duration": 3,
    "start_time": "2023-03-10T10:17:37.378Z"
   },
   {
    "duration": 13,
    "start_time": "2023-03-10T10:17:37.383Z"
   },
   {
    "duration": 467,
    "start_time": "2023-03-10T10:17:37.397Z"
   },
   {
    "duration": 6,
    "start_time": "2023-03-10T10:17:37.867Z"
   },
   {
    "duration": 8182,
    "start_time": "2023-03-10T10:17:37.953Z"
   },
   {
    "duration": 3,
    "start_time": "2023-03-10T10:17:46.137Z"
   },
   {
    "duration": 57532,
    "start_time": "2023-03-10T10:17:46.142Z"
   },
   {
    "duration": 3,
    "start_time": "2023-03-10T10:18:43.676Z"
   },
   {
    "duration": 14,
    "start_time": "2023-03-10T10:18:43.681Z"
   },
   {
    "duration": 38,
    "start_time": "2023-03-10T10:18:43.696Z"
   },
   {
    "duration": 19,
    "start_time": "2023-03-10T10:18:43.755Z"
   },
   {
    "duration": 99,
    "start_time": "2023-03-10T10:18:43.775Z"
   },
   {
    "duration": 4,
    "start_time": "2023-03-10T10:18:43.954Z"
   },
   {
    "duration": 989,
    "start_time": "2023-03-10T10:18:43.960Z"
   },
   {
    "duration": 4,
    "start_time": "2023-03-10T10:18:44.951Z"
   },
   {
    "duration": 3876,
    "start_time": "2023-03-10T10:18:44.968Z"
   },
   {
    "duration": 6,
    "start_time": "2023-03-10T10:18:48.847Z"
   },
   {
    "duration": 16,
    "start_time": "2023-03-10T10:18:48.855Z"
   },
   {
    "duration": 17,
    "start_time": "2023-03-10T10:18:48.873Z"
   },
   {
    "duration": 404,
    "start_time": "2023-03-10T10:18:48.893Z"
   },
   {
    "duration": 3,
    "start_time": "2023-03-10T10:18:49.299Z"
   },
   {
    "duration": 17,
    "start_time": "2023-03-10T10:18:49.304Z"
   }
  ],
  "kernelspec": {
   "display_name": "Python 3 (ipykernel)",
   "language": "python",
   "name": "python3"
  },
  "language_info": {
   "codemirror_mode": {
    "name": "ipython",
    "version": 3
   },
   "file_extension": ".py",
   "mimetype": "text/x-python",
   "name": "python",
   "nbconvert_exporter": "python",
   "pygments_lexer": "ipython3",
   "version": "3.9.5"
  },
  "toc": {
   "base_numbering": 1,
   "nav_menu": {},
   "number_sections": true,
   "sideBar": true,
   "skip_h1_title": true,
   "title_cell": "Содержание",
   "title_sidebar": "Contents",
   "toc_cell": true,
   "toc_position": {
    "height": "calc(100% - 180px)",
    "left": "10px",
    "top": "150px",
    "width": "342.225px"
   },
   "toc_section_display": true,
   "toc_window_display": true
  }
 },
 "nbformat": 4,
 "nbformat_minor": 2
}
